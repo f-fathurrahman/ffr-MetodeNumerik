{
 "cells": [
  {
   "cell_type": "markdown",
   "metadata": {},
   "source": [
    "<h1 style=\"text-align:center;\">TF2202 Teknik Komputasi - Interpolasi</h1>\n",
    "\n",
    "<h3 style=\"text-align:center;\">Fadjar Fathurrahman</h3>"
   ]
  },
  {
   "cell_type": "markdown",
   "metadata": {},
   "source": [
    "# Setup"
   ]
  },
  {
   "cell_type": "code",
   "execution_count": null,
   "metadata": {},
   "outputs": [],
   "source": [
    "import numpy as np\n",
    "import matplotlib.pyplot as plt"
   ]
  },
  {
   "cell_type": "code",
   "execution_count": null,
   "metadata": {},
   "outputs": [],
   "source": [
    "from IPython.display import set_matplotlib_formats\n",
    "set_matplotlib_formats(\"svg\")\n",
    "%matplotlib inline"
   ]
  },
  {
   "cell_type": "code",
   "execution_count": null,
   "metadata": {},
   "outputs": [],
   "source": [
    "import matplotlib\n",
    "#matplotlib.style.use(\"dark_background\")\n",
    "matplotlib.style.use(\"default\")"
   ]
  },
  {
   "cell_type": "markdown",
   "metadata": {},
   "source": [
    "# Interpolasi dengan polinomial Lagrange"
   ]
  },
  {
   "cell_type": "markdown",
   "metadata": {},
   "source": [
    "## Teori polinomial Lagrange"
   ]
  },
  {
   "cell_type": "markdown",
   "metadata": {},
   "source": [
    "Polinomial Lagrange didefinisikan sebagai:\n",
    "$$\n",
    "P_n(x) = \\sum_{i=0}^{n} y_{i} L_{i}(x)\n",
    "$$\n",
    "Polinomial ini adalah interpolant yang memiliki derajat $n$ dan melewati $(n+1)$ titik data atau pasangan $(x_{i},y_{i})$ dan $L_{i}(x)$ adalah fungsi polinomial dengan bentuk:\n",
    "$$\n",
    "L_{i}(x) = \\prod_{\\substack{j=0 \\\\ j \\neq i}}^{n}\n",
    "\\frac{x - x_{j}}{x_{i} - x_{j}}\n",
    "$$"
   ]
  },
  {
   "cell_type": "markdown",
   "metadata": {},
   "source": [
    "Catatan: pada buku Kiusalaas persamaan ini typo. Pada buku Chapra, syarat hasil kali juga memiliki typo."
   ]
  },
  {
   "cell_type": "markdown",
   "metadata": {},
   "source": [
    "## Implementasi interpolasi Lagrange"
   ]
  },
  {
   "cell_type": "code",
   "execution_count": null,
   "metadata": {},
   "outputs": [],
   "source": [
    "def lagrange_interp(x, y, xx):\n",
    "    \n",
    "    assert len(x) == len(y)\n",
    "    \n",
    "    # Jumlah data adalah N + 1 dan derajat polynomial adalah N\n",
    "    # atau:\n",
    "    # Jumlah data adalah N dan derajat polynomial adalah N - 1\n",
    "    N = len(x) - 1\n",
    "\n",
    "    yy = 0.0\n",
    "    for i in range(N+1):\n",
    "        # Evaluasi fungsi kardinal\n",
    "        Li = 1.0 # inisialisasi ke ke 1.0\n",
    "        for j in range(N+1):\n",
    "            if i != j:\n",
    "                Li = Li * (xx - x[j])/(x[i] - x[j])\n",
    "        yy = yy + y[i]*Li\n",
    "    return yy"
   ]
  },
  {
   "cell_type": "markdown",
   "metadata": {},
   "source": [
    "### Contoh"
   ]
  },
  {
   "cell_type": "markdown",
   "metadata": {},
   "source": [
    "Sebagai contoh, diberikan data sebagai berikut:\n",
    "\n",
    "| $x_{i}$ | $y_{i}$             |\n",
    "| ------- | ------------------ |\n",
    "| 1       | 0                  |\n",
    "| 4       | 1.386294 |\n",
    "| 6       | 1.791760 |\n"
   ]
  },
  {
   "cell_type": "code",
   "execution_count": null,
   "metadata": {},
   "outputs": [],
   "source": [
    "x = np.array([1.0, 4.0, 6.0])\n",
    "y = np.array([0, 1.386294, 1.791760])"
   ]
  },
  {
   "cell_type": "markdown",
   "metadata": {},
   "source": [
    "Sebagai contoh, kita ingin mengetahui berapa nilai $y$ jika $x=2$:"
   ]
  },
  {
   "cell_type": "code",
   "execution_count": null,
   "metadata": {},
   "outputs": [],
   "source": [
    "lagrange_interp(x, y, 2.0)"
   ]
  },
  {
   "cell_type": "code",
   "execution_count": null,
   "metadata": {},
   "outputs": [],
   "source": [
    "NptsPlot = 1000\n",
    "xx = np.linspace(x[0], x[-1], NptsPlot)\n",
    "yy = np.zeros(NptsPlot)\n",
    "for i in range(NptsPlot):\n",
    "    yy[i] = lagrange_interp(x, y, xx[i])"
   ]
  },
  {
   "cell_type": "code",
   "execution_count": null,
   "metadata": {},
   "outputs": [],
   "source": [
    "plt.clf()\n",
    "plt.plot(x, y, marker=\"o\", label=\"data\")\n",
    "plt.plot(xx, yy, label=\"Interpolasi Lagrange (orde-2)\")\n",
    "plt.grid()\n",
    "plt.legend()"
   ]
  },
  {
   "cell_type": "code",
   "execution_count": null,
   "metadata": {},
   "outputs": [],
   "source": []
  },
  {
   "cell_type": "markdown",
   "metadata": {},
   "source": [
    "# Interpolasi dengan polinomial Newton"
   ]
  },
  {
   "cell_type": "markdown",
   "metadata": {},
   "source": [
    "## Teori polinomial Newton"
   ]
  },
  {
   "cell_type": "markdown",
   "metadata": {},
   "source": [
    "Polinomial Newton memiliki bentuk sebagai berikut:\n",
    "\n",
    "$$\n",
    "P_{n} = a_{0} + (x - x_{0}) a_{1} + (x - x_{0}) (x - x_{1}) a_{2} + \\cdots + (x - x_{0})(x - x_{1}) \\cdots (x - x_{n-1}) a_{n}\n",
    "$$\n",
    "\n",
    "Koefisien $a_{n}$ dapat dihitung dengan:\n",
    "$$\n",
    "\\begin{align*}\n",
    "a_{0} & = f(x_0) \\\\\n",
    "a_{1} & = f[x_1,x_0] \\\\\n",
    "a_{2} & = f[x_2, x_1, x_0] \\\\\n",
    "\\vdots \\\\\n",
    "a_{n} & = f[x_n, x_{n-1}, \\ldots, x_1, x_0]\n",
    "\\end{align*}\n",
    "$$\n",
    "di mana fungsi dengan tanda kurung siku merupakan beda terbagi hingga (*finite divided differences*).\n",
    "\n",
    "Beda terbagi hingga pertama didefinisikan sebagai:\n",
    "$$\n",
    "f[x_{i},x_{j}] = \\frac{f(x_i) - f(x_j)}{x_i - x_j}\n",
    "$$\n",
    "Beda terbagi hingga kedua didefinisikan sebagai:\n",
    "$$\n",
    "f[x_{i},x_{j},x_{k}] = \\frac{f[x_{i},x_{j}] - f[x_{j},f_{k}]}{x_i - x_k}\n",
    "$$\n",
    "Secara umum, untuk beda terbagi hingga ke-$n$ adalah:\n",
    "$$\n",
    "f[x_{n},x_{n-1},\\ldots,x_{1},x_{0}] =\n",
    "\\frac{f[x_{n},x_{n-1},\\ldots,x_{1}]- f[x_{n-1},x_{n-2},\\ldots,x_{0}] }{x_n - x_0}\n",
    "$$"
   ]
  },
  {
   "cell_type": "markdown",
   "metadata": {},
   "source": [
    "## Implementasi interpolasi Newton"
   ]
  },
  {
   "cell_type": "code",
   "execution_count": null,
   "metadata": {},
   "outputs": [],
   "source": [
    "def create_newton_polynom(x, y):\n",
    "    Ndata = len(x) # jumlah data\n",
    "    coefs = np.copy(y)\n",
    "    for k in range(1,Ndata):\n",
    "        coefs[k:Ndata] = (coefs[k:Ndata] - coefs[k-1])/(x[k:Ndata] - x[k-1])\n",
    "    return coefs\n",
    "\n",
    "def eval_newton_polynom(coefs, x, xo):\n",
    "    N = len(x) - 1 # derajat polinom\n",
    "    p = coefs[N]\n",
    "    for k in range(1,N+1):\n",
    "        p = coefs[N-k] + (xo - x[N-k])*p\n",
    "    return p"
   ]
  },
  {
   "cell_type": "markdown",
   "metadata": {},
   "source": [
    "### Contoh penggunaan interpolasi Newton"
   ]
  },
  {
   "cell_type": "code",
   "execution_count": null,
   "metadata": {},
   "outputs": [],
   "source": [
    "x = np.array([1.0, 4.0, 6.0])\n",
    "y = np.array([0, 1.386294, 1.791760])"
   ]
  },
  {
   "cell_type": "code",
   "execution_count": null,
   "metadata": {},
   "outputs": [],
   "source": [
    "coefs = create_newton_polynom(x, y)\n",
    "coefs"
   ]
  },
  {
   "cell_type": "code",
   "execution_count": null,
   "metadata": {},
   "outputs": [],
   "source": [
    "eval_newton_polynom(coefs, x, 2.0)"
   ]
  },
  {
   "cell_type": "code",
   "execution_count": null,
   "metadata": {},
   "outputs": [],
   "source": [
    "NptsPlot = 1000\n",
    "xx = np.linspace(x[0], x[-1], NptsPlot)\n",
    "yy = np.zeros(NptsPlot)\n",
    "coefs = create_newton_polynom(x, y)\n",
    "for i in range(NptsPlot):\n",
    "    yy[i] = eval_newton_polynom(coefs, x, xx[i])\n",
    "\n",
    "# Plot\n",
    "plt.clf()\n",
    "plt.plot(x, y, marker=\"o\", label=\"data\")\n",
    "plt.plot(xx, yy, label=\"Interpolasi Newton (orde-2)\")\n",
    "plt.grid()\n",
    "plt.legend();"
   ]
  },
  {
   "cell_type": "markdown",
   "metadata": {},
   "source": [
    "### Aplikasi interpolasi Newton pada fungsi $\\cos$"
   ]
  },
  {
   "cell_type": "code",
   "execution_count": null,
   "metadata": {},
   "outputs": [],
   "source": [
    "def func_01(x):\n",
    "    return np.cos(2*x)"
   ]
  },
  {
   "cell_type": "code",
   "execution_count": null,
   "metadata": {},
   "outputs": [],
   "source": [
    "N = 5\n",
    "A = 0.0\n",
    "B = 2*np.pi\n",
    "x_sample = np.linspace(A, B, N)\n",
    "y_sample = func_01(x_sample)"
   ]
  },
  {
   "cell_type": "code",
   "execution_count": null,
   "metadata": {},
   "outputs": [],
   "source": [
    "x_sample"
   ]
  },
  {
   "cell_type": "code",
   "execution_count": null,
   "metadata": {},
   "outputs": [],
   "source": [
    "y_sample"
   ]
  },
  {
   "cell_type": "code",
   "execution_count": null,
   "metadata": {},
   "outputs": [],
   "source": [
    "plt.clf()\n",
    "plt.plot(x_sample, y_sample);"
   ]
  },
  {
   "cell_type": "code",
   "execution_count": null,
   "metadata": {},
   "outputs": [],
   "source": [
    "NptsPlot = 500\n",
    "x_dense = np.linspace(A,B,NptsPlot)\n",
    "y_dense = func_01(x_dense)\n",
    "\n",
    "Ninterp = 10\n",
    "x_interp = np.linspace(A,B,Ninterp)\n",
    "y_interp = func_01(x_interp)\n",
    "coefs = create_newton_polynom(x_interp, y_interp)\n",
    "\n",
    "x_interp_plt = np.linspace(A,B,NptsPlot)\n",
    "y_interp_plt = np.zeros(NptsPlot)\n",
    "for i in range(NptsPlot):\n",
    "    y_interp_plt[i] = eval_newton_polynom(coefs, x_interp, x_interp_plt[i])"
   ]
  },
  {
   "cell_type": "code",
   "execution_count": null,
   "metadata": {
    "scrolled": true
   },
   "outputs": [],
   "source": [
    "plt.clf()\n",
    "plt.plot(x_sample, y_sample, marker=\"o\", label=\"sampled\")\n",
    "plt.plot(x_dense, y_dense, label=\"exact\")\n",
    "plt.plot(x_interp_plt, y_interp_plt, label=\"interp\")\n",
    "plt.legend()"
   ]
  },
  {
   "cell_type": "markdown",
   "metadata": {},
   "source": [
    "## Latihan dengan fungsi yang lain"
   ]
  },
  {
   "cell_type": "code",
   "execution_count": null,
   "metadata": {},
   "outputs": [],
   "source": [
    "def func_02(x):\n",
    "    return np.exp(-x**2)"
   ]
  },
  {
   "cell_type": "code",
   "execution_count": null,
   "metadata": {},
   "outputs": [],
   "source": [
    "N = 11\n",
    "A = -5\n",
    "B = 5\n",
    "x_sample = np.linspace(A, B, N)\n",
    "y_sample = func_02(x_sample)"
   ]
  },
  {
   "cell_type": "code",
   "execution_count": null,
   "metadata": {
    "scrolled": true
   },
   "outputs": [],
   "source": [
    "plt.clf()\n",
    "plt.plot(x_sample, y_sample, marker=\"o\");"
   ]
  },
  {
   "cell_type": "code",
   "execution_count": null,
   "metadata": {},
   "outputs": [],
   "source": [
    "NptsPlot = 1000\n",
    "xx = np.linspace(A, B, NptsPlot)\n",
    "yy = np.zeros(NptsPlot)\n",
    "for i in range(NptsPlot):\n",
    "    yy[i] = lagrange_interp(x_sample, y_sample, xx[i])"
   ]
  },
  {
   "cell_type": "code",
   "execution_count": null,
   "metadata": {
    "scrolled": true
   },
   "outputs": [],
   "source": [
    "plt.clf()\n",
    "plt.plot(x_sample, y_sample, marker=\"o\", label=\"sampel\")\n",
    "plt.plot(xx, yy, label=\"interpolated\");\n",
    "plt.legend()"
   ]
  },
  {
   "cell_type": "markdown",
   "metadata": {},
   "source": [
    "### Fungsi Gaussian dengan interp1d"
   ]
  },
  {
   "cell_type": "code",
   "execution_count": null,
   "metadata": {},
   "outputs": [],
   "source": [
    "NptsPlot = 1000\n",
    "xx = np.linspace(A, B, NptsPlot)\n",
    "\n",
    "f_slinear = scipy.interpolate.interp1d(x_sample, y_sample, kind=\"slinear\")\n",
    "f_quadratic = scipy.interpolate.interp1d(x_sample, y_sample, kind=\"quadratic\")\n",
    "f_cubic = scipy.interpolate.interp1d(x_sample, y_sample, kind=\"cubic\")\n",
    "\n",
    "yy_slinear = f_slinear(xx)\n",
    "yy_quadratic = f_quadratic(xx)\n",
    "yy_cubic = f_cubic(xx)"
   ]
  },
  {
   "cell_type": "code",
   "execution_count": null,
   "metadata": {},
   "outputs": [],
   "source": [
    "plt.clf()\n",
    "plt.plot(x_sample, y_sample, marker=\"o\", label=\"sampel\")\n",
    "plt.plot(xx, yy_slinear, label=\"interp1d slinear\")\n",
    "plt.plot(xx, yy_quadratic, label=\"interp1d quadratic\")\n",
    "plt.plot(xx, yy_cubic, label=\"interp1d cubic\")\n",
    "plt.plot(xx, yy, label=\"Lagrange polynom\");\n",
    "plt.legend();"
   ]
  },
  {
   "cell_type": "markdown",
   "metadata": {},
   "source": [
    "### Kiusalaas 3.1 no. 4"
   ]
  },
  {
   "cell_type": "code",
   "execution_count": null,
   "metadata": {},
   "outputs": [],
   "source": [
    "x = np.array([0, 0.5, 1, 1.5, 2])\n",
    "y = np.array([-1.00, 1.75, 4.00, 5.75, 7.00])"
   ]
  },
  {
   "cell_type": "code",
   "execution_count": null,
   "metadata": {},
   "outputs": [],
   "source": [
    "plt.clf()\n",
    "plt.plot(x, y, marker=\"o\")"
   ]
  },
  {
   "cell_type": "markdown",
   "metadata": {},
   "source": [
    "Nilai fungsi pada $x = \\pi/4$ adalah"
   ]
  },
  {
   "cell_type": "code",
   "execution_count": null,
   "metadata": {},
   "outputs": [],
   "source": [
    "lagrange_interp(x, y, np.pi/4)"
   ]
  },
  {
   "cell_type": "code",
   "execution_count": null,
   "metadata": {},
   "outputs": [],
   "source": [
    "np.pi/4"
   ]
  },
  {
   "cell_type": "markdown",
   "metadata": {},
   "source": [
    "### Kiusalaas 3.1 no 5"
   ]
  },
  {
   "cell_type": "code",
   "execution_count": null,
   "metadata": {},
   "outputs": [],
   "source": [
    "x = np.array([0, 0.5, 1, 1.5, 2])\n",
    "y = np.array([-0.7854, 0.6529, 1.7390, 2.2071, 1.9425])"
   ]
  },
  {
   "cell_type": "code",
   "execution_count": null,
   "metadata": {},
   "outputs": [],
   "source": [
    "plt.clf()\n",
    "plt.plot(x, y, marker=\"o\")"
   ]
  },
  {
   "cell_type": "markdown",
   "metadata": {},
   "source": [
    "Nilai fungsi pada $x=\\pi/4$ adalah"
   ]
  },
  {
   "cell_type": "code",
   "execution_count": null,
   "metadata": {},
   "outputs": [],
   "source": [
    "lagrange_interp(x, y, np.pi/4)"
   ]
  },
  {
   "cell_type": "markdown",
   "metadata": {},
   "source": [
    "Nilai fungsi pada $x = \\pi/2$"
   ]
  },
  {
   "cell_type": "code",
   "execution_count": null,
   "metadata": {},
   "outputs": [],
   "source": [
    "lagrange_interp(x, y, np.pi/2)"
   ]
  },
  {
   "cell_type": "code",
   "execution_count": null,
   "metadata": {},
   "outputs": [],
   "source": [
    "neville_interp(x, y, np.pi/2)"
   ]
  },
  {
   "cell_type": "markdown",
   "metadata": {},
   "source": [
    "Dengan menggunakan `interp1d`"
   ]
  },
  {
   "cell_type": "code",
   "execution_count": null,
   "metadata": {},
   "outputs": [],
   "source": [
    "f_cubic = scipy.interpolate.interp1d(x, y, kind=\"cubic\")"
   ]
  },
  {
   "cell_type": "code",
   "execution_count": null,
   "metadata": {},
   "outputs": [],
   "source": [
    "f_cubic([np.pi/2])[0]"
   ]
  },
  {
   "cell_type": "code",
   "execution_count": null,
   "metadata": {},
   "outputs": [],
   "source": [
    "type(f_cubic(0.1))"
   ]
  },
  {
   "cell_type": "code",
   "execution_count": null,
   "metadata": {},
   "outputs": [],
   "source": [
    "res = f_cubic(0.1)"
   ]
  },
  {
   "cell_type": "code",
   "execution_count": null,
   "metadata": {},
   "outputs": [],
   "source": [
    "res.item()"
   ]
  },
  {
   "cell_type": "code",
   "execution_count": null,
   "metadata": {},
   "outputs": [],
   "source": []
  },
  {
   "cell_type": "markdown",
   "metadata": {},
   "source": [
    "# Metode Neville"
   ]
  },
  {
   "cell_type": "markdown",
   "metadata": {},
   "source": [
    "Metode ini pada dasarnya merupakan bentuk alternatif dari polinomial Newton."
   ]
  },
  {
   "cell_type": "markdown",
   "metadata": {},
   "source": [
    "## Implementasi metode Neville"
   ]
  },
  {
   "cell_type": "code",
   "execution_count": null,
   "metadata": {},
   "outputs": [],
   "source": [
    "def neville_interp(x, y_, xx):\n",
    "    m = len(x)\n",
    "    y = np.copy(y_)\n",
    "    for k in range(1,m):\n",
    "        y[0:m-k] = ((xx- x[k:m])*y[0:m-k] + (x[0:m-k] - xx)*y[1:m-k+1])/(x[0:m-k] - x[k:m])\n",
    "    return y[0]"
   ]
  },
  {
   "cell_type": "markdown",
   "metadata": {},
   "source": [
    "### Contoh penggunaan metode Neville"
   ]
  },
  {
   "cell_type": "code",
   "execution_count": null,
   "metadata": {},
   "outputs": [],
   "source": [
    "x = np.array([1.0, 4.0, 6.0])\n",
    "y = np.array([0, 1.386294, 1.791760])\n",
    "neville_interp(x, y, 2.0)"
   ]
  },
  {
   "cell_type": "markdown",
   "metadata": {
    "heading_collapsed": true
   },
   "source": [
    "# Interpolasi dengan fungsi rasional"
   ]
  },
  {
   "cell_type": "markdown",
   "metadata": {
    "hidden": true
   },
   "source": [
    "Aproksimasi ini baik digunakan untuk fungsi yang memiliki pole, akan tetapi pada beberapa jenis data atau fungsi interpolasi ini tidak stabil."
   ]
  },
  {
   "cell_type": "markdown",
   "metadata": {
    "hidden": true
   },
   "source": [
    "### Implementasi dalam Python"
   ]
  },
  {
   "cell_type": "code",
   "execution_count": null,
   "metadata": {
    "hidden": true
   },
   "outputs": [],
   "source": [
    "def rational_interp(x, y, xx):\n",
    "    m = len(x)\n",
    "    r = np.copy(y)\n",
    "    rOld = np.zeros(m)\n",
    "    #SMALL = np.finfo(\"float64\").eps\n",
    "    SMALL = 1e-8\n",
    "    for k in range(m-1):\n",
    "        for i in range(m-k-1):\n",
    "            if (abs(xx - x[i+k+1]) < SMALL):\n",
    "                return y[i+k+1]\n",
    "            else:\n",
    "                c1 = r[i+1] - r[i]\n",
    "                c2 = r[i+1] - rOld[i+1]\n",
    "                c3 = (xx - x[i])/(xx - x[i+k+1])\n",
    "                r[i] = r[i+1] + c1/(c3*(1.0 - c1/c2) - 1.0)\n",
    "                rOld[i+1] = r[i+1]\n",
    "    return r[0]"
   ]
  },
  {
   "cell_type": "markdown",
   "metadata": {
    "hidden": true
   },
   "source": [
    "### Contoh penggunaan interpolasi fungsi rasional"
   ]
  },
  {
   "cell_type": "code",
   "execution_count": null,
   "metadata": {
    "hidden": true
   },
   "outputs": [],
   "source": [
    "x = np.array([0.0, 0.6, 0.8, 0.95])\n",
    "y = np.array([0.0, 1.3764, 3.0777, 12.7062])"
   ]
  },
  {
   "cell_type": "code",
   "execution_count": null,
   "metadata": {
    "hidden": true
   },
   "outputs": [],
   "source": [
    "rational_interp(x, y, 0.5)"
   ]
  },
  {
   "cell_type": "code",
   "execution_count": null,
   "metadata": {
    "hidden": true
   },
   "outputs": [],
   "source": [
    "x = np.array([0.1, 0.2, 0.5, 0.6, 0.8, 1.2, 1.5])\n",
    "y = np.array([-1.5342, -1.0811, -0.4445, -0.3085, -0.0868, 0.2281, 0.3824])"
   ]
  },
  {
   "cell_type": "code",
   "execution_count": null,
   "metadata": {
    "hidden": true,
    "scrolled": true
   },
   "outputs": [],
   "source": [
    "NptsPlot = 500\n",
    "A = 0.1\n",
    "B = 1.5\n",
    "x_plot = np.linspace(0.1, 1.5, NptsPlot)\n",
    "y_neville = np.zeros(NptsPlot)\n",
    "y_rational = np.zeros(NptsPlot)\n",
    "for i in range(NptsPlot):\n",
    "    y_neville[i] = neville_interp(x, y, x_plot[i])\n",
    "    y_rational[i] = rational_interp(x, y, x_plot[i])\n",
    "plt.clf()\n",
    "plt.plot(x_plot, y_neville, label=\"Menggunakan interpolasi Neville\")\n",
    "plt.plot(x_plot, y_rational, label=\"Menggunakan interpolasi fungsi rasional\")\n",
    "plt.legend();"
   ]
  },
  {
   "cell_type": "markdown",
   "metadata": {
    "hidden": true
   },
   "source": [
    "### Tes fungsi $x^2$"
   ]
  },
  {
   "cell_type": "code",
   "execution_count": null,
   "metadata": {
    "hidden": true
   },
   "outputs": [],
   "source": [
    "def func_02(x):\n",
    "    return x**2 - 3.0"
   ]
  },
  {
   "cell_type": "code",
   "execution_count": null,
   "metadata": {
    "hidden": true
   },
   "outputs": [],
   "source": [
    "A = -1.5\n",
    "B = 1.5\n",
    "\n",
    "Nsample = 5\n",
    "x_sample = np.linspace(A, B, Nsample)\n",
    "y_sample = func_02(x_sample)\n",
    "    \n",
    "NptsPlot = 100\n",
    "x_plot = np.linspace(A, B, NptsPlot)\n",
    "y_exact = func_02(x_plot)\n",
    "y_neville = np.zeros(NptsPlot)\n",
    "y_rational = np.zeros(NptsPlot)\n",
    "for i in range(NptsPlot):\n",
    "    y_neville[i] = neville_interp(x_sample, y_sample, x_plot[i])\n",
    "    y_rational[i] = rational_interp(x_sample, y_sample, x_plot[i])\n",
    "plt.clf()\n",
    "plt.plot(x_plot, y_exact, label=\"eksak\")\n",
    "plt.plot(x_plot, y_neville, label=\"Interpolasi Neville\")\n",
    "plt.plot(x_plot, y_rational, label=\"Interpolasi fungsi rasional\")\n",
    "plt.legend();"
   ]
  },
  {
   "cell_type": "markdown",
   "metadata": {
    "hidden": true
   },
   "source": [
    "### Tes fungsi $x^3$"
   ]
  },
  {
   "cell_type": "code",
   "execution_count": null,
   "metadata": {
    "hidden": true
   },
   "outputs": [],
   "source": [
    "def func_03(x):\n",
    "    return x**3 - 3.0"
   ]
  },
  {
   "cell_type": "code",
   "execution_count": null,
   "metadata": {
    "hidden": true
   },
   "outputs": [],
   "source": [
    "A = -1.5\n",
    "B = 1.5\n",
    "\n",
    "Nsample = 10\n",
    "x_sample = np.linspace(A, B, Nsample)\n",
    "y_sample = func_03(x_sample)\n",
    "    \n",
    "NptsPlot = 100\n",
    "x_plot = np.linspace(A, B, NptsPlot)\n",
    "y_exact = func_03(x_plot)\n",
    "y_neville = np.zeros(NptsPlot)\n",
    "y_rational = np.zeros(NptsPlot)\n",
    "for i in range(NptsPlot):\n",
    "    y_neville[i] = neville_interp(x_sample, y_sample, x_plot[i])\n",
    "    y_rational[i] = rational_interp(x_sample, y_sample, x_plot[i])\n",
    "plt.clf()\n",
    "plt.plot(x_plot, y_exact, label=\"eksak\")\n",
    "plt.plot(x_plot, y_neville, label=\"Interpolasi Neville\")\n",
    "plt.plot(x_plot, y_rational, label=\"Interpolasi rational\")\n",
    "plt.legend();"
   ]
  },
  {
   "cell_type": "markdown",
   "metadata": {
    "heading_collapsed": true
   },
   "source": [
    "# Interpolasi dengan spline"
   ]
  },
  {
   "cell_type": "markdown",
   "metadata": {
    "hidden": true
   },
   "source": [
    "TODO.\n",
    "\n",
    "Merupakan metode yang dianggap paling robus dan banyak digunakan dalam aplikasi. Implementasinya cukup rumit untuk dilakukan."
   ]
  },
  {
   "cell_type": "markdown",
   "metadata": {},
   "source": [
    "# Menggunakan pustaka Python"
   ]
  },
  {
   "cell_type": "markdown",
   "metadata": {},
   "source": [
    "Module `scipy.interpolate` menyediakan banyak fungsi untuk melakukan interpolasi. Informasi lebih lengkap dapat dilihat pada [dokumentasinya](https://docs.scipy.org/doc/scipy/reference/interpolate.html).\n",
    "\n",
    "Beberapa fungsi yang sering dipakai adalah:\n",
    "- fungsi `interp1d` \n",
    "- `splrep` dan `splev` (menggunakan metode B-spline)"
   ]
  },
  {
   "cell_type": "code",
   "execution_count": null,
   "metadata": {},
   "outputs": [],
   "source": [
    "import scipy.interpolate"
   ]
  },
  {
   "cell_type": "markdown",
   "metadata": {},
   "source": [
    "Buat data dengan menggunakan fungsi yang sudah kita ketahui bentuknya."
   ]
  },
  {
   "cell_type": "code",
   "execution_count": null,
   "metadata": {},
   "outputs": [],
   "source": [
    "A = 0.0\n",
    "B = np.pi\n",
    "Nsample = 7\n",
    "x_sample = np.linspace(A,B,Nsample)\n",
    "y_sample = func_01(x_sample)"
   ]
  },
  {
   "cell_type": "markdown",
   "metadata": {},
   "source": [
    "Buat interpolant, dengan menggunakan spline linear, kuadratic, dan kubik."
   ]
  },
  {
   "cell_type": "code",
   "execution_count": null,
   "metadata": {},
   "outputs": [],
   "source": [
    "f_slinear = scipy.interpolate.interp1d(x_sample, y_sample, kind=\"slinear\")\n",
    "f_quadratic = scipy.interpolate.interp1d(x_sample, y_sample, kind=\"quadratic\")\n",
    "f_cubic = scipy.interpolate.interp1d(x_sample, y_sample, kind=\"cubic\")"
   ]
  },
  {
   "cell_type": "code",
   "execution_count": null,
   "metadata": {},
   "outputs": [],
   "source": [
    "NptsPlot = 500\n",
    "x_plot = np.linspace(A,B,NptsPlot)\n",
    "y_slinear = f_slinear(x_plot)\n",
    "y_quadratic = f_quadratic(x_plot)\n",
    "y_cubic = f_cubic(x_plot)"
   ]
  },
  {
   "cell_type": "code",
   "execution_count": null,
   "metadata": {
    "scrolled": true
   },
   "outputs": [],
   "source": [
    "plt.clf()\n",
    "plt.plot(x_sample, y_sample, marker=\"o\", label=\"sample\")\n",
    "plt.plot(x_plot, y_slinear, label=\"slinear\")\n",
    "plt.plot(x_plot, y_quadratic, label=\"squadratic\")\n",
    "plt.plot(x_plot, y_cubic, label=\"cubic\")\n",
    "plt.legend();"
   ]
  },
  {
   "cell_type": "markdown",
   "metadata": {},
   "source": []
  },
  {
   "cell_type": "code",
   "execution_count": null,
   "metadata": {},
   "outputs": [],
   "source": []
  },
  {
   "cell_type": "code",
   "execution_count": null,
   "metadata": {},
   "outputs": [],
   "source": []
  },
  {
   "cell_type": "code",
   "execution_count": null,
   "metadata": {},
   "outputs": [],
   "source": []
  },
  {
   "cell_type": "code",
   "execution_count": null,
   "metadata": {},
   "outputs": [],
   "source": []
  },
  {
   "cell_type": "code",
   "execution_count": null,
   "metadata": {},
   "outputs": [],
   "source": []
  }
 ],
 "metadata": {
  "kernelspec": {
   "display_name": "Python 3",
   "language": "python",
   "name": "python3"
  },
  "language_info": {
   "codemirror_mode": {
    "name": "ipython",
    "version": 3
   },
   "file_extension": ".py",
   "mimetype": "text/x-python",
   "name": "python",
   "nbconvert_exporter": "python",
   "pygments_lexer": "ipython3",
   "version": "3.7.3"
  }
 },
 "nbformat": 4,
 "nbformat_minor": 2
}
