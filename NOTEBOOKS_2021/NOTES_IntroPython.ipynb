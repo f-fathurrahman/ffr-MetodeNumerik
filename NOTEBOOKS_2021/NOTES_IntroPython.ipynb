{
 "cells": [
  {
   "cell_type": "markdown",
   "metadata": {},
   "source": [
    "<h1 style=\"text-align:center;\">Dasar Pemrograman Python</h1>\n",
    "<h3 style=\"text-align:center;\">Fadjar Fathurrahman</h3>"
   ]
  },
  {
   "cell_type": "markdown",
   "metadata": {},
   "source": [
    "# Beberapa cara menggunakan Python"
   ]
  },
  {
   "cell_type": "markdown",
   "metadata": {},
   "source": [
    "Beberapa cara untuk menggunakan Python:\n",
    "\n",
    "1. Interpreter atau konsol Python standard.\n",
    "2. Konsol interaktif Python (IPython).\n",
    "3. Jupyter notebook dan Jupyter lab.\n",
    "4. Menggunakan IDE.\n",
    "\n",
    "Dokumen ini dibuat dengan menggunakan Jupyter notebook. Dengan menggunakan Jupyter notebook, kita dapat menggabungkan antara narasi teks dan kode."
   ]
  },
  {
   "cell_type": "markdown",
   "metadata": {},
   "source": [
    "# Menggunakan Python sebagai kalkulator"
   ]
  },
  {
   "cell_type": "markdown",
   "metadata": {},
   "source": [
    "## Operasi aritmatika sederhana"
   ]
  },
  {
   "cell_type": "markdown",
   "metadata": {},
   "source": [
    "Python dapat digunakan sebagai kalkulator untuk melakukan berbagai perhitungan matematika."
   ]
  },
  {
   "cell_type": "markdown",
   "metadata": {},
   "source": [
    "Penjumlahan:"
   ]
  },
  {
   "cell_type": "code",
   "execution_count": null,
   "metadata": {},
   "outputs": [],
   "source": [
    "2 + 3"
   ]
  },
  {
   "cell_type": "markdown",
   "metadata": {},
   "source": [
    "Pengurangan"
   ]
  },
  {
   "cell_type": "code",
   "execution_count": null,
   "metadata": {},
   "outputs": [],
   "source": [
    "2 - 3.1"
   ]
  },
  {
   "cell_type": "markdown",
   "metadata": {},
   "source": [
    "Perkalian"
   ]
  },
  {
   "cell_type": "code",
   "execution_count": null,
   "metadata": {},
   "outputs": [],
   "source": [
    "2.3*4*3.1"
   ]
  },
  {
   "cell_type": "markdown",
   "metadata": {},
   "source": [
    "Pembagian"
   ]
  },
  {
   "cell_type": "code",
   "execution_count": null,
   "metadata": {},
   "outputs": [],
   "source": [
    "2/3"
   ]
  },
  {
   "cell_type": "markdown",
   "metadata": {},
   "source": [
    "Selain pembagian biasa, Python juga menyediakan operator untuk pembagian bilangan bulat (integer)"
   ]
  },
  {
   "cell_type": "code",
   "execution_count": null,
   "metadata": {},
   "outputs": [],
   "source": [
    "2//3"
   ]
  },
  {
   "cell_type": "code",
   "execution_count": null,
   "metadata": {},
   "outputs": [],
   "source": [
    "4//3"
   ]
  },
  {
   "cell_type": "markdown",
   "metadata": {},
   "source": [
    "Operator modulo (sisa pembagian)"
   ]
  },
  {
   "cell_type": "code",
   "execution_count": null,
   "metadata": {},
   "outputs": [],
   "source": [
    "4%3"
   ]
  },
  {
   "cell_type": "code",
   "execution_count": null,
   "metadata": {},
   "outputs": [],
   "source": [
    "100%7"
   ]
  },
  {
   "cell_type": "code",
   "execution_count": null,
   "metadata": {},
   "outputs": [],
   "source": [
    "10%5"
   ]
  },
  {
   "cell_type": "markdown",
   "metadata": {},
   "source": [
    "Untuk melakukan beberapa operasi perhitungan sekaligus dalam satu input bisa digunakan tanda koma:"
   ]
  },
  {
   "cell_type": "code",
   "execution_count": null,
   "metadata": {},
   "outputs": [],
   "source": [
    "100//7, 100%7"
   ]
  },
  {
   "cell_type": "code",
   "execution_count": null,
   "metadata": {},
   "outputs": [],
   "source": [
    "14*7 + 2"
   ]
  },
  {
   "cell_type": "markdown",
   "metadata": {},
   "source": [
    "## Komentar"
   ]
  },
  {
   "cell_type": "markdown",
   "metadata": {},
   "source": [
    "Komentar perbaris pada Python dapat ditandai dengan simbol `#`.\n",
    "\n",
    "Contoh:\n",
    "\n",
    "```python\n",
    "# Ini komentar\n",
    "a = 3 + 7 # ini juga komentar\n",
    "```"
   ]
  },
  {
   "cell_type": "markdown",
   "metadata": {},
   "source": [
    "## Fungsi-fungsi matematika"
   ]
  },
  {
   "cell_type": "markdown",
   "metadata": {},
   "source": [
    "Fungsi-fungsi matematika seperti sin, cos, log, exp dan sebagainya dapat diakses dengan cara mengimport modul `math`. Dalam modul ini juga didefinisikan beberapa konstanta seperti bilangan $\\pi$ dan konstanta Euler $e$.\n",
    "\n",
    "Ada beberapa sintaks untuk mengimpor modul.\n",
    "\n",
    "**Cara 1**\n",
    "\n",
    "```python\n",
    "from nama_module import nama_fungsi1, nama_fungsi2, konstanta1\n",
    "```\n",
    "\n",
    "Dengan cara ini, kita dapat langsung menggunakan `nama_fungsi1`, `nama_fungsi1`, `nama_fungsi2` dan `konstanta1` pada kode. Fungsi-fungsi lain yang tidak kita impor tidak bisa digunakan, meskipun fungsi atau konstanta tersebut ada pada modul yang bersangkutan. Contoh:\n",
    "\n",
    "```python\n",
    "from math import sin, cos\n",
    "```\n",
    "\n",
    "Dengan kode di atas kita hanya mengimport fungsi `sin` dan `cos`, sedangkan fungsi-fungsi lain seperti `tan`, `log`, dan sebagainya tidak akan diimpor (tidak terdefinisi pada sesi atau scope yang sedang aktif).\n",
    "\n",
    "Jika Anda ingin mengimport semua simbol (konstanta dan fungsi) dapat dilakukan dengan menggunakan *wildcard* `*`:\n",
    "\n",
    "```python\n",
    "from math import * # mengimport semua simbol dari modul math\n",
    "```\n",
    "\n",
    "**Cara 2**\n",
    "\n",
    "```python\n",
    "import math\n",
    "```\n",
    "\n",
    "Dengan cara ini kita tidak mengimpor fungsi apapun, namun hanya modul `math` saja. Meskipun demikian kita dapat menggunakan fungsi yang didefinisikan pada modul `math` dengan menggunakan `math.nama_fungsi` atau `math.nama_konstanta`, misalnya:\n",
    "\n",
    "```python\n",
    "math.pi     # mengakses konstanta pi\n",
    "math.sin(math.pi/3) # memanggil fungsi sin\n",
    "```"
   ]
  },
  {
   "cell_type": "markdown",
   "metadata": {},
   "source": [
    "Nama saya adalah efefer. \n",
    "\n",
    "Contoh teks **bold**.\n",
    "\n",
    "Contoh teks *italic*\n",
    "\n",
    "List:\n",
    "\n",
    "- Contoh 1\n",
    "- Contoh 2\n",
    "\n",
    "List\n",
    "\n",
    "1. Contoh A\n",
    "2. Contoh B"
   ]
  },
  {
   "cell_type": "markdown",
   "metadata": {},
   "source": [
    "Contoh inline equation.\n",
    "\n",
    "Contoh persamaan $\\alpha + \\beta - \\gamma$. Misalkan $v$ adalah kecepatan."
   ]
  },
  {
   "cell_type": "markdown",
   "metadata": {},
   "source": [
    "Contoh display equation:\n",
    "\n",
    "$$\n",
    "\\int f(x) dx = \\frac{\\Gamma}{1 - x}\n",
    "$$\n",
    "\n",
    "$$\n",
    "\\frac{1}{2}\\nabla^2\n",
    "$$"
   ]
  },
  {
   "cell_type": "code",
   "execution_count": null,
   "metadata": {},
   "outputs": [],
   "source": [
    "import math\n",
    "import cmath"
   ]
  },
  {
   "cell_type": "code",
   "execution_count": null,
   "metadata": {},
   "outputs": [],
   "source": [
    "math.sqrt(4)"
   ]
  },
  {
   "cell_type": "code",
   "execution_count": null,
   "metadata": {},
   "outputs": [],
   "source": [
    "cmath.sqrt(4)"
   ]
  },
  {
   "cell_type": "code",
   "execution_count": null,
   "metadata": {},
   "outputs": [],
   "source": [
    "math.sqrt(-1)"
   ]
  },
  {
   "cell_type": "code",
   "execution_count": null,
   "metadata": {},
   "outputs": [],
   "source": [
    "cmath.sqrt(-1)"
   ]
  },
  {
   "cell_type": "markdown",
   "metadata": {},
   "source": [
    "$$\n",
    "\\exp\\left(\\imath\\pi\\right) = \\cos(\\pi) + \\imath \\sin(\\pi) = -1\n",
    "$$"
   ]
  },
  {
   "cell_type": "code",
   "execution_count": null,
   "metadata": {},
   "outputs": [],
   "source": [
    "math.pi"
   ]
  },
  {
   "cell_type": "code",
   "execution_count": null,
   "metadata": {},
   "outputs": [],
   "source": [
    "cmath.exp(1j*math.pi)"
   ]
  },
  {
   "cell_type": "code",
   "execution_count": null,
   "metadata": {},
   "outputs": [],
   "source": [
    "from math import sin, cos, pi # sin, cos, dan pi dapat langsung digunakan\n",
    "x = sin(2*pi/3) + cos(2*pi/3)\n",
    "x"
   ]
  },
  {
   "cell_type": "code",
   "execution_count": null,
   "metadata": {},
   "outputs": [],
   "source": [
    "import math\n",
    "x = math.sin(2*math.pi/3) + cos(2*math.pi/3)\n",
    "x"
   ]
  },
  {
   "cell_type": "markdown",
   "metadata": {},
   "source": [
    "# Variabel dan tipe data"
   ]
  },
  {
   "cell_type": "markdown",
   "metadata": {},
   "source": [
    "Untuk mendeklarasikan variabel pada Python, kita dapat menggunakan operator penugasan (*assignment*) yaitu dengan tanda `=`"
   ]
  },
  {
   "cell_type": "code",
   "execution_count": null,
   "metadata": {},
   "outputs": [],
   "source": [
    "a = 3.4\n",
    "b = 1\n",
    "c = a + b"
   ]
  },
  {
   "cell_type": "markdown",
   "metadata": {},
   "source": [
    "**Catatan**: Pada Jupyter notebook, hasil perhitungan tidak akan ditampilkan jika kita menggunakan operator penugasan. Untuk melihat hasil perhitungan atau nilai variabel kita dapat mengetikkan nama variabel pada suatu sel dan mengeksekusi sel tersebut."
   ]
  },
  {
   "cell_type": "code",
   "execution_count": null,
   "metadata": {},
   "outputs": [],
   "source": [
    "c"
   ]
  },
  {
   "cell_type": "code",
   "execution_count": null,
   "metadata": {},
   "outputs": [],
   "source": [
    "a, b, c"
   ]
  },
  {
   "cell_type": "markdown",
   "metadata": {},
   "source": [
    "Python memiliki banyak tipe data, di antaranya yang sering dipakai adalah:\n",
    "\n",
    "1. Integer (`int`)\n",
    "2. Float (`float`)\n",
    "3. String (`str`)\n",
    "4. Boolean (`bool`)"
   ]
  },
  {
   "cell_type": "markdown",
   "metadata": {},
   "source": [
    "Untuk mengetahui tipe suatu variabel kita dapat menggunakan fungsi `type`:"
   ]
  },
  {
   "cell_type": "code",
   "execution_count": null,
   "metadata": {},
   "outputs": [],
   "source": [
    "type(a), type(b), type(c)"
   ]
  },
  {
   "cell_type": "markdown",
   "metadata": {},
   "source": [
    "Contoh variabel dengan tipe `String`:"
   ]
  },
  {
   "cell_type": "code",
   "execution_count": null,
   "metadata": {},
   "outputs": [],
   "source": [
    "nama1 = \"Jojo\"\n",
    "nama2 = \"Sujojo\"\n",
    "type(nama1), type(nama2)"
   ]
  },
  {
   "cell_type": "markdown",
   "metadata": {},
   "source": [
    "Tipe data boolean hanya memiliki dua nilai yang mungkin yaitu: `True` dan `False`"
   ]
  },
  {
   "cell_type": "code",
   "execution_count": null,
   "metadata": {},
   "outputs": [],
   "source": [
    "kondisi1 = True\n",
    "kondisi2 = False\n",
    "type(kondisi1), type(kondisi2)"
   ]
  },
  {
   "cell_type": "markdown",
   "metadata": {},
   "source": [
    "Nama variabel pada Python mengikuti aturan yang kurang lebih sama dengan penamaan variabel dalam bahasa C/C++.\n",
    "\n",
    "Contoh nama variabel yang valid:\n",
    "\n",
    "```python\n",
    "my_name = \"Jojo\n",
    "MyName = \"Sujojo\"\n",
    "x1 = 2.3\n",
    "```\n",
    "\n",
    "Contoh nama variabel yang tidak valid:\n",
    "```python\n",
    "for = 1  # menggunakan kata kunci for\n",
    "1a = 4 # diawali dengan angka\n",
    "```"
   ]
  },
  {
   "cell_type": "code",
   "execution_count": null,
   "metadata": {},
   "outputs": [],
   "source": [
    "nama = \"efefer\"\n",
    "print(\"Nama saya adalah \", nama)"
   ]
  },
  {
   "cell_type": "markdown",
   "metadata": {},
   "source": [
    "## Tipe bilangan kompleks"
   ]
  },
  {
   "cell_type": "markdown",
   "metadata": {},
   "source": [
    "Selain tipe bilangan bulat (`int`) dan real (`float`), Python juga mendukung tipe bilangan kompleks secara default. Bagian imajiner dari bilangan kompleks dapat dinyatakan dengan menambahkan `j` setelah bagian imajiner."
   ]
  },
  {
   "cell_type": "code",
   "execution_count": null,
   "metadata": {},
   "outputs": [],
   "source": [
    "z1 = 2 + 3j\n",
    "z2 = 4 + 4.5j\n",
    "z1 + z2"
   ]
  },
  {
   "cell_type": "code",
   "execution_count": null,
   "metadata": {},
   "outputs": [],
   "source": [
    "type(z1)"
   ]
  },
  {
   "cell_type": "markdown",
   "metadata": {},
   "source": [
    "Perhatikan bahwa bilangan imajiner murni $\\sqrt{-1}=\\textrm{i}$ dinyatakan dengan `1j`, bukan `j`:\n",
    "\n",
    "```\n",
    "1j\n",
    "```\n",
    "\n",
    "Jika kita hanya menggunakan `j`:\n",
    "\n",
    "```\n",
    "---------------------------------------------------------------------------\n",
    "NameError                                 Traceback (most recent call last)\n",
    "<ipython-input-2-3eedd8854d1e> in <module>\n",
    "----> 1 j\n",
    "\n",
    "NameError: name 'j' is not defined\n",
    "```"
   ]
  },
  {
   "cell_type": "markdown",
   "metadata": {},
   "source": [
    "Member `real` dan `imag` dapat digunakan untuk mengakses bagian real dan imajiner dari bilangan kompleks. Metode `conjugate()` dapat digunakan untuk mendapatkan konjugat kompleks."
   ]
  },
  {
   "cell_type": "code",
   "execution_count": null,
   "metadata": {},
   "outputs": [],
   "source": [
    "z1.real, z2.imag, z1.conjugate()"
   ]
  },
  {
   "cell_type": "code",
   "execution_count": null,
   "metadata": {},
   "outputs": [],
   "source": [
    "z1*z2"
   ]
  },
  {
   "cell_type": "code",
   "execution_count": null,
   "metadata": {},
   "outputs": [],
   "source": [
    "z1/z2"
   ]
  },
  {
   "cell_type": "code",
   "execution_count": null,
   "metadata": {},
   "outputs": [],
   "source": [
    "z1*z1.conjugate()"
   ]
  },
  {
   "cell_type": "code",
   "execution_count": null,
   "metadata": {},
   "outputs": [],
   "source": [
    "(z1*z1.conjugate()).real"
   ]
  },
  {
   "cell_type": "code",
   "execution_count": null,
   "metadata": {},
   "outputs": [],
   "source": [
    "(z1*z1.conjugate()).imag"
   ]
  },
  {
   "cell_type": "markdown",
   "metadata": {},
   "source": [
    "### String"
   ]
  },
  {
   "cell_type": "markdown",
   "metadata": {},
   "source": [
    "String merepresentasikan data teks.\n",
    "\n",
    "Dalam perhitungan numerik string tidak terlalu banyak digunakan. Namun untuk beberapa aplikasi lain seperti parsing dan analisis teks pengetahuan mengenai string sangat diperlukan. Topik mengenai string sangat luas dan kita hanya akan membahas beberapa hal saja.\n",
    "\n",
    "Ada beberapa cara untuk menggunakan tipe data string.\n",
    "\n",
    "- Menggunakan tanda petik tunggal: `'Nama saya Jojo'`\n",
    "- Menggunakan tanda petik ganda: `\"Nama saya Jojo\"`\n",
    "\n",
    "Untuk string yang lebih panjang dapat digunakan tidak tanda petik, baik tunggal atau ganda.\n",
    "\n",
    "Dalam tutorial ini, akan digunakan tanda petik dua untuk menyatakan string. Anda dapat menggantinya dengan menggunakan tanda petik tunggal jika Anda lebih suka."
   ]
  },
  {
   "cell_type": "code",
   "execution_count": null,
   "metadata": {},
   "outputs": [],
   "source": [
    "nama1 = 'Jojo'\n",
    "nama2 = \"Jojo\"\n",
    "nama1, nama2"
   ]
  },
  {
   "cell_type": "code",
   "execution_count": null,
   "metadata": {},
   "outputs": [],
   "source": [
    "type(nama1)"
   ]
  },
  {
   "cell_type": "markdown",
   "metadata": {},
   "source": [
    "Contoh string panjang yang memakan lebih dari satu baris."
   ]
  },
  {
   "cell_type": "code",
   "execution_count": null,
   "metadata": {},
   "outputs": [],
   "source": [
    "lirik_lagu = \"\"\"\n",
    "Aku ingin begini\n",
    "Aku ingin begitu\n",
    "Ingin ini ingin itu\n",
    "banyak sekali\n",
    "\"\"\"\n",
    "lirik_lagu"
   ]
  },
  {
   "cell_type": "markdown",
   "metadata": {},
   "source": [
    "String dapat dianggap sebagai kumpulan dari karakter-karakter individual.\n",
    "\n",
    "Untuk mengakses karakter individual dapat digunakan operator indexing `[]`. Indeks pada Python dimulai dari 0."
   ]
  },
  {
   "cell_type": "code",
   "execution_count": null,
   "metadata": {},
   "outputs": [],
   "source": [
    "nama1"
   ]
  },
  {
   "cell_type": "code",
   "execution_count": null,
   "metadata": {},
   "outputs": [],
   "source": [
    "nama1[0], nama1[1], nama2[2]"
   ]
  },
  {
   "cell_type": "markdown",
   "metadata": {},
   "source": [
    "Untuk mengetahui panjang suatu string dapat digunakan fungsi `len`."
   ]
  },
  {
   "cell_type": "code",
   "execution_count": null,
   "metadata": {},
   "outputs": [],
   "source": [
    "len(nama1)"
   ]
  },
  {
   "cell_type": "markdown",
   "metadata": {},
   "source": [
    "Perhatikan bahwa tipe dari karakter-karakter pada string adalah string juga (bukan `char` seperti pada C/C++)."
   ]
  },
  {
   "cell_type": "code",
   "execution_count": null,
   "metadata": {},
   "outputs": [],
   "source": [
    "type(nama1[0])"
   ]
  },
  {
   "cell_type": "markdown",
   "metadata": {},
   "source": [
    "Beberapa operator matematika dapat digunakan pada string, namun operasinya berbeda dengan operasi matematika biasa."
   ]
  },
  {
   "cell_type": "code",
   "execution_count": null,
   "metadata": {},
   "outputs": [],
   "source": [
    "\"Nama\" + \" \" + \"saya\" + \" adalah \" + \"Jojo\""
   ]
  },
  {
   "cell_type": "code",
   "execution_count": null,
   "metadata": {},
   "outputs": [],
   "source": [
    "\"Jojo\"*2"
   ]
  },
  {
   "cell_type": "code",
   "execution_count": null,
   "metadata": {},
   "outputs": [],
   "source": [
    "str1 = \"saya\""
   ]
  },
  {
   "cell_type": "code",
   "execution_count": null,
   "metadata": {},
   "outputs": [],
   "source": [
    "str1.capitalize()"
   ]
  },
  {
   "cell_type": "code",
   "execution_count": null,
   "metadata": {},
   "outputs": [],
   "source": [
    "str1.casefold()"
   ]
  },
  {
   "cell_type": "code",
   "execution_count": null,
   "metadata": {},
   "outputs": [],
   "source": [
    "str1.count(\"a\")"
   ]
  },
  {
   "cell_type": "code",
   "execution_count": null,
   "metadata": {},
   "outputs": [],
   "source": [
    "lirik_lagu.split()"
   ]
  },
  {
   "cell_type": "code",
   "execution_count": null,
   "metadata": {},
   "outputs": [],
   "source": [
    "lirik_lagu.upper()"
   ]
  },
  {
   "cell_type": "code",
   "execution_count": null,
   "metadata": {},
   "outputs": [],
   "source": [
    "lirik_lagu.lower()"
   ]
  },
  {
   "cell_type": "markdown",
   "metadata": {},
   "source": [
    "String dapat dianggap sebagai kumpulan berurut dari beberapa karakter atau huruf individual.\n",
    "Kumpulan berurut ini sering disebut sebagai list. List pada Python memiliki beberapa operasi yang dapat digunakan, salah satunya adalah indexing dan slicing. Anda dapat mempelajari lebih lanjut mengenai list di bagian tipe data kontainer.\n",
    "\n",
    "Contoh operasi slicing pada string."
   ]
  },
  {
   "cell_type": "code",
   "execution_count": null,
   "metadata": {},
   "outputs": [],
   "source": [
    "lirik_lagu[0:9:2]"
   ]
  },
  {
   "cell_type": "code",
   "execution_count": null,
   "metadata": {},
   "outputs": [],
   "source": [
    "lirik_lagu[::-1]"
   ]
  },
  {
   "cell_type": "markdown",
   "metadata": {},
   "source": [
    "## Tipe data kontainer"
   ]
  },
  {
   "cell_type": "markdown",
   "metadata": {},
   "source": [
    "### List"
   ]
  },
  {
   "cell_type": "markdown",
   "metadata": {},
   "source": [
    "List mirip dengan array pada bahasa pemrograman C/C++. Salah satu perbedaannya adalah tipe elemen pada list tidak perlu terdiri dari tipe yang sama. Selain itu, list juga mendukung beberapa operasi yang lebih kompleks dibandingkan dengan array pada C/C++."
   ]
  },
  {
   "cell_type": "code",
   "execution_count": null,
   "metadata": {},
   "outputs": [],
   "source": [
    "mylst1 = [3, 5, 7, 11, 44, 33, 88, 99]\n",
    "mylst1"
   ]
  },
  {
   "cell_type": "code",
   "execution_count": null,
   "metadata": {},
   "outputs": [],
   "source": [
    "type(mylst1)"
   ]
  },
  {
   "cell_type": "markdown",
   "metadata": {},
   "source": [
    "Contoh list dengan elemen-elemen yang terdiri dari tipe data berbeda."
   ]
  },
  {
   "cell_type": "code",
   "execution_count": null,
   "metadata": {},
   "outputs": [],
   "source": [
    "mylst2 = [\"Nama\", 1, 2.3, True]\n",
    "mylst2"
   ]
  },
  {
   "cell_type": "markdown",
   "metadata": {},
   "source": [
    "Untuk mengakses elemen pada list kita dapat menggunakan operator indexing `[]`. Indeks pada Python dimulai dari 0."
   ]
  },
  {
   "cell_type": "code",
   "execution_count": null,
   "metadata": {},
   "outputs": [],
   "source": [
    "mylst1[0], mylst1[3]"
   ]
  },
  {
   "cell_type": "markdown",
   "metadata": {},
   "source": [
    "Indeks negatif juga dapat digunakan pada list:"
   ]
  },
  {
   "cell_type": "code",
   "execution_count": null,
   "metadata": {},
   "outputs": [],
   "source": [
    "mylst1[-1], mylst1[-2], mylst1[-3], mylst1[-4]"
   ]
  },
  {
   "cell_type": "markdown",
   "metadata": {},
   "source": [
    "Untuk mengetahui panjang (jumlah element) suatu list dapat digunakan fungsi builtin `len()`:"
   ]
  },
  {
   "cell_type": "code",
   "execution_count": null,
   "metadata": {},
   "outputs": [],
   "source": [
    "len(mylst1), len(mylst2)"
   ]
  },
  {
   "cell_type": "markdown",
   "metadata": {},
   "source": [
    "List mendukung operasi slicing. Operasi ini mengembalikan (sub)list dari list awal. Sintaks yang digunakan adalah:\n",
    "```python\n",
    "mylist[idx_awal:idx_akhir:increment]\n",
    "```\n",
    "Dengan sintaks di atas akan dikembalikan sebuah list dengan element dari `mylist[idx_awal]` sampai sebelum `my_list[idx_akhir]` dengan penambahan indeks `increment`.\n",
    "Pada operasi slicing tidak harus semua paramter diberikan. Secara default `idx_awal = 0`, `idx_akhir = len(my_list)`, dan `increment = 1`."
   ]
  },
  {
   "cell_type": "code",
   "execution_count": null,
   "metadata": {},
   "outputs": [],
   "source": [
    "mylst1[1:3]"
   ]
  },
  {
   "cell_type": "code",
   "execution_count": null,
   "metadata": {},
   "outputs": [],
   "source": [
    "mylst1[0:8:2]"
   ]
  },
  {
   "cell_type": "code",
   "execution_count": null,
   "metadata": {},
   "outputs": [],
   "source": [
    "mylst1[:3]"
   ]
  },
  {
   "cell_type": "code",
   "execution_count": null,
   "metadata": {},
   "outputs": [],
   "source": [
    "mylst1[0:]"
   ]
  },
  {
   "cell_type": "code",
   "execution_count": null,
   "metadata": {},
   "outputs": [],
   "source": [
    "mylst1[::2]"
   ]
  },
  {
   "cell_type": "code",
   "execution_count": null,
   "metadata": {},
   "outputs": [],
   "source": [
    "mylst1[::-1]"
   ]
  },
  {
   "cell_type": "markdown",
   "metadata": {},
   "source": [
    "List bersifat **mutable**, artinya elemen list dapat diubah."
   ]
  },
  {
   "cell_type": "code",
   "execution_count": null,
   "metadata": {},
   "outputs": [],
   "source": [
    "mylst1[0] = 1000\n",
    "mylst1"
   ]
  },
  {
   "cell_type": "markdown",
   "metadata": {},
   "source": [
    "Elemen baru dapat ditambahkan ke list dengan menggunakan metode `append`:"
   ]
  },
  {
   "cell_type": "code",
   "execution_count": null,
   "metadata": {},
   "outputs": [],
   "source": [
    "mylst1.append(123)\n",
    "mylst1"
   ]
  },
  {
   "cell_type": "markdown",
   "metadata": {},
   "source": [
    "Beberapa operator yang normal digunakan pada perhitungan matematika seperti `+` memiliki arti tertentu pada list. Misalnya"
   ]
  },
  {
   "cell_type": "code",
   "execution_count": null,
   "metadata": {},
   "outputs": [],
   "source": [
    "mylst1 = mylst1 + [1000]\n",
    "mylst1"
   ]
  },
  {
   "cell_type": "code",
   "execution_count": null,
   "metadata": {},
   "outputs": [],
   "source": [
    "mylst1 + [3, 4, 5]"
   ]
  },
  {
   "cell_type": "markdown",
   "metadata": {},
   "source": [
    "Elemen dari suatu list dapat juga berupa list yang lain. Pada perintah berikut kita akan menambahkan suatu list yaitu `[3,4,5]` pada `my_list`."
   ]
  },
  {
   "cell_type": "code",
   "execution_count": null,
   "metadata": {},
   "outputs": [],
   "source": [
    "mylst1.append([3,4,5])"
   ]
  },
  {
   "cell_type": "code",
   "execution_count": null,
   "metadata": {},
   "outputs": [],
   "source": [
    "mylst1"
   ]
  },
  {
   "cell_type": "markdown",
   "metadata": {},
   "source": [
    "List pada Python juga mendukung beberapa operasi lain. Untuk memperoleh gambaran lebih lengkap, Anda dapat membaca di\n",
    "[https://docs.python.org/3/tutorial/datastructures.html#more-on-lists](https://docs.python.org/3/tutorial/datastructures.html#more-on-lists)"
   ]
  },
  {
   "cell_type": "markdown",
   "metadata": {},
   "source": [
    "### Tupel"
   ]
  },
  {
   "cell_type": "markdown",
   "metadata": {},
   "source": [
    "Tupel sangat mirip dengan list. Perbedaan pentingnya adalah tupel bersifat **immutable**. Tupel dapat diinisialisasi dari elemen-elemennya dengan menggunakan tanda `()` dan diantara elemen dipisahkan dengan tanda koma."
   ]
  },
  {
   "cell_type": "code",
   "execution_count": null,
   "metadata": {},
   "outputs": [],
   "source": [
    "mytpl = (0, \"3\", True, 1.3)\n",
    "mytpl"
   ]
  },
  {
   "cell_type": "code",
   "execution_count": null,
   "metadata": {},
   "outputs": [],
   "source": [
    "type(mytpl)"
   ]
  },
  {
   "cell_type": "markdown",
   "metadata": {},
   "source": [
    "Tupel juga dapat diinisialisasi tanpa menggunakan tanda `()`."
   ]
  },
  {
   "cell_type": "code",
   "execution_count": null,
   "metadata": {},
   "outputs": [],
   "source": [
    "mytpl = 0, \"3\", True, 1.3\n",
    "mytpl"
   ]
  },
  {
   "cell_type": "code",
   "execution_count": null,
   "metadata": {},
   "outputs": [],
   "source": [
    "mytpl[1:3]"
   ]
  },
  {
   "cell_type": "markdown",
   "metadata": {},
   "source": [
    "Seperti yang telah diinfomasikan sebelumnya, berbeda dengan list, tupel bersifat **immutable**, artinya elemen-elemennya tidak dapat dimodifikasi setelah diinisialisasi.\n",
    "\n",
    "Kode berikut ini akan memberikan kesalahan\n",
    "```python\n",
    "mytpl[0] = 3.4\n",
    "```\n",
    "\n",
    "```\n",
    "---------------------------------------------------------------------------\n",
    "TypeError                                 Traceback (most recent call last)\n",
    "<ipython-input-44-77d297c1309c> in <module>()\n",
    "----> 1 mytpl[0] = 3.4\n",
    "\n",
    "TypeError: 'tuple' object does not support item assignment\n",
    "```"
   ]
  },
  {
   "cell_type": "markdown",
   "metadata": {},
   "source": [
    "Karena bersifat immutable, tupel tidak memiliki operasi sefleksibel list. Meskipun demikian kita dapat mengubah tupel menjadi list dengan menggunakan konstruktor `list`."
   ]
  },
  {
   "cell_type": "code",
   "execution_count": null,
   "metadata": {},
   "outputs": [],
   "source": [
    "mylst3 = list(mytpl)\n",
    "mylst3"
   ]
  },
  {
   "cell_type": "code",
   "execution_count": null,
   "metadata": {},
   "outputs": [],
   "source": [
    "mylst3[0] = 44\n",
    "mylst3"
   ]
  },
  {
   "cell_type": "markdown",
   "metadata": {},
   "source": [
    "### Set (himpunan)"
   ]
  },
  {
   "cell_type": "markdown",
   "metadata": {},
   "source": [
    "Tipe data set pada Python terdiri dari elemen-elemen unik yang tidak berulang. Urutan tidak terdefinisi pada set. Set dapat diinisialisasi dari elemen-elemennya dengan menggunakan tanda kurung kurawal."
   ]
  },
  {
   "cell_type": "code",
   "execution_count": null,
   "metadata": {},
   "outputs": [],
   "source": [
    "myset = {0, 0, 2, 4, 11, 11, 100, 100, \"A\", \"B\", True, (3,4)}\n",
    "myset"
   ]
  },
  {
   "cell_type": "markdown",
   "metadata": {},
   "source": [
    "Set juga dapat diinisialisasi dengan menggunakan konstruktor `set` dengan sintaks umum sebagai berikut:\n",
    "```python\n",
    "set(iterable_data)\n",
    "```\n",
    "di mana `iterable_data` merupakan tipe data yang dapat diiterasi seperti list, tupel, string dan sebagainya."
   ]
  },
  {
   "cell_type": "code",
   "execution_count": null,
   "metadata": {},
   "outputs": [],
   "source": [
    "set(\"Aku ingin begini. Aku ingin begitu\")"
   ]
  },
  {
   "cell_type": "code",
   "execution_count": null,
   "metadata": {},
   "outputs": [],
   "source": [
    "set([1, 3, 4, 6, 7, 8, 8, 9, 7, 4, 3, 2])"
   ]
  },
  {
   "cell_type": "code",
   "execution_count": null,
   "metadata": {},
   "outputs": [],
   "source": [
    "buah2an = (\"apel\", \"mangga\", \"pisang\", \"jeruk\", \"apel\", \"pisang\")\n",
    "set( buah2an )"
   ]
  },
  {
   "cell_type": "markdown",
   "metadata": {},
   "source": [
    "### Dictionary (kamus)"
   ]
  },
  {
   "cell_type": "markdown",
   "metadata": {},
   "source": [
    "Dictionary atau `dict` pada Python adalah suatu tipe data yang terdiri dari kumpulan pasangan key (kunci) dan value (nilai). Tipe data `dict` bersifat mutable. Anda dapat menganggap `dict` sebagai tabel yang terdiri dari dua kolom, di mana key berada pada kolom pertama dan value pada kolom kedua. Dalam beberapa bahasa pemrograman lain, `dict` sering juga disebut sebagai array asosiatif."
   ]
  },
  {
   "cell_type": "code",
   "execution_count": null,
   "metadata": {},
   "outputs": [],
   "source": [
    "nilai = {\"Jojo\": 100, \"Jono\": 80, \"Koko\": 65, \"Bobo\": 44}\n",
    "nilai"
   ]
  },
  {
   "cell_type": "code",
   "execution_count": null,
   "metadata": {},
   "outputs": [],
   "source": [
    "type(nilai)"
   ]
  },
  {
   "cell_type": "markdown",
   "metadata": {},
   "source": [
    "Anda dapat mengakses nilai dari \"Jojo\", misalnya, dengan menggunakan:"
   ]
  },
  {
   "cell_type": "code",
   "execution_count": null,
   "metadata": {},
   "outputs": [],
   "source": [
    "nilai[\"Jojo\"]"
   ]
  },
  {
   "cell_type": "markdown",
   "metadata": {},
   "source": [
    "Fungsi `list` dapat digunakan untuk mendapatkan semua `key` dari suatu `dict`:"
   ]
  },
  {
   "cell_type": "code",
   "execution_count": null,
   "metadata": {},
   "outputs": [],
   "source": [
    "list(nilai)"
   ]
  },
  {
   "cell_type": "markdown",
   "metadata": {},
   "source": [
    "Anda dapat menambahkan pasangan `key` dan `value` baru seperti pada contoh berikut"
   ]
  },
  {
   "cell_type": "code",
   "execution_count": null,
   "metadata": {},
   "outputs": [],
   "source": [
    "nilai[\"Aan\"] = 70\n",
    "nilai"
   ]
  },
  {
   "cell_type": "markdown",
   "metadata": {},
   "source": [
    "Selain dengan menggunakan operasi indexing langsung, metode `update` juga dapat digunakan untuk mengubah suatu `dict`:"
   ]
  },
  {
   "cell_type": "code",
   "execution_count": null,
   "metadata": {},
   "outputs": [],
   "source": [
    "nilai[\"Jojo\"] = 40\n",
    "nilai[\"Aan\"] = 55\n",
    "nilai"
   ]
  },
  {
   "cell_type": "code",
   "execution_count": null,
   "metadata": {},
   "outputs": [],
   "source": [
    "nilai.update({\"Jojo\": 99, \"Aan\": 88})\n",
    "nilai"
   ]
  },
  {
   "cell_type": "markdown",
   "metadata": {},
   "source": [
    "Fungsi `del` dapat digunakan untuk menghapus key dan value pada `dict`."
   ]
  },
  {
   "cell_type": "code",
   "execution_count": null,
   "metadata": {},
   "outputs": [],
   "source": [
    "del nilai[\"Jono\"]"
   ]
  },
  {
   "cell_type": "code",
   "execution_count": null,
   "metadata": {},
   "outputs": [],
   "source": [
    "nilai"
   ]
  },
  {
   "cell_type": "markdown",
   "metadata": {},
   "source": [
    "## Kontrol alur program"
   ]
  },
  {
   "cell_type": "markdown",
   "metadata": {},
   "source": [
    "### Kondisional"
   ]
  },
  {
   "cell_type": "markdown",
   "metadata": {},
   "source": [
    "Pernyataan kondisional digunakan untuk melakukan atau tidak melakukan suatu pernyataan dalam program berdasarkan suatu kondisi tertentu.\n",
    "\n",
    "Pernyataan kondisional dapat dibuat dengan menggunakan kata-kata kunci `if`, `else`, dan `elif`.\n",
    "\n",
    "Sintaks `if`\n",
    "```python\n",
    "if kondisi:\n",
    "    lakukan_sesuatu\n",
    "```\n",
    "\n",
    "Sintaks `if-else`\n",
    "```python\n",
    "if kondisi_a:\n",
    "    lakukan_ini\n",
    "else:\n",
    "    lakukan_itu\n",
    "```\n",
    "\n",
    "Sintaks `if-elif-else`\n",
    "```python\n",
    "if kondisi_a:\n",
    "    lakukan_ini\n",
    "elif kondisi_b:\n",
    "    lakukan_itu\n",
    "else:\n",
    "    lakukan_yang_lain\n",
    "```"
   ]
  },
  {
   "cell_type": "markdown",
   "metadata": {},
   "source": [
    "Berikut ini adalah operator-operator logika dalam Python (Referensi: Huff, *Effective Computation in Physics - Field Guide to research in Python*)"
   ]
  },
  {
   "cell_type": "markdown",
   "metadata": {},
   "source": [
    "**Unary operator**\n",
    "\n",
    "| Name | Usage | Returns |\n",
    "| ---- | ----- | ------- |\n",
    "| Negation | `not x` | Logical negation - `True` becomes False , and vice versa. |\n",
    "| Bitwise invert | `~x` | Changes all zeros to ones and vice versa in `x`'s binary representation.|"
   ]
  },
  {
   "cell_type": "markdown",
   "metadata": {},
   "source": [
    "**Binary operators**\n",
    "\n",
    "| Name | Usage | Returns |\n",
    "| ---- | ----- | ------- |\n",
    "| Logical and | `x and y` | `True` if `bool(x)` and `bool(y)` are `True` ; False otherwise. |\n",
    "| Logical or | `x or y` | `x` if `bool(x)` is `True` ; otherwise the value of y . |"
   ]
  },
  {
   "cell_type": "markdown",
   "metadata": {},
   "source": [
    "**Comparison binary operators**\n",
    "\n",
    "| Name | Usage | Returns |\n",
    "| ---- | ----- | ------- |\n",
    "| Equality | `x == y` | `True` or `False` |\n",
    "| Not equal | `x != y` | `True` or `False` |\n",
    "| Less than | `x < y` | `True` or `False` |\n",
    "| Less than or equal | `x <= y` | `True` or `False` |\n",
    "| Greater than | `x > y` | `True` or `False` |\n",
    "| Greater than or equal | `x >= y` | `True` or `False` |\n",
    "| Containment | `x in y` | `True` if `x` is an element of `y` |\n",
    "| Non-containment | `x not in y` | `False` if `x` is an element of `y` |\n",
    "| Identity test | `x is y` | `True` if `x` and `y` point to the same underlying value in memory |\n"
   ]
  },
  {
   "cell_type": "code",
   "execution_count": null,
   "metadata": {},
   "outputs": [],
   "source": [
    "a = -1\n",
    "if a > 0:\n",
    "    print(\"a bernilai positif\")\n",
    "else:\n",
    "    print(\"a bernilai negatif\")"
   ]
  },
  {
   "cell_type": "code",
   "execution_count": null,
   "metadata": {},
   "outputs": [],
   "source": [
    "a = 0\n",
    "if a > 0:\n",
    "    print(\"a bernilai positif\")\n",
    "elif a < 0:\n",
    "    print(\"a bernilai negatif\")\n",
    "else:\n",
    "    print(\"a bernilai 0\")"
   ]
  },
  {
   "cell_type": "code",
   "execution_count": null,
   "metadata": {},
   "outputs": [],
   "source": [
    "mylist = [1, 2, 3, 4, 6]\n",
    "if 5 in mylist:\n",
    "    print(\"Nilai 5 berada dalam mylist\")\n",
    "else:\n",
    "    print(\"Nilai 5 tidak ada dalam list\")"
   ]
  },
  {
   "cell_type": "code",
   "execution_count": null,
   "metadata": {},
   "outputs": [],
   "source": [
    "nilai = {\"Jojo\": 100, \"Jono\": 80, \"Koko\": 65, \"Bobo\": 44}\n",
    "if \"Jojo\" not in nilai:\n",
    "    print(\"Jojo tidak ada dalam dict nilai\")\n",
    "else:\n",
    "    print(\"Jojo ada dalam dict nilai\")"
   ]
  },
  {
   "cell_type": "markdown",
   "metadata": {},
   "source": [
    "### Loop (pengulangan)"
   ]
  },
  {
   "cell_type": "markdown",
   "metadata": {},
   "source": [
    "Ada beberapa cara untuk melakukan operasi pengulangan pada Python.\n",
    "\n",
    "Beberapa yang sering digunakan adalah pernyataan dengan kata kunci `while` dan `for`.\n",
    "\n",
    "Sintaks:\n",
    "```python\n",
    "while kondisi:\n",
    "    lakukan_sesuatu\n",
    "```\n",
    "\n",
    "Sintaks:\n",
    "```python\n",
    "for variabel in iterable:\n",
    "    lakukan_sesuatu\n",
    "```\n",
    "\n",
    "Contoh `iterable` adalah list, dict, dan set. `iterable` juga dapat dihasilkan dengan menggunakan fungsi `range`."
   ]
  },
  {
   "cell_type": "code",
   "execution_count": null,
   "metadata": {},
   "outputs": [],
   "source": [
    "a = 0\n",
    "while a < 10:\n",
    "    print(\"a = %d\" % a)\n",
    "    a = a + 1"
   ]
  },
  {
   "cell_type": "code",
   "execution_count": null,
   "metadata": {},
   "outputs": [],
   "source": [
    "for a in range(1,10):\n",
    "    print(\"a = %d\" % a)"
   ]
  },
  {
   "cell_type": "markdown",
   "metadata": {},
   "source": [
    "Kata kunci `break` dapat digunakan untuk menghentikan loop jika suatu kondisi terpenuhi."
   ]
  },
  {
   "cell_type": "code",
   "execution_count": null,
   "metadata": {},
   "outputs": [],
   "source": [
    "a = 0\n",
    "while True:\n",
    "    if a >= 10:\n",
    "        break\n",
    "    print(\"a = %d\" % a)\n",
    "    a = a + 2"
   ]
  },
  {
   "cell_type": "code",
   "execution_count": null,
   "metadata": {},
   "outputs": [],
   "source": [
    "for i in range(10):\n",
    "    if i == 5:\n",
    "        continue\n",
    "    print(\"i = %d\" % i)"
   ]
  },
  {
   "cell_type": "code",
   "execution_count": null,
   "metadata": {},
   "outputs": [],
   "source": [
    "for nama in nilai:\n",
    "    print(\"nama = \", nama)"
   ]
  },
  {
   "cell_type": "markdown",
   "metadata": {},
   "source": [
    "### Exception"
   ]
  },
  {
   "cell_type": "markdown",
   "metadata": {},
   "source": [
    "Exception adalah suatu mekanisme pada bahasa pemrograman untuk mengatasi atau menginformasikan bahwa terlah terjadi suatu kesalahan seperti kesalahan input argumen, file tidak ditemukan dan sebagainya."
   ]
  },
  {
   "cell_type": "code",
   "execution_count": null,
   "metadata": {},
   "outputs": [],
   "source": [
    "x = 0\n",
    "try:\n",
    "    a = 1/x\n",
    "except:\n",
    "    print(\"x tidak boleh 0\")"
   ]
  },
  {
   "cell_type": "markdown",
   "metadata": {},
   "source": [
    "Python mendukung banyak sekali tipe exception, salah satu yang sering digunakan adalah `RuntimeException`. Anda dapat menggunakan exception ini jika terjadi kesalahan pada program Anda.\n",
    "\n",
    "Contoh:\n",
    "\n",
    "```python\n",
    "a = -1.0\n",
    "if a < 0:\n",
    "    raise RuntimeError(\"a harus lebih besar dari 0\")\n",
    "```\n",
    "\n",
    "akan memberikan keluaran:\n",
    "```\n",
    "---------------------------------------------------------------------------\n",
    "RuntimeError                              Traceback (most recent call last)\n",
    "<ipython-input-38-87e95f0d6c82> in <module>()\n",
    "      1 a = -1.0\n",
    "      2 if a < 0:\n",
    "----> 3     raise RuntimeError(\"a harus lebih besar dari 0\")\n",
    "\n",
    "RuntimeError: a harus lebih besar dari 0\n",
    "```"
   ]
  },
  {
   "cell_type": "markdown",
   "metadata": {},
   "source": [
    "## Fungsi (subprogram)"
   ]
  },
  {
   "cell_type": "code",
   "execution_count": null,
   "metadata": {},
   "outputs": [],
   "source": [
    "def my_func_01(a, b):\n",
    "    return a + b"
   ]
  },
  {
   "cell_type": "code",
   "execution_count": null,
   "metadata": {},
   "outputs": [],
   "source": [
    "def my_func_02(a, b):\n",
    "    print(\"a = \", a)\n",
    "    print(\"b = \", b)"
   ]
  },
  {
   "cell_type": "code",
   "execution_count": null,
   "metadata": {},
   "outputs": [],
   "source": [
    "def my_func_03(a, b):\n",
    "    temp = a\n",
    "    a = b\n",
    "    b = a"
   ]
  },
  {
   "cell_type": "code",
   "execution_count": null,
   "metadata": {},
   "outputs": [],
   "source": [
    "a = 3\n",
    "b = 4\n",
    "c = my_func_01(a, b)\n",
    "c"
   ]
  },
  {
   "cell_type": "code",
   "execution_count": null,
   "metadata": {},
   "outputs": [],
   "source": [
    "c = my_func_02(a, b)"
   ]
  },
  {
   "cell_type": "code",
   "execution_count": null,
   "metadata": {},
   "outputs": [],
   "source": [
    "type(c)"
   ]
  },
  {
   "cell_type": "code",
   "execution_count": null,
   "metadata": {},
   "outputs": [],
   "source": [
    "my_func_03(a, b)\n",
    "a, b"
   ]
  },
  {
   "cell_type": "code",
   "execution_count": null,
   "metadata": {},
   "outputs": [],
   "source": [
    "my_func_03(*{a}, b)\n",
    "a, b"
   ]
  },
  {
   "cell_type": "code",
   "execution_count": null,
   "metadata": {},
   "outputs": [],
   "source": [
    "def my_func_04(a, b):\n",
    "    return b, a"
   ]
  },
  {
   "cell_type": "code",
   "execution_count": null,
   "metadata": {},
   "outputs": [],
   "source": [
    "a, b = my_func_04(a, b)\n",
    "a, b"
   ]
  },
  {
   "cell_type": "code",
   "execution_count": null,
   "metadata": {},
   "outputs": [],
   "source": [
    "def my_func_05(args):\n",
    "    args[0] = 1"
   ]
  },
  {
   "cell_type": "code",
   "execution_count": null,
   "metadata": {},
   "outputs": [],
   "source": [
    "args = [3, 4]\n",
    "my_func_05(args)\n",
    "args"
   ]
  },
  {
   "cell_type": "markdown",
   "metadata": {},
   "source": [
    "## Pengenalan Numpy"
   ]
  },
  {
   "cell_type": "code",
   "execution_count": null,
   "metadata": {},
   "outputs": [],
   "source": [
    "import numpy as np"
   ]
  },
  {
   "cell_type": "code",
   "execution_count": null,
   "metadata": {},
   "outputs": [],
   "source": [
    "mylist1 = [1, 2, 3, 4, 5]\n",
    "mylist2 = [4.5, 2, 1.3, 4, 5]"
   ]
  },
  {
   "cell_type": "code",
   "execution_count": null,
   "metadata": {},
   "outputs": [],
   "source": [
    "np.array(mylist1)*np.array(mylist2)"
   ]
  },
  {
   "cell_type": "code",
   "execution_count": null,
   "metadata": {},
   "outputs": [],
   "source": [
    "x1 = np.array([1,2,3,4,4])"
   ]
  },
  {
   "cell_type": "code",
   "execution_count": null,
   "metadata": {},
   "outputs": [],
   "source": [
    "type(x1)"
   ]
  },
  {
   "cell_type": "code",
   "execution_count": null,
   "metadata": {},
   "outputs": [],
   "source": [
    "0.5*x1"
   ]
  },
  {
   "cell_type": "code",
   "execution_count": null,
   "metadata": {},
   "outputs": [],
   "source": [
    "A = np.matrix([[1,2,3,4], [1,3,2,4]])\n",
    "A"
   ]
  },
  {
   "cell_type": "code",
   "execution_count": null,
   "metadata": {},
   "outputs": [],
   "source": [
    "A[1,2]"
   ]
  },
  {
   "cell_type": "code",
   "execution_count": null,
   "metadata": {},
   "outputs": [],
   "source": [
    "A[:,1]"
   ]
  },
  {
   "cell_type": "code",
   "execution_count": null,
   "metadata": {},
   "outputs": [],
   "source": [
    "A[1,:]"
   ]
  },
  {
   "cell_type": "code",
   "execution_count": null,
   "metadata": {},
   "outputs": [],
   "source": [
    "B = np.matrix.copy(A)\n",
    "B"
   ]
  },
  {
   "cell_type": "code",
   "execution_count": null,
   "metadata": {},
   "outputs": [],
   "source": [
    "B.transpose()*B"
   ]
  },
  {
   "cell_type": "code",
   "execution_count": null,
   "metadata": {},
   "outputs": [],
   "source": [
    "?np.linalg.solve"
   ]
  },
  {
   "cell_type": "code",
   "execution_count": null,
   "metadata": {},
   "outputs": [],
   "source": [
    "A = np.matrix([[6, -4, 1], [-4, 6, -4], [1, -4, 6]], dtype=np.float64)\n",
    "b = b = np.matrix([[-14, 36, 6],[22, -18, 7]], dtype=np.float64).transpose()\n",
    "print(A)\n",
    "print(b)"
   ]
  },
  {
   "cell_type": "code",
   "execution_count": null,
   "metadata": {},
   "outputs": [],
   "source": [
    "np.linalg.solve(A,b)"
   ]
  },
  {
   "cell_type": "code",
   "execution_count": null,
   "metadata": {},
   "outputs": [],
   "source": []
  },
  {
   "cell_type": "code",
   "execution_count": null,
   "metadata": {},
   "outputs": [],
   "source": []
  },
  {
   "cell_type": "code",
   "execution_count": null,
   "metadata": {},
   "outputs": [],
   "source": []
  },
  {
   "cell_type": "code",
   "execution_count": null,
   "metadata": {},
   "outputs": [],
   "source": []
  },
  {
   "cell_type": "code",
   "execution_count": null,
   "metadata": {},
   "outputs": [],
   "source": []
  },
  {
   "cell_type": "code",
   "execution_count": null,
   "metadata": {},
   "outputs": [],
   "source": []
  },
  {
   "cell_type": "code",
   "execution_count": null,
   "metadata": {},
   "outputs": [],
   "source": [
    "B[1,:] = 1.0\n",
    "B"
   ]
  },
  {
   "cell_type": "code",
   "execution_count": null,
   "metadata": {},
   "outputs": [],
   "source": [
    "B.shape"
   ]
  },
  {
   "cell_type": "code",
   "execution_count": null,
   "metadata": {},
   "outputs": [],
   "source": [
    "B.trace()"
   ]
  },
  {
   "cell_type": "code",
   "execution_count": null,
   "metadata": {},
   "outputs": [],
   "source": [
    "B.transpose()"
   ]
  },
  {
   "cell_type": "code",
   "execution_count": null,
   "metadata": {},
   "outputs": [],
   "source": [
    "np.matmul(B.transpose(), B)"
   ]
  },
  {
   "cell_type": "code",
   "execution_count": null,
   "metadata": {},
   "outputs": [],
   "source": [
    "Bt = B.transpose()\n",
    "type(Bt), Bt"
   ]
  },
  {
   "cell_type": "code",
   "execution_count": null,
   "metadata": {},
   "outputs": [],
   "source": [
    "Bt[1,1] = 0.0\n",
    "Bt, B"
   ]
  },
  {
   "cell_type": "code",
   "execution_count": null,
   "metadata": {},
   "outputs": [],
   "source": [
    "Bt2 = np.matrix(B.transpose())\n",
    "Bt2"
   ]
  },
  {
   "cell_type": "markdown",
   "metadata": {},
   "source": [
    "2d `ndarray` sedikit berbeda dengan `matrix`."
   ]
  },
  {
   "cell_type": "code",
   "execution_count": null,
   "metadata": {},
   "outputs": [],
   "source": [
    "Bt2*B"
   ]
  },
  {
   "cell_type": "code",
   "execution_count": null,
   "metadata": {},
   "outputs": [],
   "source": [
    "np.matrixlib."
   ]
  },
  {
   "cell_type": "code",
   "execution_count": null,
   "metadata": {},
   "outputs": [],
   "source": []
  },
  {
   "cell_type": "code",
   "execution_count": null,
   "metadata": {},
   "outputs": [],
   "source": [
    "np.matmul(Bt2,B)"
   ]
  },
  {
   "cell_type": "code",
   "execution_count": null,
   "metadata": {},
   "outputs": [],
   "source": []
  },
  {
   "cell_type": "code",
   "execution_count": null,
   "metadata": {},
   "outputs": [],
   "source": []
  },
  {
   "cell_type": "code",
   "execution_count": null,
   "metadata": {},
   "outputs": [],
   "source": [
    "?np.trace"
   ]
  },
  {
   "cell_type": "code",
   "execution_count": null,
   "metadata": {},
   "outputs": [],
   "source": []
  },
  {
   "cell_type": "code",
   "execution_count": null,
   "metadata": {},
   "outputs": [],
   "source": []
  },
  {
   "cell_type": "code",
   "execution_count": null,
   "metadata": {},
   "outputs": [],
   "source": []
  },
  {
   "cell_type": "code",
   "execution_count": null,
   "metadata": {},
   "outputs": [],
   "source": []
  },
  {
   "cell_type": "code",
   "execution_count": null,
   "metadata": {},
   "outputs": [],
   "source": [
    "np.linspace(1, 10, 100)"
   ]
  },
  {
   "cell_type": "code",
   "execution_count": null,
   "metadata": {},
   "outputs": [],
   "source": [
    "import scipy\n",
    "import scipy.linalg"
   ]
  },
  {
   "cell_type": "code",
   "execution_count": null,
   "metadata": {},
   "outputs": [],
   "source": [
    "?scipy.linalg.hilbert"
   ]
  },
  {
   "cell_type": "code",
   "execution_count": null,
   "metadata": {},
   "outputs": [],
   "source": [
    "H1 = np.matrix(scipy.linalg.hilbert(10))\n",
    "H1"
   ]
  },
  {
   "cell_type": "code",
   "execution_count": null,
   "metadata": {},
   "outputs": [],
   "source": [
    "type(H1)"
   ]
  },
  {
   "cell_type": "code",
   "execution_count": null,
   "metadata": {},
   "outputs": [],
   "source": [
    "invH1 = np.linalg.inv(H1)"
   ]
  },
  {
   "cell_type": "code",
   "execution_count": null,
   "metadata": {},
   "outputs": [],
   "source": [
    "invH1_v2 = scipy.linalg.invhilbert(10)"
   ]
  },
  {
   "cell_type": "code",
   "execution_count": null,
   "metadata": {},
   "outputs": [],
   "source": [
    "?scipy.linalg.invhilbert"
   ]
  },
  {
   "cell_type": "code",
   "execution_count": null,
   "metadata": {},
   "outputs": [],
   "source": [
    "invH1 - invH1_v2"
   ]
  },
  {
   "cell_type": "code",
   "execution_count": null,
   "metadata": {},
   "outputs": [],
   "source": []
  },
  {
   "cell_type": "code",
   "execution_count": null,
   "metadata": {},
   "outputs": [],
   "source": []
  },
  {
   "cell_type": "code",
   "execution_count": null,
   "metadata": {},
   "outputs": [],
   "source": []
  },
  {
   "cell_type": "code",
   "execution_count": null,
   "metadata": {},
   "outputs": [],
   "source": []
  },
  {
   "cell_type": "code",
   "execution_count": null,
   "metadata": {},
   "outputs": [],
   "source": []
  }
 ],
 "metadata": {
  "kernel_info": {
   "name": "python3"
  },
  "kernelspec": {
   "display_name": "Python 3",
   "language": "python",
   "name": "python3"
  },
  "language_info": {
   "codemirror_mode": {
    "name": "ipython",
    "version": 3
   },
   "file_extension": ".py",
   "mimetype": "text/x-python",
   "name": "python",
   "nbconvert_exporter": "python",
   "pygments_lexer": "ipython3",
   "version": "3.8.5"
  },
  "nteract": {
   "version": "0.12.3"
  }
 },
 "nbformat": 4,
 "nbformat_minor": 4
}
