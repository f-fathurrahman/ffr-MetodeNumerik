{
 "cells": [
  {
   "cell_type": "markdown",
   "metadata": {},
   "source": [
    "# TF2202 Teknik Komputasi - Pencocokan Kurva \n",
    "\n",
    "Fadjar Fathurrahman"
   ]
  },
  {
   "cell_type": "code",
   "execution_count": null,
   "metadata": {},
   "outputs": [],
   "source": [
    "import numpy as np\n",
    "import matplotlib.pyplot as plt\n",
    "import math"
   ]
  },
  {
   "cell_type": "code",
   "execution_count": null,
   "metadata": {},
   "outputs": [],
   "source": [
    "from IPython.display import set_matplotlib_formats\n",
    "set_matplotlib_formats(\"svg\")\n",
    "%matplotlib inline"
   ]
  },
  {
   "cell_type": "code",
   "execution_count": null,
   "metadata": {},
   "outputs": [],
   "source": [
    "import matplotlib\n",
    "matplotlib.style.use(\"dark_background\")\n",
    "#matplotlib.style.use(\"default\")"
   ]
  },
  {
   "cell_type": "markdown",
   "metadata": {},
   "source": [
    "## Kuadrat terkecil (least square)"
   ]
  },
  {
   "cell_type": "code",
   "execution_count": null,
   "metadata": {},
   "outputs": [],
   "source": [
    "## module polyFit\n",
    "\"\"\"\n",
    "c = polyFit(xData,yData,m).\n",
    "Returns coefficients of the polynomial\n",
    "p(x) = c[0] + c[1]x + c[2]xˆ2 +...+ c[m]xˆm\n",
    "that fits the specified data in the least squares sense.\n",
    "\"\"\"\n",
    "def polyN_fit(xData, yData, m):\n",
    "    a = np.zeros((m+1,m+1))\n",
    "    b = np.zeros(m+1)\n",
    "    s = np.zeros(2*m+1)\n",
    "    for i in range(len(xData)):\n",
    "        temp = yData[i]\n",
    "        for j in range(m+1):\n",
    "            b[j] = b[j] + temp\n",
    "            temp = temp*xData[i]\n",
    "        temp = 1.0\n",
    "        for j in range(2*m+1):\n",
    "            s[j] = s[j] + temp\n",
    "            temp = temp*xData[i]\n",
    "    for i in range(m+1):\n",
    "        for j in range(m+1):\n",
    "            a[i,j] = s[i+j]\n",
    "    \n",
    "    c = np.linalg.solve(a,b)\n",
    "    return c"
   ]
  },
  {
   "cell_type": "code",
   "execution_count": null,
   "metadata": {},
   "outputs": [],
   "source": [
    "x_data = np.array([0.0, 1.0, 2.0, 2.5, 3.0])\n",
    "y_data = np.array([2.9, 3.7, 4.1, 4.4, 5.0])"
   ]
  },
  {
   "cell_type": "code",
   "execution_count": null,
   "metadata": {},
   "outputs": [],
   "source": [
    "linear_reg = polyN_fit(x_data, y_data, 1)"
   ]
  },
  {
   "cell_type": "code",
   "execution_count": null,
   "metadata": {},
   "outputs": [],
   "source": [
    "linear_reg"
   ]
  },
  {
   "cell_type": "code",
   "execution_count": null,
   "metadata": {},
   "outputs": [],
   "source": [
    "plt.clf()\n",
    "plt.plot(x_data, y_data, marker=\"o\", linewidth=0, label=\"data\")\n",
    "x_plt = np.linspace(x_data[0], x_data[-1], 200)\n",
    "plt.plot(x_plt, x_plt*linear_reg[1] + linear_reg[0], label=\"Regresi linear\")\n",
    "plt.legend()"
   ]
  },
  {
   "cell_type": "code",
   "execution_count": null,
   "metadata": {},
   "outputs": [],
   "source": []
  },
  {
   "cell_type": "code",
   "execution_count": null,
   "metadata": {},
   "outputs": [],
   "source": []
  },
  {
   "cell_type": "code",
   "execution_count": null,
   "metadata": {},
   "outputs": [],
   "source": [
    "n = len(xData) - 1\n",
    "m = len(c) - 1\n",
    "sigma = 0.0\n",
    "for i in range(n+1):\n",
    "p = evalPoly(c,xData[i])\n",
    "sigma = sigma + (yData[i] - p)**2\n",
    "sigma = math.sqrt(sigma/(n - m))\n",
    "return sigma"
   ]
  },
  {
   "cell_type": "code",
   "execution_count": null,
   "metadata": {},
   "outputs": [],
   "source": []
  },
  {
   "cell_type": "code",
   "execution_count": null,
   "metadata": {},
   "outputs": [],
   "source": []
  },
  {
   "cell_type": "code",
   "execution_count": null,
   "metadata": {},
   "outputs": [],
   "source": []
  }
 ],
 "metadata": {
  "kernelspec": {
   "display_name": "Python 3",
   "language": "python",
   "name": "python3"
  },
  "language_info": {
   "codemirror_mode": {
    "name": "ipython",
    "version": 3
   },
   "file_extension": ".py",
   "mimetype": "text/x-python",
   "name": "python",
   "nbconvert_exporter": "python",
   "pygments_lexer": "ipython3",
   "version": "3.7.3"
  }
 },
 "nbformat": 4,
 "nbformat_minor": 2
}
