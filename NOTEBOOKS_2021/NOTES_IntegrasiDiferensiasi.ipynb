{
 "cells": [
  {
   "cell_type": "markdown",
   "metadata": {},
   "source": [
    "<h1 style=\"text-align: center;\">TF2202 Teknik Komputasi - Integrasi dan Diferensiasi Numerik</h1>\n",
    "<h3 style=\"text-align: center;\">Fadjar Fathurrahman</h3>"
   ]
  },
  {
   "cell_type": "code",
   "execution_count": null,
   "metadata": {},
   "outputs": [],
   "source": [
    "import numpy as np\n",
    "import matplotlib.pyplot as plt"
   ]
  },
  {
   "cell_type": "code",
   "execution_count": null,
   "metadata": {},
   "outputs": [],
   "source": [
    "from IPython.display import set_matplotlib_formats\n",
    "set_matplotlib_formats(\"svg\")\n",
    "%matplotlib inline"
   ]
  },
  {
   "cell_type": "code",
   "execution_count": null,
   "metadata": {},
   "outputs": [],
   "source": [
    "import matplotlib\n",
    "matplotlib.style.use(\"dark_background\")"
   ]
  },
  {
   "cell_type": "markdown",
   "metadata": {},
   "source": [
    "# Metode segiempat"
   ]
  },
  {
   "cell_type": "markdown",
   "metadata": {},
   "source": [
    "Asumsi: data diberikan dalam bentuk tabular dengan selang $\\Delta x$ yang sama."
   ]
  },
  {
   "cell_type": "code",
   "execution_count": null,
   "metadata": {},
   "outputs": [],
   "source": [
    "def integ_rectangular(f, x):\n",
    "    N = len(f)\n",
    "    assert N == len(x)\n",
    "    a = x[0]\n",
    "    b = x[-1]\n",
    "    s = 0.0\n",
    "    for i in range(N):\n",
    "        s = s + f[i]\n",
    "    return s*(b-a)/N"
   ]
  },
  {
   "cell_type": "markdown",
   "metadata": {},
   "source": [
    "### Contoh 1"
   ]
  },
  {
   "cell_type": "markdown",
   "metadata": {},
   "source": [
    "Hitung integral berikut secara numerik dengan metode segi empat\n",
    "\n",
    "$$\n",
    "\\int_{0}^{\\pi}\\sin(x)\\,\\mathrm{d}x\n",
    "$$"
   ]
  },
  {
   "cell_type": "code",
   "execution_count": null,
   "metadata": {},
   "outputs": [],
   "source": [
    "def my_func(x):\n",
    "    return np.sin(x)\n",
    "\n",
    "a = 0.0\n",
    "b = np.pi\n",
    "Npts = 500\n",
    "x = np.linspace(a,b,Npts)\n",
    "f_array = np.zeros(Npts)\n",
    "for i in range(Npts):\n",
    "    f_array[i] = my_func(x[i])\n",
    "    \n",
    "integ_result = integ_rectangular(f_array, x)\n",
    "print(\"integ_result = \", integ_result)"
   ]
  },
  {
   "cell_type": "markdown",
   "metadata": {},
   "source": [
    "### Contoh 2"
   ]
  },
  {
   "cell_type": "markdown",
   "metadata": {},
   "source": [
    "Hitung integral berikut secara numerik dengan metode segi empat\n",
    "\n",
    "$$\n",
    "\\int_{-\\pi/2}^{\\pi/2}\\cos(x)\\,\\mathrm{d}x\n",
    "$$"
   ]
  },
  {
   "cell_type": "code",
   "execution_count": null,
   "metadata": {},
   "outputs": [],
   "source": [
    "def my_func(x):\n",
    "    return np.cos(x)\n",
    "\n",
    "a = -np.pi/2\n",
    "b = np.pi/2\n",
    "Npts = 500\n",
    "x = np.linspace(a,b,Npts)\n",
    "f_array = np.zeros(Npts)\n",
    "for i in range(Npts):\n",
    "    f_array[i] = my_func(x[i])\n",
    "    \n",
    "integ_result = integ_rectangular(f_array, x)\n",
    "print(\"integ_result = \", integ_result)"
   ]
  },
  {
   "cell_type": "code",
   "execution_count": null,
   "metadata": {},
   "outputs": [],
   "source": []
  },
  {
   "cell_type": "markdown",
   "metadata": {},
   "source": [
    "# Metode Trapesium"
   ]
  },
  {
   "cell_type": "markdown",
   "metadata": {},
   "source": [
    "Asumsi: data diberikan dalam bentuk tabular dengan selang $\\Delta x$ yang sama."
   ]
  },
  {
   "cell_type": "code",
   "execution_count": null,
   "metadata": {},
   "outputs": [],
   "source": [
    "def integ_trapezoid(f, x):\n",
    "    N = len(f)\n",
    "    assert N == len(x)\n",
    "    a = x[0]\n",
    "    b = x[-1]\n",
    "    s = f[0] + f[-1]\n",
    "    for i in range(1,N-1):\n",
    "        s = s + 2*f[i]\n",
    "    return 0.5*s*(b-a)/(N-1)"
   ]
  },
  {
   "cell_type": "markdown",
   "metadata": {},
   "source": [
    "### Contoh 1"
   ]
  },
  {
   "cell_type": "markdown",
   "metadata": {},
   "source": [
    "Hitung integral berikut secara numerik dengan metode trapesium.\n",
    "\n",
    "$$\n",
    "\\int_{0}^{\\pi}\\sin(x)\\,\\mathrm{d}x\n",
    "$$"
   ]
  },
  {
   "cell_type": "code",
   "execution_count": null,
   "metadata": {},
   "outputs": [],
   "source": [
    "def my_func(x):\n",
    "    return np.sin(x)\n",
    "\n",
    "a = 0.0\n",
    "b = np.pi\n",
    "Npts = 500\n",
    "x = np.linspace(a,b,Npts)\n",
    "f_array = np.zeros(Npts)\n",
    "for i in range(Npts):\n",
    "    f_array[i] = my_func(x[i])\n",
    "    \n",
    "integ_result = integ_trapezoid(f_array, x)\n",
    "print(\"integ_result = \", integ_result)"
   ]
  },
  {
   "cell_type": "markdown",
   "metadata": {},
   "source": [
    "### Contoh 2"
   ]
  },
  {
   "cell_type": "markdown",
   "metadata": {},
   "source": [
    "Hitung integral berikut secara numerik dengan metode trapesium.\n",
    "\n",
    "$$\n",
    "\\int_{-\\pi/2}^{\\pi/2}\\cos(x)\\,\\mathrm{d}x\n",
    "$$"
   ]
  },
  {
   "cell_type": "code",
   "execution_count": null,
   "metadata": {},
   "outputs": [],
   "source": [
    "def my_func(x):\n",
    "    return np.cos(x)\n",
    "\n",
    "a = -np.pi/2\n",
    "b = np.pi/2\n",
    "Npts = 500\n",
    "x = np.linspace(a,b,Npts)\n",
    "f_array = np.zeros(Npts)\n",
    "for i in range(Npts):\n",
    "    f_array[i] = my_func(x[i])\n",
    "    \n",
    "integ_result = integ_trapezoid(f_array, x)\n",
    "print(\"integ_result = \", integ_result)"
   ]
  },
  {
   "cell_type": "code",
   "execution_count": null,
   "metadata": {},
   "outputs": [],
   "source": []
  },
  {
   "cell_type": "markdown",
   "metadata": {},
   "source": [
    "# Metode Simpson"
   ]
  },
  {
   "cell_type": "code",
   "execution_count": null,
   "metadata": {},
   "outputs": [],
   "source": []
  }
 ],
 "metadata": {
  "kernelspec": {
   "display_name": "Python 3",
   "language": "python",
   "name": "python3"
  },
  "language_info": {
   "codemirror_mode": {
    "name": "ipython",
    "version": 3
   },
   "file_extension": ".py",
   "mimetype": "text/x-python",
   "name": "python",
   "nbconvert_exporter": "python",
   "pygments_lexer": "ipython3",
   "version": "3.7.3"
  }
 },
 "nbformat": 4,
 "nbformat_minor": 2
}
