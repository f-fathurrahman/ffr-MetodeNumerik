{
 "cells": [
  {
   "cell_type": "markdown",
   "metadata": {},
   "source": [
    "# Ekpansi dengan deret Fourier\n",
    "\n",
    "Buatlah plot dari fungsi-fungsi berikut dengan memvariasikan nilai $N$, misalnya\n",
    "$N = 2, 5, 10, 100$. Plot Anda harus menunjukkan fungsi yang sama dengan nilai $N$\n",
    "yang berbeda.\n",
    "Silakan gunakan parameter $L$ yang Anda tentukan sendiri. Coba plot pada rentang\n",
    "$x=0$ dan $x=L$"
   ]
  },
  {
   "cell_type": "markdown",
   "metadata": {},
   "source": [
    "## Gelombang kotak:\n",
    "\n",
    "$$\n",
    "f(x) = \\frac{4}{\\pi} \\sum_{n=1,3,5,\\ldots}^{N} \\frac{1}{n}\\sin\\left(\n",
    "\\frac{2\\pi n x}{L}\n",
    "\\right)\n",
    "$$\n",
    "\n",
    "## Gelombang gergaji:\n",
    "$$\n",
    "f(x) = \\frac{1}{2} - \\frac{1}{\\pi} \\sum_{n=1}^{N} \\frac{1}{n}\\sin\\left(\n",
    "\\frac{2 \\pi n  x}{L} \\right)\n",
    "$$\n",
    "\n",
    "\n",
    "## Gelombang segitiga:\n",
    "\n",
    "$$\n",
    "f(x) = \\sum_{n=1,3,5,\\ldots}^{N} \\frac{(-1)^{(n-1)/2}}{n^2}\n",
    "\\sin\\left( \\frac{2\\pi n x}{L} \\right)\n",
    "$$"
   ]
  },
  {
   "cell_type": "markdown",
   "metadata": {},
   "source": [
    "# Bonus"
   ]
  },
  {
   "cell_type": "markdown",
   "metadata": {},
   "source": [
    "Contoh lain dapat dilihat pada halaman [Wikipedia](https://en.wikipedia.org/wiki/Fourier_series#Table_of_common_Fourier_series). Silakan coba juga untuk fungsi-fungsi yang diberikan pada halaman tersebut."
   ]
  }
 ],
 "metadata": {
  "kernelspec": {
   "display_name": "Python 3",
   "language": "python",
   "name": "python3"
  },
  "language_info": {
   "codemirror_mode": {
    "name": "ipython",
    "version": 3
   },
   "file_extension": ".py",
   "mimetype": "text/x-python",
   "name": "python",
   "nbconvert_exporter": "python",
   "pygments_lexer": "ipython3",
   "version": "3.8.5"
  }
 },
 "nbformat": 4,
 "nbformat_minor": 4
}
