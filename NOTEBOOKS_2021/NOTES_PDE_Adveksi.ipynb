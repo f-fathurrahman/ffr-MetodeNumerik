{
 "cells": [
  {
   "cell_type": "markdown",
   "metadata": {},
   "source": [
    "<h1 style=\"text-align:center;\">TF2202 Komputasi Rekayasa - Persamaan Diferensial Parsial</h1>\n",
    "<h2 style=\"text-align:center;\">Persamaan Adveksi</h2>\n",
    "<h3 style=\"text-align:center;\">Fadjar Fathurrahman</h3>"
   ]
  },
  {
   "cell_type": "markdown",
   "metadata": {},
   "source": [
    "# Setup"
   ]
  },
  {
   "cell_type": "code",
   "execution_count": 1,
   "metadata": {},
   "outputs": [],
   "source": [
    "import numpy as np\n",
    "import matplotlib.pyplot as plt"
   ]
  },
  {
   "cell_type": "code",
   "execution_count": 2,
   "metadata": {},
   "outputs": [],
   "source": [
    "%matplotlib inline"
   ]
  },
  {
   "cell_type": "code",
   "execution_count": 3,
   "metadata": {},
   "outputs": [],
   "source": [
    "from IPython.display import set_matplotlib_formats\n",
    "set_matplotlib_formats(\"svg\")"
   ]
  },
  {
   "cell_type": "code",
   "execution_count": 4,
   "metadata": {},
   "outputs": [],
   "source": [
    "import matplotlib\n",
    "matplotlib.style.use(\"default\")"
   ]
  },
  {
   "cell_type": "code",
   "execution_count": 5,
   "metadata": {},
   "outputs": [],
   "source": [
    "from mpl_toolkits.mplot3d import Axes3D\n",
    "from mpl_toolkits.mplot3d import axes3d\n",
    "from matplotlib import cm"
   ]
  },
  {
   "cell_type": "markdown",
   "metadata": {},
   "source": [
    "# Persamaan adveksi (konveksi)"
   ]
  },
  {
   "cell_type": "markdown",
   "metadata": {},
   "source": [
    "$$\n",
    "\\frac{\\partial}{\\partial t} u(x,t) + v \\frac{\\partial}{\\partial x} u(x,t) = 0\n",
    "$$\n",
    "\n",
    "Domain:\n",
    "- $0 \\leq x \\leq x_{f}$\n",
    "- $0 \\leq t \\leq t_{f}$\n",
    "\n",
    "Syarat batas (hanya pada bagian kiri):\n",
    "- $u(0,t) = U_{0}$\n",
    "\n",
    "Syarat awal:\n",
    "- $u(x,0) = u^{0}(x)$"
   ]
  },
  {
   "cell_type": "markdown",
   "metadata": {},
   "source": [
    "## Metode eksplisit"
   ]
  },
  {
   "cell_type": "markdown",
   "metadata": {},
   "source": [
    "$$\n",
    "\\frac{u^{k+1}_{i} - u^{k}_{i}}{\\Delta t} + v \\frac{ u^{k}_{i+1} - u^{k}_{i-1} }{2\\Delta x} = 0\n",
    "$$\n",
    "\n",
    "$$\n",
    "u^{k+1}_{i} - u^{k}_{i} + v \\frac{\\Delta t}{2\\Delta x} \\left( u^{k}_{i+1} - u^{k}_{i-1} \\right) = 0\n",
    "$$"
   ]
  },
  {
   "cell_type": "markdown",
   "metadata": {},
   "source": [
    "$$\n",
    "u^{k+1}_{i} = u^{k}_{i} - \\frac{1}{2} C \\left( u^{k}_{i+1} - u^{k}_{i-1} \\right)\n",
    "$$\n",
    "\n",
    "$$\n",
    "C = v \\frac{\\Delta t}{\\Delta x}\n",
    "$$"
   ]
  },
  {
   "cell_type": "markdown",
   "metadata": {},
   "source": [
    "### Implementasi"
   ]
  },
  {
   "cell_type": "code",
   "execution_count": null,
   "metadata": {},
   "outputs": [],
   "source": [
    "def advect_1d_exp(v, xf, tf, u0, bx0, Nx, Nt ):\n",
    "\n",
    "    dx = xf/Nx\n",
    "    x = np.linspace(0.0, xf, Nx+1)\n",
    "    \n",
    "    dt = tf/Nt\n",
    "    t = np.linspace(0.0, tf, Nt+1)\n",
    "    \n",
    "    # bilangan Courant\n",
    "    C = v*dt/dx\n",
    "    \n",
    "    print(\"C = %f\" % C)\n",
    "\n",
    "    u = np.zeros( (Nx+1,Nt+1) )\n",
    "    \n",
    "    # Syarat awal\n",
    "    for i in range(Nx+1):\n",
    "        u[i,0] = u0( x[i] ) \n",
    "        \n",
    "    # Syarat batas\n",
    "    for k in range(Nt+1):\n",
    "        u[0,k] = bx0( t[k] )\n",
    "    \n",
    "    for k in range(Nt):\n",
    "        for i in range(1,Nx):\n",
    "            u[i,k+1] = u[i,k] - 0.5*C*( u[i+1,k] - u[i-1,k] )\n",
    "            #print(\"u = %d %d %18.10f\" % (i, k+1, u[i,k+1]))\n",
    "    \n",
    "    return u, x, t"
   ]
  },
  {
   "cell_type": "markdown",
   "metadata": {},
   "source": [
    "### Contoh"
   ]
  },
  {
   "cell_type": "code",
   "execution_count": null,
   "metadata": {},
   "outputs": [],
   "source": [
    "def u0(x):\n",
    "    return np.exp( -150*(x-0.2)**2 )\n",
    "\n",
    "def bx0(t):\n",
    "    return 0.0\n",
    "\n",
    "v = 1.0\n",
    "xf = 1.0\n",
    "tf = 0.2\n",
    "Nx = 50\n",
    "Nt = 1500\n",
    "\n",
    "u, x, t = advect_1d_exp(v, xf, tf, u0, bx0, Nx, Nt )"
   ]
  },
  {
   "cell_type": "code",
   "execution_count": null,
   "metadata": {},
   "outputs": [],
   "source": [
    "plt.clf()\n",
    "for k in [0, 1000, -1]:\n",
    "    plt.plot(x, u[:,k], label=\"t=\"+format(\"%f\"%t[k]));\n",
    "plt.legend()"
   ]
  },
  {
   "cell_type": "code",
   "execution_count": null,
   "metadata": {},
   "outputs": [],
   "source": [
    "anim = create_anim_2d(u, x, t, -0.1, 1.0)"
   ]
  },
  {
   "cell_type": "code",
   "execution_count": null,
   "metadata": {},
   "outputs": [],
   "source": [
    "IPython.display.HTML(anim.to_html5_video())"
   ]
  },
  {
   "cell_type": "markdown",
   "metadata": {},
   "source": [
    "Metode ini tidak stabil. Error dari solusi numerik akan terus terakumulasi. Pada solusi diatas dapat kita lihat bahwa akan ada perubahan bentuk dari pulsa awal."
   ]
  },
  {
   "cell_type": "markdown",
   "metadata": {},
   "source": [
    "Berikut ini adalah contoh untuk kasus sampling waktu yang kita gunakan jauh lebih kecil."
   ]
  },
  {
   "cell_type": "code",
   "execution_count": null,
   "metadata": {},
   "outputs": [],
   "source": [
    "def u0(x):\n",
    "    return np.exp( -150*(x-0.2)**2 )\n",
    "\n",
    "def bx0(t):\n",
    "    return 0.0\n",
    "\n",
    "v = 1.0\n",
    "xf = 1.0\n",
    "tf = 0.2\n",
    "Nx = 50\n",
    "Nt = 50\n",
    "\n",
    "u, x, t = advect_1d_exp(v, xf, tf, u0, bx0, Nx, Nt )"
   ]
  },
  {
   "cell_type": "code",
   "execution_count": null,
   "metadata": {},
   "outputs": [],
   "source": [
    "plt.clf()\n",
    "for k in [0, -1]:\n",
    "    plt.plot(x, u[:,k], label=\"t=\"+format(\"%f\"%t[k]));\n",
    "plt.legend()"
   ]
  },
  {
   "cell_type": "code",
   "execution_count": null,
   "metadata": {},
   "outputs": [],
   "source": [
    "anim = create_anim_2d(u, x, t, -0.05, 1.0)"
   ]
  },
  {
   "cell_type": "code",
   "execution_count": null,
   "metadata": {},
   "outputs": [],
   "source": [
    "IPython.display.HTML(anim.to_html5_video())"
   ]
  },
  {
   "cell_type": "code",
   "execution_count": null,
   "metadata": {},
   "outputs": [],
   "source": []
  },
  {
   "cell_type": "markdown",
   "metadata": {},
   "source": [
    "## Metode Leapfrog"
   ]
  },
  {
   "cell_type": "markdown",
   "metadata": {},
   "source": [
    "$$\n",
    "\\frac{u^{k+1}_{i} - u^{k-1}_{i}}{2\\Delta t} + v \\frac{u^{k}_{i+1} - u^{k}_{i-1}}{2\\Delta x} = 0\n",
    "$$\n",
    "\n",
    "$$\n",
    "u^{k+1}_{i} = u^{k-1}_{i} - C \\left( u^{k}_{i+1} - u^{k}_{i-1} \\right)\n",
    "$$"
   ]
  },
  {
   "cell_type": "markdown",
   "metadata": {},
   "source": [
    "Kondisi untuk stabilitas:\n",
    "\n",
    "$$\n",
    "C \\leq 1\n",
    "$$\n",
    "\n",
    "atau\n",
    "\n",
    "$$\n",
    "\\Delta t \\leq \\frac{\\Delta x}{v}\n",
    "$$"
   ]
  },
  {
   "cell_type": "code",
   "execution_count": null,
   "metadata": {},
   "outputs": [],
   "source": [
    "def advect_1d_leapfrog(v, xf, tf, u0, bx0, Nx, Nt ):\n",
    "\n",
    "    dx = xf/Nx\n",
    "    x = np.linspace(0.0, xf, Nx+1)\n",
    "    \n",
    "    dt = tf/Nt\n",
    "    t = np.linspace(0.0, tf, Nt+1)\n",
    "    \n",
    "    # bilangan Courant\n",
    "    C = v*dt/dx\n",
    "    \n",
    "    print(\"dt = \", dt)\n",
    "    print(\"dx = \", dx)\n",
    "    print(\"C = %f\" % C)\n",
    "\n",
    "    u = np.zeros( (Nx+1,Nt+1) )\n",
    "    \n",
    "    # Syarat awal\n",
    "    for i in range(Nx+1):\n",
    "        u[i,0] = u0( x[i] ) \n",
    "    \n",
    "    for i in range(1,Nx):\n",
    "        u[i,1] = u[i,0] + v*dt/dx*( u[i+1,0] - u[i,0] )\n",
    "    \n",
    "    for k in range(1,Nt):\n",
    "        for i in range(1,Nx):\n",
    "            u[i,k+1] = u[i,k-1] - C*( u[i+1,k] - u[i-1,k] )\n",
    "    \n",
    "    return u, x, t"
   ]
  },
  {
   "cell_type": "markdown",
   "metadata": {},
   "source": [
    "### Contoh"
   ]
  },
  {
   "cell_type": "code",
   "execution_count": null,
   "metadata": {},
   "outputs": [],
   "source": [
    "def u0(x):\n",
    "    return np.exp( -150*(x-0.2)**2 )\n",
    "\n",
    "def bx0(t):\n",
    "    return 0.0\n",
    "\n",
    "v = 1.0\n",
    "xf = 1.0\n",
    "tf = 0.4\n",
    "Nx = 100\n",
    "Nt = 1000\n",
    "\n",
    "u, x, t = advect_1d_leapfrog(v, xf, tf, u0, bx0, Nx, Nt )"
   ]
  },
  {
   "cell_type": "code",
   "execution_count": null,
   "metadata": {},
   "outputs": [],
   "source": [
    "plt.clf()\n",
    "for k in [0, 1, 2, 4, -1]:\n",
    "    plt.plot(x, u[:,k], label=\"t=\"+format(\"%.4f\"%t[k]))\n",
    "plt.legend();"
   ]
  },
  {
   "cell_type": "code",
   "execution_count": null,
   "metadata": {},
   "outputs": [],
   "source": [
    "anim = create_anim_2d(u, x, t, -0.05, 1.0)"
   ]
  },
  {
   "cell_type": "code",
   "execution_count": null,
   "metadata": {},
   "outputs": [],
   "source": [
    "IPython.display.HTML(anim.to_html5_video())"
   ]
  },
  {
   "cell_type": "markdown",
   "metadata": {},
   "source": [
    "Metode leapfrog sudah lebih baik daripada metode eksplisit, namun solusi yang dihasilnya meninggalkan ripple."
   ]
  },
  {
   "cell_type": "code",
   "execution_count": null,
   "metadata": {},
   "outputs": [],
   "source": []
  },
  {
   "cell_type": "code",
   "execution_count": null,
   "metadata": {},
   "outputs": [],
   "source": []
  }
 ],
 "metadata": {
  "kernelspec": {
   "display_name": "Python 3",
   "language": "python",
   "name": "python3"
  },
  "language_info": {
   "codemirror_mode": {
    "name": "ipython",
    "version": 3
   },
   "file_extension": ".py",
   "mimetype": "text/x-python",
   "name": "python",
   "nbconvert_exporter": "python",
   "pygments_lexer": "ipython3",
   "version": "3.7.3"
  }
 },
 "nbformat": 4,
 "nbformat_minor": 2
}
