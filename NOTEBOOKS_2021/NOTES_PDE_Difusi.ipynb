{
 "cells": [
  {
   "cell_type": "markdown",
   "metadata": {},
   "source": [
    "<h1 style=\"text-align:center;\">TF2202 Komputasi Rekayasa - Persamaan Diferensial Parsial</h1>\n",
    "<h2 style=\"text-align:center;\">Persamaan Difusi</h2>\n",
    "<h3 style=\"text-align:center;\">Fadjar Fathurrahman</h3>"
   ]
  },
  {
   "cell_type": "markdown",
   "metadata": {},
   "source": [
    "# Setup"
   ]
  },
  {
   "cell_type": "code",
   "execution_count": 1,
   "metadata": {},
   "outputs": [],
   "source": [
    "import numpy as np\n",
    "import matplotlib.pyplot as plt"
   ]
  },
  {
   "cell_type": "code",
   "execution_count": 2,
   "metadata": {},
   "outputs": [],
   "source": [
    "%matplotlib inline"
   ]
  },
  {
   "cell_type": "code",
   "execution_count": 3,
   "metadata": {},
   "outputs": [],
   "source": [
    "from IPython.display import set_matplotlib_formats\n",
    "set_matplotlib_formats(\"svg\")"
   ]
  },
  {
   "cell_type": "code",
   "execution_count": 4,
   "metadata": {},
   "outputs": [],
   "source": [
    "import matplotlib\n",
    "matplotlib.style.use(\"default\")"
   ]
  },
  {
   "cell_type": "code",
   "execution_count": 5,
   "metadata": {},
   "outputs": [],
   "source": [
    "from mpl_toolkits.mplot3d import Axes3D\n",
    "from mpl_toolkits.mplot3d import axes3d\n",
    "from matplotlib import cm"
   ]
  },
  {
   "cell_type": "code",
   "execution_count": 6,
   "metadata": {},
   "outputs": [],
   "source": [
    "import matplotlib.animation as animation"
   ]
  },
  {
   "cell_type": "code",
   "execution_count": 7,
   "metadata": {},
   "outputs": [],
   "source": [
    "import IPython.display"
   ]
  },
  {
   "cell_type": "markdown",
   "metadata": {},
   "source": [
    "### Fungsi untuk animasi 2d (silakan modifikasi sesuai kebutuhan)"
   ]
  },
  {
   "cell_type": "code",
   "execution_count": 8,
   "metadata": {},
   "outputs": [],
   "source": [
    "def create_anim_2d(y, x, t, ymin, ymax):\n",
    "    plt.clf()\n",
    "    fig, ax = plt.subplots()\n",
    "    plt.ylim(ymin, ymax)\n",
    "    k = 0\n",
    "    line, = ax.plot(x, y[:,k])\n",
    "\n",
    "    time_template = \"t = %.5f\"\n",
    "    time_text = ax.text(0.8, 0.9, \"\", transform=ax.transAxes)\n",
    "\n",
    "    def init():\n",
    "        line.set_xdata(x)\n",
    "        line.set_ydata(y[:,0])\n",
    "        time_text.set_text(time_template % t[0])\n",
    "        return line, time_text\n",
    "\n",
    "    def animate(k):\n",
    "        line.set_xdata(x)\n",
    "        line.set_ydata(y[:,k])\n",
    "        time_text.set_text(time_template % t[k])\n",
    "        return line, time_text\n",
    "\n",
    "    anim = animation.FuncAnimation(fig, animate, init_func=init, interval=len(t), blit=True,\n",
    "                                   frames=len(t));\n",
    "    return anim"
   ]
  },
  {
   "cell_type": "markdown",
   "metadata": {},
   "source": [
    "### Fungsi untuk animasi 3d surface plot (silakan modifikasi sesuai kebutuhan)"
   ]
  },
  {
   "cell_type": "code",
   "execution_count": 9,
   "metadata": {},
   "outputs": [],
   "source": [
    "def create_anim_surf3d(Z, X, Y, t, zmin, zmax):\n",
    "\n",
    "    fig = plt.figure()\n",
    "    ax = fig.add_subplot(111, projection=\"3d\")\n",
    "    \n",
    "    def gen_surf_data(k, Z, line):\n",
    "        ax.clear()\n",
    "        line = ax.plot_surface(X, Y, Z[:,:,k], linewidth=2, cmap=\"jet\", antialiased=False)\n",
    "        ax.set_zlim(zmin, zmax)\n",
    "        ax.set_title(\"t=\"+format(\"%.4f\"%t[k]))\n",
    "        return line,\n",
    "    \n",
    "    line = ax.plot_surface(X, Y, Z[:,:,0], linewidth=2, cmap=\"jet\", antialiased=False)\n",
    "    ax.set_title(\"t=\"+format(\"%.4f\"%t[0]))\n",
    "    \n",
    "    anim = animation.FuncAnimation(fig, gen_surf_data, fargs=(Z, line),\n",
    "                                   interval=len(t), frames=len(t), blit=False)\n",
    "    \n",
    "    return anim"
   ]
  },
  {
   "cell_type": "code",
   "execution_count": null,
   "metadata": {},
   "outputs": [],
   "source": []
  },
  {
   "cell_type": "code",
   "execution_count": null,
   "metadata": {},
   "outputs": [],
   "source": []
  },
  {
   "cell_type": "markdown",
   "metadata": {
    "heading_collapsed": true
   },
   "source": [
    "# Persamaan Kalor 1d"
   ]
  },
  {
   "cell_type": "markdown",
   "metadata": {
    "hidden": true
   },
   "source": [
    "Dalam satu dimensi spasial (misalkan x).\n",
    "\n",
    "$$\n",
    "\\alpha \\frac{\\partial^{2}}{\\partial x^2} u(x,t) = \\frac{\\partial}{\\partial t} u(x,t)\n",
    "$$\n",
    "\n",
    "Domain:\n",
    "- spasial: $0 \\leq x \\leq x_{f}$\n",
    "- temporal: $0 \\leq t \\leq t_{f}$.\n",
    "\n",
    "Syarat batas:\n",
    "- $u(0,t) = b_{0}(t)$\n",
    "- $u(x_{f},t) = b_{x_f}(t)$\n",
    "\n",
    "Syarat awal:\n",
    "- $u(x,0) = u_{0}(x)$ "
   ]
  },
  {
   "cell_type": "markdown",
   "metadata": {
    "hidden": true
   },
   "source": [
    "Catatan: persamaan yang sama juga digunakan untuk menjelaskan fenomena difusi."
   ]
  },
  {
   "cell_type": "markdown",
   "metadata": {
    "hidden": true
   },
   "source": [
    "## Metode Euler Eksplisit"
   ]
  },
  {
   "cell_type": "markdown",
   "metadata": {
    "hidden": true
   },
   "source": [
    "Domain spasial dibagi menjadi $N_{x}$ segmen dengan $\\Delta x = x_{f}/N_{x}$.\n",
    "\n",
    "Domain temporal dibagi menjadi $N_{t}$ segmen dengan $\\Delta t = t_{f}/N_{t}$.\n",
    "\n",
    "Turunan parsial kedua terhadap $x$ diaproksimasi dengan menggunakan central difference.\n",
    "\n",
    "Turunan parsial pertama terhadap $t$ diaproksimasi dengan forward difference."
   ]
  },
  {
   "cell_type": "markdown",
   "metadata": {
    "hidden": true
   },
   "source": [
    "Dengan menggunakan notasi berikut:\n",
    "- $u(x,t) = u^{k}_{i}$\n",
    "- $u(x+\\Delta x,t) = u^{k}_{i+1}$\n",
    "- $u(x-\\Delta x,t) = u^{k}_{i-1}$\n",
    "- $u(x,t+\\Delta t) = u^{k+1}_{i}$\n",
    "- $u(x,t-\\Delta t) = u^{k-1}_{i}$\n",
    "\n",
    "dapat dituliskan:\n",
    "\n",
    "$$\n",
    "\\alpha \\frac{u^{k}_{i+1} - 2u^{k}_{i} + u^{k}_{i-1}}{(\\Delta x)^2} =\n",
    "\\frac{u^{k+1}_{i} - u^{k}_{i}}{\\Delta t}\n",
    "$$"
   ]
  },
  {
   "cell_type": "markdown",
   "metadata": {
    "hidden": true
   },
   "source": [
    "Dengan menggunakan defisi:\n",
    "\n",
    "$$\n",
    "r = \\alpha \\frac{\\Delta t}{(\\Delta x)^2}\n",
    "$$\n",
    "\n",
    "Persamaan ini dapat dipecahkan untuk mendapatkan $u^{k+1}_{i}$\n",
    "\n",
    "$$\n",
    "u^{k+1}_{i} = r \\left( u^{k}_{i+1} + u^{k}_{i-1} \\right) + (1 - 2r) u^{k}_{i} \n",
    "$$\n",
    "\n",
    "untuk $i = 1, 2, \\ldots, N_{x}-1$.\n",
    "\n",
    "Dapat ditunjukkan bahwa skema ini akan stabil jika:\n",
    "\n",
    "$$\n",
    "r = \\alpha \\frac{\\Delta t}{(\\Delta x)^2} \\leq \\frac{1}{2}\n",
    "$$"
   ]
  },
  {
   "cell_type": "markdown",
   "metadata": {
    "hidden": true
   },
   "source": [
    "### Implementasi"
   ]
  },
  {
   "cell_type": "code",
   "execution_count": 9,
   "metadata": {
    "hidden": true
   },
   "outputs": [],
   "source": [
    "def heat_1d_euler_exp( alpha, xf, tf, u0x, bx0, bxf, Nx, Nt ):\n",
    "\n",
    "    dx = xf/Nx\n",
    "    x = np.linspace(0.0, xf, Nx+1)\n",
    "    \n",
    "    dt = tf/Nt\n",
    "    t = np.linspace(0.0, tf, Nt+1)\n",
    "\n",
    "    u = np.zeros( (Nx+1, Nt+1) )\n",
    "\n",
    "    # Aplikasi syarat awal\n",
    "    for i in range(Nx+1):\n",
    "        u[i,0] = u0x( x[i] )\n",
    "    \n",
    "    # Syarat batas\n",
    "    for k in range(Nt+1):\n",
    "        u[0,k] = bx0( t[k] )\n",
    "        u[Nx,k] = bxf( t[k] )\n",
    "    \n",
    "    r = alpha*dt/dx**2\n",
    "    \n",
    "    if r > 0.5:\n",
    "        print(\"heat_1d_euler_exp:\")\n",
    "        print(\"WARNING: r lebih besar dari 0.5: %f\\n\" % r)\n",
    "        print(\"WARNING: solusi tidak stabil !!\")\n",
    "    else:\n",
    "        print(\"heat_1d_euler_exp:\")\n",
    "        print(\"r = %f >= 0.5\\n\" % r)\n",
    "        print(\"Solusi seharusnya stabil\")\n",
    "\n",
    "    for k in range(0,Nt):\n",
    "        for i in range(1,Nx):\n",
    "            u[i,k+1] = r*( u[i+1,k] + u[i-1,k] ) + (1 - 2*r)*u[i,k]\n",
    "    \n",
    "    return u, x, t"
   ]
  },
  {
   "cell_type": "markdown",
   "metadata": {
    "hidden": true
   },
   "source": [
    "### Contoh"
   ]
  },
  {
   "cell_type": "markdown",
   "metadata": {
    "hidden": true
   },
   "source": [
    "Cari solusi numerik persamaan kalor:\n",
    "$$\n",
    "\\frac{\\partial^{2}}{\\partial x^2} u(x,t) = \\frac{\\partial}{\\partial t} u(x,t)\n",
    "$$\n",
    "\n",
    "pada domain:\n",
    "- spasial: $0 \\leq x \\leq 1$\n",
    "- temporal: $0 \\leq t \\leq 0.1$.\n",
    "\n",
    "Syarat batas:\n",
    "- $u(0,t) = 0$\n",
    "- $u(1,t) = 0$\n",
    "\n",
    "Syarat awal:\n",
    "- $u(x,0) = \\sin(\\pi x)$ "
   ]
  },
  {
   "cell_type": "markdown",
   "metadata": {
    "hidden": true
   },
   "source": [
    "Bandingkan dengan solusi analitik:\n",
    "$$\n",
    "u(x,t) = \\sin(\\pi x) \\exp(-\\pi^2 t)\n",
    "$$"
   ]
  },
  {
   "cell_type": "code",
   "execution_count": 10,
   "metadata": {
    "hidden": true
   },
   "outputs": [],
   "source": [
    "# Syarat awal\n",
    "def initial_temp( x ):\n",
    "    return np.sin(np.pi*x)\n",
    "# Syarat batas kiri\n",
    "def bx0( t ):\n",
    "    return 0.0\n",
    "# Syarat batas kanan\n",
    "def bxf( t ):\n",
    "    return 0.0"
   ]
  },
  {
   "cell_type": "code",
   "execution_count": 11,
   "metadata": {
    "hidden": true
   },
   "outputs": [],
   "source": [
    "def sol_01_analitik(x,t):\n",
    "    return np.sin(np.pi*x)*np.exp(-np.pi**2 * t)"
   ]
  },
  {
   "cell_type": "markdown",
   "metadata": {
    "hidden": true
   },
   "source": [
    "#### Kasus solusi stabil"
   ]
  },
  {
   "cell_type": "code",
   "execution_count": 12,
   "metadata": {
    "hidden": true
   },
   "outputs": [
    {
     "name": "stdout",
     "output_type": "stream",
     "text": [
      "heat_1d_euler_exp:\n",
      "r = 0.312500 >= 0.5\n",
      "\n",
      "Solusi seharusnya stabil\n"
     ]
    }
   ],
   "source": [
    "# Dari soal atau masalah yang diberikan\n",
    "alpha = 1.0\n",
    "xf = 1.0\n",
    "tf = 0.1\n",
    "\n",
    "# ditentukan pengguna\n",
    "Nx = 25\n",
    "Nt = 200\n",
    "\n",
    "u_exp, x_exp, t_exp = heat_1d_euler_exp( alpha, xf, tf, initial_temp, bx0, bxf, Nx, Nt )"
   ]
  },
  {
   "cell_type": "markdown",
   "metadata": {
    "hidden": true
   },
   "source": [
    "Plot hasilnya untuk beberapa nilai t."
   ]
  },
  {
   "cell_type": "code",
   "execution_count": 13,
   "metadata": {
    "hidden": true
   },
   "outputs": [
    {
     "data": {
      "image/svg+xml": [
       "<?xml version=\"1.0\" encoding=\"utf-8\" standalone=\"no\"?>\n",
       "<!DOCTYPE svg PUBLIC \"-//W3C//DTD SVG 1.1//EN\"\n",
       "  \"http://www.w3.org/Graphics/SVG/1.1/DTD/svg11.dtd\">\n",
       "<!-- Created with matplotlib (https://matplotlib.org/) -->\n",
       "<svg height=\"297.190125pt\" version=\"1.1\" viewBox=\"0 0 394.423125 297.190125\" width=\"394.423125pt\" xmlns=\"http://www.w3.org/2000/svg\" xmlns:xlink=\"http://www.w3.org/1999/xlink\">\n",
       " <defs>\n",
       "  <style type=\"text/css\">\n",
       "*{stroke-linecap:butt;stroke-linejoin:round;}\n",
       "  </style>\n",
       " </defs>\n",
       " <g id=\"figure_1\">\n",
       "  <g id=\"patch_1\">\n",
       "   <path d=\"M 0 297.190125 \n",
       "L 394.423125 297.190125 \n",
       "L 394.423125 0 \n",
       "L 0 0 \n",
       "z\n",
       "\" style=\"fill:#ffffff;\"/>\n",
       "  </g>\n",
       "  <g id=\"axes_1\">\n",
       "   <g id=\"patch_2\">\n",
       "    <path d=\"M 30.103125 273.312 \n",
       "L 387.223125 273.312 \n",
       "L 387.223125 7.2 \n",
       "L 30.103125 7.2 \n",
       "z\n",
       "\" style=\"fill:#ffffff;\"/>\n",
       "   </g>\n",
       "   <g id=\"matplotlib.axis_1\">\n",
       "    <g id=\"xtick_1\">\n",
       "     <g id=\"line2d_1\">\n",
       "      <defs>\n",
       "       <path d=\"M 0 0 \n",
       "L 0 3.5 \n",
       "\" id=\"m7787c08792\" style=\"stroke:#000000;stroke-width:0.8;\"/>\n",
       "      </defs>\n",
       "      <g>\n",
       "       <use style=\"stroke:#000000;stroke-width:0.8;\" x=\"46.335852\" xlink:href=\"#m7787c08792\" y=\"273.312\"/>\n",
       "      </g>\n",
       "     </g>\n",
       "     <g id=\"text_1\">\n",
       "      <!-- 0.0 -->\n",
       "      <defs>\n",
       "       <path d=\"M 31.78125 66.40625 \n",
       "Q 24.171875 66.40625 20.328125 58.90625 \n",
       "Q 16.5 51.421875 16.5 36.375 \n",
       "Q 16.5 21.390625 20.328125 13.890625 \n",
       "Q 24.171875 6.390625 31.78125 6.390625 \n",
       "Q 39.453125 6.390625 43.28125 13.890625 \n",
       "Q 47.125 21.390625 47.125 36.375 \n",
       "Q 47.125 51.421875 43.28125 58.90625 \n",
       "Q 39.453125 66.40625 31.78125 66.40625 \n",
       "z\n",
       "M 31.78125 74.21875 \n",
       "Q 44.046875 74.21875 50.515625 64.515625 \n",
       "Q 56.984375 54.828125 56.984375 36.375 \n",
       "Q 56.984375 17.96875 50.515625 8.265625 \n",
       "Q 44.046875 -1.421875 31.78125 -1.421875 \n",
       "Q 19.53125 -1.421875 13.0625 8.265625 \n",
       "Q 6.59375 17.96875 6.59375 36.375 \n",
       "Q 6.59375 54.828125 13.0625 64.515625 \n",
       "Q 19.53125 74.21875 31.78125 74.21875 \n",
       "z\n",
       "\" id=\"DejaVuSans-48\"/>\n",
       "       <path d=\"M 10.6875 12.40625 \n",
       "L 21 12.40625 \n",
       "L 21 0 \n",
       "L 10.6875 0 \n",
       "z\n",
       "\" id=\"DejaVuSans-46\"/>\n",
       "      </defs>\n",
       "      <g transform=\"translate(38.38429 287.910437)scale(0.1 -0.1)\">\n",
       "       <use xlink:href=\"#DejaVuSans-48\"/>\n",
       "       <use x=\"63.623047\" xlink:href=\"#DejaVuSans-46\"/>\n",
       "       <use x=\"95.410156\" xlink:href=\"#DejaVuSans-48\"/>\n",
       "      </g>\n",
       "     </g>\n",
       "    </g>\n",
       "    <g id=\"xtick_2\">\n",
       "     <g id=\"line2d_2\">\n",
       "      <g>\n",
       "       <use style=\"stroke:#000000;stroke-width:0.8;\" x=\"111.266761\" xlink:href=\"#m7787c08792\" y=\"273.312\"/>\n",
       "      </g>\n",
       "     </g>\n",
       "     <g id=\"text_2\">\n",
       "      <!-- 0.2 -->\n",
       "      <defs>\n",
       "       <path d=\"M 19.1875 8.296875 \n",
       "L 53.609375 8.296875 \n",
       "L 53.609375 0 \n",
       "L 7.328125 0 \n",
       "L 7.328125 8.296875 \n",
       "Q 12.9375 14.109375 22.625 23.890625 \n",
       "Q 32.328125 33.6875 34.8125 36.53125 \n",
       "Q 39.546875 41.84375 41.421875 45.53125 \n",
       "Q 43.3125 49.21875 43.3125 52.78125 \n",
       "Q 43.3125 58.59375 39.234375 62.25 \n",
       "Q 35.15625 65.921875 28.609375 65.921875 \n",
       "Q 23.96875 65.921875 18.8125 64.3125 \n",
       "Q 13.671875 62.703125 7.8125 59.421875 \n",
       "L 7.8125 69.390625 \n",
       "Q 13.765625 71.78125 18.9375 73 \n",
       "Q 24.125 74.21875 28.421875 74.21875 \n",
       "Q 39.75 74.21875 46.484375 68.546875 \n",
       "Q 53.21875 62.890625 53.21875 53.421875 \n",
       "Q 53.21875 48.921875 51.53125 44.890625 \n",
       "Q 49.859375 40.875 45.40625 35.40625 \n",
       "Q 44.1875 33.984375 37.640625 27.21875 \n",
       "Q 31.109375 20.453125 19.1875 8.296875 \n",
       "z\n",
       "\" id=\"DejaVuSans-50\"/>\n",
       "      </defs>\n",
       "      <g transform=\"translate(103.315199 287.910437)scale(0.1 -0.1)\">\n",
       "       <use xlink:href=\"#DejaVuSans-48\"/>\n",
       "       <use x=\"63.623047\" xlink:href=\"#DejaVuSans-46\"/>\n",
       "       <use x=\"95.410156\" xlink:href=\"#DejaVuSans-50\"/>\n",
       "      </g>\n",
       "     </g>\n",
       "    </g>\n",
       "    <g id=\"xtick_3\">\n",
       "     <g id=\"line2d_3\">\n",
       "      <g>\n",
       "       <use style=\"stroke:#000000;stroke-width:0.8;\" x=\"176.19767\" xlink:href=\"#m7787c08792\" y=\"273.312\"/>\n",
       "      </g>\n",
       "     </g>\n",
       "     <g id=\"text_3\">\n",
       "      <!-- 0.4 -->\n",
       "      <defs>\n",
       "       <path d=\"M 37.796875 64.3125 \n",
       "L 12.890625 25.390625 \n",
       "L 37.796875 25.390625 \n",
       "z\n",
       "M 35.203125 72.90625 \n",
       "L 47.609375 72.90625 \n",
       "L 47.609375 25.390625 \n",
       "L 58.015625 25.390625 \n",
       "L 58.015625 17.1875 \n",
       "L 47.609375 17.1875 \n",
       "L 47.609375 0 \n",
       "L 37.796875 0 \n",
       "L 37.796875 17.1875 \n",
       "L 4.890625 17.1875 \n",
       "L 4.890625 26.703125 \n",
       "z\n",
       "\" id=\"DejaVuSans-52\"/>\n",
       "      </defs>\n",
       "      <g transform=\"translate(168.246108 287.910437)scale(0.1 -0.1)\">\n",
       "       <use xlink:href=\"#DejaVuSans-48\"/>\n",
       "       <use x=\"63.623047\" xlink:href=\"#DejaVuSans-46\"/>\n",
       "       <use x=\"95.410156\" xlink:href=\"#DejaVuSans-52\"/>\n",
       "      </g>\n",
       "     </g>\n",
       "    </g>\n",
       "    <g id=\"xtick_4\">\n",
       "     <g id=\"line2d_4\">\n",
       "      <g>\n",
       "       <use style=\"stroke:#000000;stroke-width:0.8;\" x=\"241.12858\" xlink:href=\"#m7787c08792\" y=\"273.312\"/>\n",
       "      </g>\n",
       "     </g>\n",
       "     <g id=\"text_4\">\n",
       "      <!-- 0.6 -->\n",
       "      <defs>\n",
       "       <path d=\"M 33.015625 40.375 \n",
       "Q 26.375 40.375 22.484375 35.828125 \n",
       "Q 18.609375 31.296875 18.609375 23.390625 \n",
       "Q 18.609375 15.53125 22.484375 10.953125 \n",
       "Q 26.375 6.390625 33.015625 6.390625 \n",
       "Q 39.65625 6.390625 43.53125 10.953125 \n",
       "Q 47.40625 15.53125 47.40625 23.390625 \n",
       "Q 47.40625 31.296875 43.53125 35.828125 \n",
       "Q 39.65625 40.375 33.015625 40.375 \n",
       "z\n",
       "M 52.59375 71.296875 \n",
       "L 52.59375 62.3125 \n",
       "Q 48.875 64.0625 45.09375 64.984375 \n",
       "Q 41.3125 65.921875 37.59375 65.921875 \n",
       "Q 27.828125 65.921875 22.671875 59.328125 \n",
       "Q 17.53125 52.734375 16.796875 39.40625 \n",
       "Q 19.671875 43.65625 24.015625 45.921875 \n",
       "Q 28.375 48.1875 33.59375 48.1875 \n",
       "Q 44.578125 48.1875 50.953125 41.515625 \n",
       "Q 57.328125 34.859375 57.328125 23.390625 \n",
       "Q 57.328125 12.15625 50.6875 5.359375 \n",
       "Q 44.046875 -1.421875 33.015625 -1.421875 \n",
       "Q 20.359375 -1.421875 13.671875 8.265625 \n",
       "Q 6.984375 17.96875 6.984375 36.375 \n",
       "Q 6.984375 53.65625 15.1875 63.9375 \n",
       "Q 23.390625 74.21875 37.203125 74.21875 \n",
       "Q 40.921875 74.21875 44.703125 73.484375 \n",
       "Q 48.484375 72.75 52.59375 71.296875 \n",
       "z\n",
       "\" id=\"DejaVuSans-54\"/>\n",
       "      </defs>\n",
       "      <g transform=\"translate(233.177017 287.910437)scale(0.1 -0.1)\">\n",
       "       <use xlink:href=\"#DejaVuSans-48\"/>\n",
       "       <use x=\"63.623047\" xlink:href=\"#DejaVuSans-46\"/>\n",
       "       <use x=\"95.410156\" xlink:href=\"#DejaVuSans-54\"/>\n",
       "      </g>\n",
       "     </g>\n",
       "    </g>\n",
       "    <g id=\"xtick_5\">\n",
       "     <g id=\"line2d_5\">\n",
       "      <g>\n",
       "       <use style=\"stroke:#000000;stroke-width:0.8;\" x=\"306.059489\" xlink:href=\"#m7787c08792\" y=\"273.312\"/>\n",
       "      </g>\n",
       "     </g>\n",
       "     <g id=\"text_5\">\n",
       "      <!-- 0.8 -->\n",
       "      <defs>\n",
       "       <path d=\"M 31.78125 34.625 \n",
       "Q 24.75 34.625 20.71875 30.859375 \n",
       "Q 16.703125 27.09375 16.703125 20.515625 \n",
       "Q 16.703125 13.921875 20.71875 10.15625 \n",
       "Q 24.75 6.390625 31.78125 6.390625 \n",
       "Q 38.8125 6.390625 42.859375 10.171875 \n",
       "Q 46.921875 13.96875 46.921875 20.515625 \n",
       "Q 46.921875 27.09375 42.890625 30.859375 \n",
       "Q 38.875 34.625 31.78125 34.625 \n",
       "z\n",
       "M 21.921875 38.8125 \n",
       "Q 15.578125 40.375 12.03125 44.71875 \n",
       "Q 8.5 49.078125 8.5 55.328125 \n",
       "Q 8.5 64.0625 14.71875 69.140625 \n",
       "Q 20.953125 74.21875 31.78125 74.21875 \n",
       "Q 42.671875 74.21875 48.875 69.140625 \n",
       "Q 55.078125 64.0625 55.078125 55.328125 \n",
       "Q 55.078125 49.078125 51.53125 44.71875 \n",
       "Q 48 40.375 41.703125 38.8125 \n",
       "Q 48.828125 37.15625 52.796875 32.3125 \n",
       "Q 56.78125 27.484375 56.78125 20.515625 \n",
       "Q 56.78125 9.90625 50.3125 4.234375 \n",
       "Q 43.84375 -1.421875 31.78125 -1.421875 \n",
       "Q 19.734375 -1.421875 13.25 4.234375 \n",
       "Q 6.78125 9.90625 6.78125 20.515625 \n",
       "Q 6.78125 27.484375 10.78125 32.3125 \n",
       "Q 14.796875 37.15625 21.921875 38.8125 \n",
       "z\n",
       "M 18.3125 54.390625 \n",
       "Q 18.3125 48.734375 21.84375 45.5625 \n",
       "Q 25.390625 42.390625 31.78125 42.390625 \n",
       "Q 38.140625 42.390625 41.71875 45.5625 \n",
       "Q 45.3125 48.734375 45.3125 54.390625 \n",
       "Q 45.3125 60.0625 41.71875 63.234375 \n",
       "Q 38.140625 66.40625 31.78125 66.40625 \n",
       "Q 25.390625 66.40625 21.84375 63.234375 \n",
       "Q 18.3125 60.0625 18.3125 54.390625 \n",
       "z\n",
       "\" id=\"DejaVuSans-56\"/>\n",
       "      </defs>\n",
       "      <g transform=\"translate(298.107926 287.910437)scale(0.1 -0.1)\">\n",
       "       <use xlink:href=\"#DejaVuSans-48\"/>\n",
       "       <use x=\"63.623047\" xlink:href=\"#DejaVuSans-46\"/>\n",
       "       <use x=\"95.410156\" xlink:href=\"#DejaVuSans-56\"/>\n",
       "      </g>\n",
       "     </g>\n",
       "    </g>\n",
       "    <g id=\"xtick_6\">\n",
       "     <g id=\"line2d_6\">\n",
       "      <g>\n",
       "       <use style=\"stroke:#000000;stroke-width:0.8;\" x=\"370.990398\" xlink:href=\"#m7787c08792\" y=\"273.312\"/>\n",
       "      </g>\n",
       "     </g>\n",
       "     <g id=\"text_6\">\n",
       "      <!-- 1.0 -->\n",
       "      <defs>\n",
       "       <path d=\"M 12.40625 8.296875 \n",
       "L 28.515625 8.296875 \n",
       "L 28.515625 63.921875 \n",
       "L 10.984375 60.40625 \n",
       "L 10.984375 69.390625 \n",
       "L 28.421875 72.90625 \n",
       "L 38.28125 72.90625 \n",
       "L 38.28125 8.296875 \n",
       "L 54.390625 8.296875 \n",
       "L 54.390625 0 \n",
       "L 12.40625 0 \n",
       "z\n",
       "\" id=\"DejaVuSans-49\"/>\n",
       "      </defs>\n",
       "      <g transform=\"translate(363.038835 287.910437)scale(0.1 -0.1)\">\n",
       "       <use xlink:href=\"#DejaVuSans-49\"/>\n",
       "       <use x=\"63.623047\" xlink:href=\"#DejaVuSans-46\"/>\n",
       "       <use x=\"95.410156\" xlink:href=\"#DejaVuSans-48\"/>\n",
       "      </g>\n",
       "     </g>\n",
       "    </g>\n",
       "   </g>\n",
       "   <g id=\"matplotlib.axis_2\">\n",
       "    <g id=\"ytick_1\">\n",
       "     <g id=\"line2d_7\">\n",
       "      <defs>\n",
       "       <path d=\"M 0 0 \n",
       "L -3.5 0 \n",
       "\" id=\"m3193699099\" style=\"stroke:#000000;stroke-width:0.8;\"/>\n",
       "      </defs>\n",
       "      <g>\n",
       "       <use style=\"stroke:#000000;stroke-width:0.8;\" x=\"30.103125\" xlink:href=\"#m3193699099\" y=\"261.216\"/>\n",
       "      </g>\n",
       "     </g>\n",
       "     <g id=\"text_7\">\n",
       "      <!-- 0.0 -->\n",
       "      <g transform=\"translate(7.2 265.015219)scale(0.1 -0.1)\">\n",
       "       <use xlink:href=\"#DejaVuSans-48\"/>\n",
       "       <use x=\"63.623047\" xlink:href=\"#DejaVuSans-46\"/>\n",
       "       <use x=\"95.410156\" xlink:href=\"#DejaVuSans-48\"/>\n",
       "      </g>\n",
       "     </g>\n",
       "    </g>\n",
       "    <g id=\"ytick_2\">\n",
       "     <g id=\"line2d_8\">\n",
       "      <g>\n",
       "       <use style=\"stroke:#000000;stroke-width:0.8;\" x=\"30.103125\" xlink:href=\"#m3193699099\" y=\"212.736336\"/>\n",
       "      </g>\n",
       "     </g>\n",
       "     <g id=\"text_8\">\n",
       "      <!-- 0.2 -->\n",
       "      <g transform=\"translate(7.2 216.535555)scale(0.1 -0.1)\">\n",
       "       <use xlink:href=\"#DejaVuSans-48\"/>\n",
       "       <use x=\"63.623047\" xlink:href=\"#DejaVuSans-46\"/>\n",
       "       <use x=\"95.410156\" xlink:href=\"#DejaVuSans-50\"/>\n",
       "      </g>\n",
       "     </g>\n",
       "    </g>\n",
       "    <g id=\"ytick_3\">\n",
       "     <g id=\"line2d_9\">\n",
       "      <g>\n",
       "       <use style=\"stroke:#000000;stroke-width:0.8;\" x=\"30.103125\" xlink:href=\"#m3193699099\" y=\"164.256673\"/>\n",
       "      </g>\n",
       "     </g>\n",
       "     <g id=\"text_9\">\n",
       "      <!-- 0.4 -->\n",
       "      <g transform=\"translate(7.2 168.055892)scale(0.1 -0.1)\">\n",
       "       <use xlink:href=\"#DejaVuSans-48\"/>\n",
       "       <use x=\"63.623047\" xlink:href=\"#DejaVuSans-46\"/>\n",
       "       <use x=\"95.410156\" xlink:href=\"#DejaVuSans-52\"/>\n",
       "      </g>\n",
       "     </g>\n",
       "    </g>\n",
       "    <g id=\"ytick_4\">\n",
       "     <g id=\"line2d_10\">\n",
       "      <g>\n",
       "       <use style=\"stroke:#000000;stroke-width:0.8;\" x=\"30.103125\" xlink:href=\"#m3193699099\" y=\"115.777009\"/>\n",
       "      </g>\n",
       "     </g>\n",
       "     <g id=\"text_10\">\n",
       "      <!-- 0.6 -->\n",
       "      <g transform=\"translate(7.2 119.576228)scale(0.1 -0.1)\">\n",
       "       <use xlink:href=\"#DejaVuSans-48\"/>\n",
       "       <use x=\"63.623047\" xlink:href=\"#DejaVuSans-46\"/>\n",
       "       <use x=\"95.410156\" xlink:href=\"#DejaVuSans-54\"/>\n",
       "      </g>\n",
       "     </g>\n",
       "    </g>\n",
       "    <g id=\"ytick_5\">\n",
       "     <g id=\"line2d_11\">\n",
       "      <g>\n",
       "       <use style=\"stroke:#000000;stroke-width:0.8;\" x=\"30.103125\" xlink:href=\"#m3193699099\" y=\"67.297346\"/>\n",
       "      </g>\n",
       "     </g>\n",
       "     <g id=\"text_11\">\n",
       "      <!-- 0.8 -->\n",
       "      <g transform=\"translate(7.2 71.096565)scale(0.1 -0.1)\">\n",
       "       <use xlink:href=\"#DejaVuSans-48\"/>\n",
       "       <use x=\"63.623047\" xlink:href=\"#DejaVuSans-46\"/>\n",
       "       <use x=\"95.410156\" xlink:href=\"#DejaVuSans-56\"/>\n",
       "      </g>\n",
       "     </g>\n",
       "    </g>\n",
       "    <g id=\"ytick_6\">\n",
       "     <g id=\"line2d_12\">\n",
       "      <g>\n",
       "       <use style=\"stroke:#000000;stroke-width:0.8;\" x=\"30.103125\" xlink:href=\"#m3193699099\" y=\"18.817682\"/>\n",
       "      </g>\n",
       "     </g>\n",
       "     <g id=\"text_12\">\n",
       "      <!-- 1.0 -->\n",
       "      <g transform=\"translate(7.2 22.616901)scale(0.1 -0.1)\">\n",
       "       <use xlink:href=\"#DejaVuSans-49\"/>\n",
       "       <use x=\"63.623047\" xlink:href=\"#DejaVuSans-46\"/>\n",
       "       <use x=\"95.410156\" xlink:href=\"#DejaVuSans-48\"/>\n",
       "      </g>\n",
       "     </g>\n",
       "    </g>\n",
       "   </g>\n",
       "   <g id=\"line2d_13\">\n",
       "    <path clip-path=\"url(#p61f6d4a31f)\" d=\"M 46.335852 261.216 \n",
       "L 59.322034 230.835435 \n",
       "L 72.308216 200.93399 \n",
       "L 85.294398 171.983228 \n",
       "L 98.28058 144.43972 \n",
       "L 111.266761 118.737844 \n",
       "L 124.252943 95.282933 \n",
       "L 137.239125 74.444886 \n",
       "L 150.225307 56.552331 \n",
       "L 163.211489 41.887445 \n",
       "L 176.19767 30.6815 \n",
       "L 189.183852 23.111223 \n",
       "L 202.170034 19.296 \n",
       "L 215.156216 19.296 \n",
       "L 228.142398 23.111223 \n",
       "L 241.12858 30.6815 \n",
       "L 254.114761 41.887445 \n",
       "L 267.100943 56.552331 \n",
       "L 280.087125 74.444886 \n",
       "L 293.073307 95.282933 \n",
       "L 306.059489 118.737844 \n",
       "L 319.04567 144.43972 \n",
       "L 332.031852 171.983228 \n",
       "L 345.018034 200.93399 \n",
       "L 358.004216 230.835435 \n",
       "L 370.990398 261.216 \n",
       "\" style=\"fill:none;stroke:#1f77b4;stroke-linecap:square;stroke-width:1.5;\"/>\n",
       "   </g>\n",
       "   <g id=\"line2d_14\">\n",
       "    <path clip-path=\"url(#p61f6d4a31f)\" d=\"M 46.335852 261.216 \n",
       "L 59.322034 231.429922 \n",
       "L 72.308216 202.113588 \n",
       "L 85.294398 173.729334 \n",
       "L 98.28058 146.724798 \n",
       "L 111.266761 121.525856 \n",
       "L 124.252943 98.529911 \n",
       "L 137.239125 78.099622 \n",
       "L 150.225307 60.557189 \n",
       "L 163.211489 46.179265 \n",
       "L 176.19767 35.192598 \n",
       "L 189.183852 27.770456 \n",
       "L 202.170034 24.029889 \n",
       "L 215.156216 24.029889 \n",
       "L 228.142398 27.770456 \n",
       "L 241.12858 35.192598 \n",
       "L 254.114761 46.179265 \n",
       "L 267.100943 60.557189 \n",
       "L 280.087125 78.099622 \n",
       "L 293.073307 98.529911 \n",
       "L 306.059489 121.525856 \n",
       "L 319.04567 146.724798 \n",
       "L 332.031852 173.729334 \n",
       "L 345.018034 202.113588 \n",
       "L 358.004216 231.429922 \n",
       "L 370.990398 261.216 \n",
       "\" style=\"fill:none;stroke:#ff7f0e;stroke-linecap:square;stroke-width:1.5;\"/>\n",
       "   </g>\n",
       "   <g id=\"line2d_15\">\n",
       "    <path clip-path=\"url(#p61f6d4a31f)\" d=\"M 46.335852 261.216 \n",
       "L 59.322034 249.905812 \n",
       "L 72.308216 238.773992 \n",
       "L 85.294398 227.996096 \n",
       "L 98.28058 217.742098 \n",
       "L 111.266761 208.17371 \n",
       "L 124.252943 199.441829 \n",
       "L 137.239125 191.684165 \n",
       "L 150.225307 185.023059 \n",
       "L 163.211489 179.563561 \n",
       "L 176.19767 175.391771 \n",
       "L 189.183852 172.573481 \n",
       "L 202.170034 171.153135 \n",
       "L 215.156216 171.153135 \n",
       "L 228.142398 172.573481 \n",
       "L 241.12858 175.391771 \n",
       "L 254.114761 179.563561 \n",
       "L 267.100943 185.023059 \n",
       "L 280.087125 191.684165 \n",
       "L 293.073307 199.441829 \n",
       "L 306.059489 208.17371 \n",
       "L 319.04567 217.742098 \n",
       "L 332.031852 227.996096 \n",
       "L 345.018034 238.773992 \n",
       "L 358.004216 249.905812 \n",
       "L 370.990398 261.216 \n",
       "\" style=\"fill:none;stroke:#2ca02c;stroke-linecap:square;stroke-width:1.5;\"/>\n",
       "   </g>\n",
       "   <g id=\"patch_3\">\n",
       "    <path d=\"M 30.103125 273.312 \n",
       "L 30.103125 7.2 \n",
       "\" style=\"fill:none;stroke:#000000;stroke-linecap:square;stroke-linejoin:miter;stroke-width:0.8;\"/>\n",
       "   </g>\n",
       "   <g id=\"patch_4\">\n",
       "    <path d=\"M 387.223125 273.312 \n",
       "L 387.223125 7.2 \n",
       "\" style=\"fill:none;stroke:#000000;stroke-linecap:square;stroke-linejoin:miter;stroke-width:0.8;\"/>\n",
       "   </g>\n",
       "   <g id=\"patch_5\">\n",
       "    <path d=\"M 30.103125 273.312 \n",
       "L 387.223125 273.312 \n",
       "\" style=\"fill:none;stroke:#000000;stroke-linecap:square;stroke-linejoin:miter;stroke-width:0.8;\"/>\n",
       "   </g>\n",
       "   <g id=\"patch_6\">\n",
       "    <path d=\"M 30.103125 7.2 \n",
       "L 387.223125 7.2 \n",
       "\" style=\"fill:none;stroke:#000000;stroke-linecap:square;stroke-linejoin:miter;stroke-width:0.8;\"/>\n",
       "   </g>\n",
       "   <g id=\"legend_1\">\n",
       "    <g id=\"patch_7\">\n",
       "     <path d=\"M 307.295 59.234375 \n",
       "L 380.223125 59.234375 \n",
       "Q 382.223125 59.234375 382.223125 57.234375 \n",
       "L 382.223125 14.2 \n",
       "Q 382.223125 12.2 380.223125 12.2 \n",
       "L 307.295 12.2 \n",
       "Q 305.295 12.2 305.295 14.2 \n",
       "L 305.295 57.234375 \n",
       "Q 305.295 59.234375 307.295 59.234375 \n",
       "z\n",
       "\" style=\"fill:#ffffff;opacity:0.8;stroke:#cccccc;stroke-linejoin:miter;\"/>\n",
       "    </g>\n",
       "    <g id=\"line2d_16\">\n",
       "     <path d=\"M 309.295 20.298437 \n",
       "L 329.295 20.298437 \n",
       "\" style=\"fill:none;stroke:#1f77b4;stroke-linecap:square;stroke-width:1.5;\"/>\n",
       "    </g>\n",
       "    <g id=\"line2d_17\"/>\n",
       "    <g id=\"text_13\">\n",
       "     <!-- t=0.0 -->\n",
       "     <defs>\n",
       "      <path d=\"M 18.3125 70.21875 \n",
       "L 18.3125 54.6875 \n",
       "L 36.8125 54.6875 \n",
       "L 36.8125 47.703125 \n",
       "L 18.3125 47.703125 \n",
       "L 18.3125 18.015625 \n",
       "Q 18.3125 11.328125 20.140625 9.421875 \n",
       "Q 21.96875 7.515625 27.59375 7.515625 \n",
       "L 36.8125 7.515625 \n",
       "L 36.8125 0 \n",
       "L 27.59375 0 \n",
       "Q 17.1875 0 13.234375 3.875 \n",
       "Q 9.28125 7.765625 9.28125 18.015625 \n",
       "L 9.28125 47.703125 \n",
       "L 2.6875 47.703125 \n",
       "L 2.6875 54.6875 \n",
       "L 9.28125 54.6875 \n",
       "L 9.28125 70.21875 \n",
       "z\n",
       "\" id=\"DejaVuSans-116\"/>\n",
       "      <path d=\"M 10.59375 45.40625 \n",
       "L 73.1875 45.40625 \n",
       "L 73.1875 37.203125 \n",
       "L 10.59375 37.203125 \n",
       "z\n",
       "M 10.59375 25.484375 \n",
       "L 73.1875 25.484375 \n",
       "L 73.1875 17.1875 \n",
       "L 10.59375 17.1875 \n",
       "z\n",
       "\" id=\"DejaVuSans-61\"/>\n",
       "     </defs>\n",
       "     <g transform=\"translate(337.295 23.798437)scale(0.1 -0.1)\">\n",
       "      <use xlink:href=\"#DejaVuSans-116\"/>\n",
       "      <use x=\"39.208984\" xlink:href=\"#DejaVuSans-61\"/>\n",
       "      <use x=\"122.998047\" xlink:href=\"#DejaVuSans-48\"/>\n",
       "      <use x=\"186.621094\" xlink:href=\"#DejaVuSans-46\"/>\n",
       "      <use x=\"218.408203\" xlink:href=\"#DejaVuSans-48\"/>\n",
       "     </g>\n",
       "    </g>\n",
       "    <g id=\"line2d_18\">\n",
       "     <path d=\"M 309.295 34.976562 \n",
       "L 329.295 34.976562 \n",
       "\" style=\"fill:none;stroke:#ff7f0e;stroke-linecap:square;stroke-width:1.5;\"/>\n",
       "    </g>\n",
       "    <g id=\"line2d_19\"/>\n",
       "    <g id=\"text_14\">\n",
       "     <!-- t=0.002 -->\n",
       "     <g transform=\"translate(337.295 38.476562)scale(0.1 -0.1)\">\n",
       "      <use xlink:href=\"#DejaVuSans-116\"/>\n",
       "      <use x=\"39.208984\" xlink:href=\"#DejaVuSans-61\"/>\n",
       "      <use x=\"122.998047\" xlink:href=\"#DejaVuSans-48\"/>\n",
       "      <use x=\"186.621094\" xlink:href=\"#DejaVuSans-46\"/>\n",
       "      <use x=\"218.408203\" xlink:href=\"#DejaVuSans-48\"/>\n",
       "      <use x=\"282.03125\" xlink:href=\"#DejaVuSans-48\"/>\n",
       "      <use x=\"345.654297\" xlink:href=\"#DejaVuSans-50\"/>\n",
       "     </g>\n",
       "    </g>\n",
       "    <g id=\"line2d_20\">\n",
       "     <path d=\"M 309.295 49.654687 \n",
       "L 329.295 49.654687 \n",
       "\" style=\"fill:none;stroke:#2ca02c;stroke-linecap:square;stroke-width:1.5;\"/>\n",
       "    </g>\n",
       "    <g id=\"line2d_21\"/>\n",
       "    <g id=\"text_15\">\n",
       "     <!-- t=0.1 -->\n",
       "     <g transform=\"translate(337.295 53.154687)scale(0.1 -0.1)\">\n",
       "      <use xlink:href=\"#DejaVuSans-116\"/>\n",
       "      <use x=\"39.208984\" xlink:href=\"#DejaVuSans-61\"/>\n",
       "      <use x=\"122.998047\" xlink:href=\"#DejaVuSans-48\"/>\n",
       "      <use x=\"186.621094\" xlink:href=\"#DejaVuSans-46\"/>\n",
       "      <use x=\"218.408203\" xlink:href=\"#DejaVuSans-49\"/>\n",
       "     </g>\n",
       "    </g>\n",
       "   </g>\n",
       "  </g>\n",
       " </g>\n",
       " <defs>\n",
       "  <clipPath id=\"p61f6d4a31f\">\n",
       "   <rect height=\"266.112\" width=\"357.12\" x=\"30.103125\" y=\"7.2\"/>\n",
       "  </clipPath>\n",
       " </defs>\n",
       "</svg>\n"
      ],
      "text/plain": [
       "<Figure size 640x480 with 1 Axes>"
      ]
     },
     "metadata": {},
     "output_type": "display_data"
    }
   ],
   "source": [
    "plt.clf()\n",
    "plt.plot(x_exp, u_exp[:,0], label=\"t=\"+str(t_exp[0]))\n",
    "plt.plot(x_exp, u_exp[:,4], label=\"t=\"+str(t_exp[4]))\n",
    "plt.plot(x_exp, u_exp[:,-1], label=\"t=\"+str(t_exp[-1]))\n",
    "plt.legend();"
   ]
  },
  {
   "cell_type": "markdown",
   "metadata": {
    "hidden": true
   },
   "source": [
    "Perbandingan dengan solusi analitik."
   ]
  },
  {
   "cell_type": "code",
   "execution_count": 14,
   "metadata": {
    "hidden": true,
    "scrolled": true
   },
   "outputs": [
    {
     "data": {
      "image/svg+xml": [
       "<?xml version=\"1.0\" encoding=\"utf-8\" standalone=\"no\"?>\n",
       "<!DOCTYPE svg PUBLIC \"-//W3C//DTD SVG 1.1//EN\"\n",
       "  \"http://www.w3.org/Graphics/SVG/1.1/DTD/svg11.dtd\">\n",
       "<!-- Created with matplotlib (https://matplotlib.org/) -->\n",
       "<svg height=\"297.190125pt\" version=\"1.1\" viewBox=\"0 0 400.785625 297.190125\" width=\"400.785625pt\" xmlns=\"http://www.w3.org/2000/svg\" xmlns:xlink=\"http://www.w3.org/1999/xlink\">\n",
       " <defs>\n",
       "  <style type=\"text/css\">\n",
       "*{stroke-linecap:butt;stroke-linejoin:round;}\n",
       "  </style>\n",
       " </defs>\n",
       " <g id=\"figure_1\">\n",
       "  <g id=\"patch_1\">\n",
       "   <path d=\"M 0 297.190125 \n",
       "L 400.785625 297.190125 \n",
       "L 400.785625 0 \n",
       "L 0 0 \n",
       "z\n",
       "\" style=\"fill:#ffffff;\"/>\n",
       "  </g>\n",
       "  <g id=\"axes_1\">\n",
       "   <g id=\"patch_2\">\n",
       "    <path d=\"M 36.465625 273.312 \n",
       "L 393.585625 273.312 \n",
       "L 393.585625 7.2 \n",
       "L 36.465625 7.2 \n",
       "z\n",
       "\" style=\"fill:#ffffff;\"/>\n",
       "   </g>\n",
       "   <g id=\"matplotlib.axis_1\">\n",
       "    <g id=\"xtick_1\">\n",
       "     <g id=\"line2d_1\">\n",
       "      <defs>\n",
       "       <path d=\"M 0 0 \n",
       "L 0 3.5 \n",
       "\" id=\"ma934223f5c\" style=\"stroke:#000000;stroke-width:0.8;\"/>\n",
       "      </defs>\n",
       "      <g>\n",
       "       <use style=\"stroke:#000000;stroke-width:0.8;\" x=\"52.698352\" xlink:href=\"#ma934223f5c\" y=\"273.312\"/>\n",
       "      </g>\n",
       "     </g>\n",
       "     <g id=\"text_1\">\n",
       "      <!-- 0.0 -->\n",
       "      <defs>\n",
       "       <path d=\"M 31.78125 66.40625 \n",
       "Q 24.171875 66.40625 20.328125 58.90625 \n",
       "Q 16.5 51.421875 16.5 36.375 \n",
       "Q 16.5 21.390625 20.328125 13.890625 \n",
       "Q 24.171875 6.390625 31.78125 6.390625 \n",
       "Q 39.453125 6.390625 43.28125 13.890625 \n",
       "Q 47.125 21.390625 47.125 36.375 \n",
       "Q 47.125 51.421875 43.28125 58.90625 \n",
       "Q 39.453125 66.40625 31.78125 66.40625 \n",
       "z\n",
       "M 31.78125 74.21875 \n",
       "Q 44.046875 74.21875 50.515625 64.515625 \n",
       "Q 56.984375 54.828125 56.984375 36.375 \n",
       "Q 56.984375 17.96875 50.515625 8.265625 \n",
       "Q 44.046875 -1.421875 31.78125 -1.421875 \n",
       "Q 19.53125 -1.421875 13.0625 8.265625 \n",
       "Q 6.59375 17.96875 6.59375 36.375 \n",
       "Q 6.59375 54.828125 13.0625 64.515625 \n",
       "Q 19.53125 74.21875 31.78125 74.21875 \n",
       "z\n",
       "\" id=\"DejaVuSans-48\"/>\n",
       "       <path d=\"M 10.6875 12.40625 \n",
       "L 21 12.40625 \n",
       "L 21 0 \n",
       "L 10.6875 0 \n",
       "z\n",
       "\" id=\"DejaVuSans-46\"/>\n",
       "      </defs>\n",
       "      <g transform=\"translate(44.74679 287.910437)scale(0.1 -0.1)\">\n",
       "       <use xlink:href=\"#DejaVuSans-48\"/>\n",
       "       <use x=\"63.623047\" xlink:href=\"#DejaVuSans-46\"/>\n",
       "       <use x=\"95.410156\" xlink:href=\"#DejaVuSans-48\"/>\n",
       "      </g>\n",
       "     </g>\n",
       "    </g>\n",
       "    <g id=\"xtick_2\">\n",
       "     <g id=\"line2d_2\">\n",
       "      <g>\n",
       "       <use style=\"stroke:#000000;stroke-width:0.8;\" x=\"117.629261\" xlink:href=\"#ma934223f5c\" y=\"273.312\"/>\n",
       "      </g>\n",
       "     </g>\n",
       "     <g id=\"text_2\">\n",
       "      <!-- 0.2 -->\n",
       "      <defs>\n",
       "       <path d=\"M 19.1875 8.296875 \n",
       "L 53.609375 8.296875 \n",
       "L 53.609375 0 \n",
       "L 7.328125 0 \n",
       "L 7.328125 8.296875 \n",
       "Q 12.9375 14.109375 22.625 23.890625 \n",
       "Q 32.328125 33.6875 34.8125 36.53125 \n",
       "Q 39.546875 41.84375 41.421875 45.53125 \n",
       "Q 43.3125 49.21875 43.3125 52.78125 \n",
       "Q 43.3125 58.59375 39.234375 62.25 \n",
       "Q 35.15625 65.921875 28.609375 65.921875 \n",
       "Q 23.96875 65.921875 18.8125 64.3125 \n",
       "Q 13.671875 62.703125 7.8125 59.421875 \n",
       "L 7.8125 69.390625 \n",
       "Q 13.765625 71.78125 18.9375 73 \n",
       "Q 24.125 74.21875 28.421875 74.21875 \n",
       "Q 39.75 74.21875 46.484375 68.546875 \n",
       "Q 53.21875 62.890625 53.21875 53.421875 \n",
       "Q 53.21875 48.921875 51.53125 44.890625 \n",
       "Q 49.859375 40.875 45.40625 35.40625 \n",
       "Q 44.1875 33.984375 37.640625 27.21875 \n",
       "Q 31.109375 20.453125 19.1875 8.296875 \n",
       "z\n",
       "\" id=\"DejaVuSans-50\"/>\n",
       "      </defs>\n",
       "      <g transform=\"translate(109.677699 287.910437)scale(0.1 -0.1)\">\n",
       "       <use xlink:href=\"#DejaVuSans-48\"/>\n",
       "       <use x=\"63.623047\" xlink:href=\"#DejaVuSans-46\"/>\n",
       "       <use x=\"95.410156\" xlink:href=\"#DejaVuSans-50\"/>\n",
       "      </g>\n",
       "     </g>\n",
       "    </g>\n",
       "    <g id=\"xtick_3\">\n",
       "     <g id=\"line2d_3\">\n",
       "      <g>\n",
       "       <use style=\"stroke:#000000;stroke-width:0.8;\" x=\"182.56017\" xlink:href=\"#ma934223f5c\" y=\"273.312\"/>\n",
       "      </g>\n",
       "     </g>\n",
       "     <g id=\"text_3\">\n",
       "      <!-- 0.4 -->\n",
       "      <defs>\n",
       "       <path d=\"M 37.796875 64.3125 \n",
       "L 12.890625 25.390625 \n",
       "L 37.796875 25.390625 \n",
       "z\n",
       "M 35.203125 72.90625 \n",
       "L 47.609375 72.90625 \n",
       "L 47.609375 25.390625 \n",
       "L 58.015625 25.390625 \n",
       "L 58.015625 17.1875 \n",
       "L 47.609375 17.1875 \n",
       "L 47.609375 0 \n",
       "L 37.796875 0 \n",
       "L 37.796875 17.1875 \n",
       "L 4.890625 17.1875 \n",
       "L 4.890625 26.703125 \n",
       "z\n",
       "\" id=\"DejaVuSans-52\"/>\n",
       "      </defs>\n",
       "      <g transform=\"translate(174.608608 287.910437)scale(0.1 -0.1)\">\n",
       "       <use xlink:href=\"#DejaVuSans-48\"/>\n",
       "       <use x=\"63.623047\" xlink:href=\"#DejaVuSans-46\"/>\n",
       "       <use x=\"95.410156\" xlink:href=\"#DejaVuSans-52\"/>\n",
       "      </g>\n",
       "     </g>\n",
       "    </g>\n",
       "    <g id=\"xtick_4\">\n",
       "     <g id=\"line2d_4\">\n",
       "      <g>\n",
       "       <use style=\"stroke:#000000;stroke-width:0.8;\" x=\"247.49108\" xlink:href=\"#ma934223f5c\" y=\"273.312\"/>\n",
       "      </g>\n",
       "     </g>\n",
       "     <g id=\"text_4\">\n",
       "      <!-- 0.6 -->\n",
       "      <defs>\n",
       "       <path d=\"M 33.015625 40.375 \n",
       "Q 26.375 40.375 22.484375 35.828125 \n",
       "Q 18.609375 31.296875 18.609375 23.390625 \n",
       "Q 18.609375 15.53125 22.484375 10.953125 \n",
       "Q 26.375 6.390625 33.015625 6.390625 \n",
       "Q 39.65625 6.390625 43.53125 10.953125 \n",
       "Q 47.40625 15.53125 47.40625 23.390625 \n",
       "Q 47.40625 31.296875 43.53125 35.828125 \n",
       "Q 39.65625 40.375 33.015625 40.375 \n",
       "z\n",
       "M 52.59375 71.296875 \n",
       "L 52.59375 62.3125 \n",
       "Q 48.875 64.0625 45.09375 64.984375 \n",
       "Q 41.3125 65.921875 37.59375 65.921875 \n",
       "Q 27.828125 65.921875 22.671875 59.328125 \n",
       "Q 17.53125 52.734375 16.796875 39.40625 \n",
       "Q 19.671875 43.65625 24.015625 45.921875 \n",
       "Q 28.375 48.1875 33.59375 48.1875 \n",
       "Q 44.578125 48.1875 50.953125 41.515625 \n",
       "Q 57.328125 34.859375 57.328125 23.390625 \n",
       "Q 57.328125 12.15625 50.6875 5.359375 \n",
       "Q 44.046875 -1.421875 33.015625 -1.421875 \n",
       "Q 20.359375 -1.421875 13.671875 8.265625 \n",
       "Q 6.984375 17.96875 6.984375 36.375 \n",
       "Q 6.984375 53.65625 15.1875 63.9375 \n",
       "Q 23.390625 74.21875 37.203125 74.21875 \n",
       "Q 40.921875 74.21875 44.703125 73.484375 \n",
       "Q 48.484375 72.75 52.59375 71.296875 \n",
       "z\n",
       "\" id=\"DejaVuSans-54\"/>\n",
       "      </defs>\n",
       "      <g transform=\"translate(239.539517 287.910437)scale(0.1 -0.1)\">\n",
       "       <use xlink:href=\"#DejaVuSans-48\"/>\n",
       "       <use x=\"63.623047\" xlink:href=\"#DejaVuSans-46\"/>\n",
       "       <use x=\"95.410156\" xlink:href=\"#DejaVuSans-54\"/>\n",
       "      </g>\n",
       "     </g>\n",
       "    </g>\n",
       "    <g id=\"xtick_5\">\n",
       "     <g id=\"line2d_5\">\n",
       "      <g>\n",
       "       <use style=\"stroke:#000000;stroke-width:0.8;\" x=\"312.421989\" xlink:href=\"#ma934223f5c\" y=\"273.312\"/>\n",
       "      </g>\n",
       "     </g>\n",
       "     <g id=\"text_5\">\n",
       "      <!-- 0.8 -->\n",
       "      <defs>\n",
       "       <path d=\"M 31.78125 34.625 \n",
       "Q 24.75 34.625 20.71875 30.859375 \n",
       "Q 16.703125 27.09375 16.703125 20.515625 \n",
       "Q 16.703125 13.921875 20.71875 10.15625 \n",
       "Q 24.75 6.390625 31.78125 6.390625 \n",
       "Q 38.8125 6.390625 42.859375 10.171875 \n",
       "Q 46.921875 13.96875 46.921875 20.515625 \n",
       "Q 46.921875 27.09375 42.890625 30.859375 \n",
       "Q 38.875 34.625 31.78125 34.625 \n",
       "z\n",
       "M 21.921875 38.8125 \n",
       "Q 15.578125 40.375 12.03125 44.71875 \n",
       "Q 8.5 49.078125 8.5 55.328125 \n",
       "Q 8.5 64.0625 14.71875 69.140625 \n",
       "Q 20.953125 74.21875 31.78125 74.21875 \n",
       "Q 42.671875 74.21875 48.875 69.140625 \n",
       "Q 55.078125 64.0625 55.078125 55.328125 \n",
       "Q 55.078125 49.078125 51.53125 44.71875 \n",
       "Q 48 40.375 41.703125 38.8125 \n",
       "Q 48.828125 37.15625 52.796875 32.3125 \n",
       "Q 56.78125 27.484375 56.78125 20.515625 \n",
       "Q 56.78125 9.90625 50.3125 4.234375 \n",
       "Q 43.84375 -1.421875 31.78125 -1.421875 \n",
       "Q 19.734375 -1.421875 13.25 4.234375 \n",
       "Q 6.78125 9.90625 6.78125 20.515625 \n",
       "Q 6.78125 27.484375 10.78125 32.3125 \n",
       "Q 14.796875 37.15625 21.921875 38.8125 \n",
       "z\n",
       "M 18.3125 54.390625 \n",
       "Q 18.3125 48.734375 21.84375 45.5625 \n",
       "Q 25.390625 42.390625 31.78125 42.390625 \n",
       "Q 38.140625 42.390625 41.71875 45.5625 \n",
       "Q 45.3125 48.734375 45.3125 54.390625 \n",
       "Q 45.3125 60.0625 41.71875 63.234375 \n",
       "Q 38.140625 66.40625 31.78125 66.40625 \n",
       "Q 25.390625 66.40625 21.84375 63.234375 \n",
       "Q 18.3125 60.0625 18.3125 54.390625 \n",
       "z\n",
       "\" id=\"DejaVuSans-56\"/>\n",
       "      </defs>\n",
       "      <g transform=\"translate(304.470426 287.910437)scale(0.1 -0.1)\">\n",
       "       <use xlink:href=\"#DejaVuSans-48\"/>\n",
       "       <use x=\"63.623047\" xlink:href=\"#DejaVuSans-46\"/>\n",
       "       <use x=\"95.410156\" xlink:href=\"#DejaVuSans-56\"/>\n",
       "      </g>\n",
       "     </g>\n",
       "    </g>\n",
       "    <g id=\"xtick_6\">\n",
       "     <g id=\"line2d_6\">\n",
       "      <g>\n",
       "       <use style=\"stroke:#000000;stroke-width:0.8;\" x=\"377.352898\" xlink:href=\"#ma934223f5c\" y=\"273.312\"/>\n",
       "      </g>\n",
       "     </g>\n",
       "     <g id=\"text_6\">\n",
       "      <!-- 1.0 -->\n",
       "      <defs>\n",
       "       <path d=\"M 12.40625 8.296875 \n",
       "L 28.515625 8.296875 \n",
       "L 28.515625 63.921875 \n",
       "L 10.984375 60.40625 \n",
       "L 10.984375 69.390625 \n",
       "L 28.421875 72.90625 \n",
       "L 38.28125 72.90625 \n",
       "L 38.28125 8.296875 \n",
       "L 54.390625 8.296875 \n",
       "L 54.390625 0 \n",
       "L 12.40625 0 \n",
       "z\n",
       "\" id=\"DejaVuSans-49\"/>\n",
       "      </defs>\n",
       "      <g transform=\"translate(369.401335 287.910437)scale(0.1 -0.1)\">\n",
       "       <use xlink:href=\"#DejaVuSans-49\"/>\n",
       "       <use x=\"63.623047\" xlink:href=\"#DejaVuSans-46\"/>\n",
       "       <use x=\"95.410156\" xlink:href=\"#DejaVuSans-48\"/>\n",
       "      </g>\n",
       "     </g>\n",
       "    </g>\n",
       "   </g>\n",
       "   <g id=\"matplotlib.axis_2\">\n",
       "    <g id=\"ytick_1\">\n",
       "     <g id=\"line2d_7\">\n",
       "      <defs>\n",
       "       <path d=\"M 0 0 \n",
       "L -3.5 0 \n",
       "\" id=\"m4eb6901af3\" style=\"stroke:#000000;stroke-width:0.8;\"/>\n",
       "      </defs>\n",
       "      <g>\n",
       "       <use style=\"stroke:#000000;stroke-width:0.8;\" x=\"36.465625\" xlink:href=\"#m4eb6901af3\" y=\"261.216\"/>\n",
       "      </g>\n",
       "     </g>\n",
       "     <g id=\"text_7\">\n",
       "      <!-- 0.00 -->\n",
       "      <g transform=\"translate(7.2 265.015219)scale(0.1 -0.1)\">\n",
       "       <use xlink:href=\"#DejaVuSans-48\"/>\n",
       "       <use x=\"63.623047\" xlink:href=\"#DejaVuSans-46\"/>\n",
       "       <use x=\"95.410156\" xlink:href=\"#DejaVuSans-48\"/>\n",
       "       <use x=\"159.033203\" xlink:href=\"#DejaVuSans-48\"/>\n",
       "      </g>\n",
       "     </g>\n",
       "    </g>\n",
       "    <g id=\"ytick_2\">\n",
       "     <g id=\"line2d_8\">\n",
       "      <g>\n",
       "       <use style=\"stroke:#000000;stroke-width:0.8;\" x=\"36.465625\" xlink:href=\"#m4eb6901af3\" y=\"228.697457\"/>\n",
       "      </g>\n",
       "     </g>\n",
       "     <g id=\"text_8\">\n",
       "      <!-- 0.05 -->\n",
       "      <defs>\n",
       "       <path d=\"M 10.796875 72.90625 \n",
       "L 49.515625 72.90625 \n",
       "L 49.515625 64.59375 \n",
       "L 19.828125 64.59375 \n",
       "L 19.828125 46.734375 \n",
       "Q 21.96875 47.46875 24.109375 47.828125 \n",
       "Q 26.265625 48.1875 28.421875 48.1875 \n",
       "Q 40.625 48.1875 47.75 41.5 \n",
       "Q 54.890625 34.8125 54.890625 23.390625 \n",
       "Q 54.890625 11.625 47.5625 5.09375 \n",
       "Q 40.234375 -1.421875 26.90625 -1.421875 \n",
       "Q 22.3125 -1.421875 17.546875 -0.640625 \n",
       "Q 12.796875 0.140625 7.71875 1.703125 \n",
       "L 7.71875 11.625 \n",
       "Q 12.109375 9.234375 16.796875 8.0625 \n",
       "Q 21.484375 6.890625 26.703125 6.890625 \n",
       "Q 35.15625 6.890625 40.078125 11.328125 \n",
       "Q 45.015625 15.765625 45.015625 23.390625 \n",
       "Q 45.015625 31 40.078125 35.4375 \n",
       "Q 35.15625 39.890625 26.703125 39.890625 \n",
       "Q 22.75 39.890625 18.8125 39.015625 \n",
       "Q 14.890625 38.140625 10.796875 36.28125 \n",
       "z\n",
       "\" id=\"DejaVuSans-53\"/>\n",
       "      </defs>\n",
       "      <g transform=\"translate(7.2 232.496676)scale(0.1 -0.1)\">\n",
       "       <use xlink:href=\"#DejaVuSans-48\"/>\n",
       "       <use x=\"63.623047\" xlink:href=\"#DejaVuSans-46\"/>\n",
       "       <use x=\"95.410156\" xlink:href=\"#DejaVuSans-48\"/>\n",
       "       <use x=\"159.033203\" xlink:href=\"#DejaVuSans-53\"/>\n",
       "      </g>\n",
       "     </g>\n",
       "    </g>\n",
       "    <g id=\"ytick_3\">\n",
       "     <g id=\"line2d_9\">\n",
       "      <g>\n",
       "       <use style=\"stroke:#000000;stroke-width:0.8;\" x=\"36.465625\" xlink:href=\"#m4eb6901af3\" y=\"196.178914\"/>\n",
       "      </g>\n",
       "     </g>\n",
       "     <g id=\"text_9\">\n",
       "      <!-- 0.10 -->\n",
       "      <g transform=\"translate(7.2 199.978133)scale(0.1 -0.1)\">\n",
       "       <use xlink:href=\"#DejaVuSans-48\"/>\n",
       "       <use x=\"63.623047\" xlink:href=\"#DejaVuSans-46\"/>\n",
       "       <use x=\"95.410156\" xlink:href=\"#DejaVuSans-49\"/>\n",
       "       <use x=\"159.033203\" xlink:href=\"#DejaVuSans-48\"/>\n",
       "      </g>\n",
       "     </g>\n",
       "    </g>\n",
       "    <g id=\"ytick_4\">\n",
       "     <g id=\"line2d_10\">\n",
       "      <g>\n",
       "       <use style=\"stroke:#000000;stroke-width:0.8;\" x=\"36.465625\" xlink:href=\"#m4eb6901af3\" y=\"163.660371\"/>\n",
       "      </g>\n",
       "     </g>\n",
       "     <g id=\"text_10\">\n",
       "      <!-- 0.15 -->\n",
       "      <g transform=\"translate(7.2 167.45959)scale(0.1 -0.1)\">\n",
       "       <use xlink:href=\"#DejaVuSans-48\"/>\n",
       "       <use x=\"63.623047\" xlink:href=\"#DejaVuSans-46\"/>\n",
       "       <use x=\"95.410156\" xlink:href=\"#DejaVuSans-49\"/>\n",
       "       <use x=\"159.033203\" xlink:href=\"#DejaVuSans-53\"/>\n",
       "      </g>\n",
       "     </g>\n",
       "    </g>\n",
       "    <g id=\"ytick_5\">\n",
       "     <g id=\"line2d_11\">\n",
       "      <g>\n",
       "       <use style=\"stroke:#000000;stroke-width:0.8;\" x=\"36.465625\" xlink:href=\"#m4eb6901af3\" y=\"131.141828\"/>\n",
       "      </g>\n",
       "     </g>\n",
       "     <g id=\"text_11\">\n",
       "      <!-- 0.20 -->\n",
       "      <g transform=\"translate(7.2 134.941047)scale(0.1 -0.1)\">\n",
       "       <use xlink:href=\"#DejaVuSans-48\"/>\n",
       "       <use x=\"63.623047\" xlink:href=\"#DejaVuSans-46\"/>\n",
       "       <use x=\"95.410156\" xlink:href=\"#DejaVuSans-50\"/>\n",
       "       <use x=\"159.033203\" xlink:href=\"#DejaVuSans-48\"/>\n",
       "      </g>\n",
       "     </g>\n",
       "    </g>\n",
       "    <g id=\"ytick_6\">\n",
       "     <g id=\"line2d_12\">\n",
       "      <g>\n",
       "       <use style=\"stroke:#000000;stroke-width:0.8;\" x=\"36.465625\" xlink:href=\"#m4eb6901af3\" y=\"98.623285\"/>\n",
       "      </g>\n",
       "     </g>\n",
       "     <g id=\"text_12\">\n",
       "      <!-- 0.25 -->\n",
       "      <g transform=\"translate(7.2 102.422504)scale(0.1 -0.1)\">\n",
       "       <use xlink:href=\"#DejaVuSans-48\"/>\n",
       "       <use x=\"63.623047\" xlink:href=\"#DejaVuSans-46\"/>\n",
       "       <use x=\"95.410156\" xlink:href=\"#DejaVuSans-50\"/>\n",
       "       <use x=\"159.033203\" xlink:href=\"#DejaVuSans-53\"/>\n",
       "      </g>\n",
       "     </g>\n",
       "    </g>\n",
       "    <g id=\"ytick_7\">\n",
       "     <g id=\"line2d_13\">\n",
       "      <g>\n",
       "       <use style=\"stroke:#000000;stroke-width:0.8;\" x=\"36.465625\" xlink:href=\"#m4eb6901af3\" y=\"66.104742\"/>\n",
       "      </g>\n",
       "     </g>\n",
       "     <g id=\"text_13\">\n",
       "      <!-- 0.30 -->\n",
       "      <defs>\n",
       "       <path d=\"M 40.578125 39.3125 \n",
       "Q 47.65625 37.796875 51.625 33 \n",
       "Q 55.609375 28.21875 55.609375 21.1875 \n",
       "Q 55.609375 10.40625 48.1875 4.484375 \n",
       "Q 40.765625 -1.421875 27.09375 -1.421875 \n",
       "Q 22.515625 -1.421875 17.65625 -0.515625 \n",
       "Q 12.796875 0.390625 7.625 2.203125 \n",
       "L 7.625 11.71875 \n",
       "Q 11.71875 9.328125 16.59375 8.109375 \n",
       "Q 21.484375 6.890625 26.8125 6.890625 \n",
       "Q 36.078125 6.890625 40.9375 10.546875 \n",
       "Q 45.796875 14.203125 45.796875 21.1875 \n",
       "Q 45.796875 27.640625 41.28125 31.265625 \n",
       "Q 36.765625 34.90625 28.71875 34.90625 \n",
       "L 20.21875 34.90625 \n",
       "L 20.21875 43.015625 \n",
       "L 29.109375 43.015625 \n",
       "Q 36.375 43.015625 40.234375 45.921875 \n",
       "Q 44.09375 48.828125 44.09375 54.296875 \n",
       "Q 44.09375 59.90625 40.109375 62.90625 \n",
       "Q 36.140625 65.921875 28.71875 65.921875 \n",
       "Q 24.65625 65.921875 20.015625 65.03125 \n",
       "Q 15.375 64.15625 9.8125 62.3125 \n",
       "L 9.8125 71.09375 \n",
       "Q 15.4375 72.65625 20.34375 73.4375 \n",
       "Q 25.25 74.21875 29.59375 74.21875 \n",
       "Q 40.828125 74.21875 47.359375 69.109375 \n",
       "Q 53.90625 64.015625 53.90625 55.328125 \n",
       "Q 53.90625 49.265625 50.4375 45.09375 \n",
       "Q 46.96875 40.921875 40.578125 39.3125 \n",
       "z\n",
       "\" id=\"DejaVuSans-51\"/>\n",
       "      </defs>\n",
       "      <g transform=\"translate(7.2 69.903961)scale(0.1 -0.1)\">\n",
       "       <use xlink:href=\"#DejaVuSans-48\"/>\n",
       "       <use x=\"63.623047\" xlink:href=\"#DejaVuSans-46\"/>\n",
       "       <use x=\"95.410156\" xlink:href=\"#DejaVuSans-51\"/>\n",
       "       <use x=\"159.033203\" xlink:href=\"#DejaVuSans-48\"/>\n",
       "      </g>\n",
       "     </g>\n",
       "    </g>\n",
       "    <g id=\"ytick_8\">\n",
       "     <g id=\"line2d_14\">\n",
       "      <g>\n",
       "       <use style=\"stroke:#000000;stroke-width:0.8;\" x=\"36.465625\" xlink:href=\"#m4eb6901af3\" y=\"33.586199\"/>\n",
       "      </g>\n",
       "     </g>\n",
       "     <g id=\"text_14\">\n",
       "      <!-- 0.35 -->\n",
       "      <g transform=\"translate(7.2 37.385418)scale(0.1 -0.1)\">\n",
       "       <use xlink:href=\"#DejaVuSans-48\"/>\n",
       "       <use x=\"63.623047\" xlink:href=\"#DejaVuSans-46\"/>\n",
       "       <use x=\"95.410156\" xlink:href=\"#DejaVuSans-51\"/>\n",
       "       <use x=\"159.033203\" xlink:href=\"#DejaVuSans-53\"/>\n",
       "      </g>\n",
       "     </g>\n",
       "    </g>\n",
       "   </g>\n",
       "   <g id=\"line2d_15\">\n",
       "    <path clip-path=\"url(#p8ca72b2591)\" d=\"M 52.698352 261.216 \n",
       "L 65.684534 230.870011 \n",
       "L 78.670716 201.002596 \n",
       "L 91.656898 172.084782 \n",
       "L 104.64308 144.572621 \n",
       "L 117.629261 118.899996 \n",
       "L 130.615443 95.471779 \n",
       "L 143.601625 74.657447 \n",
       "L 156.587807 56.785255 \n",
       "L 169.573989 42.137059 \n",
       "L 182.56017 30.943868 \n",
       "L 195.546352 23.382206 \n",
       "L 208.532534 19.571325 \n",
       "L 221.518716 19.571325 \n",
       "L 234.504898 23.382206 \n",
       "L 247.49108 30.943868 \n",
       "L 260.477261 42.137059 \n",
       "L 273.463443 56.785255 \n",
       "L 286.449625 74.657447 \n",
       "L 299.435807 95.471779 \n",
       "L 312.421989 118.899996 \n",
       "L 325.40817 144.572621 \n",
       "L 338.394352 172.084782 \n",
       "L 351.380534 201.002596 \n",
       "L 364.366716 230.870011 \n",
       "L 377.352898 261.216 \n",
       "\" style=\"fill:none;stroke:#1f77b4;stroke-linecap:square;stroke-width:1.5;\"/>\n",
       "    <defs>\n",
       "     <path d=\"M 0 3 \n",
       "C 0.795609 3 1.55874 2.683901 2.12132 2.12132 \n",
       "C 2.683901 1.55874 3 0.795609 3 0 \n",
       "C 3 -0.795609 2.683901 -1.55874 2.12132 -2.12132 \n",
       "C 1.55874 -2.683901 0.795609 -3 0 -3 \n",
       "C -0.795609 -3 -1.55874 -2.683901 -2.12132 -2.12132 \n",
       "C -2.683901 -1.55874 -3 -0.795609 -3 0 \n",
       "C -3 0.795609 -2.683901 1.55874 -2.12132 2.12132 \n",
       "C -1.55874 2.683901 -0.795609 3 0 3 \n",
       "z\n",
       "\" id=\"m434e886ad8\" style=\"stroke:#1f77b4;\"/>\n",
       "    </defs>\n",
       "    <g clip-path=\"url(#p8ca72b2591)\">\n",
       "     <use style=\"fill:#1f77b4;stroke:#1f77b4;\" x=\"52.698352\" xlink:href=\"#m434e886ad8\" y=\"261.216\"/>\n",
       "     <use style=\"fill:#1f77b4;stroke:#1f77b4;\" x=\"65.684534\" xlink:href=\"#m434e886ad8\" y=\"230.870011\"/>\n",
       "     <use style=\"fill:#1f77b4;stroke:#1f77b4;\" x=\"78.670716\" xlink:href=\"#m434e886ad8\" y=\"201.002596\"/>\n",
       "     <use style=\"fill:#1f77b4;stroke:#1f77b4;\" x=\"91.656898\" xlink:href=\"#m434e886ad8\" y=\"172.084782\"/>\n",
       "     <use style=\"fill:#1f77b4;stroke:#1f77b4;\" x=\"104.64308\" xlink:href=\"#m434e886ad8\" y=\"144.572621\"/>\n",
       "     <use style=\"fill:#1f77b4;stroke:#1f77b4;\" x=\"117.629261\" xlink:href=\"#m434e886ad8\" y=\"118.899996\"/>\n",
       "     <use style=\"fill:#1f77b4;stroke:#1f77b4;\" x=\"130.615443\" xlink:href=\"#m434e886ad8\" y=\"95.471779\"/>\n",
       "     <use style=\"fill:#1f77b4;stroke:#1f77b4;\" x=\"143.601625\" xlink:href=\"#m434e886ad8\" y=\"74.657447\"/>\n",
       "     <use style=\"fill:#1f77b4;stroke:#1f77b4;\" x=\"156.587807\" xlink:href=\"#m434e886ad8\" y=\"56.785255\"/>\n",
       "     <use style=\"fill:#1f77b4;stroke:#1f77b4;\" x=\"169.573989\" xlink:href=\"#m434e886ad8\" y=\"42.137059\"/>\n",
       "     <use style=\"fill:#1f77b4;stroke:#1f77b4;\" x=\"182.56017\" xlink:href=\"#m434e886ad8\" y=\"30.943868\"/>\n",
       "     <use style=\"fill:#1f77b4;stroke:#1f77b4;\" x=\"195.546352\" xlink:href=\"#m434e886ad8\" y=\"23.382206\"/>\n",
       "     <use style=\"fill:#1f77b4;stroke:#1f77b4;\" x=\"208.532534\" xlink:href=\"#m434e886ad8\" y=\"19.571325\"/>\n",
       "     <use style=\"fill:#1f77b4;stroke:#1f77b4;\" x=\"221.518716\" xlink:href=\"#m434e886ad8\" y=\"19.571325\"/>\n",
       "     <use style=\"fill:#1f77b4;stroke:#1f77b4;\" x=\"234.504898\" xlink:href=\"#m434e886ad8\" y=\"23.382206\"/>\n",
       "     <use style=\"fill:#1f77b4;stroke:#1f77b4;\" x=\"247.49108\" xlink:href=\"#m434e886ad8\" y=\"30.943868\"/>\n",
       "     <use style=\"fill:#1f77b4;stroke:#1f77b4;\" x=\"260.477261\" xlink:href=\"#m434e886ad8\" y=\"42.137059\"/>\n",
       "     <use style=\"fill:#1f77b4;stroke:#1f77b4;\" x=\"273.463443\" xlink:href=\"#m434e886ad8\" y=\"56.785255\"/>\n",
       "     <use style=\"fill:#1f77b4;stroke:#1f77b4;\" x=\"286.449625\" xlink:href=\"#m434e886ad8\" y=\"74.657447\"/>\n",
       "     <use style=\"fill:#1f77b4;stroke:#1f77b4;\" x=\"299.435807\" xlink:href=\"#m434e886ad8\" y=\"95.471779\"/>\n",
       "     <use style=\"fill:#1f77b4;stroke:#1f77b4;\" x=\"312.421989\" xlink:href=\"#m434e886ad8\" y=\"118.899996\"/>\n",
       "     <use style=\"fill:#1f77b4;stroke:#1f77b4;\" x=\"325.40817\" xlink:href=\"#m434e886ad8\" y=\"144.572621\"/>\n",
       "     <use style=\"fill:#1f77b4;stroke:#1f77b4;\" x=\"338.394352\" xlink:href=\"#m434e886ad8\" y=\"172.084782\"/>\n",
       "     <use style=\"fill:#1f77b4;stroke:#1f77b4;\" x=\"351.380534\" xlink:href=\"#m434e886ad8\" y=\"201.002596\"/>\n",
       "     <use style=\"fill:#1f77b4;stroke:#1f77b4;\" x=\"364.366716\" xlink:href=\"#m434e886ad8\" y=\"230.870011\"/>\n",
       "     <use style=\"fill:#1f77b4;stroke:#1f77b4;\" x=\"377.352898\" xlink:href=\"#m434e886ad8\" y=\"261.216\"/>\n",
       "    </g>\n",
       "   </g>\n",
       "   <g id=\"line2d_16\">\n",
       "    <path clip-path=\"url(#p8ca72b2591)\" d=\"M 52.698352 261.216 \n",
       "L 65.684534 230.835435 \n",
       "L 78.670716 200.93399 \n",
       "L 91.656898 171.983228 \n",
       "L 104.64308 144.43972 \n",
       "L 117.629261 118.737844 \n",
       "L 130.615443 95.282933 \n",
       "L 143.601625 74.444886 \n",
       "L 156.587807 56.552331 \n",
       "L 169.573989 41.887445 \n",
       "L 182.56017 30.6815 \n",
       "L 195.546352 23.111223 \n",
       "L 208.532534 19.296 \n",
       "L 221.518716 19.296 \n",
       "L 234.504898 23.111223 \n",
       "L 247.49108 30.6815 \n",
       "L 260.477261 41.887445 \n",
       "L 273.463443 56.552331 \n",
       "L 286.449625 74.444886 \n",
       "L 299.435807 95.282933 \n",
       "L 312.421989 118.737844 \n",
       "L 325.40817 144.43972 \n",
       "L 338.394352 171.983228 \n",
       "L 351.380534 200.93399 \n",
       "L 364.366716 230.835435 \n",
       "L 377.352898 261.216 \n",
       "\" style=\"fill:none;stroke:#ff7f0e;stroke-linecap:square;stroke-width:1.5;\"/>\n",
       "   </g>\n",
       "   <g id=\"patch_3\">\n",
       "    <path d=\"M 36.465625 273.312 \n",
       "L 36.465625 7.2 \n",
       "\" style=\"fill:none;stroke:#000000;stroke-linecap:square;stroke-linejoin:miter;stroke-width:0.8;\"/>\n",
       "   </g>\n",
       "   <g id=\"patch_4\">\n",
       "    <path d=\"M 393.585625 273.312 \n",
       "L 393.585625 7.2 \n",
       "\" style=\"fill:none;stroke:#000000;stroke-linecap:square;stroke-linejoin:miter;stroke-width:0.8;\"/>\n",
       "   </g>\n",
       "   <g id=\"patch_5\">\n",
       "    <path d=\"M 36.465625 273.312 \n",
       "L 393.585625 273.312 \n",
       "\" style=\"fill:none;stroke:#000000;stroke-linecap:square;stroke-linejoin:miter;stroke-width:0.8;\"/>\n",
       "   </g>\n",
       "   <g id=\"patch_6\">\n",
       "    <path d=\"M 36.465625 7.2 \n",
       "L 393.585625 7.2 \n",
       "\" style=\"fill:none;stroke:#000000;stroke-linecap:square;stroke-linejoin:miter;stroke-width:0.8;\"/>\n",
       "   </g>\n",
       "   <g id=\"legend_1\">\n",
       "    <g id=\"patch_7\">\n",
       "     <path d=\"M 281.955938 44.55625 \n",
       "L 386.585625 44.55625 \n",
       "Q 388.585625 44.55625 388.585625 42.55625 \n",
       "L 388.585625 14.2 \n",
       "Q 388.585625 12.2 386.585625 12.2 \n",
       "L 281.955938 12.2 \n",
       "Q 279.955938 12.2 279.955938 14.2 \n",
       "L 279.955938 42.55625 \n",
       "Q 279.955938 44.55625 281.955938 44.55625 \n",
       "z\n",
       "\" style=\"fill:#ffffff;opacity:0.8;stroke:#cccccc;stroke-linejoin:miter;\"/>\n",
       "    </g>\n",
       "    <g id=\"line2d_17\">\n",
       "     <path d=\"M 283.955938 20.298437 \n",
       "L 303.955938 20.298437 \n",
       "\" style=\"fill:none;stroke:#1f77b4;stroke-linecap:square;stroke-width:1.5;\"/>\n",
       "    </g>\n",
       "    <g id=\"line2d_18\">\n",
       "     <g>\n",
       "      <use style=\"fill:#1f77b4;stroke:#1f77b4;\" x=\"293.955938\" xlink:href=\"#m434e886ad8\" y=\"20.298437\"/>\n",
       "     </g>\n",
       "    </g>\n",
       "    <g id=\"text_15\">\n",
       "     <!-- numerik t=0.1 -->\n",
       "     <defs>\n",
       "      <path d=\"M 54.890625 33.015625 \n",
       "L 54.890625 0 \n",
       "L 45.90625 0 \n",
       "L 45.90625 32.71875 \n",
       "Q 45.90625 40.484375 42.875 44.328125 \n",
       "Q 39.84375 48.1875 33.796875 48.1875 \n",
       "Q 26.515625 48.1875 22.3125 43.546875 \n",
       "Q 18.109375 38.921875 18.109375 30.90625 \n",
       "L 18.109375 0 \n",
       "L 9.078125 0 \n",
       "L 9.078125 54.6875 \n",
       "L 18.109375 54.6875 \n",
       "L 18.109375 46.1875 \n",
       "Q 21.34375 51.125 25.703125 53.5625 \n",
       "Q 30.078125 56 35.796875 56 \n",
       "Q 45.21875 56 50.046875 50.171875 \n",
       "Q 54.890625 44.34375 54.890625 33.015625 \n",
       "z\n",
       "\" id=\"DejaVuSans-110\"/>\n",
       "      <path d=\"M 8.5 21.578125 \n",
       "L 8.5 54.6875 \n",
       "L 17.484375 54.6875 \n",
       "L 17.484375 21.921875 \n",
       "Q 17.484375 14.15625 20.5 10.265625 \n",
       "Q 23.53125 6.390625 29.59375 6.390625 \n",
       "Q 36.859375 6.390625 41.078125 11.03125 \n",
       "Q 45.3125 15.671875 45.3125 23.6875 \n",
       "L 45.3125 54.6875 \n",
       "L 54.296875 54.6875 \n",
       "L 54.296875 0 \n",
       "L 45.3125 0 \n",
       "L 45.3125 8.40625 \n",
       "Q 42.046875 3.421875 37.71875 1 \n",
       "Q 33.40625 -1.421875 27.6875 -1.421875 \n",
       "Q 18.265625 -1.421875 13.375 4.4375 \n",
       "Q 8.5 10.296875 8.5 21.578125 \n",
       "z\n",
       "M 31.109375 56 \n",
       "z\n",
       "\" id=\"DejaVuSans-117\"/>\n",
       "      <path d=\"M 52 44.1875 \n",
       "Q 55.375 50.25 60.0625 53.125 \n",
       "Q 64.75 56 71.09375 56 \n",
       "Q 79.640625 56 84.28125 50.015625 \n",
       "Q 88.921875 44.046875 88.921875 33.015625 \n",
       "L 88.921875 0 \n",
       "L 79.890625 0 \n",
       "L 79.890625 32.71875 \n",
       "Q 79.890625 40.578125 77.09375 44.375 \n",
       "Q 74.3125 48.1875 68.609375 48.1875 \n",
       "Q 61.625 48.1875 57.5625 43.546875 \n",
       "Q 53.515625 38.921875 53.515625 30.90625 \n",
       "L 53.515625 0 \n",
       "L 44.484375 0 \n",
       "L 44.484375 32.71875 \n",
       "Q 44.484375 40.625 41.703125 44.40625 \n",
       "Q 38.921875 48.1875 33.109375 48.1875 \n",
       "Q 26.21875 48.1875 22.15625 43.53125 \n",
       "Q 18.109375 38.875 18.109375 30.90625 \n",
       "L 18.109375 0 \n",
       "L 9.078125 0 \n",
       "L 9.078125 54.6875 \n",
       "L 18.109375 54.6875 \n",
       "L 18.109375 46.1875 \n",
       "Q 21.1875 51.21875 25.484375 53.609375 \n",
       "Q 29.78125 56 35.6875 56 \n",
       "Q 41.65625 56 45.828125 52.96875 \n",
       "Q 50 49.953125 52 44.1875 \n",
       "z\n",
       "\" id=\"DejaVuSans-109\"/>\n",
       "      <path d=\"M 56.203125 29.59375 \n",
       "L 56.203125 25.203125 \n",
       "L 14.890625 25.203125 \n",
       "Q 15.484375 15.921875 20.484375 11.0625 \n",
       "Q 25.484375 6.203125 34.421875 6.203125 \n",
       "Q 39.59375 6.203125 44.453125 7.46875 \n",
       "Q 49.3125 8.734375 54.109375 11.28125 \n",
       "L 54.109375 2.78125 \n",
       "Q 49.265625 0.734375 44.1875 -0.34375 \n",
       "Q 39.109375 -1.421875 33.890625 -1.421875 \n",
       "Q 20.796875 -1.421875 13.15625 6.1875 \n",
       "Q 5.515625 13.8125 5.515625 26.8125 \n",
       "Q 5.515625 40.234375 12.765625 48.109375 \n",
       "Q 20.015625 56 32.328125 56 \n",
       "Q 43.359375 56 49.78125 48.890625 \n",
       "Q 56.203125 41.796875 56.203125 29.59375 \n",
       "z\n",
       "M 47.21875 32.234375 \n",
       "Q 47.125 39.59375 43.09375 43.984375 \n",
       "Q 39.0625 48.390625 32.421875 48.390625 \n",
       "Q 24.90625 48.390625 20.390625 44.140625 \n",
       "Q 15.875 39.890625 15.1875 32.171875 \n",
       "z\n",
       "\" id=\"DejaVuSans-101\"/>\n",
       "      <path d=\"M 41.109375 46.296875 \n",
       "Q 39.59375 47.171875 37.8125 47.578125 \n",
       "Q 36.03125 48 33.890625 48 \n",
       "Q 26.265625 48 22.1875 43.046875 \n",
       "Q 18.109375 38.09375 18.109375 28.8125 \n",
       "L 18.109375 0 \n",
       "L 9.078125 0 \n",
       "L 9.078125 54.6875 \n",
       "L 18.109375 54.6875 \n",
       "L 18.109375 46.1875 \n",
       "Q 20.953125 51.171875 25.484375 53.578125 \n",
       "Q 30.03125 56 36.53125 56 \n",
       "Q 37.453125 56 38.578125 55.875 \n",
       "Q 39.703125 55.765625 41.0625 55.515625 \n",
       "z\n",
       "\" id=\"DejaVuSans-114\"/>\n",
       "      <path d=\"M 9.421875 54.6875 \n",
       "L 18.40625 54.6875 \n",
       "L 18.40625 0 \n",
       "L 9.421875 0 \n",
       "z\n",
       "M 9.421875 75.984375 \n",
       "L 18.40625 75.984375 \n",
       "L 18.40625 64.59375 \n",
       "L 9.421875 64.59375 \n",
       "z\n",
       "\" id=\"DejaVuSans-105\"/>\n",
       "      <path d=\"M 9.078125 75.984375 \n",
       "L 18.109375 75.984375 \n",
       "L 18.109375 31.109375 \n",
       "L 44.921875 54.6875 \n",
       "L 56.390625 54.6875 \n",
       "L 27.390625 29.109375 \n",
       "L 57.625 0 \n",
       "L 45.90625 0 \n",
       "L 18.109375 26.703125 \n",
       "L 18.109375 0 \n",
       "L 9.078125 0 \n",
       "z\n",
       "\" id=\"DejaVuSans-107\"/>\n",
       "      <path id=\"DejaVuSans-32\"/>\n",
       "      <path d=\"M 18.3125 70.21875 \n",
       "L 18.3125 54.6875 \n",
       "L 36.8125 54.6875 \n",
       "L 36.8125 47.703125 \n",
       "L 18.3125 47.703125 \n",
       "L 18.3125 18.015625 \n",
       "Q 18.3125 11.328125 20.140625 9.421875 \n",
       "Q 21.96875 7.515625 27.59375 7.515625 \n",
       "L 36.8125 7.515625 \n",
       "L 36.8125 0 \n",
       "L 27.59375 0 \n",
       "Q 17.1875 0 13.234375 3.875 \n",
       "Q 9.28125 7.765625 9.28125 18.015625 \n",
       "L 9.28125 47.703125 \n",
       "L 2.6875 47.703125 \n",
       "L 2.6875 54.6875 \n",
       "L 9.28125 54.6875 \n",
       "L 9.28125 70.21875 \n",
       "z\n",
       "\" id=\"DejaVuSans-116\"/>\n",
       "      <path d=\"M 10.59375 45.40625 \n",
       "L 73.1875 45.40625 \n",
       "L 73.1875 37.203125 \n",
       "L 10.59375 37.203125 \n",
       "z\n",
       "M 10.59375 25.484375 \n",
       "L 73.1875 25.484375 \n",
       "L 73.1875 17.1875 \n",
       "L 10.59375 17.1875 \n",
       "z\n",
       "\" id=\"DejaVuSans-61\"/>\n",
       "     </defs>\n",
       "     <g transform=\"translate(311.955938 23.798437)scale(0.1 -0.1)\">\n",
       "      <use xlink:href=\"#DejaVuSans-110\"/>\n",
       "      <use x=\"63.378906\" xlink:href=\"#DejaVuSans-117\"/>\n",
       "      <use x=\"126.757812\" xlink:href=\"#DejaVuSans-109\"/>\n",
       "      <use x=\"224.169922\" xlink:href=\"#DejaVuSans-101\"/>\n",
       "      <use x=\"285.693359\" xlink:href=\"#DejaVuSans-114\"/>\n",
       "      <use x=\"326.806641\" xlink:href=\"#DejaVuSans-105\"/>\n",
       "      <use x=\"354.589844\" xlink:href=\"#DejaVuSans-107\"/>\n",
       "      <use x=\"412.5\" xlink:href=\"#DejaVuSans-32\"/>\n",
       "      <use x=\"444.287109\" xlink:href=\"#DejaVuSans-116\"/>\n",
       "      <use x=\"483.496094\" xlink:href=\"#DejaVuSans-61\"/>\n",
       "      <use x=\"567.285156\" xlink:href=\"#DejaVuSans-48\"/>\n",
       "      <use x=\"630.908203\" xlink:href=\"#DejaVuSans-46\"/>\n",
       "      <use x=\"662.695312\" xlink:href=\"#DejaVuSans-49\"/>\n",
       "     </g>\n",
       "    </g>\n",
       "    <g id=\"line2d_19\">\n",
       "     <path d=\"M 283.955938 34.976562 \n",
       "L 303.955938 34.976562 \n",
       "\" style=\"fill:none;stroke:#ff7f0e;stroke-linecap:square;stroke-width:1.5;\"/>\n",
       "    </g>\n",
       "    <g id=\"line2d_20\"/>\n",
       "    <g id=\"text_16\">\n",
       "     <!-- analitik t=0.1 -->\n",
       "     <defs>\n",
       "      <path d=\"M 34.28125 27.484375 \n",
       "Q 23.390625 27.484375 19.1875 25 \n",
       "Q 14.984375 22.515625 14.984375 16.5 \n",
       "Q 14.984375 11.71875 18.140625 8.90625 \n",
       "Q 21.296875 6.109375 26.703125 6.109375 \n",
       "Q 34.1875 6.109375 38.703125 11.40625 \n",
       "Q 43.21875 16.703125 43.21875 25.484375 \n",
       "L 43.21875 27.484375 \n",
       "z\n",
       "M 52.203125 31.203125 \n",
       "L 52.203125 0 \n",
       "L 43.21875 0 \n",
       "L 43.21875 8.296875 \n",
       "Q 40.140625 3.328125 35.546875 0.953125 \n",
       "Q 30.953125 -1.421875 24.3125 -1.421875 \n",
       "Q 15.921875 -1.421875 10.953125 3.296875 \n",
       "Q 6 8.015625 6 15.921875 \n",
       "Q 6 25.140625 12.171875 29.828125 \n",
       "Q 18.359375 34.515625 30.609375 34.515625 \n",
       "L 43.21875 34.515625 \n",
       "L 43.21875 35.40625 \n",
       "Q 43.21875 41.609375 39.140625 45 \n",
       "Q 35.0625 48.390625 27.6875 48.390625 \n",
       "Q 23 48.390625 18.546875 47.265625 \n",
       "Q 14.109375 46.140625 10.015625 43.890625 \n",
       "L 10.015625 52.203125 \n",
       "Q 14.9375 54.109375 19.578125 55.046875 \n",
       "Q 24.21875 56 28.609375 56 \n",
       "Q 40.484375 56 46.34375 49.84375 \n",
       "Q 52.203125 43.703125 52.203125 31.203125 \n",
       "z\n",
       "\" id=\"DejaVuSans-97\"/>\n",
       "      <path d=\"M 9.421875 75.984375 \n",
       "L 18.40625 75.984375 \n",
       "L 18.40625 0 \n",
       "L 9.421875 0 \n",
       "z\n",
       "\" id=\"DejaVuSans-108\"/>\n",
       "     </defs>\n",
       "     <g transform=\"translate(311.955938 38.476562)scale(0.1 -0.1)\">\n",
       "      <use xlink:href=\"#DejaVuSans-97\"/>\n",
       "      <use x=\"61.279297\" xlink:href=\"#DejaVuSans-110\"/>\n",
       "      <use x=\"124.658203\" xlink:href=\"#DejaVuSans-97\"/>\n",
       "      <use x=\"185.9375\" xlink:href=\"#DejaVuSans-108\"/>\n",
       "      <use x=\"213.720703\" xlink:href=\"#DejaVuSans-105\"/>\n",
       "      <use x=\"241.503906\" xlink:href=\"#DejaVuSans-116\"/>\n",
       "      <use x=\"280.712891\" xlink:href=\"#DejaVuSans-105\"/>\n",
       "      <use x=\"308.496094\" xlink:href=\"#DejaVuSans-107\"/>\n",
       "      <use x=\"366.40625\" xlink:href=\"#DejaVuSans-32\"/>\n",
       "      <use x=\"398.193359\" xlink:href=\"#DejaVuSans-116\"/>\n",
       "      <use x=\"437.402344\" xlink:href=\"#DejaVuSans-61\"/>\n",
       "      <use x=\"521.191406\" xlink:href=\"#DejaVuSans-48\"/>\n",
       "      <use x=\"584.814453\" xlink:href=\"#DejaVuSans-46\"/>\n",
       "      <use x=\"616.601562\" xlink:href=\"#DejaVuSans-49\"/>\n",
       "     </g>\n",
       "    </g>\n",
       "   </g>\n",
       "  </g>\n",
       " </g>\n",
       " <defs>\n",
       "  <clipPath id=\"p8ca72b2591\">\n",
       "   <rect height=\"266.112\" width=\"357.12\" x=\"36.465625\" y=\"7.2\"/>\n",
       "  </clipPath>\n",
       " </defs>\n",
       "</svg>\n"
      ],
      "text/plain": [
       "<Figure size 640x480 with 1 Axes>"
      ]
     },
     "metadata": {},
     "output_type": "display_data"
    }
   ],
   "source": [
    "plt.clf()\n",
    "plt.plot(x_exp, u_exp[:,-1], label=\"numerik t=\"+str(t_exp[-1]), marker=\"o\")\n",
    "plt.plot(x_exp, sol_01_analitik(x_exp, t_exp[-1]), label=\"analitik t=\"+str(t_exp[-1]))\n",
    "plt.legend();"
   ]
  },
  {
   "cell_type": "markdown",
   "metadata": {
    "hidden": true
   },
   "source": [
    "Animasi"
   ]
  },
  {
   "cell_type": "code",
   "execution_count": null,
   "metadata": {
    "hidden": true
   },
   "outputs": [],
   "source": [
    "anim = create_anim_2d(u_exp, x_exp, t_exp, 0.0, 1.1)"
   ]
  },
  {
   "cell_type": "code",
   "execution_count": null,
   "metadata": {
    "hidden": true
   },
   "outputs": [],
   "source": [
    "IPython.display.HTML( anim.to_html5_video() )"
   ]
  },
  {
   "cell_type": "markdown",
   "metadata": {
    "hidden": true
   },
   "source": [
    "Tulis ke file:"
   ]
  },
  {
   "cell_type": "code",
   "execution_count": null,
   "metadata": {
    "hidden": true,
    "scrolled": true
   },
   "outputs": [],
   "source": [
    "for k in range(Nt+1):\n",
    "    plt.clf()\n",
    "    plt.plot( x_exp, u_exp[:,k], label=\"t=\"+format(\"%.5f\" % t_exp[k]))\n",
    "    plt.legend();\n",
    "    plt.ylim(0.0, 1.05)\n",
    "    plt.savefig(format(\"TEMP_%04d.png\" % (k)))"
   ]
  },
  {
   "cell_type": "markdown",
   "metadata": {
    "heading_collapsed": true,
    "hidden": true
   },
   "source": [
    "#### Kasus solusi tidak stabil"
   ]
  },
  {
   "cell_type": "code",
   "execution_count": null,
   "metadata": {
    "hidden": true
   },
   "outputs": [],
   "source": [
    "# Dari soal atau masalah yang diberikan\n",
    "alpha = 1.0\n",
    "xf = 1.0\n",
    "tf = 0.1\n",
    "\n",
    "# ditentukan pengguna\n",
    "Nx = 50\n",
    "Nt = 200\n",
    "\n",
    "u_exp, x_exp, t_exp = heat_1d_euler_exp( alpha, xf, tf, initial_temp, bx0, bxf, Nx, Nt )"
   ]
  },
  {
   "cell_type": "markdown",
   "metadata": {
    "hidden": true
   },
   "source": [
    "Plot untuk beberapa nilai t (paling awal dan paling akhir) "
   ]
  },
  {
   "cell_type": "code",
   "execution_count": null,
   "metadata": {
    "hidden": true
   },
   "outputs": [],
   "source": [
    "plt.clf()\n",
    "plt.plot( x_exp, u_exp[:,0], label=\"t=\"+str(t_exp[0]))\n",
    "plt.plot( x_exp, u_exp[:,-1], label=\"t=\"+str(t_exp[-1]))\n",
    "plt.legend();"
   ]
  },
  {
   "cell_type": "markdown",
   "metadata": {
    "hidden": true
   },
   "source": [
    "Perhatikan bahwa pada kasus ini solusi numerik yang diperoleh tidak stabil (kesalahan semakin membesar)."
   ]
  },
  {
   "cell_type": "code",
   "execution_count": null,
   "metadata": {
    "hidden": true
   },
   "outputs": [],
   "source": []
  },
  {
   "cell_type": "markdown",
   "metadata": {
    "heading_collapsed": true,
    "hidden": true
   },
   "source": [
    "## Metode Euler implisit"
   ]
  },
  {
   "cell_type": "markdown",
   "metadata": {
    "hidden": true
   },
   "source": [
    "Domain spasial dibagi menjadi $N_{x}$ segmen dengan $\\Delta x = x_{f}/N_{x}$.\n",
    "\n",
    "Domain temporal dibagi menjadi $N_{t}$ segmen dengan $\\Delta t = t_{f}/N_{t}$.\n",
    "\n",
    "Turunan parsial kedua terhadap $x$ diaproksimasi dengan menggunakan central difference.\n",
    "\n",
    "Turunan parsial pertama terhadap $t$ diaproksimasi dengan backward difference."
   ]
  },
  {
   "cell_type": "markdown",
   "metadata": {
    "hidden": true
   },
   "source": [
    "$$\n",
    "\\alpha \\frac{u^{k}_{i+1} - 2u^{k}_{i} + u^{k}_{i-1}}{(\\Delta x)^2} = \\frac{u^{k}_{i} - u^{k-1}_{i}}{\\Delta t}\n",
    "$$"
   ]
  },
  {
   "cell_type": "markdown",
   "metadata": {
    "hidden": true
   },
   "source": [
    "Dengan menggunakan notasi:\n",
    "$$\n",
    "r = \\alpha \\frac{\\Delta t}{(\\Delta x)^2}\n",
    "$$\n",
    "\n",
    "Diperoleh persamaan implisit:\n",
    "$$\n",
    "-ru^{k}_{i-1}+ (1 + 2r)u^{k}_{i} - ru^{k}_{i+1} = u^{k-1}_{i}\n",
    "$$\n",
    "untuk $i = 1, 2, \\ldots, N_{x}-1$."
   ]
  },
  {
   "cell_type": "markdown",
   "metadata": {
    "hidden": true
   },
   "source": [
    "Dalam bentuk matriks:\n",
    "\n",
    "$$\n",
    "\\begin{bmatrix}\n",
    "1 + 2r & -r & 0 & \\cdot & 0 & 0 \\\\\n",
    "-r & 1 + 2r & -r & \\cdot & 0 & 0 \\\\\n",
    "0 & -r & 1 + 2r & \\cdot & 0 & 0 \\\\\n",
    "\\cdot & \\cdot & \\cdot & \\cdot & \\cdot & \\cdot \\\\\n",
    "0 & 0 & 0 & \\cdot & 1 + 2r & -r \\\\\n",
    "0 & 0 & 0 & \\cdot & -r & 1 + 2r\n",
    "\\end{bmatrix}\n",
    "\\begin{bmatrix}\n",
    "u^{k}_{1} \\\\\n",
    "u^{k}_{2} \\\\\n",
    "u^{k}_{3} \\\\\n",
    "\\cdot \\\\\n",
    "u^{k}_{N_{x}-2} \\\\\n",
    "u^{k}_{N_{x}-1}\n",
    "\\end{bmatrix} = \n",
    "\\begin{bmatrix}\n",
    "u^{k-1}_{1} + ru^{k}_{0} \\\\\n",
    "u^{k-1}_{2} \\\\\n",
    "u^{k-1}_{3} \\\\\n",
    "\\cdot \\\\\n",
    "u^{k-1}_{N_{x}-2} \\\\\n",
    "u^{k-1}_{N_{x}-1} + ru^{k}_{N_{x}}\n",
    "\\end{bmatrix}\n",
    "$$"
   ]
  },
  {
   "cell_type": "markdown",
   "metadata": {
    "heading_collapsed": true,
    "hidden": true
   },
   "source": [
    "### Implementasi"
   ]
  },
  {
   "cell_type": "markdown",
   "metadata": {
    "hidden": true
   },
   "source": [
    "Dalam kode di bawah ini akan didefinisikan matriks $\\mathbf{A}$ sebagai matriks koefisien pada ruas kiri dan vektor $\\mathbf{b}$ pada ruas kanan."
   ]
  },
  {
   "cell_type": "code",
   "execution_count": null,
   "metadata": {
    "hidden": true
   },
   "outputs": [],
   "source": [
    "def heat_1d_euler_imp( alpha, xf, tf, u0x, bx0, bxf, Nx, Nt ):\n",
    "    \n",
    "    dx = xf/Nx\n",
    "    x = np.linspace(0.0, xf, Nx+1)\n",
    "    \n",
    "    dt = tf/Nt\n",
    "    t = np.linspace(0.0, tf, Nt+1)\n",
    "\n",
    "    u = np.zeros( (Nx+1, Nt+1) ) \n",
    "\n",
    "    # Aplikasi syarat awal\n",
    "    for i in range(Nx+1):\n",
    "        u[i,0] = u0x( x[i] )\n",
    "    \n",
    "    # Syarat batas\n",
    "    for k in range(Nt+1):\n",
    "        u[0,k] = bx0( t[k] )\n",
    "        u[Nx,k] = bxf( t[k] )\n",
    "    \n",
    "    r = alpha*dt/dx**2\n",
    "    \n",
    "    # Bangun matriks A\n",
    "    A = np.zeros( (Nx-1,Nx-1) )\n",
    "    for i in range(Nx-1):\n",
    "        A[i,i] = 1 + 2*r\n",
    "        if i > 0:\n",
    "            A[i-1,i] = -r\n",
    "            A[i,i-1] = -r\n",
    "    \n",
    "    # Bangun vektor b\n",
    "    b = np.zeros(Nx-1)\n",
    "    for k in range(1,Nt+1):\n",
    "        b = np.copy(u[1:Nx,k-1])\n",
    "        b[0] = b[0] + r*u[0,k]\n",
    "        b[Nx-2] = b[Nx-2] + r*u[Nx,k]\n",
    "        # Selesaikan sistem persamaan linear\n",
    "        u[1:Nx,k] = np.linalg.solve(A, b)\n",
    "    \n",
    "    return u, x, t"
   ]
  },
  {
   "cell_type": "markdown",
   "metadata": {
    "heading_collapsed": true,
    "hidden": true
   },
   "source": [
    "### Contoh"
   ]
  },
  {
   "cell_type": "markdown",
   "metadata": {
    "hidden": true
   },
   "source": [
    "Untuk parameter-parameter berikut, metode eksplisit stabil."
   ]
  },
  {
   "cell_type": "code",
   "execution_count": null,
   "metadata": {
    "hidden": true
   },
   "outputs": [],
   "source": [
    "alpha = 1.0\n",
    "\n",
    "# dari soal (deskripsi masalah)\n",
    "xf = 1.0\n",
    "tf = 0.1\n",
    "\n",
    "# dari pengguna\n",
    "Nx = 25\n",
    "Nt = 200\n",
    "\n",
    "u_imp, x_imp, t_imp = heat_1d_euler_imp( alpha, xf, tf, initial_temp, bx0, bxf, Nx, Nt )"
   ]
  },
  {
   "cell_type": "markdown",
   "metadata": {
    "hidden": true
   },
   "source": [
    "Plot hasilnya untuk beberapa nilai t."
   ]
  },
  {
   "cell_type": "code",
   "execution_count": null,
   "metadata": {
    "hidden": true,
    "scrolled": true
   },
   "outputs": [],
   "source": [
    "plt.clf()\n",
    "plt.plot(x_imp, u_imp[:,0], label=\"t=\"+str(t_imp[0]))\n",
    "plt.plot(x_imp, u_imp[:,4], label=\"t=\"+str(t_imp[4]))\n",
    "plt.plot(x_imp, u_imp[:,-1], label=\"t=\"+str(t_imp[-1]))\n",
    "plt.legend();"
   ]
  },
  {
   "cell_type": "markdown",
   "metadata": {
    "hidden": true
   },
   "source": [
    "Untuk parameter-parameter berikut ini, metode eksplisit tidak stabil.\n",
    "\n",
    "Bagaimana untuk metode implisit?"
   ]
  },
  {
   "cell_type": "code",
   "execution_count": null,
   "metadata": {
    "hidden": true
   },
   "outputs": [],
   "source": [
    "alpha = 1.0\n",
    "\n",
    "xf = 1.0\n",
    "tf = 0.1\n",
    "\n",
    "Nx = 50\n",
    "Nt = 200\n",
    "\n",
    "u_imp, x_imp, t_imp = heat_1d_euler_imp( alpha, xf, tf, initial_temp, bx0, bxf, Nx, Nt )"
   ]
  },
  {
   "cell_type": "markdown",
   "metadata": {
    "hidden": true
   },
   "source": [
    "Plot hasilnya untuk beberapa nilai t."
   ]
  },
  {
   "cell_type": "code",
   "execution_count": null,
   "metadata": {
    "hidden": true,
    "scrolled": true
   },
   "outputs": [],
   "source": [
    "plt.clf()\n",
    "plt.plot(x_imp, u_imp[:,0], label=\"t=\"+str(t_imp[0]))\n",
    "plt.plot(x_imp, u_imp[:,4], label=\"t=\"+str(t_exp[4]))\n",
    "plt.plot(x_imp, u_imp[:,-1], label=\"t=\"+str(t_imp[-1]))\n",
    "plt.legend();"
   ]
  },
  {
   "cell_type": "markdown",
   "metadata": {
    "hidden": true
   },
   "source": [
    "Dapat dilihat bahwa solusi numerik yang dihasikan oleh metode implisit bersifat stabil. Dapat ditunjukkan dengan menggunakan analisis numerik bahwa metode implisit bersifat stabil tanpa syarat."
   ]
  },
  {
   "cell_type": "markdown",
   "metadata": {
    "hidden": true
   },
   "source": [
    "Sekarang akan kita coba mencari solusi untuk nilai $t_f$ yang lebih besar."
   ]
  },
  {
   "cell_type": "code",
   "execution_count": null,
   "metadata": {
    "hidden": true
   },
   "outputs": [],
   "source": [
    "alpha = 1.0\n",
    "\n",
    "xf = 1.0\n",
    "tf = 0.2\n",
    "\n",
    "Nx = 50\n",
    "Nt = 200\n",
    "\n",
    "u_imp, x_imp, t_imp = heat_1d_euler_imp( alpha, xf, tf, initial_temp, bx0, bxf, Nx, Nt )"
   ]
  },
  {
   "cell_type": "markdown",
   "metadata": {
    "hidden": true
   },
   "source": [
    "Plot hasilnya untuk beberapa nilai t."
   ]
  },
  {
   "cell_type": "code",
   "execution_count": null,
   "metadata": {
    "hidden": true,
    "scrolled": true
   },
   "outputs": [],
   "source": [
    "plt.clf()\n",
    "plt.plot(x_imp, u_imp[:,0], label=\"t=\"+str(t_imp[0]))\n",
    "plt.plot(x_imp, u_imp[:,100], label=\"t=\"+str(t_imp[100]))\n",
    "plt.plot(x_imp, u_imp[:,-1], label=\"t=\"+str(t_imp[-1]))\n",
    "plt.legend();"
   ]
  },
  {
   "cell_type": "code",
   "execution_count": null,
   "metadata": {
    "hidden": true
   },
   "outputs": [],
   "source": [
    "anim = create_anim_2d(u_imp, x_imp, t_imp, 0.0, 1.1)"
   ]
  },
  {
   "cell_type": "code",
   "execution_count": null,
   "metadata": {
    "hidden": true
   },
   "outputs": [],
   "source": [
    "IPython.display.HTML(anim.to_html5_video())"
   ]
  },
  {
   "cell_type": "code",
   "execution_count": null,
   "metadata": {
    "hidden": true
   },
   "outputs": [],
   "source": []
  },
  {
   "cell_type": "markdown",
   "metadata": {
    "hidden": true
   },
   "source": [
    "Bagaimana jika kita menggunakan metode eksplisit ?"
   ]
  },
  {
   "cell_type": "code",
   "execution_count": null,
   "metadata": {
    "hidden": true
   },
   "outputs": [],
   "source": [
    "alpha = 1.0\n",
    "\n",
    "xf = 1.0\n",
    "tf = 0.2\n",
    "\n",
    "Nx = 50\n",
    "Nt = 200\n",
    "\n",
    "u_exp, x_exp, t_exp = heat_1d_euler_exp( alpha, xf, tf, initial_temp, bx0, bxf, Nx, Nt )"
   ]
  },
  {
   "cell_type": "code",
   "execution_count": null,
   "metadata": {
    "hidden": true
   },
   "outputs": [],
   "source": [
    "plt.clf()\n",
    "plt.plot(x_exp, u_exp[:,0], label=\"t=\"+str(t_exp[0]))\n",
    "plt.plot(x_exp, u_exp[:,10], label=\"t=\"+str(t_exp[10]))\n",
    "plt.plot(x_exp, u_exp[:,15], label=\"t=\"+str(t_exp[15]))\n",
    "plt.plot(x_exp, u_exp[:,16], label=\"t=\"+str(t_exp[16]))\n",
    "plt.ylim(0.0, 1.0)\n",
    "plt.legend();"
   ]
  },
  {
   "cell_type": "markdown",
   "metadata": {
    "hidden": true
   },
   "source": [
    "Dapat dilihat bahwa solusi ini tidak stabil."
   ]
  },
  {
   "cell_type": "code",
   "execution_count": null,
   "metadata": {
    "hidden": true
   },
   "outputs": [],
   "source": [
    "anim = create_anim_2d(u_exp, x_exp, t_exp, 0.0, 1.1)"
   ]
  },
  {
   "cell_type": "code",
   "execution_count": null,
   "metadata": {
    "hidden": true
   },
   "outputs": [],
   "source": [
    "IPython.display.HTML(anim.to_html5_video())"
   ]
  },
  {
   "cell_type": "code",
   "execution_count": null,
   "metadata": {
    "hidden": true
   },
   "outputs": [],
   "source": []
  },
  {
   "cell_type": "markdown",
   "metadata": {
    "heading_collapsed": true,
    "hidden": true
   },
   "source": [
    "## Metode Crank-Nicholson"
   ]
  },
  {
   "cell_type": "markdown",
   "metadata": {
    "hidden": true
   },
   "source": [
    "Metode Crank-Nicholson diperoleh dengan menggunakan rata-rata aproksimasi central difference antara titik waktu $k + 1$ dan $k$ sehingga diperoleh:\n",
    "\n",
    "$$\n",
    "\\frac{\\alpha}{2} \\left(\n",
    "\\frac{u^{k+1}_{i+1} - 2u^{k+1}_{i} + u^{k+1}_{i-1}}{(\\Delta x)^2} +\n",
    "\\frac{u^{k}_{i+1} - 2u^{k}_{i} + u^{k}_{i-1}}{(\\Delta x)^2}\n",
    "\\right) = \n",
    "\\frac{u^{k+1}_{i} - u^{k}_{i}}{\\Delta t}\n",
    "$$"
   ]
  },
  {
   "cell_type": "markdown",
   "metadata": {
    "hidden": true
   },
   "source": [
    "atau:\n",
    "$$\n",
    "ru^{k+1}_{i+1} - 2ru^{k+1}_{i} + ru^{k+1}_{i-1} + ru^{k}_{i+1} - 2ru^{k}_{i} + ru^{k}_{i-1} = 2u^{k+1}_{i} - 2u^{k}_{i}\n",
    "$$"
   ]
  },
  {
   "cell_type": "markdown",
   "metadata": {
    "hidden": true
   },
   "source": [
    "$$\n",
    "-ru^{k+1}_{i+1} + 2(1 + r)u^{k+1}_{i} - ru^{k+1}_{i-1} = ru^{k}_{i+1} + 2(1 - r)u^{k}_{i} + ru^{k}_{i-1}\n",
    "$$"
   ]
  },
  {
   "cell_type": "markdown",
   "metadata": {
    "hidden": true
   },
   "source": [
    "Dalam bentuk matriks:\n",
    "$$\n",
    "\\mathbf{A}\\mathbf{u}^{k+1} = \\mathbf{B}\\mathbf{u}^{k}\n",
    "$$\n",
    "\n",
    "dengan matriks sebagai berikut.\n",
    "\n",
    "$$\n",
    "\\mathbf{A} = \n",
    "\\begin{bmatrix}\n",
    "2(1 + r) & -r & 0 & \\cdot & 0 & 0 \\\\\n",
    "-r & 2(1 + r) & -r & \\cdot & 0 & 0 \\\\\n",
    "0 & -r & 2(1 + r) & \\cdot & 0 & 0 \\\\\n",
    "\\cdot & \\cdot & \\cdot & \\cdot & \\cdot & \\cdot \\\\\n",
    "0 & 0 & 0 & \\cdot & 2(1 + r) & -r \\\\\n",
    "0 & 0 & 0 & \\cdot & -r & 2(1 + r)\n",
    "\\end{bmatrix}\n",
    "$$\n",
    "\n",
    "$$\n",
    "\\mathbf{B} = \n",
    "\\begin{bmatrix}\n",
    "2(1 - r) & r & 0 & \\cdot & 0 & 0 \\\\\n",
    "r & 2(1 - r) & r & \\cdot & 0 & 0 \\\\\n",
    "0 & r & 2(1 - r) & \\cdot & 0 & 0 \\\\\n",
    "\\cdot & \\cdot & \\cdot & \\cdot & \\cdot & \\cdot \\\\\n",
    "0 & 0 & 0 & \\cdot & 2(1 - r) & r \\\\\n",
    "0 & 0 & 0 & \\cdot & r & 2(1 - r)\n",
    "\\end{bmatrix}\n",
    "$$\n",
    "\n",
    "$$\n",
    "\\mathbf{u}^{k} =\n",
    "\\begin{bmatrix}\n",
    "u^{k}_{1} \\\\\n",
    "u^{k}_{2} \\\\\n",
    "u^{k}_{3} \\\\\n",
    "\\cdot \\\\\n",
    "u^{k}_{M-1} \\\\\n",
    "u^{k}_{M}\n",
    "\\end{bmatrix}\n",
    "$$\n"
   ]
  },
  {
   "cell_type": "markdown",
   "metadata": {
    "heading_collapsed": true,
    "hidden": true
   },
   "source": [
    "### Implementasi"
   ]
  },
  {
   "cell_type": "code",
   "execution_count": null,
   "metadata": {
    "hidden": true
   },
   "outputs": [],
   "source": [
    "def heat_1d_CN( alpha, xf, tf, u0x, bx0, bxf, Nx, Nt ):\n",
    "    \n",
    "    dx = xf/Nx\n",
    "    x = np.linspace(0.0, xf, Nx+1)\n",
    "    \n",
    "    dt = tf/Nt\n",
    "    t = np.linspace(0.0, tf, Nt+1)\n",
    "\n",
    "    u = np.zeros( (Nx+1, Nt+1) ) \n",
    "\n",
    "    # Aplikasi syarat awal\n",
    "    for i in range(Nx+1):\n",
    "        u[i,0] = u0x( x[i] )\n",
    "    \n",
    "    # Syarat batas\n",
    "    for k in range(Nt+1):\n",
    "        u[0,k] = bx0( t[k] )\n",
    "        u[Nx,k] = bxf( t[k] )\n",
    "    \n",
    "    r = alpha*dt/dx**2\n",
    "    \n",
    "    A = np.zeros( (Nx-1,Nx-1) )\n",
    "    for i in range(Nx-1):\n",
    "        A[i,i] = 2*(1 + r)\n",
    "        if i > 0:\n",
    "            A[i-1,i] = -r\n",
    "            A[i,i-1] = -r\n",
    "\n",
    "    B = np.zeros( (Nx-1,Nx-1) )\n",
    "    for i in range(Nx-1):\n",
    "        B[i,i] = 2*(1 - r)\n",
    "        if i > 0:\n",
    "            B[i-1,i] = r\n",
    "            B[i,i-1] = r\n",
    "    \n",
    "    for k in range(1,Nt+1):\n",
    "        b = np.matmul(B, u[1:Nx,k-1] )\n",
    "        u[1:Nx,k] = np.linalg.solve(A, b)\n",
    "    \n",
    "    return u, x, t"
   ]
  },
  {
   "cell_type": "markdown",
   "metadata": {
    "heading_collapsed": true,
    "hidden": true
   },
   "source": [
    "### Contoh"
   ]
  },
  {
   "cell_type": "code",
   "execution_count": null,
   "metadata": {
    "hidden": true
   },
   "outputs": [],
   "source": [
    "alpha = 1.0\n",
    "\n",
    "xf = 1.0\n",
    "tf = 0.2\n",
    "\n",
    "Nx = 50\n",
    "Nt = 200\n",
    "\n",
    "u_CN, x_CN, t_CN = heat_1d_CN( alpha, xf, tf, initial_temp, bx0, bxf, Nx, Nt )"
   ]
  },
  {
   "cell_type": "code",
   "execution_count": null,
   "metadata": {
    "hidden": true
   },
   "outputs": [],
   "source": [
    "plt.clf()\n",
    "plt.plot(x_CN, u_CN[:,0], label=\"t=\"+str(t_CN[0]))\n",
    "plt.plot(x_CN, u_CN[:,4], label=\"t=\"+str(t_CN[4]))\n",
    "plt.plot(x_CN, u_CN[:,10], label=\"t=\"+str(t_CN[10]))\n",
    "plt.plot(x_CN, u_CN[:,50], label=\"t=\"+str(t_CN[50]))\n",
    "plt.plot(x_CN, u_CN[:,-1], label=\"t=\"+str(t_CN[-1]))\n",
    "plt.legend();"
   ]
  },
  {
   "cell_type": "markdown",
   "metadata": {
    "hidden": true
   },
   "source": [
    "Perbandingan antara metode implisit dan Crank-Nicholson pada waktu terakhir simulasi $t_f$."
   ]
  },
  {
   "cell_type": "code",
   "execution_count": null,
   "metadata": {
    "hidden": true,
    "scrolled": true
   },
   "outputs": [],
   "source": [
    "plt.clf()\n",
    "plt.plot(x_imp, u_imp[:,-1], label=\"imp t=\"+str(t_imp[-1]))\n",
    "plt.plot(x_CN, u_CN[:,-1], label=\"CN t=\"+str(t_CN[-1]))\n",
    "plt.legend();"
   ]
  },
  {
   "cell_type": "markdown",
   "metadata": {
    "hidden": true
   },
   "source": [
    "Perbandingan antara solusi numerik dengan Crank-Nicholson dengan solusi analitik."
   ]
  },
  {
   "cell_type": "code",
   "execution_count": null,
   "metadata": {
    "hidden": true,
    "scrolled": false
   },
   "outputs": [],
   "source": [
    "plt.clf()\n",
    "plt.plot(x_CN, u_CN[:,-1], label=\"numerik t=\"+str(t_CN[-1]), marker=\"o\")\n",
    "plt.plot(x_CN, sol_01_analitik(x_CN, t_CN[-1]), label=\"analitik t=\"+str(t_CN[-1]))\n",
    "plt.legend();"
   ]
  },
  {
   "cell_type": "code",
   "execution_count": null,
   "metadata": {
    "hidden": true
   },
   "outputs": [],
   "source": []
  },
  {
   "cell_type": "markdown",
   "metadata": {
    "heading_collapsed": true,
    "hidden": true
   },
   "source": [
    "## Latihan 1"
   ]
  },
  {
   "cell_type": "markdown",
   "metadata": {
    "hidden": true
   },
   "source": [
    "Mirip dengan soal sebelumnya, hanya saja dengan syarat awal:\n",
    "\n",
    "$$\n",
    "u(x,0) = e^{-50(x-0.5)^2}\n",
    "$$"
   ]
  },
  {
   "cell_type": "markdown",
   "metadata": {
    "hidden": true
   },
   "source": [
    "Kita akan gunakan metode implisit untuk mencari solusi numeriknya."
   ]
  },
  {
   "cell_type": "code",
   "execution_count": null,
   "metadata": {
    "hidden": true
   },
   "outputs": [],
   "source": [
    "# Syarat awal\n",
    "def initial_temp( x ):\n",
    "    return np.exp( -50*(x-0.5)**2 )\n",
    "\n",
    "# Syarat batas kiri\n",
    "def bx0( t ):\n",
    "    return 0.0\n",
    "\n",
    "# Syarat batas kanan\n",
    "def bxf( t ):\n",
    "    return 0.0\n",
    "\n",
    "alpha = 1.0\n",
    "\n",
    "xf = 1.0\n",
    "Nx = 50\n",
    "\n",
    "tf = 0.1\n",
    "Nt = 200\n",
    "\n",
    "u_imp, x_imp, t_imp = heat_1d_euler_imp( alpha, xf, tf, initial_temp, bx0, bxf, Nx, Nt )"
   ]
  },
  {
   "cell_type": "code",
   "execution_count": null,
   "metadata": {
    "hidden": true
   },
   "outputs": [],
   "source": [
    "plt.clf()\n",
    "plt.plot( x_imp, u_imp[:,0], label=\"t=\"+str(t_imp[0]) )\n",
    "plt.plot( x_imp, u_imp[:,-1], label=\"t=\"+str(t_imp[-1]) )\n",
    "plt.legend()"
   ]
  },
  {
   "cell_type": "code",
   "execution_count": null,
   "metadata": {
    "hidden": true
   },
   "outputs": [],
   "source": [
    "anim = create_anim_2d( u_imp, x_imp, t_imp, 0.0, 1.1);"
   ]
  },
  {
   "cell_type": "code",
   "execution_count": null,
   "metadata": {
    "hidden": true
   },
   "outputs": [],
   "source": [
    "IPython.display.HTML( anim.to_html5_video() )"
   ]
  },
  {
   "cell_type": "markdown",
   "metadata": {
    "heading_collapsed": true,
    "hidden": true
   },
   "source": [
    "## Latihan 2"
   ]
  },
  {
   "cell_type": "code",
   "execution_count": null,
   "metadata": {
    "hidden": true
   },
   "outputs": [],
   "source": [
    "# Syarat awal\n",
    "def initial_temp( x ):\n",
    "    if x > 0.4 and x < 0.6:\n",
    "        return 1.0\n",
    "    else:\n",
    "        return 0.0\n",
    "\n",
    "# Syarat batas kiri\n",
    "def bx0( t ):\n",
    "    return 0.0\n",
    "\n",
    "# Syarat batas kanan\n",
    "def bxf( t ):\n",
    "    return 0.0\n",
    "\n",
    "alpha = 1.0\n",
    "\n",
    "xf = 1.0\n",
    "Nx = 50\n",
    "\n",
    "tf = 0.1\n",
    "Nt = 200\n",
    "\n",
    "u_imp, x_imp, t_imp = heat_1d_euler_imp( alpha, xf, tf, initial_temp, bx0, bxf, Nx, Nt )"
   ]
  },
  {
   "cell_type": "code",
   "execution_count": null,
   "metadata": {
    "hidden": true
   },
   "outputs": [],
   "source": [
    "plt.clf()\n",
    "plt.plot( x_imp, u_imp[:,0], label=\"t=\"+str(t_imp[0]) )\n",
    "plt.plot( x_imp, u_imp[:,-1], label=\"t=\"+str(t_imp[-1]) )\n",
    "plt.legend()"
   ]
  },
  {
   "cell_type": "code",
   "execution_count": null,
   "metadata": {
    "hidden": true
   },
   "outputs": [],
   "source": [
    "anim = create_anim_2d( u_imp, x_imp, t_imp, 0.0, 1.1 );"
   ]
  },
  {
   "cell_type": "code",
   "execution_count": null,
   "metadata": {
    "hidden": true
   },
   "outputs": [],
   "source": [
    "IPython.display.HTML( anim.to_html5_video() )"
   ]
  },
  {
   "cell_type": "code",
   "execution_count": null,
   "metadata": {
    "hidden": true
   },
   "outputs": [],
   "source": []
  },
  {
   "cell_type": "markdown",
   "metadata": {},
   "source": [
    "# Persamaan Kalor 2d"
   ]
  },
  {
   "cell_type": "markdown",
   "metadata": {},
   "source": [
    "$$\n",
    "\\alpha \\left( \\frac{\\partial^2}{\\partial x^2} + \\frac{\\partial^2}{\\partial y^2} \\right) u(x,y,t)\n",
    "= \\frac{\\partial}{\\partial t} u(x,y,t)\n",
    "$$"
   ]
  },
  {
   "cell_type": "markdown",
   "metadata": {},
   "source": [
    "$$\n",
    "\\alpha \\left(\n",
    "\\frac{u^{k}_{i,j+1} - 2u^{k}_{i,j} + u^{k}_{i-1,j}}{(\\Delta x)^2} +\n",
    "\\frac{u^{k}_{i,j+1} - 2u^{k}_{i,j} + u^{k}_{i,j-1}}{(\\Delta y)^2}\n",
    "\\right) = \n",
    "\\frac{u^{k+1}_{i} - u^{k}_{i}}{\\Delta t}\n",
    "$$"
   ]
  },
  {
   "cell_type": "markdown",
   "metadata": {},
   "source": [
    "ADI = alternating direction implicit"
   ]
  },
  {
   "cell_type": "code",
   "execution_count": null,
   "metadata": {},
   "outputs": [],
   "source": []
  },
  {
   "cell_type": "code",
   "execution_count": null,
   "metadata": {},
   "outputs": [],
   "source": []
  },
  {
   "cell_type": "code",
   "execution_count": null,
   "metadata": {},
   "outputs": [],
   "source": []
  },
  {
   "cell_type": "code",
   "execution_count": null,
   "metadata": {},
   "outputs": [],
   "source": []
  }
 ],
 "metadata": {
  "kernelspec": {
   "display_name": "Python 3",
   "language": "python",
   "name": "python3"
  },
  "language_info": {
   "codemirror_mode": {
    "name": "ipython",
    "version": 3
   },
   "file_extension": ".py",
   "mimetype": "text/x-python",
   "name": "python",
   "nbconvert_exporter": "python",
   "pygments_lexer": "ipython3",
   "version": "3.7.3"
  }
 },
 "nbformat": 4,
 "nbformat_minor": 2
}
