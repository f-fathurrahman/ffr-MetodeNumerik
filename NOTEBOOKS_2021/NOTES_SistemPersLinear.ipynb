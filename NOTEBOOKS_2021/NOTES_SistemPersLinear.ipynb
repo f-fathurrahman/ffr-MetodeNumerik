{
 "cells": [
  {
   "cell_type": "markdown",
   "metadata": {},
   "source": [
    "<h1 style=\"text-align: center;\">TF2202 Komputasi Rekayasa - Sistem Persamaan Linear</h1>\n",
    "\n",
    "<h2 style=\"text-align: center;\">Fadjar Fathurrahman</h2>"
   ]
  },
  {
   "cell_type": "markdown",
   "metadata": {},
   "source": [
    "# Setup"
   ]
  },
  {
   "cell_type": "code",
   "execution_count": 1,
   "metadata": {},
   "outputs": [],
   "source": [
    "import numpy as np"
   ]
  },
  {
   "cell_type": "code",
   "execution_count": 2,
   "metadata": {},
   "outputs": [],
   "source": [
    "import IPython.display\n",
    "from IPython.display import Markdown"
   ]
  },
  {
   "cell_type": "markdown",
   "metadata": {},
   "source": [
    "Some functions for pretty-printing matrix in notebook:"
   ]
  },
  {
   "cell_type": "code",
   "execution_count": 34,
   "metadata": {},
   "outputs": [],
   "source": [
    "def colvec_to_tex(v):\n",
    "    assert len(v.shape) == 1\n",
    "    lines = str(v).replace('[', '').replace(']', '').split()\n",
    "    rv = r'\\begin{bmatrix}'\n",
    "    for l in lines:\n",
    "        rv = rv + l + r\" \\\\\"\n",
    "    rv +=  r'\\end{bmatrix}'\n",
    "    return rv\n",
    "\n",
    "# Sumber:\n",
    "# https://stackoverflow.com/questions/17129290/numpy-2d-and-1d-array-to-latex-bmatrix\n",
    "def matrix_to_tex(a):\n",
    "    \"\"\"Returns a LaTeX bmatrix\n",
    "\n",
    "    :a: numpy array\n",
    "    :returns: LaTeX bmatrix as a string\n",
    "    \"\"\"\n",
    "    if len(a.shape) > 2:\n",
    "        raise ValueError('bmatrix can at most display two dimensions')\n",
    "    lines = str(a).replace('[', '').replace(']', '').splitlines()\n",
    "    rv = [r'\\begin{bmatrix}']\n",
    "    rv += ['  ' + ' & '.join(l.split()) + r'\\\\' for l in lines]\n",
    "    rv +=  [r'\\end{bmatrix}']\n",
    "    return '\\n'.join(rv)\n",
    "\n",
    "def show_matrix(a):\n",
    "    IPython.display.display(Markdown(matrix_to_tex(a)))\n",
    "    \n",
    "def show_col_vector(a):\n",
    "    IPython.display.display(Markdown(colvec_to_tex(a)))"
   ]
  },
  {
   "cell_type": "markdown",
   "metadata": {},
   "source": [
    "# Pendahuluan"
   ]
  },
  {
   "cell_type": "markdown",
   "metadata": {},
   "source": [
    "Pada catatan ini kita akan fokus pada metode untuk mencari solusi dari sistem persamaan linear yang dapat dituliskan dalam bentuk matriks sebagai berikut:\n",
    "$$\n",
    "\\mathbf{A}\\mathbf{x} = \\mathbf{b}\n",
    "$$\n",
    "di mana $A$ dan $b$ masing-masing diberikan dan tugas kita adalah mencari $\\mathbf{x}$."
   ]
  },
  {
   "cell_type": "markdown",
   "metadata": {},
   "source": [
    "Sebelum membahas mengenai metode numerik untuk menyelesaikan sistem persamaan linear, kita akan mulai dengan pembahasan mengenai operasi matriks dan vektor dengan dalam Numpy."
   ]
  },
  {
   "cell_type": "markdown",
   "metadata": {},
   "source": [
    "## List"
   ]
  },
  {
   "cell_type": "markdown",
   "metadata": {},
   "source": [
    "List pada Python dapat digunakan untuk menyatakan kompulan angka seperti vektor atau matriks."
   ]
  },
  {
   "cell_type": "code",
   "execution_count": 5,
   "metadata": {},
   "outputs": [],
   "source": [
    "my_lst = [\n",
    "    [4,1,2,3],\n",
    "    [3,8,1,9],\n",
    "    [3,4,10,4]\n",
    "]"
   ]
  },
  {
   "cell_type": "markdown",
   "metadata": {},
   "source": [
    "Pada kuliah di TPB, Anda mungkin mengenal penggunakan `list` ini pada bahasan mengenai array."
   ]
  },
  {
   "cell_type": "markdown",
   "metadata": {},
   "source": [
    "List pada Python sebenarnya memiliki fitur yang lebih luas dibandingkan dengan array pada bahasa pemrograman lain, misalnya C++. Misalnya, tipe data pada pada `list` tidak harus seragam:"
   ]
  },
  {
   "cell_type": "code",
   "execution_count": 6,
   "metadata": {},
   "outputs": [],
   "source": [
    "my_lst1 = [\n",
    "    [\"aaaa\",1,2,3],\n",
    "    [3,8,1,9],\n",
    "    [3,4,10,4]\n",
    "]"
   ]
  },
  {
   "cell_type": "code",
   "execution_count": 7,
   "metadata": {},
   "outputs": [
    {
     "data": {
      "text/plain": [
       "list"
      ]
     },
     "execution_count": 7,
     "metadata": {},
     "output_type": "execute_result"
    }
   ],
   "source": [
    "type(my_lst)"
   ]
  },
  {
   "cell_type": "code",
   "execution_count": 8,
   "metadata": {},
   "outputs": [
    {
     "data": {
      "text/plain": [
       "1"
      ]
     },
     "execution_count": 8,
     "metadata": {},
     "output_type": "execute_result"
    }
   ],
   "source": [
    "my_lst[1][2]"
   ]
  },
  {
   "cell_type": "markdown",
   "metadata": {},
   "source": [
    "## Matrix vs ndarray"
   ]
  },
  {
   "cell_type": "markdown",
   "metadata": {},
   "source": [
    "Untuk kebutuhan *technical/scientific computing* pada Python, kita biasanya menggunakan pustaka NumPy yang menyediakan array multidimensional dengan tipe data seragam. Array pada NumPy lebih teroptimasi dibandingkan dengan `list` sehingga cocok untuk digunakan pada perhitungan numerik yang berat atau kompleks."
   ]
  },
  {
   "cell_type": "markdown",
   "metadata": {},
   "source": [
    "`ndarray` adalah tipe array yang paling penting pada Numpy. Untuk merepresentasikan matriks kita dapat menggunakan `ndarray` dengan menggunakan `ndarray` dengan dua dimensi. Untuk merepresentasikan vektor (baris atau kolom) kita dapat menggunakan `ndarray` dengan satu dimensi."
   ]
  },
  {
   "cell_type": "markdown",
   "metadata": {},
   "source": [
    "Contoh untuk matriks:\n",
    "$$\n",
    "A = \\begin{bmatrix}\n",
    "4 & 1 & 2 & 3 \\\\\n",
    "3 & 8 & 1 & 9 \\\\\n",
    "3 & 4 & 10 & 4\n",
    "\\end{bmatrix}\n",
    "$$"
   ]
  },
  {
   "cell_type": "markdown",
   "metadata": {},
   "source": [
    "Dengan menggunakan `list`, kita dapat mendefinisikan matrix $A$ sebagai berikut"
   ]
  },
  {
   "cell_type": "code",
   "execution_count": 18,
   "metadata": {},
   "outputs": [
    {
     "data": {
      "text/plain": [
       "[[4, 1, 2, 3], [3, 8, 1, 9], [3, 4, 10, 4]]"
      ]
     },
     "execution_count": 18,
     "metadata": {},
     "output_type": "execute_result"
    }
   ],
   "source": [
    "A_list = [\n",
    "  [4,1,2,3],\n",
    "  [3,8,1,9],\n",
    "  [3,4,10,4]  \n",
    "]\n",
    "A_list"
   ]
  },
  {
   "cell_type": "markdown",
   "metadata": {},
   "source": [
    "Dengan menggunakan `ndarray`, kita dapa mendefinisikan matriks $A$ dengan:"
   ]
  },
  {
   "cell_type": "code",
   "execution_count": 20,
   "metadata": {},
   "outputs": [
    {
     "data": {
      "text/plain": [
       "array([[ 4,  1,  2,  3],\n",
       "       [ 3,  8,  1,  9],\n",
       "       [ 3,  4, 10,  4]])"
      ]
     },
     "execution_count": 20,
     "metadata": {},
     "output_type": "execute_result"
    }
   ],
   "source": [
    "A = np.array([\n",
    "    [4,1,2,3],\n",
    "    [3,8,1,9],\n",
    "    [3,4,10,4]\n",
    "])\n",
    "A"
   ]
  },
  {
   "cell_type": "markdown",
   "metadata": {},
   "source": [
    "Alternatif lain:"
   ]
  },
  {
   "cell_type": "code",
   "execution_count": 21,
   "metadata": {},
   "outputs": [],
   "source": [
    "A = np.array(A_list)"
   ]
  },
  {
   "cell_type": "code",
   "execution_count": 107,
   "metadata": {},
   "outputs": [
    {
     "data": {
      "text/plain": [
       "numpy.ndarray"
      ]
     },
     "execution_count": 107,
     "metadata": {},
     "output_type": "execute_result"
    }
   ],
   "source": [
    "type(A)"
   ]
  },
  {
   "cell_type": "markdown",
   "metadata": {},
   "source": [
    "Properti `shape` dapat digunakan untuk mengetahu ukuran dari `ndarray`. Dalam hal ini kita akan mendapatkan tupel berisi dua integer, yang masing-masing integer merupakan jumlah baris dan kolom dari matriks $A$"
   ]
  },
  {
   "cell_type": "code",
   "execution_count": 13,
   "metadata": {},
   "outputs": [
    {
     "data": {
      "text/plain": [
       "(3, 4)"
      ]
     },
     "execution_count": 13,
     "metadata": {},
     "output_type": "execute_result"
    }
   ],
   "source": [
    "A.shape"
   ]
  },
  {
   "cell_type": "code",
   "execution_count": 14,
   "metadata": {},
   "outputs": [
    {
     "data": {
      "text/plain": [
       "array([ 4,  8, 10])"
      ]
     },
     "execution_count": 14,
     "metadata": {},
     "output_type": "execute_result"
    }
   ],
   "source": [
    "A.diagonal()"
   ]
  },
  {
   "cell_type": "markdown",
   "metadata": {},
   "source": [
    "Anda dapat menuliskan sebagai berikut:"
   ]
  },
  {
   "cell_type": "code",
   "execution_count": 109,
   "metadata": {},
   "outputs": [
    {
     "name": "stdout",
     "output_type": "stream",
     "text": [
      "Nrow = 3, Ncol = 4\n"
     ]
    }
   ],
   "source": [
    "Nrow = A.shape[0]\n",
    "Ncol = A.shape[1]\n",
    "print(\"Nrow = %d, Ncol = %d\" % (Nrow, Ncol))"
   ]
  },
  {
   "cell_type": "code",
   "execution_count": 110,
   "metadata": {},
   "outputs": [
    {
     "name": "stdout",
     "output_type": "stream",
     "text": [
      "Nrow = 3, Ncol = 4\n"
     ]
    }
   ],
   "source": [
    "Nrow, Ncol = A.shape\n",
    "print(\"Nrow = %d, Ncol = %d\" % (Nrow, Ncol))"
   ]
  },
  {
   "cell_type": "markdown",
   "metadata": {},
   "source": [
    "Untuk merepresentasikan vektor, kita dapat menggunakan `ndarray` 1d, misalnya:"
   ]
  },
  {
   "cell_type": "code",
   "execution_count": 18,
   "metadata": {},
   "outputs": [
    {
     "data": {
      "text/plain": [
       "array([3, 1, 6, 7])"
      ]
     },
     "execution_count": 18,
     "metadata": {},
     "output_type": "execute_result"
    }
   ],
   "source": [
    "x = np.array([3,1,6,7])\n",
    "x"
   ]
  },
  {
   "cell_type": "code",
   "execution_count": 19,
   "metadata": {},
   "outputs": [
    {
     "data": {
      "text/plain": [
       "numpy.ndarray"
      ]
     },
     "execution_count": 19,
     "metadata": {},
     "output_type": "execute_result"
    }
   ],
   "source": [
    "type(x)"
   ]
  },
  {
   "cell_type": "code",
   "execution_count": 20,
   "metadata": {},
   "outputs": [
    {
     "data": {
      "text/plain": [
       "4"
      ]
     },
     "execution_count": 20,
     "metadata": {},
     "output_type": "execute_result"
    }
   ],
   "source": [
    "x.size"
   ]
  },
  {
   "cell_type": "code",
   "execution_count": 21,
   "metadata": {},
   "outputs": [
    {
     "data": {
      "text/plain": [
       "12"
      ]
     },
     "execution_count": 21,
     "metadata": {},
     "output_type": "execute_result"
    }
   ],
   "source": [
    "A.size"
   ]
  },
  {
   "cell_type": "code",
   "execution_count": 27,
   "metadata": {},
   "outputs": [
    {
     "data": {
      "text/markdown": [
       "\\begin{bmatrix}\n",
       "  4 & 1 & 2 & 3\\\\\n",
       "  3 & 8 & 1 & 9\\\\\n",
       "  3 & 4 & 10 & 4\\\\\n",
       "\\end{bmatrix}"
      ],
      "text/plain": [
       "<IPython.core.display.Markdown object>"
      ]
     },
     "metadata": {},
     "output_type": "display_data"
    }
   ],
   "source": [
    "show_matrix(A)"
   ]
  },
  {
   "cell_type": "code",
   "execution_count": 26,
   "metadata": {},
   "outputs": [
    {
     "data": {
      "text/markdown": [
       "\\begin{bmatrix}\n",
       "  4 & 3 & 3\\\\\n",
       "  1 & 8 & 4\\\\\n",
       "  2 & 1 & 10\\\\\n",
       "  3 & 9 & 4\\\\\n",
       "\\end{bmatrix}"
      ],
      "text/plain": [
       "<IPython.core.display.Markdown object>"
      ]
     },
     "metadata": {},
     "output_type": "display_data"
    }
   ],
   "source": [
    "show_matrix(A.T)"
   ]
  },
  {
   "cell_type": "markdown",
   "metadata": {},
   "source": [
    "Properti `shape` dapat digunakan seperti pada `ndarray` dua dimensi. Pada kasus ini akan dikembalikan tupel dengan satu bilangan integer."
   ]
  },
  {
   "cell_type": "code",
   "execution_count": 112,
   "metadata": {},
   "outputs": [
    {
     "data": {
      "text/plain": [
       "(4,)"
      ]
     },
     "execution_count": 112,
     "metadata": {},
     "output_type": "execute_result"
    }
   ],
   "source": [
    "x.shape"
   ]
  },
  {
   "cell_type": "markdown",
   "metadata": {},
   "source": [
    "Fungsi `len` juga dapat digunakan dalam kasus `ndarray` 1d untuk mengetahui jumlah elemen pada suatu vektor:"
   ]
  },
  {
   "cell_type": "code",
   "execution_count": 113,
   "metadata": {},
   "outputs": [
    {
     "data": {
      "text/plain": [
       "4"
      ]
     },
     "execution_count": 113,
     "metadata": {},
     "output_type": "execute_result"
    }
   ],
   "source": [
    "len(x)"
   ]
  },
  {
   "cell_type": "markdown",
   "metadata": {},
   "source": [
    "Fungsi `len` juga dapat diaplikasikan pada `ndarray` dua dimensi, namun fungsi ini akan mengembalikan banyak elemen pada dimensi pertama."
   ]
  },
  {
   "cell_type": "code",
   "execution_count": 114,
   "metadata": {},
   "outputs": [
    {
     "data": {
      "text/plain": [
       "3"
      ]
     },
     "execution_count": 114,
     "metadata": {},
     "output_type": "execute_result"
    }
   ],
   "source": [
    "len(A)"
   ]
  },
  {
   "cell_type": "markdown",
   "metadata": {},
   "source": [
    "Untuk mengetahui jumlah kolom, kita juga dapat mencari panjang dari `A[0]` (misalnya):"
   ]
  },
  {
   "cell_type": "code",
   "execution_count": 115,
   "metadata": {},
   "outputs": [
    {
     "data": {
      "text/plain": [
       "4"
      ]
     },
     "execution_count": 115,
     "metadata": {},
     "output_type": "execute_result"
    }
   ],
   "source": [
    "len(A[0])"
   ]
  },
  {
   "cell_type": "markdown",
   "metadata": {
    "heading_collapsed": true
   },
   "source": [
    "## Operasi dengan ndarray"
   ]
  },
  {
   "cell_type": "code",
   "execution_count": 29,
   "metadata": {
    "hidden": true,
    "scrolled": true
   },
   "outputs": [
    {
     "data": {
      "text/plain": [
       "array([[ 4.,  1.,  2.,  3.],\n",
       "       [ 3.,  8.,  1.,  9.],\n",
       "       [ 3.,  4., 10.,  4.]])"
      ]
     },
     "execution_count": 29,
     "metadata": {},
     "output_type": "execute_result"
    }
   ],
   "source": [
    "A = np.array([\n",
    "    [4,1,2,3],\n",
    "    [3,8,1,9],\n",
    "    [3,4,10,4]\n",
    "], dtype=np.float64)\n",
    "A"
   ]
  },
  {
   "cell_type": "markdown",
   "metadata": {},
   "source": [
    "Mengakses elemen"
   ]
  },
  {
   "cell_type": "code",
   "execution_count": 36,
   "metadata": {
    "hidden": true,
    "scrolled": true
   },
   "outputs": [
    {
     "data": {
      "text/plain": [
       "2.0"
      ]
     },
     "execution_count": 36,
     "metadata": {},
     "output_type": "execute_result"
    }
   ],
   "source": [
    "A[0,2]"
   ]
  },
  {
   "cell_type": "markdown",
   "metadata": {},
   "source": [
    "Menulis nilai ke suatu elemen"
   ]
  },
  {
   "cell_type": "code",
   "execution_count": 37,
   "metadata": {
    "hidden": true
   },
   "outputs": [],
   "source": [
    "A[0,2] = 999.0"
   ]
  },
  {
   "cell_type": "code",
   "execution_count": 28,
   "metadata": {
    "hidden": true
   },
   "outputs": [
    {
     "data": {
      "text/plain": [
       "array([[ 4.,  1.,  2.,  3.],\n",
       "       [ 3.,  8.,  1.,  9.],\n",
       "       [ 3.,  4., 10.,  4.]])"
      ]
     },
     "execution_count": 28,
     "metadata": {},
     "output_type": "execute_result"
    }
   ],
   "source": [
    "A"
   ]
  },
  {
   "cell_type": "markdown",
   "metadata": {
    "hidden": true
   },
   "source": [
    "Slicing:"
   ]
  },
  {
   "cell_type": "code",
   "execution_count": 26,
   "metadata": {
    "hidden": true
   },
   "outputs": [
    {
     "data": {
      "text/plain": [
       "array([4., 3., 3.])"
      ]
     },
     "execution_count": 26,
     "metadata": {},
     "output_type": "execute_result"
    }
   ],
   "source": [
    "A[:,0]"
   ]
  },
  {
   "cell_type": "code",
   "execution_count": 27,
   "metadata": {
    "hidden": true
   },
   "outputs": [
    {
     "data": {
      "text/plain": [
       "array([1., 8., 4.])"
      ]
     },
     "execution_count": 27,
     "metadata": {},
     "output_type": "execute_result"
    }
   ],
   "source": [
    "A[:,1]"
   ]
  },
  {
   "cell_type": "code",
   "execution_count": 42,
   "metadata": {
    "hidden": true
   },
   "outputs": [
    {
     "data": {
      "text/plain": [
       "array([[1.],\n",
       "       [8.],\n",
       "       [4.]])"
      ]
     },
     "execution_count": 42,
     "metadata": {},
     "output_type": "execute_result"
    }
   ],
   "source": [
    "A[:,1:2]"
   ]
  },
  {
   "cell_type": "code",
   "execution_count": 35,
   "metadata": {},
   "outputs": [
    {
     "data": {
      "text/markdown": [
       "\\begin{bmatrix}3. \\\\8. \\\\1. \\\\9. \\\\\\end{bmatrix}"
      ],
      "text/plain": [
       "<IPython.core.display.Markdown object>"
      ]
     },
     "metadata": {},
     "output_type": "display_data"
    }
   ],
   "source": [
    "show_col_vector(A[1,:])"
   ]
  },
  {
   "cell_type": "code",
   "execution_count": 30,
   "metadata": {},
   "outputs": [
    {
     "data": {
      "text/markdown": [
       "\\begin{bmatrix}\n",
       "  1. & 8. & 4.\\\\\n",
       "\\end{bmatrix}"
      ],
      "text/plain": [
       "<IPython.core.display.Markdown object>"
      ]
     },
     "metadata": {},
     "output_type": "display_data"
    }
   ],
   "source": [
    "show_matrix(A[:,1])"
   ]
  },
  {
   "cell_type": "markdown",
   "metadata": {
    "hidden": true
   },
   "source": [
    " ### Operasi perkalian matriks dan vektor"
   ]
  },
  {
   "cell_type": "markdown",
   "metadata": {
    "hidden": true
   },
   "source": [
    "Untuk menghitung operasi perkalian, misalnya $\\mathbf{b} = \\mathbf{A}\\mathbf{x}$.\n",
    "Untuk tipe `numpy.ndarray` kita dapat menggunakan fungsi `np.matmul`:"
   ]
  },
  {
   "cell_type": "markdown",
   "metadata": {
    "hidden": true
   },
   "source": [
    "`np.matmul` juga sering digunakan untuk operasi kontraksi tensor (tensor contraction)."
   ]
  },
  {
   "cell_type": "code",
   "execution_count": 43,
   "metadata": {
    "hidden": true
   },
   "outputs": [
    {
     "data": {
      "text/plain": [
       "array([[  4.,   1., 999.,   3.],\n",
       "       [  3.,   8.,   1.,   9.],\n",
       "       [  3.,   4.,  10.,   4.]])"
      ]
     },
     "execution_count": 43,
     "metadata": {},
     "output_type": "execute_result"
    }
   ],
   "source": [
    "A"
   ]
  },
  {
   "cell_type": "code",
   "execution_count": 44,
   "metadata": {
    "hidden": true
   },
   "outputs": [
    {
     "data": {
      "text/plain": [
       "array([3, 1, 6, 7])"
      ]
     },
     "execution_count": 44,
     "metadata": {},
     "output_type": "execute_result"
    }
   ],
   "source": [
    "x"
   ]
  },
  {
   "cell_type": "code",
   "execution_count": 45,
   "metadata": {
    "hidden": true
   },
   "outputs": [
    {
     "data": {
      "text/plain": [
       "array([6028.,   86.,  101.])"
      ]
     },
     "execution_count": 45,
     "metadata": {},
     "output_type": "execute_result"
    }
   ],
   "source": [
    "b = np.matmul(A,x)\n",
    "b"
   ]
  },
  {
   "cell_type": "markdown",
   "metadata": {
    "hidden": true
   },
   "source": [
    "Operator `*` memiliki arti yang berbeda untuk operasi antara dua `ndarray`:"
   ]
  },
  {
   "cell_type": "code",
   "execution_count": 46,
   "metadata": {
    "hidden": true
   },
   "outputs": [
    {
     "data": {
      "text/plain": [
       "array([[  4.,   1., 999.,   3.],\n",
       "       [  3.,   8.,   1.,   9.],\n",
       "       [  3.,   4.,  10.,   4.]])"
      ]
     },
     "execution_count": 46,
     "metadata": {},
     "output_type": "execute_result"
    }
   ],
   "source": [
    "A"
   ]
  },
  {
   "cell_type": "code",
   "execution_count": 50,
   "metadata": {
    "hidden": true
   },
   "outputs": [
    {
     "data": {
      "text/plain": [
       "array([3, 1, 6, 7])"
      ]
     },
     "execution_count": 50,
     "metadata": {},
     "output_type": "execute_result"
    }
   ],
   "source": [
    "x"
   ]
  },
  {
   "cell_type": "code",
   "execution_count": 47,
   "metadata": {
    "hidden": true
   },
   "outputs": [
    {
     "data": {
      "text/plain": [
       "array([[1.200e+01, 1.000e+00, 5.994e+03, 2.100e+01],\n",
       "       [9.000e+00, 8.000e+00, 6.000e+00, 6.300e+01],\n",
       "       [9.000e+00, 4.000e+00, 6.000e+01, 2.800e+01]])"
      ]
     },
     "execution_count": 47,
     "metadata": {},
     "output_type": "execute_result"
    }
   ],
   "source": [
    "Ax = A*x\n",
    "Ax"
   ]
  },
  {
   "cell_type": "code",
   "execution_count": 49,
   "metadata": {
    "hidden": true
   },
   "outputs": [
    {
     "data": {
      "text/plain": [
       "array([  12.,    3., 2997.,    9.])"
      ]
     },
     "execution_count": 49,
     "metadata": {},
     "output_type": "execute_result"
    }
   ],
   "source": [
    "3*A[0]"
   ]
  },
  {
   "cell_type": "code",
   "execution_count": 119,
   "metadata": {
    "hidden": true
   },
   "outputs": [
    {
     "name": "stdout",
     "output_type": "stream",
     "text": [
      "[3. 3. 3.]\n",
      "[1. 1. 1.]\n",
      "[6. 6. 6.]\n"
     ]
    }
   ],
   "source": [
    "print(Ax[:,0]/A[:,0])\n",
    "print(Ax[:,1]/A[:,1])\n",
    "print(Ax[:,2]/A[:,2])"
   ]
  },
  {
   "cell_type": "markdown",
   "metadata": {
    "hidden": true
   },
   "source": [
    "Jika ingin menggunakan operator `*` kita dapat menggunakan konstruktor `np.matrix`."
   ]
  },
  {
   "cell_type": "code",
   "execution_count": 66,
   "metadata": {
    "hidden": true
   },
   "outputs": [
    {
     "data": {
      "text/plain": [
       "array([[0.95572449, 0.12716237, 0.31211438, 0.62233433],\n",
       "       [0.70922067, 0.45498005, 0.6905198 , 0.77237367],\n",
       "       [0.52556334, 0.72056843, 0.11983184, 0.32861616],\n",
       "       [0.78915445, 0.6037158 , 0.69502065, 0.57083555]])"
      ]
     },
     "execution_count": 66,
     "metadata": {},
     "output_type": "execute_result"
    }
   ],
   "source": [
    "B = np.random.rand(4,4)\n",
    "B"
   ]
  },
  {
   "cell_type": "code",
   "execution_count": 67,
   "metadata": {
    "hidden": true
   },
   "outputs": [],
   "source": [
    "AA = np.matrix(A)\n",
    "BB = np.matrix(B)"
   ]
  },
  {
   "cell_type": "code",
   "execution_count": 57,
   "metadata": {
    "hidden": true
   },
   "outputs": [
    {
     "data": {
      "text/plain": [
       "matrix([[  4.,   1., 999.,   3.],\n",
       "        [  3.,   8.,   1.,   9.],\n",
       "        [  3.,   4.,  10.,   4.]])"
      ]
     },
     "execution_count": 57,
     "metadata": {},
     "output_type": "execute_result"
    }
   ],
   "source": [
    "AA"
   ]
  },
  {
   "cell_type": "code",
   "execution_count": 68,
   "metadata": {
    "hidden": true
   },
   "outputs": [
    {
     "data": {
      "text/plain": [
       "matrix([[0.95572449, 0.12716237, 0.31211438, 0.62233433],\n",
       "        [0.70922067, 0.45498005, 0.6905198 , 0.77237367],\n",
       "        [0.52556334, 0.72056843, 0.11983184, 0.32861616],\n",
       "        [0.78915445, 0.6037158 , 0.69502065, 0.57083555]])"
      ]
     },
     "execution_count": 68,
     "metadata": {},
     "output_type": "execute_result"
    }
   ],
   "source": [
    "BB"
   ]
  },
  {
   "cell_type": "code",
   "execution_count": 59,
   "metadata": {
    "hidden": true
   },
   "outputs": [
    {
     "data": {
      "text/plain": [
       "numpy.matrix"
      ]
     },
     "execution_count": 59,
     "metadata": {},
     "output_type": "execute_result"
    }
   ],
   "source": [
    "type(AA)"
   ]
  },
  {
   "cell_type": "code",
   "execution_count": 69,
   "metadata": {
    "hidden": true
   },
   "outputs": [
    {
     "data": {
      "text/plain": [
       "((3, 4), (4, 4))"
      ]
     },
     "execution_count": 69,
     "metadata": {},
     "output_type": "execute_result"
    }
   ],
   "source": [
    "AA.shape, BB.shape"
   ]
  },
  {
   "cell_type": "markdown",
   "metadata": {
    "hidden": true
   },
   "source": [
    "Operator `*` dapat digunakan untuk melakukan operasi perkalian matrix antara dua variabel dengan tipe `numpy.matrix`."
   ]
  },
  {
   "cell_type": "code",
   "execution_count": 70,
   "metadata": {
    "hidden": true
   },
   "outputs": [
    {
     "data": {
      "text/plain": [
       "matrix([[531.93736167, 722.62263707, 123.73604482, 333.26176524],\n",
       "        [ 16.16889216,  10.17533812,  12.83551923,  13.51212846],\n",
       "        [ 14.11630735,  11.82195478,   7.67682332,  10.5260015 ]])"
      ]
     },
     "execution_count": 70,
     "metadata": {},
     "output_type": "execute_result"
    }
   ],
   "source": [
    "AA*BB"
   ]
  },
  {
   "cell_type": "code",
   "execution_count": 71,
   "metadata": {
    "hidden": true
   },
   "outputs": [
    {
     "data": {
      "text/markdown": [
       "\\begin{bmatrix}\n",
       "  531.93736167 & 722.62263707 & 123.73604482 & 333.26176524\\\\\n",
       "  16.16889216 & 10.17533812 & 12.83551923 & 13.51212846\\\\\n",
       "  14.11630735 & 11.82195478 & 7.67682332 & 10.5260015\\\\\n",
       "\\end{bmatrix}"
      ],
      "text/plain": [
       "<IPython.core.display.Markdown object>"
      ]
     },
     "metadata": {},
     "output_type": "display_data"
    }
   ],
   "source": [
    "show_matrix(AA*BB)"
   ]
  },
  {
   "cell_type": "markdown",
   "metadata": {
    "hidden": true
   },
   "source": [
    "### Perkalian dot (skalar)"
   ]
  },
  {
   "cell_type": "markdown",
   "metadata": {
    "hidden": true
   },
   "source": [
    "Untuk operasi skalar antara dua vektor kita dapat menggunakan fungsi `np.dot`"
   ]
  },
  {
   "cell_type": "code",
   "execution_count": 126,
   "metadata": {
    "hidden": true
   },
   "outputs": [
    {
     "data": {
      "text/plain": [
       "array([2, 1, 3, 6])"
      ]
     },
     "execution_count": 126,
     "metadata": {},
     "output_type": "execute_result"
    }
   ],
   "source": [
    "y = np.array([2,1,3,6])\n",
    "y"
   ]
  },
  {
   "cell_type": "code",
   "execution_count": 127,
   "metadata": {
    "hidden": true
   },
   "outputs": [
    {
     "data": {
      "text/plain": [
       "50"
      ]
     },
     "execution_count": 127,
     "metadata": {},
     "output_type": "execute_result"
    }
   ],
   "source": [
    "np.dot(y,y)"
   ]
  },
  {
   "cell_type": "code",
   "execution_count": 128,
   "metadata": {
    "hidden": true
   },
   "outputs": [
    {
     "data": {
      "text/plain": [
       "67"
      ]
     },
     "execution_count": 128,
     "metadata": {},
     "output_type": "execute_result"
    }
   ],
   "source": [
    "np.dot(x,y)"
   ]
  },
  {
   "cell_type": "code",
   "execution_count": 129,
   "metadata": {
    "hidden": true
   },
   "outputs": [
    {
     "data": {
      "text/plain": [
       "95"
      ]
     },
     "execution_count": 129,
     "metadata": {},
     "output_type": "execute_result"
    }
   ],
   "source": [
    "np.dot(x,x)"
   ]
  },
  {
   "cell_type": "markdown",
   "metadata": {
    "hidden": true
   },
   "source": [
    "Metode `dot` juga dapat digunakan untuk operasi dot product:"
   ]
  },
  {
   "cell_type": "code",
   "execution_count": 130,
   "metadata": {
    "hidden": true
   },
   "outputs": [
    {
     "data": {
      "text/plain": [
       "95"
      ]
     },
     "execution_count": 130,
     "metadata": {},
     "output_type": "execute_result"
    }
   ],
   "source": [
    "x.dot(x)"
   ]
  },
  {
   "cell_type": "markdown",
   "metadata": {
    "hidden": true
   },
   "source": [
    "Operasi `dot` juga dapat digunakan untuk melakukan perkalian antara matriks dengan vektor:"
   ]
  },
  {
   "cell_type": "code",
   "execution_count": 131,
   "metadata": {
    "hidden": true
   },
   "outputs": [
    {
     "data": {
      "text/plain": [
       "array([ 46,  86, 101])"
      ]
     },
     "execution_count": 131,
     "metadata": {},
     "output_type": "execute_result"
    }
   ],
   "source": [
    "A.dot(x)"
   ]
  },
  {
   "cell_type": "code",
   "execution_count": 132,
   "metadata": {
    "hidden": true
   },
   "outputs": [
    {
     "data": {
      "text/plain": [
       "array([ 46,  86, 101])"
      ]
     },
     "execution_count": 132,
     "metadata": {},
     "output_type": "execute_result"
    }
   ],
   "source": [
    "np.matmul(A,x)"
   ]
  },
  {
   "cell_type": "markdown",
   "metadata": {
    "hidden": true
   },
   "source": [
    "Untuk tipe `numpy.matrix`:"
   ]
  },
  {
   "cell_type": "code",
   "execution_count": 133,
   "metadata": {
    "hidden": true
   },
   "outputs": [
    {
     "data": {
      "text/plain": [
       "matrix([[3],\n",
       "        [1],\n",
       "        [6],\n",
       "        [7]])"
      ]
     },
     "execution_count": 133,
     "metadata": {},
     "output_type": "execute_result"
    }
   ],
   "source": [
    "xx = np.matrix(x).transpose()\n",
    "xx"
   ]
  },
  {
   "cell_type": "code",
   "execution_count": 134,
   "metadata": {
    "hidden": true
   },
   "outputs": [
    {
     "data": {
      "text/plain": [
       "95"
      ]
     },
     "execution_count": 134,
     "metadata": {},
     "output_type": "execute_result"
    }
   ],
   "source": [
    "xx.transpose().dot(xx)[0,0]"
   ]
  },
  {
   "cell_type": "code",
   "execution_count": 135,
   "metadata": {
    "hidden": true
   },
   "outputs": [
    {
     "data": {
      "text/plain": [
       "matrix([[ 46],\n",
       "        [ 86],\n",
       "        [101]])"
      ]
     },
     "execution_count": 135,
     "metadata": {},
     "output_type": "execute_result"
    }
   ],
   "source": [
    "AA.dot(xx)"
   ]
  },
  {
   "cell_type": "code",
   "execution_count": 136,
   "metadata": {
    "hidden": true
   },
   "outputs": [
    {
     "data": {
      "text/plain": [
       "matrix([[ 46],\n",
       "        [ 86],\n",
       "        [101]])"
      ]
     },
     "execution_count": 136,
     "metadata": {},
     "output_type": "execute_result"
    }
   ],
   "source": [
    "AA*xx"
   ]
  },
  {
   "cell_type": "code",
   "execution_count": 139,
   "metadata": {
    "hidden": true
   },
   "outputs": [
    {
     "data": {
      "text/markdown": [
       "\\begin{bmatrix}\n",
       "  46\\\\\n",
       "  86\\\\\n",
       "  101\\\\\n",
       "\\end{bmatrix}"
      ],
      "text/plain": [
       "<IPython.core.display.Markdown object>"
      ]
     },
     "metadata": {},
     "output_type": "display_data"
    }
   ],
   "source": [
    "show_matrix(AA*xx)"
   ]
  },
  {
   "cell_type": "code",
   "execution_count": 140,
   "metadata": {
    "hidden": true
   },
   "outputs": [
    {
     "data": {
      "text/markdown": [
       "\\begin{bmatrix}\n",
       "  4.11807134 & 3.11530414 & 7.43016495\\\\\n",
       "  9.93344831 & 7.75543765 & 17.91842859\\\\\n",
       "  10.2711802 & 7.55856248 & 11.56230443\\\\\n",
       "\\end{bmatrix}"
      ],
      "text/plain": [
       "<IPython.core.display.Markdown object>"
      ]
     },
     "metadata": {},
     "output_type": "display_data"
    }
   ],
   "source": [
    "show_matrix( AA.dot(BB) )"
   ]
  },
  {
   "cell_type": "code",
   "execution_count": 142,
   "metadata": {
    "hidden": true
   },
   "outputs": [
    {
     "data": {
      "text/markdown": [
       "\\begin{bmatrix}\n",
       "  4.11807134 & 3.11530414 & 7.43016495\\\\\n",
       "  9.93344831 & 7.75543765 & 17.91842859\\\\\n",
       "  10.2711802 & 7.55856248 & 11.56230443\\\\\n",
       "\\end{bmatrix}"
      ],
      "text/plain": [
       "<IPython.core.display.Markdown object>"
      ]
     },
     "metadata": {},
     "output_type": "display_data"
    }
   ],
   "source": [
    "show_matrix( AA*BB )"
   ]
  },
  {
   "cell_type": "markdown",
   "metadata": {
    "hidden": true
   },
   "source": [
    "Pada catatan ini, kita akan menggunakan `matrix`. Jika Anda lebih suka menggunakan `ndarray` langsung, Anda harus melakukan beberapa modifikasi."
   ]
  },
  {
   "cell_type": "markdown",
   "metadata": {
    "hidden": true
   },
   "source": [
    "Operasi vektorisasi sebisa mungkin akan dihindari agar struktur loop terlihat secara eksplisit."
   ]
  },
  {
   "cell_type": "markdown",
   "metadata": {},
   "source": [
    "# Metode Eliminasi Gauss"
   ]
  },
  {
   "cell_type": "markdown",
   "metadata": {},
   "source": [
    "Dalam metode eliminasi Gauss, matriks $\\mathbf{A}$ dan vektor kolom $\\mathbf{b}$ akan ditransformasi sedemikian rupa sehingga diperoleh matriks dalam bentuk segitiga atas atau segitiga bawah."
   ]
  },
  {
   "cell_type": "markdown",
   "metadata": {},
   "source": [
    "Transformasi yang dilakukan adalah sebagai berikut.\n",
    "$$\n",
    "\\begin{align*}\n",
    "A_{ij} \\leftarrow A_{ij} - \\alpha A_{kj} \\\\\n",
    "b_{i} \\leftarrow b_{i} - \\alpha b_{k}\n",
    "\\end{align*}\n",
    "$$\n",
    "Setelah matriks $\\mathbf{A}$ direduksi menjadi bentuk segitiga atas, solusi persamaan linear yang dihasilkan dapat dicari dengan menggunakan substitusi mundur (*backward substitution*).\n",
    "$$\n",
    "x_{k} = \\left(\n",
    "b_{k} - \\sum_{j=k+1}^{N} A_{kj} x_{j}\n",
    "\\right)\\frac{1}{A_{kk}}\\,\\,\\,, k = N-1, N-2, \\ldots, 1\n",
    "$$"
   ]
  },
  {
   "cell_type": "markdown",
   "metadata": {},
   "source": [
    "## Contoh penggunaan metode eliminasi Gauss"
   ]
  },
  {
   "cell_type": "markdown",
   "metadata": {},
   "source": [
    "Perhatikan sistem persamaan linear berikut ini:\n",
    "\n",
    "$$\n",
    "\\begin{align*}\n",
    "x_{1} + x_{2} + x_{3} & = 4 \\\\\n",
    "2x_{1} + 3x_{2} + x_{3} & = 9 \\\\\n",
    "x_{1} - x_{2} - x_{3} & = -2\n",
    "\\end{align*}\n",
    "$$\n",
    "\n",
    "Persamaan di atas dapat diubah dalam bentuk matriks sebagai\n",
    "\n",
    "$$\n",
    "\\begin{bmatrix}\n",
    "1 & 1 & 1 \\\\\n",
    "2 & 3 & 1 \\\\\n",
    "1 & -1 & -1\n",
    "\\end{bmatrix}\n",
    "\\begin{bmatrix}\n",
    "x_{1} \\\\\n",
    "x_{2} \\\\\n",
    "x_{3}\n",
    "\\end{bmatrix} =\n",
    "\\begin{bmatrix}\n",
    "4 \\\\\n",
    "9 \\\\\n",
    "-2\n",
    "\\end{bmatrix}\n",
    "$$"
   ]
  },
  {
   "cell_type": "code",
   "execution_count": 80,
   "metadata": {},
   "outputs": [
    {
     "data": {
      "text/markdown": [
       "\\begin{bmatrix}\n",
       "  1. & 1. & 1.\\\\\n",
       "  2. & 3. & 1.\\\\\n",
       "  1. & -1. & -1.\\\\\n",
       "\\end{bmatrix}"
      ],
      "text/plain": [
       "<IPython.core.display.Markdown object>"
      ]
     },
     "metadata": {},
     "output_type": "display_data"
    }
   ],
   "source": [
    "A = np.matrix([\n",
    "    [1, 1, 1],\n",
    "    [2, 3, 1],\n",
    "    [1, -1, -1]\n",
    "], dtype=np.float64)\n",
    "show_matrix(A)"
   ]
  },
  {
   "cell_type": "code",
   "execution_count": 82,
   "metadata": {},
   "outputs": [
    {
     "data": {
      "text/markdown": [
       "\\begin{bmatrix}\n",
       "  4.\\\\\n",
       "  9.\\\\\n",
       "  -2.\\\\\n",
       "\\end{bmatrix}"
      ],
      "text/plain": [
       "<IPython.core.display.Markdown object>"
      ]
     },
     "metadata": {},
     "output_type": "display_data"
    }
   ],
   "source": [
    "b = np.matrix([4, 9, -2], dtype=np.float64).transpose()\n",
    "show_matrix(b)"
   ]
  },
  {
   "cell_type": "markdown",
   "metadata": {},
   "source": [
    "Karena kita akan memodifikasi matrix `A` dan `b`, maka kita harus membuat backup (copy) dari nilai asli mereka."
   ]
  },
  {
   "cell_type": "code",
   "execution_count": 83,
   "metadata": {},
   "outputs": [],
   "source": [
    "A_orig = np.matrix.copy(A)\n",
    "b_orig = np.matrix.copy(b)"
   ]
  },
  {
   "cell_type": "markdown",
   "metadata": {},
   "source": [
    "Dimulai dengan menggunakan elemen matriks $A_{11}$ (atau `A[0,0]` dalam notasi Numpy) sebagai pivot, kita akan melakukan reduksi pada baris kedua dan ketiga.\n",
    "\n",
    "Kita akan mulai dengan reduksi baris kedua."
   ]
  },
  {
   "cell_type": "code",
   "execution_count": 87,
   "metadata": {},
   "outputs": [
    {
     "data": {
      "text/markdown": [
       "\\begin{bmatrix}\n",
       "  1. & 1. & 1.\\\\\n",
       "  2. & 3. & 1.\\\\\n",
       "  1. & -1. & -1.\\\\\n",
       "\\end{bmatrix}"
      ],
      "text/plain": [
       "<IPython.core.display.Markdown object>"
      ]
     },
     "metadata": {},
     "output_type": "display_data"
    }
   ],
   "source": [
    "show_matrix(A)"
   ]
  },
  {
   "cell_type": "code",
   "execution_count": 85,
   "metadata": {},
   "outputs": [
    {
     "data": {
      "text/markdown": [
       "\\begin{bmatrix}\n",
       "  2. & 3. & 1.\\\\\n",
       "\\end{bmatrix}"
      ],
      "text/plain": [
       "<IPython.core.display.Markdown object>"
      ]
     },
     "metadata": {},
     "output_type": "display_data"
    }
   ],
   "source": [
    "show_matrix(A[1,:])"
   ]
  },
  {
   "cell_type": "code",
   "execution_count": 88,
   "metadata": {},
   "outputs": [
    {
     "data": {
      "text/plain": [
       "2.0"
      ]
     },
     "execution_count": 88,
     "metadata": {},
     "output_type": "execute_result"
    }
   ],
   "source": [
    "alpha = A[1,0]/A[0,0]\n",
    "alpha"
   ]
  },
  {
   "cell_type": "code",
   "execution_count": 89,
   "metadata": {},
   "outputs": [
    {
     "name": "stdout",
     "output_type": "stream",
     "text": [
      "A = \n"
     ]
    },
    {
     "data": {
      "text/markdown": [
       "\\begin{bmatrix}\n",
       "  1. & 1. & 1.\\\\\n",
       "  0. & 1. & -1.\\\\\n",
       "  1. & -1. & -1.\\\\\n",
       "\\end{bmatrix}"
      ],
      "text/plain": [
       "<IPython.core.display.Markdown object>"
      ]
     },
     "metadata": {},
     "output_type": "display_data"
    },
    {
     "name": "stdout",
     "output_type": "stream",
     "text": [
      "b = \n"
     ]
    },
    {
     "data": {
      "text/markdown": [
       "\\begin{bmatrix}\n",
       "  4.\\\\\n",
       "  1.\\\\\n",
       "  -2.\\\\\n",
       "\\end{bmatrix}"
      ],
      "text/plain": [
       "<IPython.core.display.Markdown object>"
      ]
     },
     "metadata": {},
     "output_type": "display_data"
    }
   ],
   "source": [
    "alpha = A[1,0]/A[0,0]\n",
    "A[1,:] = A[1,:] - alpha*A[0,:] # baris kedua = baris kedua - alpha*(baris pertama)\n",
    "b[1] = b[1] - alpha*b[0]\n",
    "\n",
    "print(\"A = \")\n",
    "show_matrix(A)\n",
    "print(\"b = \")\n",
    "show_matrix(b)"
   ]
  },
  {
   "cell_type": "markdown",
   "metadata": {},
   "source": [
    "Masih menggunakan `A[0,0]` sebagai pivot, kita akan reduksi baris ketiga:"
   ]
  },
  {
   "cell_type": "code",
   "execution_count": 90,
   "metadata": {},
   "outputs": [
    {
     "name": "stdout",
     "output_type": "stream",
     "text": [
      "A = \n"
     ]
    },
    {
     "data": {
      "text/markdown": [
       "\\begin{bmatrix}\n",
       "  1. & 1. & 1.\\\\\n",
       "  0. & 1. & -1.\\\\\n",
       "  0. & -2. & -2.\\\\\n",
       "\\end{bmatrix}"
      ],
      "text/plain": [
       "<IPython.core.display.Markdown object>"
      ]
     },
     "metadata": {},
     "output_type": "display_data"
    },
    {
     "name": "stdout",
     "output_type": "stream",
     "text": [
      "b = \n"
     ]
    },
    {
     "data": {
      "text/markdown": [
       "\\begin{bmatrix}\n",
       "  4.\\\\\n",
       "  1.\\\\\n",
       "  -6.\\\\\n",
       "\\end{bmatrix}"
      ],
      "text/plain": [
       "<IPython.core.display.Markdown object>"
      ]
     },
     "metadata": {},
     "output_type": "display_data"
    }
   ],
   "source": [
    "alpha = A[2,0]/A[0,0]\n",
    "A[2,:] = A[2,:] - alpha*A[0,:]\n",
    "b[2] = b[2] - alpha*b[0]\n",
    "\n",
    "print(\"A = \")\n",
    "show_matrix(A)\n",
    "print(\"b = \")\n",
    "show_matrix(b)"
   ]
  },
  {
   "cell_type": "markdown",
   "metadata": {},
   "source": [
    "Setelah menjadikan `A[0,0]` sebagai pivot dan mereduksi baris kedua dan ketiga, kita akan menggunakan `A[1,1]` sebagai pivot dan mereduksi baris ketiga:"
   ]
  },
  {
   "cell_type": "code",
   "execution_count": 91,
   "metadata": {},
   "outputs": [
    {
     "name": "stdout",
     "output_type": "stream",
     "text": [
      "A = \n"
     ]
    },
    {
     "data": {
      "text/markdown": [
       "\\begin{bmatrix}\n",
       "  1. & 1. & 1.\\\\\n",
       "  0. & 1. & -1.\\\\\n",
       "  0. & 0. & -4.\\\\\n",
       "\\end{bmatrix}"
      ],
      "text/plain": [
       "<IPython.core.display.Markdown object>"
      ]
     },
     "metadata": {},
     "output_type": "display_data"
    },
    {
     "name": "stdout",
     "output_type": "stream",
     "text": [
      "b = \n"
     ]
    },
    {
     "data": {
      "text/markdown": [
       "\\begin{bmatrix}\n",
       "  4.\\\\\n",
       "  1.\\\\\n",
       "  -4.\\\\\n",
       "\\end{bmatrix}"
      ],
      "text/plain": [
       "<IPython.core.display.Markdown object>"
      ]
     },
     "metadata": {},
     "output_type": "display_data"
    }
   ],
   "source": [
    "alpha = A[2,1]/A[1,1]\n",
    "A[2,:] = A[2,:] - alpha*A[1,:]\n",
    "b[2] = b[2] - alpha*b[1]\n",
    "\n",
    "print(\"A = \")\n",
    "show_matrix(A)\n",
    "print(\"b = \")\n",
    "show_matrix(b)"
   ]
  },
  {
   "cell_type": "markdown",
   "metadata": {},
   "source": [
    "Sekarang `A` telah tereduksi menjadi bentuk matriks segitiga atas. Persamaan yang kita miliki sekarang adalah:\n",
    "\n",
    "$$\n",
    "\\begin{bmatrix}\n",
    "1 & 1 & 1 \\\\\n",
    "0 & 1 & -1 \\\\\n",
    "0 & 0 & -4\n",
    "\\end{bmatrix}\n",
    "\\begin{bmatrix}\n",
    "x_{1} \\\\\n",
    "x_{2} \\\\\n",
    "x_{3}\n",
    "\\end{bmatrix} =\n",
    "\\begin{bmatrix}\n",
    "4 \\\\\n",
    "1 \\\\\n",
    "-4\n",
    "\\end{bmatrix}\n",
    "$$"
   ]
  },
  {
   "cell_type": "markdown",
   "metadata": {},
   "source": [
    "Sistem persamaan linear ini dapat dengan mudah diselesaikan dengan menggunakan substitusi balik: mulai dari mencari $x_3$, kemudian $x_2$, dan akhirnya $x_1$."
   ]
  },
  {
   "cell_type": "code",
   "execution_count": 92,
   "metadata": {},
   "outputs": [
    {
     "name": "stdout",
     "output_type": "stream",
     "text": [
      "Solusi x:\n"
     ]
    },
    {
     "data": {
      "text/markdown": [
       "\\begin{bmatrix}\n",
       "  1.\\\\\n",
       "  2.\\\\\n",
       "  1.\\\\\n",
       "\\end{bmatrix}"
      ],
      "text/plain": [
       "<IPython.core.display.Markdown object>"
      ]
     },
     "metadata": {},
     "output_type": "display_data"
    }
   ],
   "source": [
    "N = len(b)\n",
    "x = np.matrix(np.zeros((N,1)))\n",
    "\n",
    "x[N-1] = b[N-1]/A[N-1,N-1]\n",
    "for k in range(N-2,-1,-1):\n",
    "    ss = 0.0\n",
    "    for j in range(k+1,N):\n",
    "        ss = ss + A[k,j]*x[j]\n",
    "    x[k] = (b[k] - ss)/A[k,k]\n",
    "\n",
    "print(\"Solusi x:\")\n",
    "show_matrix(x)"
   ]
  },
  {
   "cell_type": "markdown",
   "metadata": {},
   "source": [
    "Sekarang kita dapat mengecek apakah solusi yang kita dapatkan sudah benar."
   ]
  },
  {
   "cell_type": "code",
   "execution_count": 94,
   "metadata": {},
   "outputs": [
    {
     "data": {
      "text/markdown": [
       "\\begin{bmatrix}\n",
       "  1. & 1. & 1.\\\\\n",
       "  2. & 3. & 1.\\\\\n",
       "  1. & -1. & -1.\\\\\n",
       "\\end{bmatrix}"
      ],
      "text/plain": [
       "<IPython.core.display.Markdown object>"
      ]
     },
     "metadata": {},
     "output_type": "display_data"
    }
   ],
   "source": [
    "show_matrix(A_orig)"
   ]
  },
  {
   "cell_type": "code",
   "execution_count": 96,
   "metadata": {},
   "outputs": [
    {
     "data": {
      "text/markdown": [
       "\\begin{bmatrix}\n",
       "  4.\\\\\n",
       "  9.\\\\\n",
       "  -2.\\\\\n",
       "\\end{bmatrix}"
      ],
      "text/plain": [
       "<IPython.core.display.Markdown object>"
      ]
     },
     "metadata": {},
     "output_type": "display_data"
    }
   ],
   "source": [
    "show_matrix(A_orig*x)"
   ]
  },
  {
   "cell_type": "code",
   "execution_count": 97,
   "metadata": {},
   "outputs": [
    {
     "data": {
      "text/markdown": [
       "\\begin{bmatrix}\n",
       "  4.\\\\\n",
       "  9.\\\\\n",
       "  -2.\\\\\n",
       "\\end{bmatrix}"
      ],
      "text/plain": [
       "<IPython.core.display.Markdown object>"
      ]
     },
     "metadata": {},
     "output_type": "display_data"
    }
   ],
   "source": [
    "show_matrix(b_orig)"
   ]
  },
  {
   "cell_type": "code",
   "execution_count": 98,
   "metadata": {},
   "outputs": [
    {
     "data": {
      "text/markdown": [
       "\\begin{bmatrix}\n",
       "  0.\\\\\n",
       "  0.\\\\\n",
       "  0.\\\\\n",
       "\\end{bmatrix}"
      ],
      "text/plain": [
       "<IPython.core.display.Markdown object>"
      ]
     },
     "metadata": {},
     "output_type": "display_data"
    }
   ],
   "source": [
    "# Gunakan matrix dan vektor original\n",
    "# Hasil seharunya berupa vektor kolom dengan elemen-element 0\n",
    "show_matrix( A_orig*x - b_orig )"
   ]
  },
  {
   "cell_type": "markdown",
   "metadata": {},
   "source": [
    "### Kode Python untuk eliminasi Gauss"
   ]
  },
  {
   "cell_type": "markdown",
   "metadata": {},
   "source": [
    "Berikut ini adalah implementasi metode eliminasi Gauss pada Python.\n",
    "\n",
    "Kode ini menerima masukan matriks `A_` dan vektor kolom `b_`. dan mengembalikan solusi `x` dari sistem persamaan linear `A_*x = b_`. Tanda `_` digunakan untuk menunjukkan input asli. Pada kode berikut kita bekerja dengan matriks `A` dan vektor `x` yang merupakan kopi dari input-input awal.\n",
    "Kode ini terbatas pada vektor input `b_` yang hanya terdiri dari satu kolom. Kode dapat dikembangkan untuk kasus kolom lebih dari satu. "
   ]
  },
  {
   "cell_type": "code",
   "execution_count": 158,
   "metadata": {},
   "outputs": [],
   "source": [
    "def gauss_elim(A_, b_):\n",
    "    \n",
    "    N, Nrhs = b_.shape\n",
    "    \n",
    "    assert Nrhs == 1\n",
    "\n",
    "    A = np.matrix.copy(A_)\n",
    "    b = np.matrix.copy(b_)\n",
    "\n",
    "    # Eliminasi maju\n",
    "    for k in range(0,N-1):\n",
    "        for i in range(k+1,N):\n",
    "            if A[i,k] != 0.0:\n",
    "                alpha = A[i,k]/A[k,k]\n",
    "                A[i,:] = A[i,:] - alpha*A[k,:]\n",
    "                b[i] = b[i] - alpha*b[k]\n",
    "    \n",
    "    # Alokasi mememori untuk solusi\n",
    "    x = np.matrix(np.zeros((N,1)))\n",
    "    \n",
    "    # Substitusi balik\n",
    "    x[N-1] = b[N-1]/A[N-1,N-1]\n",
    "    for k in range(N-2,-1,-1):\n",
    "        ss = 0.0\n",
    "        for j in range(k+1,N):\n",
    "            ss = ss + A[k,j]*x[j]\n",
    "        x[k] = (b[k] - ss)/A[k,k]\n",
    "    \n",
    "    return x"
   ]
  },
  {
   "cell_type": "code",
   "execution_count": 159,
   "metadata": {},
   "outputs": [
    {
     "data": {
      "text/markdown": [
       "\\begin{bmatrix}\n",
       "  1.\\\\\n",
       "  2.\\\\\n",
       "  1.\\\\\n",
       "\\end{bmatrix}"
      ],
      "text/plain": [
       "<IPython.core.display.Markdown object>"
      ]
     },
     "metadata": {},
     "output_type": "display_data"
    }
   ],
   "source": [
    "show_matrix( gauss_elim(A_orig, b_orig) )"
   ]
  },
  {
   "cell_type": "markdown",
   "metadata": {},
   "source": [
    "# Dekomposisi LU"
   ]
  },
  {
   "cell_type": "markdown",
   "metadata": {},
   "source": [
    "Pada dekomposisi LU, matriks persegi $\\mathbf{A}$ dapat dinyatakan sebagai hasil kali dari matriks segitiga bawah $\\mathbf{L}$ dan matriks segitiga atas $\\mathbf{U}$:\n",
    "$$\n",
    "\\mathbf{A} = \\mathbf{LU}\n",
    "$$\n",
    "Proses untuk mendapatkan matriks $\\mathbf{L}$ dan $\\mathbf{U}$ dari matriks $\\mathbf{A}$ disebut dengan dekomposisi LU atau faktorisasi LU.\n",
    "Dekomposisi LU tidak unik, artinya bisa terdapat banyak kombinasi $\\mathbf{L}$ dan $\\mathbf{U}$ yang mungkin untuk suatu matriks $\\mathbf{A}$ yang diberikan.\n",
    "Untuk mendapatkan pasangan $\\mathbf{L}$ dan $\\mathbf{U}$ yang unik, kita perlu memberikan batasan atau konstrain terhadap proses dekomposisi LU. Terdapat beberapa varian dekomposisi LU:\n",
    "\n",
    "| Nama | Konstrain |\n",
    "| ---- | --------- |\n",
    "| Dekomposisi Doolittle | $L_{ii} = 1$ |\n",
    "| Dekomposisi Crout | $U_{ii} = 1$ |\n",
    "| Dekomposisi Cholesky | $\\mathbf{L} = \\mathbf{U}^{T}$ (untuk matriks $\\mathbf{A}$ simetrik dan definit positif) |"
   ]
  },
  {
   "cell_type": "markdown",
   "metadata": {},
   "source": [
    "Dengan dekomposisi LU kita dapat menuliskan sistem persamaan linear\n",
    "$$\n",
    "\\mathbf{Ax} = \\mathbf{b}\n",
    "$$\n",
    "menjadi:\n",
    "$$\n",
    "\\mathbf{LUx} = \\mathbf{b}\n",
    "$$\n",
    "Dengan menggunakan $\\mathbf{y} = \\mathbf{Ux}$ kita dapat menuliskan:\n",
    "$$\n",
    "\\mathbf{Ly} = \\mathbf{b}\n",
    "$$\n",
    "Persamaan ini dapat diselesaikan dengan menggunakan substitusi maju.\n",
    "Solusi $\\mathbf{x}$ dapat dicari dengan menggunakan substitusi balik (mundur)."
   ]
  },
  {
   "cell_type": "markdown",
   "metadata": {},
   "source": [
    "Varian Doolittle untuk dekomposisi LU memiliki bentuk berikut untuk matriks $\\mathbf{L}$ dan $\\mathbf{U}$, misalnya untuk ukuran $3\\times3$ \n",
    "\n",
    "$$\n",
    "\\mathbf{L} =\n",
    "\\begin{bmatrix}\n",
    "1 & 0 & 0 \\\\\n",
    "L_{21} & 1 & 0 \\\\\n",
    "L_{31} & L_{32} & 1\n",
    "\\end{bmatrix},\\,\\,\\,\n",
    "\\mathbf{U} =\n",
    "\\begin{bmatrix}\n",
    "U_{11} & U_{12} & U_{13} \\\\\n",
    "0 & U_{22} & U_{23} \\\\\n",
    "0 & 0 & U_{33}\n",
    "\\end{bmatrix}\n",
    "$$\n",
    "\n",
    "Dengan melakukan perkalian $\\mathbf{A} = \\mathbf{LU}$\n",
    "\n",
    "$$\n",
    "\\mathbf{A} = \\begin{bmatrix}\n",
    "U_{11} & U_{12} & U_{13} \\\\\n",
    "U_{11}L_{21} & U_{12}L_{21} + U_{22} & U_{13}L_{21} + U_{23} \\\\\n",
    "U_{11}L_{31} & U_{12}L_{31} + U_{22}L_{32} & U_{13}L_{31} + U_{23}L_{32} + U_{33}\n",
    "\\end{bmatrix}\n",
    "$$"
   ]
  },
  {
   "cell_type": "markdown",
   "metadata": {},
   "source": [
    "Dapat ditunjukkan bahwa matriks $\\mathbf{U}$ adalah matriks segitiga atas hasil dari eliminasi Gauss pada matriks $\\mathbf{A}$. Elemen *off-diagonal* dari matriks $\\mathbf{L}$ adalah pengali $\\alpha$, atau $L_{ij}$ adalah pengali yang mengelimisasi $A_{ij}$."
   ]
  },
  {
   "cell_type": "markdown",
   "metadata": {},
   "source": [
    "## Kode Python untuk dekomposisi LU (varian Doolittle)"
   ]
  },
  {
   "cell_type": "code",
   "execution_count": 160,
   "metadata": {},
   "outputs": [],
   "source": [
    "def LU_decomp(A_):\n",
    "    \n",
    "    Nrow, Ncol = A_.shape\n",
    "    \n",
    "    assert Nrow == Ncol\n",
    "\n",
    "    A = np.matrix.copy(A_)\n",
    "\n",
    "    # Eliminasi Gauss (maju)\n",
    "    for k in range(0,N-1):\n",
    "        for i in range(k+1,N):\n",
    "            if A[i,k] != 0.0:\n",
    "                alpha = A[i,k]/A[k,k]\n",
    "                A[i,k+1:N] = A[i,k+1:N] - alpha*A[k,k+1:N]\n",
    "                A[i,k] = alpha\n",
    "    \n",
    "    L = np.matrix( np.tril(A,-1) )\n",
    "    for i in range(N):\n",
    "        L[i,i] = 1.0 # konstrain Doolittle\n",
    "    U = np.matrix( np.triu(A) )\n",
    "    \n",
    "    return L, U # kembalikan matriks L dan U"
   ]
  },
  {
   "cell_type": "markdown",
   "metadata": {},
   "source": [
    "Definisikan lagi matriks dan vektor yang ada pada contoh sebelumnya."
   ]
  },
  {
   "cell_type": "code",
   "execution_count": 161,
   "metadata": {},
   "outputs": [],
   "source": [
    "A = np.matrix([\n",
    "    [1, 1, 1],\n",
    "    [2, 3, 1],\n",
    "    [1, -1, -1]\n",
    "])\n",
    "b = np.matrix([4, 9, -2]).transpose()"
   ]
  },
  {
   "cell_type": "markdown",
   "metadata": {},
   "source": [
    "Lakukan dekomposisi LU:"
   ]
  },
  {
   "cell_type": "code",
   "execution_count": 167,
   "metadata": {},
   "outputs": [
    {
     "name": "stdout",
     "output_type": "stream",
     "text": [
      "L = \n"
     ]
    },
    {
     "data": {
      "text/markdown": [
       "\\begin{bmatrix}\n",
       "  1 & 0 & 0\\\\\n",
       "  2 & 1 & 0\\\\\n",
       "  1 & -2 & 1\\\\\n",
       "\\end{bmatrix}"
      ],
      "text/plain": [
       "<IPython.core.display.Markdown object>"
      ]
     },
     "metadata": {},
     "output_type": "display_data"
    },
    {
     "name": "stdout",
     "output_type": "stream",
     "text": [
      "U = \n"
     ]
    },
    {
     "data": {
      "text/markdown": [
       "\\begin{bmatrix}\n",
       "  1 & 1 & 1\\\\\n",
       "  0 & 1 & -1\\\\\n",
       "  0 & 0 & -4\\\\\n",
       "\\end{bmatrix}"
      ],
      "text/plain": [
       "<IPython.core.display.Markdown object>"
      ]
     },
     "metadata": {},
     "output_type": "display_data"
    }
   ],
   "source": [
    "L, U = LU_decomp(A)\n",
    "print(\"L = \"); show_matrix(L)\n",
    "print(\"U = \"); show_matrix(U)"
   ]
  },
  {
   "cell_type": "markdown",
   "metadata": {},
   "source": [
    "Periksa bahwa $\\mathbf{A} = \\mathbf{LU}$:"
   ]
  },
  {
   "cell_type": "code",
   "execution_count": 168,
   "metadata": {},
   "outputs": [
    {
     "data": {
      "text/markdown": [
       "\\begin{bmatrix}\n",
       "  0 & 0 & 0\\\\\n",
       "  0 & 0 & 0\\\\\n",
       "  0 & 0 & 0\\\\\n",
       "\\end{bmatrix}"
      ],
      "text/plain": [
       "<IPython.core.display.Markdown object>"
      ]
     },
     "metadata": {},
     "output_type": "display_data"
    }
   ],
   "source": [
    "show_matrix( L*U - A )"
   ]
  },
  {
   "cell_type": "markdown",
   "metadata": {},
   "source": [
    "## Implementasi solusi dengan matrix L dan U yang sudah dihitung"
   ]
  },
  {
   "cell_type": "markdown",
   "metadata": {},
   "source": [
    "Substitusi maju\n",
    "$$\n",
    "y_{k} = b_{k} - \\sum_{j=1}^{k-1} L_{kj} y_{j},\\,\\,\\,k = 2,3,\\ldots,N\n",
    "$$"
   ]
  },
  {
   "cell_type": "code",
   "execution_count": 169,
   "metadata": {},
   "outputs": [],
   "source": [
    "def LU_solve(L, U, b):\n",
    "    \n",
    "    N = L.shape[0]\n",
    "    \n",
    "    x = np.matrix(np.zeros((N,))).transpose()\n",
    "    y = np.matrix(np.zeros((N,))).transpose()\n",
    "    \n",
    "    # Ly = b\n",
    "    # Substitusi maju\n",
    "    y[0] = b[0]/L[0,0]\n",
    "    for k in range(1,N):\n",
    "        ss = 0.0\n",
    "        for j in range(k):\n",
    "            ss = ss + L[k,j]*y[j]\n",
    "        y[k] = (b[k] - ss)/L[k,k]\n",
    "    \n",
    "    # Ux = y\n",
    "    # Substitusi balik\n",
    "    x[N-1] = y[N-1]/U[N-1,N-1]\n",
    "    for k in range(N-2,-1,-1):\n",
    "        ss = 0.0\n",
    "        for j in range(k+1,N):\n",
    "            ss = ss + U[k,j]*x[j]\n",
    "        x[k] = (y[k] - ss)/U[k,k]\n",
    "    \n",
    "    return x"
   ]
  },
  {
   "cell_type": "code",
   "execution_count": 170,
   "metadata": {},
   "outputs": [
    {
     "data": {
      "text/markdown": [
       "\\begin{bmatrix}\n",
       "  1.\\\\\n",
       "  2.\\\\\n",
       "  1.\\\\\n",
       "\\end{bmatrix}"
      ],
      "text/plain": [
       "<IPython.core.display.Markdown object>"
      ]
     },
     "metadata": {},
     "output_type": "display_data"
    }
   ],
   "source": [
    "x = LU_solve(L, U, b)\n",
    "show_matrix(x)"
   ]
  },
  {
   "cell_type": "markdown",
   "metadata": {},
   "source": [
    "Cek hasil:"
   ]
  },
  {
   "cell_type": "code",
   "execution_count": 171,
   "metadata": {},
   "outputs": [
    {
     "data": {
      "text/markdown": [
       "\\begin{bmatrix}\n",
       "  0.\\\\\n",
       "  0.\\\\\n",
       "  0.\\\\\n",
       "\\end{bmatrix}"
      ],
      "text/plain": [
       "<IPython.core.display.Markdown object>"
      ]
     },
     "metadata": {},
     "output_type": "display_data"
    }
   ],
   "source": [
    "show_matrix( A*x - b )"
   ]
  },
  {
   "cell_type": "markdown",
   "metadata": {},
   "source": [
    "# Latihan"
   ]
  },
  {
   "cell_type": "markdown",
   "metadata": {
    "heading_collapsed": true
   },
   "source": [
    "## Latihan 1"
   ]
  },
  {
   "cell_type": "markdown",
   "metadata": {
    "hidden": true
   },
   "source": [
    "Selasaikan persamaan:\n",
    "\n",
    "$$\n",
    "\\begin{bmatrix}\n",
    "6 & -4 & 1 \\\\\n",
    "4 & 6 & -4 \\\\\n",
    "1 & -4 & 6\n",
    "\\end{bmatrix}\n",
    "\\begin{bmatrix}\n",
    "x_1 \\\\\n",
    "x_2 \\\\\n",
    "x_3\n",
    "\\end{bmatrix} = \n",
    "\\begin{bmatrix}\n",
    "-14 \\\\\n",
    "36 \\\\\n",
    "6\n",
    "\\end{bmatrix}\n",
    "$$"
   ]
  },
  {
   "cell_type": "markdown",
   "metadata": {},
   "source": [
    "## Latihan 1 (Solusi)"
   ]
  },
  {
   "cell_type": "markdown",
   "metadata": {},
   "source": [
    "Menggunakan eliminasi Gauss:"
   ]
  },
  {
   "cell_type": "code",
   "execution_count": 172,
   "metadata": {},
   "outputs": [
    {
     "name": "stdout",
     "output_type": "stream",
     "text": [
      "Solusi x = \n"
     ]
    },
    {
     "data": {
      "text/markdown": [
       "\\begin{bmatrix}\n",
       "  10.\\\\\n",
       "  22.\\\\\n",
       "  14.\\\\\n",
       "\\end{bmatrix}"
      ],
      "text/plain": [
       "<IPython.core.display.Markdown object>"
      ]
     },
     "metadata": {},
     "output_type": "display_data"
    },
    {
     "name": "stdout",
     "output_type": "stream",
     "text": [
      "Cek solusi: Ax - b = \n"
     ]
    },
    {
     "data": {
      "text/markdown": [
       "\\begin{bmatrix}\n",
       "  1.77635684e-15\\\\\n",
       "  2.13162821e-14\\\\\n",
       "  0.00000000e+00\\\\\n",
       "\\end{bmatrix}"
      ],
      "text/plain": [
       "<IPython.core.display.Markdown object>"
      ]
     },
     "metadata": {},
     "output_type": "display_data"
    }
   ],
   "source": [
    "A = np.matrix([\n",
    "    [6, -4, 1],\n",
    "    [-4, 6, -4],\n",
    "    [1, -4, 6]], dtype=np.float64)\n",
    "b = np.matrix([-14, 36, 6], dtype=np.float64).transpose()\n",
    "x = gauss_elim(A, b)\n",
    "print(\"Solusi x = \"); show_matrix(x)\n",
    "print(\"Cek solusi: Ax - b = \"); show_matrix(A*x - b)"
   ]
  },
  {
   "cell_type": "markdown",
   "metadata": {},
   "source": [
    "Menggunakan dekomposisi LU:"
   ]
  },
  {
   "cell_type": "code",
   "execution_count": 173,
   "metadata": {},
   "outputs": [
    {
     "name": "stdout",
     "output_type": "stream",
     "text": [
      "Solusi x = \n"
     ]
    },
    {
     "data": {
      "text/markdown": [
       "\\begin{bmatrix}\n",
       "  10.\\\\\n",
       "  22.\\\\\n",
       "  14.\\\\\n",
       "\\end{bmatrix}"
      ],
      "text/plain": [
       "<IPython.core.display.Markdown object>"
      ]
     },
     "metadata": {},
     "output_type": "display_data"
    },
    {
     "name": "stdout",
     "output_type": "stream",
     "text": [
      "Cek solusi: Ax - b = \n"
     ]
    },
    {
     "data": {
      "text/markdown": [
       "\\begin{bmatrix}\n",
       "  1.77635684e-15\\\\\n",
       "  2.13162821e-14\\\\\n",
       "  0.00000000e+00\\\\\n",
       "\\end{bmatrix}"
      ],
      "text/plain": [
       "<IPython.core.display.Markdown object>"
      ]
     },
     "metadata": {},
     "output_type": "display_data"
    }
   ],
   "source": [
    "A = np.matrix([\n",
    "    [6, -4, 1],\n",
    "    [-4, 6, -4],\n",
    "    [1, -4, 6]], dtype=np.float64)\n",
    "b = np.matrix([-14, 36, 6], dtype=np.float64).transpose()\n",
    "L, U = LU_decomp(A)\n",
    "x = LU_solve(L, U, b)\n",
    "print(\"Solusi x = \"); show_matrix(x)\n",
    "print(\"Cek solusi: Ax - b = \"); show_matrix(A*x - b)"
   ]
  },
  {
   "cell_type": "markdown",
   "metadata": {},
   "source": [
    "## Latihan 2"
   ]
  },
  {
   "cell_type": "markdown",
   "metadata": {},
   "source": [
    "Selasaikan persamaan:\n",
    "\n",
    "$$\n",
    "\\begin{bmatrix}\n",
    "3 & 1 & -1 \\\\\n",
    "5 & 8 & 2 \\\\\n",
    "3 & 1 & 10\n",
    "\\end{bmatrix}\n",
    "\\begin{bmatrix}\n",
    "x_1 \\\\\n",
    "x_2 \\\\\n",
    "x_3\n",
    "\\end{bmatrix} =\n",
    "\\begin{bmatrix}\n",
    "1 \\\\\n",
    "-4 \\\\\n",
    "5\n",
    "\\end{bmatrix}\n",
    "$$"
   ]
  },
  {
   "cell_type": "markdown",
   "metadata": {},
   "source": [
    "Menggunakan eliminasi Gauss:"
   ]
  },
  {
   "cell_type": "code",
   "execution_count": 174,
   "metadata": {},
   "outputs": [
    {
     "name": "stdout",
     "output_type": "stream",
     "text": [
      "Solusi x = \n"
     ]
    },
    {
     "data": {
      "text/markdown": [
       "\\begin{bmatrix}\n",
       "  0.82296651\\\\\n",
       "  -1.10526316\\\\\n",
       "  0.36363636\\\\\n",
       "\\end{bmatrix}"
      ],
      "text/plain": [
       "<IPython.core.display.Markdown object>"
      ]
     },
     "metadata": {},
     "output_type": "display_data"
    },
    {
     "name": "stdout",
     "output_type": "stream",
     "text": [
      "Cek solusi: Ax - b = \n"
     ]
    },
    {
     "data": {
      "text/markdown": [
       "\\begin{bmatrix}\n",
       "  -1.11022302e-16\\\\\n",
       "  -8.88178420e-16\\\\\n",
       "  0.00000000e+00\\\\\n",
       "\\end{bmatrix}"
      ],
      "text/plain": [
       "<IPython.core.display.Markdown object>"
      ]
     },
     "metadata": {},
     "output_type": "display_data"
    }
   ],
   "source": [
    "A = np.matrix( [\n",
    "    [3, 1, -1],\n",
    "    [5, 8, 2],\n",
    "    [3, 1, 10]\n",
    "], dtype=np.float64)\n",
    "b = np.matrix([1, -4, 5], np.float64).transpose()\n",
    "x = gauss_elim(A, b)\n",
    "print(\"Solusi x = \"); show_matrix(x)\n",
    "print(\"Cek solusi: Ax - b = \"); show_matrix(A*x - b)"
   ]
  },
  {
   "cell_type": "markdown",
   "metadata": {},
   "source": [
    "Menggunakan dekomposisi LU:"
   ]
  },
  {
   "cell_type": "code",
   "execution_count": 175,
   "metadata": {},
   "outputs": [
    {
     "name": "stdout",
     "output_type": "stream",
     "text": [
      "Solusi x = \n"
     ]
    },
    {
     "data": {
      "text/markdown": [
       "\\begin{bmatrix}\n",
       "  0.82296651\\\\\n",
       "  -1.10526316\\\\\n",
       "  0.36363636\\\\\n",
       "\\end{bmatrix}"
      ],
      "text/plain": [
       "<IPython.core.display.Markdown object>"
      ]
     },
     "metadata": {},
     "output_type": "display_data"
    },
    {
     "name": "stdout",
     "output_type": "stream",
     "text": [
      "Cek solusi: Ax - b = \n"
     ]
    },
    {
     "data": {
      "text/markdown": [
       "\\begin{bmatrix}\n",
       "  -1.11022302e-16\\\\\n",
       "  -8.88178420e-16\\\\\n",
       "  0.00000000e+00\\\\\n",
       "\\end{bmatrix}"
      ],
      "text/plain": [
       "<IPython.core.display.Markdown object>"
      ]
     },
     "metadata": {},
     "output_type": "display_data"
    }
   ],
   "source": [
    "A = np.matrix( [\n",
    "    [3, 1, -1],\n",
    "    [5, 8, 2],\n",
    "    [3, 1, 10]\n",
    "], dtype=np.float64)\n",
    "b = np.matrix([1, -4, 5], np.float64).transpose()\n",
    "L, U = LU_decomp(A)\n",
    "x = LU_solve(L, U, b)\n",
    "print(\"Solusi x = \"); show_matrix(x)\n",
    "print(\"Cek solusi: Ax - b = \"); show_matrix(A*x - b)"
   ]
  },
  {
   "cell_type": "markdown",
   "metadata": {},
   "source": [
    "# Pivoting"
   ]
  },
  {
   "cell_type": "markdown",
   "metadata": {},
   "source": [
    "Metode eliminasi Gauss dan LU memiliki beberapa kekurangan. Salah satu yang sering ditemui adalah ketika elemen pivot yang ditemukan adalah 0. Misalkan pada persamaan berikut ini:\n",
    "\n",
    "$$\n",
    "\\begin{bmatrix}\n",
    "0 & -3 & 7 \\\\\n",
    "1 & 2 & -1 \\\\\n",
    "5 & -2 & 0\n",
    "\\end{bmatrix}\n",
    "\\begin{bmatrix}\n",
    "x_1 \\\\\n",
    "x_2 \\\\\n",
    "x_3\n",
    "\\end{bmatrix} = \n",
    "\\begin{bmatrix}\n",
    "2 \\\\\n",
    "3 \\\\\n",
    "4\n",
    "\\end{bmatrix}\n",
    "$$"
   ]
  },
  {
   "cell_type": "markdown",
   "metadata": {},
   "source": [
    "Jika kita langsung menggunakan fungsi `gauss_elim` kita akan mendapatkan pesan peringatan sebagai berikut:\n",
    "```python\n",
    "A = np.matrix( [\n",
    "    [0, -3, 7],\n",
    "    [1, 2, -1],\n",
    "    [5, -2, 0]\n",
    "], dtype=np.float64)\n",
    "b = np.matrix([2, 3, 4], np.float64).transpose()\n",
    "x = gauss_elim(A, b)\n",
    "```\n",
    "\n",
    "```\n",
    "/home/efefer/miniconda3/lib/python3.7/site-packages/ipykernel_launcher.py:14: RuntimeWarning: divide by zero encountered in double_scalars\n",
    "  \n",
    "/home/efefer/miniconda3/lib/python3.7/site-packages/ipykernel_launcher.py:15: RuntimeWarning: invalid value encountered in multiply\n",
    "  from ipykernel import kernelapp as app\n",
    "/home/efefer/miniconda3/lib/python3.7/site-packages/ipykernel_launcher.py:14: RuntimeWarning: invalid value encountered in double_scalars\n",
    "```"
   ]
  },
  {
   "cell_type": "markdown",
   "metadata": {},
   "source": [
    "Solusi yang dapat digunakan adalah dengan cara menukar baris atau pivoting sedemikian rupa sehingga elemen pivot yang diperoleh tidak menjadi nol. Dalam kasus ini, kita dapat menukar baris pertama dengan baris ketiga:\n",
    "\n",
    "$$\n",
    "\\begin{bmatrix}\n",
    "5 & -2 & 0 \\\\\n",
    "1 & 2 & -1 \\\\\n",
    "0 & -3 & 7\n",
    "\\end{bmatrix}\n",
    "\\begin{bmatrix}\n",
    "x_3 \\\\\n",
    "x_2 \\\\\n",
    "x_1\n",
    "\\end{bmatrix} =\n",
    "\\begin{bmatrix}\n",
    "4 \\\\\n",
    "3 \\\\\n",
    "2\n",
    "\\end{bmatrix}\n",
    "$$"
   ]
  },
  {
   "cell_type": "code",
   "execution_count": 176,
   "metadata": {},
   "outputs": [
    {
     "name": "stdout",
     "output_type": "stream",
     "text": [
      "Solusi x = \n"
     ]
    },
    {
     "data": {
      "text/markdown": [
       "\\begin{bmatrix}\n",
       "  1.30434783\\\\\n",
       "  1.26086957\\\\\n",
       "  0.82608696\\\\\n",
       "\\end{bmatrix}"
      ],
      "text/plain": [
       "<IPython.core.display.Markdown object>"
      ]
     },
     "metadata": {},
     "output_type": "display_data"
    },
    {
     "name": "stdout",
     "output_type": "stream",
     "text": [
      "Cek solusi: Ax - b = \n"
     ]
    },
    {
     "data": {
      "text/markdown": [
       "\\begin{bmatrix}\n",
       "  0.0000000e+00\\\\\n",
       "  4.4408921e-16\\\\\n",
       "  -8.8817842e-16\\\\\n",
       "\\end{bmatrix}"
      ],
      "text/plain": [
       "<IPython.core.display.Markdown object>"
      ]
     },
     "metadata": {},
     "output_type": "display_data"
    }
   ],
   "source": [
    "A = np.matrix( [\n",
    "    [5, -2, 0],\n",
    "    [1, 2, -1],\n",
    "    [0, -3, 7]\n",
    "], dtype=np.float64)\n",
    "b = np.matrix([4, 3, 2], np.float64).transpose()\n",
    "x = gauss_elim(A, b)\n",
    "print(\"Solusi x = \"); show_matrix(x)\n",
    "print(\"Cek solusi: Ax - b = \"); show_matrix(A*x - b)"
   ]
  },
  {
   "cell_type": "markdown",
   "metadata": {},
   "source": [
    "Dapat dilihat bahwa pivoting pada dasarnya bertujuan untuk memperbaiki sifat dominan diagonal dari matriks. Suatu matriks dikatakan dominan diagonal apabila nilai absolut dari elemen diagoanal matriks memiliki nilai yang terbesar bila dibandingkan dengan nilai-nilai elemen lainnya dalam satu baris."
   ]
  },
  {
   "cell_type": "markdown",
   "metadata": {},
   "source": [
    "Ada beberapa strategi yang dapat digunakan untuk pivoting, salah satu yang paling sederhana adalah dengan menggunakan pivoting terskala. Dengan metode ini, pertama kali kita mencari array $\\mathbf{s}$ dengan elemen sebagai berikut:\n",
    "\n",
    "$$\n",
    "s_{i} = \\max\\left|A_{ij}\\right|,\\,\\,\\,i=1,2,\\ldots,N\n",
    "$$\n",
    "\n",
    "$s_{i}$ akan disebut sebagai faktor skala dari baris ke-$i$ yang merupakan elemen dengan nilai absolut terbesar dari baris ke-$i$.\n",
    "Ukuran relatif dari elemen $A_{ij}$ relatif terhadap elemen dengan nilai terbesar adalah:\n",
    "$$\n",
    "r_{ij} = \\frac{\\left|A_{ij}\\right|}{s_{i}}\n",
    "$$\n",
    "Elemen pivot dari matriks $\\mathbf{A}$ akan ditentukan berdasarkan $r_{ij}$. Elemen $A_{kk}$ tidak secara otomatis menjadi elemen pivot, namun kita akan mencari elemen lain di bawah $A_{kk}$ pada kolom ke-$k$ untuk elemen pivot yang terbaik. Misalkan elemen terbaik ini ada pada baris ke-$p$, yaitu $A_{pk}$ yang memiliki ukuran relatif terbesar, yakni:\n",
    "$$\n",
    "r_{pk} = \\max_{j} r_{jk},\\,\\,\\, j \\geq k\n",
    "$$\n",
    "Jika elemen tersebut ditemukan maka kita melakukan pertukaran baris antara baris ke-$k$ dan ke-$p$."
   ]
  },
  {
   "cell_type": "markdown",
   "metadata": {},
   "source": [
    "## Kode Python untuk eliminasi Gauss dengan pivoting"
   ]
  },
  {
   "cell_type": "code",
   "execution_count": 177,
   "metadata": {},
   "outputs": [],
   "source": [
    "def tukar_baris(v, i, j):\n",
    "    if len(v.shape) == 1: # array satu dimensi atau vektor kolom\n",
    "        v[i], v[j] = v[j], v[i]\n",
    "    else:\n",
    "        v[[i,j],:] = v[[j,i],:]"
   ]
  },
  {
   "cell_type": "code",
   "execution_count": 178,
   "metadata": {},
   "outputs": [],
   "source": [
    "def gauss_elim_pivot(A_, b_):\n",
    "    N, Nrhs = b_.shape\n",
    "    \n",
    "    assert Nrhs == 1\n",
    "\n",
    "    A = np.matrix.copy(A_)\n",
    "    b = np.matrix.copy(b_)\n",
    "    \n",
    "    # Faktor skala\n",
    "    s = np.matrix(np.zeros((N,1)))\n",
    "    for i in range(N):\n",
    "        s[i] = np.max(np.abs(A[i,:]))\n",
    "\n",
    "    SMALL = np.finfo(np.float64).eps\n",
    "    \n",
    "    # Eliminasi maju\n",
    "    for k in range(0,N-1):\n",
    "        \n",
    "        r = np.abs(A[k:N,k])/s[k:N]\n",
    "        p = np.argmax(r) + k\n",
    "        if abs(A[p,k]) < SMALL:\n",
    "            raise RuntimeError(\"Matriks A singular\")\n",
    "        # Tukar baris jika diperlukan\n",
    "        if p != k:\n",
    "            print(\"INFO: tukar baris %d dengan %d\" % (p,k))\n",
    "            tukar_baris(b, k, p)\n",
    "            tukar_baris(s, k, p)\n",
    "            tukar_baris(A, k, p)\n",
    "        \n",
    "        for i in range(k+1,N):\n",
    "            if A[i,k] != 0.0:\n",
    "                alpha = A[i,k]/A[k,k]\n",
    "                A[i,:] = A[i,:] - alpha*A[k,:]\n",
    "                b[i] = b[i] - alpha*b[k]\n",
    "    \n",
    "    # Alokasi mememori untuk solusi\n",
    "    x = np.matrix(np.zeros((N,1)))\n",
    "    \n",
    "    # Substitusi balik\n",
    "    x[N-1] = b[N-1]/A[N-1,N-1]\n",
    "    for k in range(N-2,-1,-1):\n",
    "        ss = 0.0\n",
    "        for j in range(k+1,N):\n",
    "            ss = ss + A[k,j]*x[j]\n",
    "        x[k] = (b[k] - ss)/A[k,k]\n",
    "    \n",
    "    return x"
   ]
  },
  {
   "cell_type": "markdown",
   "metadata": {},
   "source": [
    "Contoh penggunaan:"
   ]
  },
  {
   "cell_type": "code",
   "execution_count": 179,
   "metadata": {},
   "outputs": [
    {
     "name": "stdout",
     "output_type": "stream",
     "text": [
      "INFO: tukar baris 2 dengan 0\n",
      "Solusi x = \n"
     ]
    },
    {
     "data": {
      "text/markdown": [
       "\\begin{bmatrix}\n",
       "  1.30434783\\\\\n",
       "  1.26086957\\\\\n",
       "  0.82608696\\\\\n",
       "\\end{bmatrix}"
      ],
      "text/plain": [
       "<IPython.core.display.Markdown object>"
      ]
     },
     "metadata": {},
     "output_type": "display_data"
    },
    {
     "name": "stdout",
     "output_type": "stream",
     "text": [
      "Cek solusi: Ax - b = \n"
     ]
    },
    {
     "data": {
      "text/markdown": [
       "\\begin{bmatrix}\n",
       "  -8.8817842e-16\\\\\n",
       "  4.4408921e-16\\\\\n",
       "  0.0000000e+00\\\\\n",
       "\\end{bmatrix}"
      ],
      "text/plain": [
       "<IPython.core.display.Markdown object>"
      ]
     },
     "metadata": {},
     "output_type": "display_data"
    }
   ],
   "source": [
    "A = np.matrix( [\n",
    "    [0, -3, 7],\n",
    "    [1, 2, -1],\n",
    "    [5, -2, 0]\n",
    "], dtype=np.float64)\n",
    "b = np.matrix([2, 3, 4], np.float64).transpose()\n",
    "\n",
    "x = gauss_elim_pivot(A, b)\n",
    "print(\"Solusi x = \"); show_matrix(x)\n",
    "print(\"Cek solusi: Ax - b = \"); show_matrix(A*x - b)"
   ]
  },
  {
   "cell_type": "markdown",
   "metadata": {
    "heading_collapsed": true
   },
   "source": [
    "## Kode Python untuk dekomposisi LU dengan pivoting"
   ]
  },
  {
   "cell_type": "code",
   "execution_count": 180,
   "metadata": {
    "hidden": true
   },
   "outputs": [],
   "source": [
    "def LU_decomp_pivot(A_):\n",
    "    \n",
    "    Nrow, Ncol = A_.shape\n",
    "    \n",
    "    assert Nrow == Ncol\n",
    "    \n",
    "    N = Nrow\n",
    "\n",
    "    A = np.matrix.copy(A_)\n",
    "    \n",
    "    # Faktor skala\n",
    "    s = np.matrix(np.zeros((N,1)))\n",
    "    for i in range(N):\n",
    "        s[i] = np.max(np.abs(A[i,:]))\n",
    "        \n",
    "    iperm = np.arange(N)\n",
    "\n",
    "    SMALL = np.finfo(np.float64).eps\n",
    "\n",
    "    # Eliminasi Gauss (maju)\n",
    "    for k in range(0,N-1):\n",
    "        \n",
    "        r = np.abs(A[k:N,k])/s[k:N]\n",
    "        p = np.argmax(r) + k\n",
    "        if abs(A[p,k]) < SMALL:\n",
    "            raise RuntimeError(\"Matriks A singular\")\n",
    "        # Tukar baris jika diperlukan\n",
    "        if p != k:\n",
    "            print(\"INFO: tukar baris %d dengan %d\" % (p,k))\n",
    "            tukar_baris(A, k, p)\n",
    "            tukar_baris(s, k, p)\n",
    "            tukar_baris(iperm, k, p)\n",
    "        \n",
    "        for i in range(k+1,N):\n",
    "            if A[i,k] != 0.0:\n",
    "                alpha = A[i,k]/A[k,k]\n",
    "                A[i,k+1:N] = A[i,k+1:N] - alpha*A[k,k+1:N]\n",
    "                A[i,k] = alpha\n",
    "    \n",
    "    L = np.matrix( np.tril(A,-1) )\n",
    "    for i in range(N):\n",
    "        L[i,i] = 1.0 # konstrain Doolittle\n",
    "    U = np.matrix( np.triu(A) )\n",
    "    \n",
    "    return L, U, iperm # kembalikan matriks L dan U serta vektor permutasi"
   ]
  },
  {
   "cell_type": "code",
   "execution_count": 181,
   "metadata": {
    "hidden": true
   },
   "outputs": [],
   "source": [
    "def LU_solve_pivot(L, U, iperm, b_):\n",
    "    \n",
    "    N = L.shape[0]\n",
    "    \n",
    "    x = np.matrix(np.zeros((N,))).transpose()\n",
    "    y = np.matrix(np.zeros((N,))).transpose()\n",
    "    \n",
    "    b = np.matrix.copy(b_)\n",
    "    for i in range(N):\n",
    "        b[i] = b_[iperm[i]]\n",
    "    \n",
    "    # Ly = b\n",
    "    # Substitusi maju\n",
    "    y[0] = b[0]/L[0,0]\n",
    "    for k in range(1,N):\n",
    "        ss = 0.0\n",
    "        for j in range(k):\n",
    "            ss = ss + L[k,j]*y[j]\n",
    "        y[k] = (b[k] - ss)/L[k,k]\n",
    "    \n",
    "    # Ux = y\n",
    "    # Substitusi balik\n",
    "    x[N-1] = y[N-1]/U[N-1,N-1]\n",
    "    for k in range(N-2,-1,-1):\n",
    "        ss = 0.0\n",
    "        for j in range(k+1,N):\n",
    "            ss = ss + U[k,j]*x[j]\n",
    "        x[k] = (y[k] - ss)/U[k,k]\n",
    "    \n",
    "    return x"
   ]
  },
  {
   "cell_type": "markdown",
   "metadata": {
    "hidden": true
   },
   "source": [
    "Contoh penggunaan:"
   ]
  },
  {
   "cell_type": "code",
   "execution_count": 184,
   "metadata": {
    "hidden": true
   },
   "outputs": [
    {
     "name": "stdout",
     "output_type": "stream",
     "text": [
      "INFO: tukar baris 1 dengan 0\n",
      "INFO: tukar baris 2 dengan 1\n",
      "L = \n"
     ]
    },
    {
     "data": {
      "text/markdown": [
       "\\begin{bmatrix}\n",
       "  1. & 0. & 0.\\\\\n",
       "  0.5 & 1. & 0.\\\\\n",
       "  -1. & 0.33333333 & 1.\\\\\n",
       "\\end{bmatrix}"
      ],
      "text/plain": [
       "<IPython.core.display.Markdown object>"
      ]
     },
     "metadata": {},
     "output_type": "display_data"
    },
    {
     "name": "stdout",
     "output_type": "stream",
     "text": [
      "U = \n"
     ]
    },
    {
     "data": {
      "text/markdown": [
       "\\begin{bmatrix}\n",
       "  -2. & 4. & 3.\\\\\n",
       "  0. & 6. & 2.5\\\\\n",
       "  0. & 0. & 8.16666667\\\\\n",
       "\\end{bmatrix}"
      ],
      "text/plain": [
       "<IPython.core.display.Markdown object>"
      ]
     },
     "metadata": {},
     "output_type": "display_data"
    },
    {
     "name": "stdout",
     "output_type": "stream",
     "text": [
      "Solusi x = \n"
     ]
    },
    {
     "data": {
      "text/markdown": [
       "\\begin{bmatrix}\n",
       "  1.\\\\\n",
       "  -1.\\\\\n",
       "  2.\\\\\n",
       "\\end{bmatrix}"
      ],
      "text/plain": [
       "<IPython.core.display.Markdown object>"
      ]
     },
     "metadata": {},
     "output_type": "display_data"
    },
    {
     "name": "stdout",
     "output_type": "stream",
     "text": [
      "Cek solusi: Ax - b = \n"
     ]
    },
    {
     "data": {
      "text/markdown": [
       "\\begin{bmatrix}\n",
       "  0.\\\\\n",
       "  0.\\\\\n",
       "  0.\\\\\n",
       "\\end{bmatrix}"
      ],
      "text/plain": [
       "<IPython.core.display.Markdown object>"
      ]
     },
     "metadata": {},
     "output_type": "display_data"
    }
   ],
   "source": [
    "A = np.matrix([\n",
    "    [2, -2, 6],\n",
    "    [-2, 4, 3],\n",
    "    [-1, 8, 4]\n",
    "], dtype=np.float64)\n",
    "b = np.matrix([16, 0, -1]).transpose()\n",
    "L, U, iperm = LU_decomp_pivot(A)\n",
    "print(\"L = \"); show_matrix(L)\n",
    "print(\"U = \"); show_matrix(U)\n",
    "x = LU_solve_pivot(L, U, iperm, b)\n",
    "print(\"Solusi x = \"); show_matrix(x)\n",
    "print(\"Cek solusi: Ax - b = \"); show_matrix(A*x - b)"
   ]
  },
  {
   "cell_type": "markdown",
   "metadata": {
    "hidden": true
   },
   "source": [
    "Contoh lain:"
   ]
  },
  {
   "cell_type": "code",
   "execution_count": 185,
   "metadata": {
    "hidden": true
   },
   "outputs": [
    {
     "name": "stdout",
     "output_type": "stream",
     "text": [
      "INFO: tukar baris 3 dengan 0\n",
      "INFO: tukar baris 3 dengan 1\n",
      "INFO: tukar baris 3 dengan 2\n",
      "L = \n"
     ]
    },
    {
     "data": {
      "text/markdown": [
       "\\begin{bmatrix}\n",
       "  1. & 0. & 0. & 0.\\\\\n",
       "  0. & 1. & 0. & 0.\\\\\n",
       "  0.66666667 & -0.5 & 1. & 0.\\\\\n",
       "  -0.66666667 & 0.5 & -0.02702703 & 1.\\\\\n",
       "\\end{bmatrix}"
      ],
      "text/plain": [
       "<IPython.core.display.Markdown object>"
      ]
     },
     "metadata": {},
     "output_type": "display_data"
    },
    {
     "name": "stdout",
     "output_type": "stream",
     "text": [
      "U = \n"
     ]
    },
    {
     "data": {
      "text/markdown": [
       "\\begin{bmatrix}\n",
       "  3. & 3. & -1. & 2.\\\\\n",
       "  0. & 2. & 5. & -1.\\\\\n",
       "  0. & 0. & 6.16666667 & -1.83333333\\\\\n",
       "  0. & 0. & 0. & 2.78378378\\\\\n",
       "\\end{bmatrix}"
      ],
      "text/plain": [
       "<IPython.core.display.Markdown object>"
      ]
     },
     "metadata": {},
     "output_type": "display_data"
    },
    {
     "name": "stdout",
     "output_type": "stream",
     "text": [
      "Solusi x = \n"
     ]
    },
    {
     "data": {
      "text/markdown": [
       "\\begin{bmatrix}\n",
       "  2.00000000e+00\\\\\n",
       "  -1.00000000e+00\\\\\n",
       "  3.60072332e-17\\\\\n",
       "  1.00000000e+00\\\\\n",
       "\\end{bmatrix}"
      ],
      "text/plain": [
       "<IPython.core.display.Markdown object>"
      ]
     },
     "metadata": {},
     "output_type": "display_data"
    },
    {
     "name": "stdout",
     "output_type": "stream",
     "text": [
      "Cek solusi: Ax - b = \n"
     ]
    },
    {
     "data": {
      "text/markdown": [
       "\\begin{bmatrix}\n",
       "  0.\\\\\n",
       "  0.\\\\\n",
       "  0.\\\\\n",
       "  0.\\\\\n",
       "\\end{bmatrix}"
      ],
      "text/plain": [
       "<IPython.core.display.Markdown object>"
      ]
     },
     "metadata": {},
     "output_type": "display_data"
    }
   ],
   "source": [
    "A = np.matrix([\n",
    "    [0, 2, 5, -1],\n",
    "    [2, 1, 3, 0],\n",
    "    [-2, -1, 3, 1],\n",
    "    [3, 3, -1, 2]\n",
    "], dtype=np.float64)\n",
    "b = np.matrix([-3, 3, -2, 5]).transpose()\n",
    "L, U, iperm = LU_decomp_pivot(A)\n",
    "print(\"L = \"); show_matrix(L)\n",
    "print(\"U = \"); show_matrix(U)\n",
    "x = LU_solve_pivot(L, U, iperm, b)\n",
    "print(\"Solusi x = \"); show_matrix(x)\n",
    "print(\"Cek solusi: Ax - b = \"); show_matrix(A*x - b)"
   ]
  },
  {
   "cell_type": "markdown",
   "metadata": {},
   "source": [
    "# Menggunakan pustaka pada Python"
   ]
  },
  {
   "cell_type": "markdown",
   "metadata": {},
   "source": [
    "Untuk berbagai aplikasi pada sains dan teknik, kita biasanya menyelesaikan sistem persamaan linear yang ditemui dengan menggunakan berbagai macam pustaka yang sudah tersedia.\n",
    "\n",
    "Python sudah memiliki beberapa fungsi yang terkait dengan sistem persamaan linear dan operasi terkait seperti menghitung determinan dan invers matriks."
   ]
  },
  {
   "cell_type": "markdown",
   "metadata": {},
   "source": [
    "Fungsi `np.linalg.solve` dapat digunakan untuk menyelesaikan sistem persamaan linear:"
   ]
  },
  {
   "cell_type": "code",
   "execution_count": 186,
   "metadata": {},
   "outputs": [],
   "source": [
    "A = np.matrix([\n",
    "    [1, 1, 1],\n",
    "    [2, 3, -1],\n",
    "    [1, -1, -1]\n",
    "])\n",
    "B = np.matrix([4, 9, 2]).transpose()"
   ]
  },
  {
   "cell_type": "code",
   "execution_count": 187,
   "metadata": {},
   "outputs": [
    {
     "data": {
      "text/markdown": [
       "\\begin{bmatrix}\n",
       "  3.\\\\\n",
       "  1.\\\\\n",
       "  0.\\\\\n",
       "\\end{bmatrix}"
      ],
      "text/plain": [
       "<IPython.core.display.Markdown object>"
      ]
     },
     "metadata": {},
     "output_type": "display_data"
    }
   ],
   "source": [
    "x = np.linalg.solve(A,B)\n",
    "show_matrix(x)"
   ]
  },
  {
   "cell_type": "code",
   "execution_count": 188,
   "metadata": {},
   "outputs": [
    {
     "data": {
      "text/markdown": [
       "\\begin{bmatrix}\n",
       "  0.\\\\\n",
       "  0.\\\\\n",
       "  0.\\\\\n",
       "\\end{bmatrix}"
      ],
      "text/plain": [
       "<IPython.core.display.Markdown object>"
      ]
     },
     "metadata": {},
     "output_type": "display_data"
    }
   ],
   "source": [
    "show_matrix(A*x - B)"
   ]
  },
  {
   "cell_type": "markdown",
   "metadata": {},
   "source": [
    "Fungsi `np.linalg.det` dapat digunakan untuk menghitung determinan dari suatu matriks"
   ]
  },
  {
   "cell_type": "code",
   "execution_count": 189,
   "metadata": {},
   "outputs": [
    {
     "data": {
      "text/plain": [
       "-8.000000000000002"
      ]
     },
     "execution_count": 189,
     "metadata": {},
     "output_type": "execute_result"
    }
   ],
   "source": [
    "np.linalg.det(A)"
   ]
  },
  {
   "cell_type": "markdown",
   "metadata": {},
   "source": [
    "Fungsi `np.linalg.inv` dapat digunakan untuk menghitung invers dari suatu matriks"
   ]
  },
  {
   "cell_type": "code",
   "execution_count": 191,
   "metadata": {},
   "outputs": [
    {
     "data": {
      "text/markdown": [
       "\\begin{bmatrix}\n",
       "  0.5 & 0. & 0.5\\\\\n",
       "  -0.125 & 0.25 & -0.375\\\\\n",
       "  0.625 & -0.25 & -0.125\\\\\n",
       "\\end{bmatrix}"
      ],
      "text/plain": [
       "<IPython.core.display.Markdown object>"
      ]
     },
     "metadata": {},
     "output_type": "display_data"
    }
   ],
   "source": [
    "show_matrix( np.linalg.inv(A) )"
   ]
  },
  {
   "cell_type": "code",
   "execution_count": null,
   "metadata": {},
   "outputs": [],
   "source": []
  }
 ],
 "metadata": {
  "kernelspec": {
   "display_name": "Python 3 (ipykernel)",
   "language": "python",
   "name": "python3"
  },
  "language_info": {
   "codemirror_mode": {
    "name": "ipython",
    "version": 3
   },
   "file_extension": ".py",
   "mimetype": "text/x-python",
   "name": "python",
   "nbconvert_exporter": "python",
   "pygments_lexer": "ipython3",
   "version": "3.9.7"
  }
 },
 "nbformat": 4,
 "nbformat_minor": 4
}
