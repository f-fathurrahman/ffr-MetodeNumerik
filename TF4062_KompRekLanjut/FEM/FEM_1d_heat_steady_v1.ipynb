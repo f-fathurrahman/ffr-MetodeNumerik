{
 "cells": [
  {
   "cell_type": "markdown",
   "metadata": {
    "tags": []
   },
   "source": [
    "# Linear Elements"
   ]
  },
  {
   "cell_type": "markdown",
   "metadata": {},
   "source": [
    "Grid points:"
   ]
  },
  {
   "cell_type": "markdown",
   "metadata": {},
   "source": [
    "Grid spacing:\n",
    "$$\n",
    "h_{i} = x_{i+1} - x_{i}\n",
    "$$"
   ]
  },
  {
   "cell_type": "markdown",
   "metadata": {},
   "source": [
    "For the first point:\n",
    "\n",
    "$$\n",
    "N_{1}(x) = \\begin{cases}\n",
    "\\dfrac{x_2 - x}{h_1} & \\text{for } x_{1} \\leq x \\leq x_2 \\\\\n",
    "0 & \\text{otherwise}\n",
    "\\end{cases}\n",
    "$$"
   ]
  },
  {
   "cell_type": "markdown",
   "metadata": {},
   "source": [
    "For interior points $i = 2,3,\\ldots,n$:\n",
    "\n",
    "$$\n",
    "N_{i} = \\begin{cases}\n",
    "\\dfrac{x - x_{i-1}}{h_{i-1}} & \\text{for } x_{i-1} \\leq x \\leq x_{i} \\\\\n",
    "0 & \\text{otherwise}\n",
    "\\end{cases}\n",
    "$$"
   ]
  },
  {
   "cell_type": "markdown",
   "metadata": {},
   "source": [
    "For the last point:\n",
    "\n",
    "$$\n",
    "N_{n+1}(x) = \\begin{cases}\n",
    "\\dfrac{x - x_{n}}{h_{n}} & \\text{for } x_{n} \\leq x \\leq x_{n+1} \\\\\n",
    "0 & \\text{otherwise}\n",
    "\\end{cases}\n",
    "$$"
   ]
  },
  {
   "cell_type": "markdown",
   "metadata": {},
   "source": [
    "# Steady heat conduction equation"
   ]
  },
  {
   "cell_type": "markdown",
   "metadata": {},
   "source": [
    "Temperature distribution $T = T(x)$ on the interval $0 \\leq x \\leq L$:\n",
    "\n",
    "$$\n",
    "-k \\frac{\\mathrm{d}^2 T}{\\mathrm{d}x^2} = Q\n",
    "$$"
   ]
  },
  {
   "cell_type": "markdown",
   "metadata": {},
   "source": [
    "Boundary condition:\n",
    "\n",
    "$$\n",
    "\\begin{cases}\n",
    "-k \\dfrac{\\mathrm{d}T}{\\mathrm{d}x} = q & \\text{at } x = 0 \\\\\n",
    "T = T_{L} & \\text{at } x = L\n",
    "\\end{cases}\n",
    "$$"
   ]
  },
  {
   "cell_type": "markdown",
   "metadata": {},
   "source": [
    "$$\n",
    "\\begin{aligned}\n",
    "T(x) & = \\sum_{j}^{3} T_{j}\\,N_{j}(x) \\\\\n",
    "     & = T_{1} N_{1}(x) + T_{2} N_{2}(x) + T_{1} N_{3}(x)\n",
    "\\end{aligned}\n",
    "$$"
   ]
  },
  {
   "cell_type": "markdown",
   "metadata": {},
   "source": [
    "To get the coefficients $T_{1}, T_{2}, T_{3}$:\n",
    "$$\n",
    "\\int_{0}^{L} w_{i} \\left( -k\\frac{\\mathrm{d}^2 T}{\\mathrm{d}x^2} - Q \\right)\\,\\mathrm{d}x = 0\n",
    "$$\n",
    "where $i = 1,2,3$, $w_{i} = w_{i}(x)$"
   ]
  },
  {
   "cell_type": "markdown",
   "metadata": {},
   "source": [
    "$$\n",
    "\\int_{0}^{L} \\, k\n",
    "\\frac{\\mathrm{d}w_{i}}{\\mathrm{d}x} \\frac{\\mathrm{d}T}{\\mathrm{d}x}\\,\\mathrm{d}x\n",
    "- \\int_{0}^{L} w_{i} Q \\,\\mathrm{d}x + \\left[ w_{i} \\left( -k \\dfrac{\\mathrm{d}T}{\\mathrm{d}x} \\right) \\right]_{0}^{L}\n",
    "$$"
   ]
  },
  {
   "cell_type": "markdown",
   "metadata": {},
   "source": [
    "The first integral becomes:\n",
    "\n",
    "$$\n",
    "\\int_{0}^{L} \\, k\n",
    "\\frac{\\mathrm{d}N_{i}}{\\mathrm{d}x}\n",
    "\\left( \\sum_{j=1}^{3} T_{j} \\frac{\\mathrm{d}N_{j}}{\\mathrm{d}x} \\right)\n",
    "\\,\\mathrm{d}x\n",
    "$$"
   ]
  },
  {
   "cell_type": "markdown",
   "metadata": {},
   "source": [
    "Second integral:\n",
    "$$\n",
    "\\int_{0}^{L} N_{i} Q \\,\\mathrm{d}x\n",
    "$$"
   ]
  },
  {
   "cell_type": "markdown",
   "metadata": {},
   "source": [
    "For two elements:\n",
    "\n",
    "$$\n",
    "\\int_{0}^{L} \\, k\n",
    "\\frac{\\mathrm{d}N_{i}}{\\mathrm{d}x}\n",
    "\\left( \\sum_{j=1}^{3} T_{j} \\frac{\\mathrm{d}N_{j}}{\\mathrm{d}x} \\right)\n",
    "\\,\\mathrm{d}x = \\int_{0}^{L/2} \\, k\n",
    "\\frac{\\mathrm{d}N_{i}}{\\mathrm{d}x}\n",
    "\\left( \\sum_{j=1}^{3} T_{j} \\frac{\\mathrm{d}N_{j}}{\\mathrm{d}x} \\right)\n",
    "\\,\\mathrm{d}x + \n",
    "\\int_{L/2}^{L} \\, k\n",
    "\\frac{\\mathrm{d}N_{i}}{\\mathrm{d}x}\n",
    "\\left( \\sum_{j=1}^{3} T_{j} \\frac{\\mathrm{d}N_{j}}{\\mathrm{d}x} \\right)\n",
    "\\,\\mathrm{d}x\n",
    "$$\n",
    "\n",
    "for $i = 1,2,3$\n"
   ]
  },
  {
   "cell_type": "markdown",
   "metadata": {},
   "source": [
    "The first integral is integral over first element, so $N_{3}(x) = 0$. We can write:\n",
    "\n",
    "$$\n",
    "\\int_{0}^{L/2}\n",
    "$$"
   ]
  }
 ],
 "metadata": {
  "kernelspec": {
   "display_name": "Python 3 (ipykernel)",
   "language": "python",
   "name": "python3"
  },
  "language_info": {
   "codemirror_mode": {
    "name": "ipython",
    "version": 3
   },
   "file_extension": ".py",
   "mimetype": "text/x-python",
   "name": "python",
   "nbconvert_exporter": "python",
   "pygments_lexer": "ipython3",
   "version": "3.11.0"
  }
 },
 "nbformat": 4,
 "nbformat_minor": 4
}
