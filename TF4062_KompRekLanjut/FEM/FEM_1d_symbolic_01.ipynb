{
 "cells": [
  {
   "cell_type": "markdown",
   "metadata": {},
   "source": [
    "<h1 style=\"text-align: center\">TF4062: Introduction to finite element method</h1>\n",
    "<h2 style=\"text-align: center\">Iwan Prasetyo and Fadjar Fathurrahman</h2>\n",
    "\n",
    "\n"
   ]
  },
  {
   "cell_type": "markdown",
   "metadata": {},
   "source": [
    "-------------------"
   ]
  },
  {
   "cell_type": "markdown",
   "metadata": {},
   "source": [
    "In this notebook we will do some explorations in symbolic implementation of finite element method in 1d using linear shape functions"
   ]
  },
  {
   "cell_type": "markdown",
   "metadata": {},
   "source": [
    "We will mainly using SymPy module, so we import all symbols from this module."
   ]
  },
  {
   "cell_type": "code",
   "execution_count": 1,
   "metadata": {},
   "outputs": [],
   "source": [
    "from sympy import *"
   ]
  },
  {
   "cell_type": "markdown",
   "metadata": {},
   "source": [
    "We will activate LaTeX for displaying SymPy outputs."
   ]
  },
  {
   "cell_type": "code",
   "execution_count": 2,
   "metadata": {},
   "outputs": [],
   "source": [
    "init_printing(use_latex=True)"
   ]
  },
  {
   "cell_type": "markdown",
   "metadata": {},
   "source": [
    "Plotting stuffs. SymPy also can do it, however we would like to use NumPy + Matplotlib for plotting."
   ]
  },
  {
   "cell_type": "code",
   "execution_count": 3,
   "metadata": {},
   "outputs": [],
   "source": [
    "import numpy as np"
   ]
  },
  {
   "cell_type": "code",
   "execution_count": 4,
   "metadata": {},
   "outputs": [],
   "source": [
    "import matplotlib.pyplot as plt"
   ]
  },
  {
   "cell_type": "code",
   "execution_count": 5,
   "metadata": {},
   "outputs": [],
   "source": [
    "import IPython.display\n",
    "IPython.display.set_matplotlib_formats(\"svg\")"
   ]
  },
  {
   "cell_type": "markdown",
   "metadata": {},
   "source": [
    "Don't use this if you want to use the default style."
   ]
  },
  {
   "cell_type": "code",
   "execution_count": 6,
   "metadata": {},
   "outputs": [],
   "source": [
    "import matplotlib\n",
    "matplotlib.style.use(\"dark_background\")"
   ]
  },
  {
   "cell_type": "markdown",
   "metadata": {},
   "source": [
    "-----------------"
   ]
  },
  {
   "cell_type": "markdown",
   "metadata": {},
   "source": [
    "# Model differential equation"
   ]
  },
  {
   "cell_type": "markdown",
   "metadata": {},
   "source": [
    "As a model problem, we will consider determining the conduction of heat\n",
    "on a slender homogeneous metal wire of length L with a constant cross\n",
    "section. Assume that the left end is exposed to a prescribed heat flux, $q$,\n",
    "the right end is held at a constant temperature, $T = T_L$, and the length of\n",
    "the rod is surrounded by insulating material.\n",
    "\n",
    "The differential equation that governs the distribution of temperature across the rod can be written as\n",
    "\\begin{equation}\n",
    "-k \\frac{\\mathrm{d}^2 T}{\\mathrm{d}x^2} = Q\n",
    "\\end{equation}\n",
    "for $0 < x < L$, where $k$ is the thermal conductivity of the material\n",
    "which is assumed constant and $Q$ is the internal heat source.\n",
    "The boundary conditions for this problem are (Neumann BC, natural BC)\n",
    "\\begin{equation}\n",
    "-k\\frac{\\mathrm{d}T}{\\mathrm{d}x} = q \\quad \\text{at } x = 0\n",
    "\\end{equation}\n",
    "and (Dirichlet BC, essential BC)\n",
    "\\begin{equation}\n",
    "T = T_{L} \\quad \\text{at } x = L\n",
    "\\end{equation}\n",
    "\n",
    "The analytical solution to this problem can be expressed as:\n",
    "\\begin{equation}\n",
    "T(x) = T_{L} + \\frac{q}{k}(L - x) + \\frac{1}{k} \\int_{x}^{L}\n",
    "\\left( \\int_{0}^{y} Q(z)\\,\\mathrm{d}z \\right)\\,\\mathrm{d}y\n",
    "\\end{equation}\n",
    "\n",
    "For constant $Q$, this equation reduces to\n",
    "\\begin{equation}\n",
    "T(x) = T_{L} + \\frac{q}{k}(L - x) + \\frac{Q}{2k}(L^2 - x^2)\n",
    "\\end{equation}"
   ]
  },
  {
   "cell_type": "markdown",
   "metadata": {},
   "source": [
    "# Discretization"
   ]
  },
  {
   "cell_type": "markdown",
   "metadata": {},
   "source": [
    "First we need to define grid points or mesh. For simplicity let's use two elements, or three nodal points (nodes)."
   ]
  },
  {
   "cell_type": "markdown",
   "metadata": {},
   "source": [
    "Suppose that we will define our nodes or grid points within interval $[0,L]$.\n",
    "For generality, we will describe $L$ as a symbolic object. We will also introduce $x$ as our symbolic variable for spatial variable."
   ]
  },
  {
   "cell_type": "code",
   "execution_count": 7,
   "metadata": {},
   "outputs": [],
   "source": [
    "L = Symbol(\"L\", real=True, positive=True)\n",
    "x = Symbol(\"x\", real=True)"
   ]
  },
  {
   "cell_type": "markdown",
   "metadata": {},
   "source": [
    "Here, we initialize our nodes and spacings. The nodes are in variable `xnodes` which is a list containing symbolic objects."
   ]
  },
  {
   "cell_type": "code",
   "execution_count": 8,
   "metadata": {},
   "outputs": [],
   "source": [
    "Nelements = 2\n",
    "Npoints = Nelements + 1\n",
    "\n",
    "xnodes = [Integer(0), L/2, L] # I use Integer(0) to make sure that all xnodes are SymPy objects\n",
    "h = [xnodes[i+1]-xnodes[i] for i in range(Npoints-1)]"
   ]
  },
  {
   "cell_type": "code",
   "execution_count": 9,
   "metadata": {},
   "outputs": [
    {
     "data": {
      "image/png": "[encoded data removed]",
      "text/latex": [
       "$\\displaystyle \\left( \\left[ 0, \\  \\frac{L}{2}, \\  L\\right], \\  \\left[ \\frac{L}{2}, \\  \\frac{L}{2}\\right]\\right)$"
      ],
      "text/plain": [
       "⎛⎡   L   ⎤  ⎡L  L⎤⎞\n",
       "⎜⎢0, ─, L⎥, ⎢─, ─⎥⎟\n",
       "⎝⎣   2   ⎦  ⎣2  2⎦⎠"
      ]
     },
     "execution_count": 9,
     "metadata": {},
     "output_type": "execute_result"
    }
   ],
   "source": [
    "xnodes, h"
   ]
  },
  {
   "cell_type": "markdown",
   "metadata": {},
   "source": [
    "# Linear shape functions"
   ]
  },
  {
   "cell_type": "markdown",
   "metadata": {},
   "source": [
    "For general case of linear elements we have the following shape functions or basis functions. For left\n",
    "boundary points:\n",
    "$$\n",
    "N_{1}(x) = \\begin{cases}\n",
    "\\dfrac{x_{2} - x}{h_1} & x_{1} \\leq x \\leq x_{2} \\\\[10pt]\n",
    "0                     & \\text{otherwise}\n",
    "\\end{cases}\n",
    "$$\n",
    "\n",
    "For interior points:\n",
    "\n",
    "$$\n",
    "N_{i}(x) = \\begin{cases}\n",
    "\\dfrac{x - x_{i-1}}{h_{i-1}} & x_{i-1} \\leq x \\leq x_{i} \\\\[10pt]\n",
    "\\dfrac{x_{i+1} - x}{h_{i}} & x_{i} \\leq x \\leq x_{i+1},\\quad i=2,3,\\ldots,n \\\\[10pt]\n",
    "0                     & \\text{otherwise}\n",
    "\\end{cases}\n",
    "$$"
   ]
  },
  {
   "cell_type": "markdown",
   "metadata": {},
   "source": [
    "And for right boundary points:\n",
    "$$\n",
    "N_{n+1}(x) = \\begin{cases}\n",
    "\\dfrac{x - x_{n}}{h_{n}} & x_{n} \\leq x \\leq x_{n+1} \\\\[10pt]\n",
    "0                     & \\text{otherwise}\n",
    "\\end{cases}\n",
    "$$\n",
    "\n",
    "where $h_{i}$ are the spacings between nodal points.\n",
    "$$\n",
    "h_{i} = x_{i+1} - x_{i}\n",
    "$$"
   ]
  },
  {
   "cell_type": "markdown",
   "metadata": {},
   "source": [
    "Now we will begin defining our shape functions. Each shape function is defined as a piecewise function. In SymPy, we can define a piecewise function by using `Piecewise` class of SymPy."
   ]
  },
  {
   "cell_type": "code",
   "execution_count": 11,
   "metadata": {},
   "outputs": [],
   "source": [
    "cond1 = (x >= xnodes[0]) & (x <= xnodes[1])\n",
    "f1 = (xnodes[1] - x)/h[0]\n",
    "N_first = Piecewise( (f1, cond1), (0, True) )"
   ]
  },
  {
   "cell_type": "markdown",
   "metadata": {},
   "source": [
    "The Piecewise object is need tuples of boolean and expression. For the first shape function, there are two conditions. We only specify one and the \"otherwise\" case is defined as `(0,True)`."
   ]
  },
  {
   "cell_type": "code",
   "execution_count": 12,
   "metadata": {},
   "outputs": [
    {
     "data": {
      "image/png": "[encoded data removed]",
      "text/latex": [
       "$\\displaystyle \\begin{cases} \\frac{2 \\left(\\frac{L}{2} - x\\right)}{L} & \\text{for}\\: x \\geq 0 \\wedge x \\leq \\frac{L}{2} \\\\0 & \\text{otherwise} \\end{cases}$"
      ],
      "text/plain": [
       "⎧  ⎛L    ⎞                   \n",
       "⎪2⋅⎜─ - x⎟                   \n",
       "⎪  ⎝2    ⎠                  L\n",
       "⎨─────────  for x ≥ 0 ∧ x ≤ ─\n",
       "⎪    L                      2\n",
       "⎪                            \n",
       "⎩    0          otherwise    "
      ]
     },
     "execution_count": 12,
     "metadata": {},
     "output_type": "execute_result"
    }
   ],
   "source": [
    "N_first"
   ]
  },
  {
   "cell_type": "markdown",
   "metadata": {},
   "source": [
    "Here we define the second shape function. It needs three conditions, two conditions are defined with boolean expressions and the \"otherwise\" case as `(0,True)`."
   ]
  },
  {
   "cell_type": "code",
   "execution_count": 13,
   "metadata": {},
   "outputs": [],
   "source": [
    "cond1 = (x >= xnodes[0]) & (x <= xnodes[1])\n",
    "f1 = ( x - xnodes[0])/h[0]\n",
    "#\n",
    "cond2 = (x >= xnodes[1]) & (x <= xnodes[2])\n",
    "f2 = (xnodes[2] - x)/h[1]\n",
    "#\n",
    "N_second = Piecewise( (f1, cond1), (f2, cond2), (0, True) )"
   ]
  },
  {
   "cell_type": "code",
   "execution_count": 14,
   "metadata": {},
   "outputs": [
    {
     "data": {
      "image/png": "[encoded data removed]",
      "text/latex": [
       "$\\displaystyle \\begin{cases} \\frac{2 x}{L} & \\text{for}\\: x \\geq 0 \\wedge x \\leq \\frac{L}{2} \\\\\\frac{2 \\left(L - x\\right)}{L} & \\text{for}\\: L \\geq x \\wedge x \\geq \\frac{L}{2} \\\\0 & \\text{otherwise} \\end{cases}$"
      ],
      "text/plain": [
       "⎧   2⋅x                     L\n",
       "⎪   ───     for x ≥ 0 ∧ x ≤ ─\n",
       "⎪    L                      2\n",
       "⎪                            \n",
       "⎨2⋅(L - x)                  L\n",
       "⎪─────────  for L ≥ x ∧ x ≥ ─\n",
       "⎪    L                      2\n",
       "⎪                            \n",
       "⎩    0          otherwise    "
      ]
     },
     "execution_count": 14,
     "metadata": {},
     "output_type": "execute_result"
    }
   ],
   "source": [
    "N_second"
   ]
  },
  {
   "cell_type": "markdown",
   "metadata": {},
   "source": [
    "Now, we should be able to define the third (or last shape function) as follow. Note that I have used the variable `Npoints` instead of literal 3."
   ]
  },
  {
   "cell_type": "code",
   "execution_count": 15,
   "metadata": {},
   "outputs": [],
   "source": [
    "cond1 = (x >= xnodes[Npoints-2]) & (x <= xnodes[Npoints-1])\n",
    "f1 = (x - xnodes[Npoints-2])/h[Npoints-2]\n",
    "N_third = Piecewise( (f1, cond1), (0, True) )"
   ]
  },
  {
   "cell_type": "code",
   "execution_count": 16,
   "metadata": {},
   "outputs": [
    {
     "data": {
      "image/png": "[encoded data removed]",
      "text/latex": [
       "$\\displaystyle \\begin{cases} \\frac{2 \\left(- \\frac{L}{2} + x\\right)}{L} & \\text{for}\\: L \\geq x \\wedge x \\geq \\frac{L}{2} \\\\0 & \\text{otherwise} \\end{cases}$"
      ],
      "text/plain": [
       "⎧  ⎛  L    ⎞                   \n",
       "⎪2⋅⎜- ─ + x⎟                   \n",
       "⎪  ⎝  2    ⎠                  L\n",
       "⎨───────────  for L ≥ x ∧ x ≥ ─\n",
       "⎪     L                       2\n",
       "⎪                              \n",
       "⎩     0           otherwise    "
      ]
     },
     "execution_count": 16,
     "metadata": {},
     "output_type": "execute_result"
    }
   ],
   "source": [
    "N_third"
   ]
  },
  {
   "cell_type": "markdown",
   "metadata": {},
   "source": [
    "Now that we have defined the shape functions we wish to be able do something with them.\n",
    "\n",
    "The first thing that we will try is to plot them. As our shape functions contains parameter $L$ and $x$ we should give them numerical values in order to be able to visualize them. This can be done by using the method `subs`. This method need a dictionary of symbol and the numerical value that we wish to substitute in the corresponding symbol."
   ]
  },
  {
   "cell_type": "code",
   "execution_count": 17,
   "metadata": {},
   "outputs": [
    {
     "data": {
      "image/png": "[encoded data removed]",
      "text/latex": [
       "$\\displaystyle \\begin{cases} \\frac{2 \\left(\\frac{L}{2} - 0.1\\right)}{L} & \\text{for}\\: \\frac{L}{2} \\geq 0.1 \\\\0 & \\text{otherwise} \\end{cases}$"
      ],
      "text/plain": [
       "⎧  ⎛L      ⎞             \n",
       "⎪2⋅⎜─ - 0.1⎟             \n",
       "⎪  ⎝2      ⎠      L      \n",
       "⎨───────────  for ─ ≥ 0.1\n",
       "⎪     L           2      \n",
       "⎪                        \n",
       "⎩     0        otherwise "
      ]
     },
     "execution_count": 17,
     "metadata": {},
     "output_type": "execute_result"
    }
   ],
   "source": [
    "N_first.subs({x: 0.1})"
   ]
  },
  {
   "cell_type": "code",
   "execution_count": 18,
   "metadata": {},
   "outputs": [
    {
     "data": {
      "image/png": "[encoded data removed]",
      "text/latex": [
       "$\\displaystyle 0.8$"
      ],
      "text/plain": [
       "0.800000000000000"
      ]
     },
     "execution_count": 18,
     "metadata": {},
     "output_type": "execute_result"
    }
   ],
   "source": [
    "N_first.subs({x: 0.1, L: 1.0})"
   ]
  },
  {
   "cell_type": "code",
   "execution_count": 21,
   "metadata": {},
   "outputs": [
    {
     "data": {
      "image/png": "[encoded data removed]",
      "text/latex": [
       "$\\displaystyle 0$"
      ],
      "text/plain": [
       "0"
      ]
     },
     "execution_count": 21,
     "metadata": {},
     "output_type": "execute_result"
    }
   ],
   "source": [
    "N_first.subs({x: L/2})"
   ]
  },
  {
   "cell_type": "code",
   "execution_count": 27,
   "metadata": {},
   "outputs": [
    {
     "data": {
      "image/png": "[encoded data removed]",
      "text/latex": [
       "$\\displaystyle 1$"
      ],
      "text/plain": [
       "1"
      ]
     },
     "execution_count": 27,
     "metadata": {},
     "output_type": "execute_result"
    }
   ],
   "source": [
    "N_first.subs({x: 0.0})"
   ]
  },
  {
   "cell_type": "code",
   "execution_count": 23,
   "metadata": {},
   "outputs": [
    {
     "data": {
      "image/png": "[encoded data removed]",
      "text/latex": [
       "$\\displaystyle \\begin{cases} \\frac{0.4}{L} & \\text{for}\\: \\frac{L}{2} \\geq 0.2 \\\\\\frac{2 \\left(L - 0.2\\right)}{L} & \\text{for}\\: L \\geq 0.2 \\wedge L \\leq 0.4 \\\\0 & \\text{otherwise} \\end{cases}$"
      ],
      "text/plain": [
       "⎧    0.4               L           \n",
       "⎪    ───           for ─ ≥ 0.2     \n",
       "⎪     L                2           \n",
       "⎪                                  \n",
       "⎨2⋅(L - 0.2)                       \n",
       "⎪───────────  for L ≥ 0.2 ∧ L ≤ 0.4\n",
       "⎪     L                            \n",
       "⎪                                  \n",
       "⎩     0             otherwise      "
      ]
     },
     "execution_count": 23,
     "metadata": {},
     "output_type": "execute_result"
    }
   ],
   "source": [
    "N_second.subs({x: 0.2})"
   ]
  },
  {
   "cell_type": "code",
   "execution_count": 24,
   "metadata": {},
   "outputs": [],
   "source": [
    "Lnum = 1.0"
   ]
  },
  {
   "cell_type": "code",
   "execution_count": 25,
   "metadata": {},
   "outputs": [],
   "source": [
    "num_dicts = {x: 1.0, L: Lnum}"
   ]
  },
  {
   "cell_type": "code",
   "execution_count": 26,
   "metadata": {},
   "outputs": [
    {
     "data": {
      "image/png": "[encoded data removed]",
      "text/latex": [
       "$\\displaystyle 1.0$"
      ],
      "text/plain": [
       "1.00000000000000"
      ]
     },
     "execution_count": 26,
     "metadata": {},
     "output_type": "execute_result"
    }
   ],
   "source": [
    "N_third.subs(num_dicts)"
   ]
  },
  {
   "cell_type": "code",
   "execution_count": 28,
   "metadata": {},
   "outputs": [
    {
     "data": {
      "image/svg+xml": [
       "<?xml version=\"1.0\" encoding=\"utf-8\" standalone=\"no\"?>\n",
       "<!DOCTYPE svg PUBLIC \"-//W3C//DTD SVG 1.1//EN\"\n",
       "  \"http://www.w3.org/Graphics/SVG/1.1/DTD/svg11.dtd\">\n",
       "<!-- Created with matplotlib (https://matplotlib.org/) -->\n",
       "<svg height=\"248.518125pt\" version=\"1.1\" viewBox=\"0 0 372.103125 248.518125\" width=\"372.103125pt\" xmlns=\"http://www.w3.org/2000/svg\" xmlns:xlink=\"http://www.w3.org/1999/xlink\">\n",
       " <metadata>\n",
       "  <rdf:RDF xmlns:cc=\"http://creativecommons.org/ns#\" xmlns:dc=\"http://purl.org/dc/elements/1.1/\" xmlns:rdf=\"http://www.w3.org/1999/02/22-rdf-syntax-ns#\">\n",
       "   <cc:Work>\n",
       "    <dc:type rdf:resource=\"http://purl.org/dc/dcmitype/StillImage\"/>\n",
       "    <dc:date>2021-04-05T16:33:55.242684</dc:date>\n",
       "    <dc:format>image/svg+xml</dc:format>\n",
       "    <dc:creator>\n",
       "     <cc:Agent>\n",
       "      <dc:title>Matplotlib v3.3.2, https://matplotlib.org/</dc:title>\n",
       "     </cc:Agent>\n",
       "    </dc:creator>\n",
       "   </cc:Work>\n",
       "  </rdf:RDF>\n",
       " </metadata>\n",
       " <defs>\n",
       "  <style type=\"text/css\">*{stroke-linecap:butt;stroke-linejoin:round;}</style>\n",
       " </defs>\n",
       " <g id=\"figure_1\">\n",
       "  <g id=\"patch_1\">\n",
       "   <path d=\"M 0 248.518125 \n",
       "L 372.103125 248.518125 \n",
       "L 372.103125 0 \n",
       "L 0 0 \n",
       "z\n",
       "\"/>\n",
       "  </g>\n",
       "  <g id=\"axes_1\">\n",
       "   <g id=\"patch_2\">\n",
       "    <path d=\"M 30.103125 224.64 \n",
       "L 364.903125 224.64 \n",
       "L 364.903125 7.2 \n",
       "L 30.103125 7.2 \n",
       "z\n",
       "\"/>\n",
       "   </g>\n",
       "   <g id=\"matplotlib.axis_1\">\n",
       "    <g id=\"xtick_1\">\n",
       "     <g id=\"line2d_1\">\n",
       "      <defs>\n",
       "       <path d=\"M 0 0 \n",
       "L 0 3.5 \n",
       "\" id=\"m698eed6d4a\" style=\"stroke:#ffffff;stroke-width:0.8;\"/>\n",
       "      </defs>\n",
       "      <g>\n",
       "       <use style=\"fill:#ffffff;stroke:#ffffff;stroke-width:0.8;\" x=\"45.321307\" xlink:href=\"#m698eed6d4a\" y=\"224.64\"/>\n",
       "      </g>\n",
       "     </g>\n",
       "     <g id=\"text_1\">\n",
       "      <!-- 0.0 -->\n",
       "      <g style=\"fill:#ffffff;\" transform=\"translate(37.369744 239.238437)scale(0.1 -0.1)\">\n",
       "       <defs>\n",
       "        <path d=\"M 31.78125 66.40625 \n",
       "Q 24.171875 66.40625 20.328125 58.90625 \n",
       "Q 16.5 51.421875 16.5 36.375 \n",
       "Q 16.5 21.390625 20.328125 13.890625 \n",
       "Q 24.171875 6.390625 31.78125 6.390625 \n",
       "Q 39.453125 6.390625 43.28125 13.890625 \n",
       "Q 47.125 21.390625 47.125 36.375 \n",
       "Q 47.125 51.421875 43.28125 58.90625 \n",
       "Q 39.453125 66.40625 31.78125 66.40625 \n",
       "z\n",
       "M 31.78125 74.21875 \n",
       "Q 44.046875 74.21875 50.515625 64.515625 \n",
       "Q 56.984375 54.828125 56.984375 36.375 \n",
       "Q 56.984375 17.96875 50.515625 8.265625 \n",
       "Q 44.046875 -1.421875 31.78125 -1.421875 \n",
       "Q 19.53125 -1.421875 13.0625 8.265625 \n",
       "Q 6.59375 17.96875 6.59375 36.375 \n",
       "Q 6.59375 54.828125 13.0625 64.515625 \n",
       "Q 19.53125 74.21875 31.78125 74.21875 \n",
       "z\n",
       "\" id=\"DejaVuSans-48\"/>\n",
       "        <path d=\"M 10.6875 12.40625 \n",
       "L 21 12.40625 \n",
       "L 21 0 \n",
       "L 10.6875 0 \n",
       "z\n",
       "\" id=\"DejaVuSans-46\"/>\n",
       "       </defs>\n",
       "       <use xlink:href=\"#DejaVuSans-48\"/>\n",
       "       <use x=\"63.623047\" xlink:href=\"#DejaVuSans-46\"/>\n",
       "       <use x=\"95.410156\" xlink:href=\"#DejaVuSans-48\"/>\n",
       "      </g>\n",
       "     </g>\n",
       "    </g>\n",
       "    <g id=\"xtick_2\">\n",
       "     <g id=\"line2d_2\">\n",
       "      <g>\n",
       "       <use style=\"fill:#ffffff;stroke:#ffffff;stroke-width:0.8;\" x=\"106.194034\" xlink:href=\"#m698eed6d4a\" y=\"224.64\"/>\n",
       "      </g>\n",
       "     </g>\n",
       "     <g id=\"text_2\">\n",
       "      <!-- 0.2 -->\n",
       "      <g style=\"fill:#ffffff;\" transform=\"translate(98.242472 239.238437)scale(0.1 -0.1)\">\n",
       "       <defs>\n",
       "        <path d=\"M 19.1875 8.296875 \n",
       "L 53.609375 8.296875 \n",
       "L 53.609375 0 \n",
       "L 7.328125 0 \n",
       "L 7.328125 8.296875 \n",
       "Q 12.9375 14.109375 22.625 23.890625 \n",
       "Q 32.328125 33.6875 34.8125 36.53125 \n",
       "Q 39.546875 41.84375 41.421875 45.53125 \n",
       "Q 43.3125 49.21875 43.3125 52.78125 \n",
       "Q 43.3125 58.59375 39.234375 62.25 \n",
       "Q 35.15625 65.921875 28.609375 65.921875 \n",
       "Q 23.96875 65.921875 18.8125 64.3125 \n",
       "Q 13.671875 62.703125 7.8125 59.421875 \n",
       "L 7.8125 69.390625 \n",
       "Q 13.765625 71.78125 18.9375 73 \n",
       "Q 24.125 74.21875 28.421875 74.21875 \n",
       "Q 39.75 74.21875 46.484375 68.546875 \n",
       "Q 53.21875 62.890625 53.21875 53.421875 \n",
       "Q 53.21875 48.921875 51.53125 44.890625 \n",
       "Q 49.859375 40.875 45.40625 35.40625 \n",
       "Q 44.1875 33.984375 37.640625 27.21875 \n",
       "Q 31.109375 20.453125 19.1875 8.296875 \n",
       "z\n",
       "\" id=\"DejaVuSans-50\"/>\n",
       "       </defs>\n",
       "       <use xlink:href=\"#DejaVuSans-48\"/>\n",
       "       <use x=\"63.623047\" xlink:href=\"#DejaVuSans-46\"/>\n",
       "       <use x=\"95.410156\" xlink:href=\"#DejaVuSans-50\"/>\n",
       "      </g>\n",
       "     </g>\n",
       "    </g>\n",
       "    <g id=\"xtick_3\">\n",
       "     <g id=\"line2d_3\">\n",
       "      <g>\n",
       "       <use style=\"fill:#ffffff;stroke:#ffffff;stroke-width:0.8;\" x=\"167.066761\" xlink:href=\"#m698eed6d4a\" y=\"224.64\"/>\n",
       "      </g>\n",
       "     </g>\n",
       "     <g id=\"text_3\">\n",
       "      <!-- 0.4 -->\n",
       "      <g style=\"fill:#ffffff;\" transform=\"translate(159.115199 239.238437)scale(0.1 -0.1)\">\n",
       "       <defs>\n",
       "        <path d=\"M 37.796875 64.3125 \n",
       "L 12.890625 25.390625 \n",
       "L 37.796875 25.390625 \n",
       "z\n",
       "M 35.203125 72.90625 \n",
       "L 47.609375 72.90625 \n",
       "L 47.609375 25.390625 \n",
       "L 58.015625 25.390625 \n",
       "L 58.015625 17.1875 \n",
       "L 47.609375 17.1875 \n",
       "L 47.609375 0 \n",
       "L 37.796875 0 \n",
       "L 37.796875 17.1875 \n",
       "L 4.890625 17.1875 \n",
       "L 4.890625 26.703125 \n",
       "z\n",
       "\" id=\"DejaVuSans-52\"/>\n",
       "       </defs>\n",
       "       <use xlink:href=\"#DejaVuSans-48\"/>\n",
       "       <use x=\"63.623047\" xlink:href=\"#DejaVuSans-46\"/>\n",
       "       <use x=\"95.410156\" xlink:href=\"#DejaVuSans-52\"/>\n",
       "      </g>\n",
       "     </g>\n",
       "    </g>\n",
       "    <g id=\"xtick_4\">\n",
       "     <g id=\"line2d_4\">\n",
       "      <g>\n",
       "       <use style=\"fill:#ffffff;stroke:#ffffff;stroke-width:0.8;\" x=\"227.939489\" xlink:href=\"#m698eed6d4a\" y=\"224.64\"/>\n",
       "      </g>\n",
       "     </g>\n",
       "     <g id=\"text_4\">\n",
       "      <!-- 0.6 -->\n",
       "      <g style=\"fill:#ffffff;\" transform=\"translate(219.987926 239.238437)scale(0.1 -0.1)\">\n",
       "       <defs>\n",
       "        <path d=\"M 33.015625 40.375 \n",
       "Q 26.375 40.375 22.484375 35.828125 \n",
       "Q 18.609375 31.296875 18.609375 23.390625 \n",
       "Q 18.609375 15.53125 22.484375 10.953125 \n",
       "Q 26.375 6.390625 33.015625 6.390625 \n",
       "Q 39.65625 6.390625 43.53125 10.953125 \n",
       "Q 47.40625 15.53125 47.40625 23.390625 \n",
       "Q 47.40625 31.296875 43.53125 35.828125 \n",
       "Q 39.65625 40.375 33.015625 40.375 \n",
       "z\n",
       "M 52.59375 71.296875 \n",
       "L 52.59375 62.3125 \n",
       "Q 48.875 64.0625 45.09375 64.984375 \n",
       "Q 41.3125 65.921875 37.59375 65.921875 \n",
       "Q 27.828125 65.921875 22.671875 59.328125 \n",
       "Q 17.53125 52.734375 16.796875 39.40625 \n",
       "Q 19.671875 43.65625 24.015625 45.921875 \n",
       "Q 28.375 48.1875 33.59375 48.1875 \n",
       "Q 44.578125 48.1875 50.953125 41.515625 \n",
       "Q 57.328125 34.859375 57.328125 23.390625 \n",
       "Q 57.328125 12.15625 50.6875 5.359375 \n",
       "Q 44.046875 -1.421875 33.015625 -1.421875 \n",
       "Q 20.359375 -1.421875 13.671875 8.265625 \n",
       "Q 6.984375 17.96875 6.984375 36.375 \n",
       "Q 6.984375 53.65625 15.1875 63.9375 \n",
       "Q 23.390625 74.21875 37.203125 74.21875 \n",
       "Q 40.921875 74.21875 44.703125 73.484375 \n",
       "Q 48.484375 72.75 52.59375 71.296875 \n",
       "z\n",
       "\" id=\"DejaVuSans-54\"/>\n",
       "       </defs>\n",
       "       <use xlink:href=\"#DejaVuSans-48\"/>\n",
       "       <use x=\"63.623047\" xlink:href=\"#DejaVuSans-46\"/>\n",
       "       <use x=\"95.410156\" xlink:href=\"#DejaVuSans-54\"/>\n",
       "      </g>\n",
       "     </g>\n",
       "    </g>\n",
       "    <g id=\"xtick_5\">\n",
       "     <g id=\"line2d_5\">\n",
       "      <g>\n",
       "       <use style=\"fill:#ffffff;stroke:#ffffff;stroke-width:0.8;\" x=\"288.812216\" xlink:href=\"#m698eed6d4a\" y=\"224.64\"/>\n",
       "      </g>\n",
       "     </g>\n",
       "     <g id=\"text_5\">\n",
       "      <!-- 0.8 -->\n",
       "      <g style=\"fill:#ffffff;\" transform=\"translate(280.860653 239.238437)scale(0.1 -0.1)\">\n",
       "       <defs>\n",
       "        <path d=\"M 31.78125 34.625 \n",
       "Q 24.75 34.625 20.71875 30.859375 \n",
       "Q 16.703125 27.09375 16.703125 20.515625 \n",
       "Q 16.703125 13.921875 20.71875 10.15625 \n",
       "Q 24.75 6.390625 31.78125 6.390625 \n",
       "Q 38.8125 6.390625 42.859375 10.171875 \n",
       "Q 46.921875 13.96875 46.921875 20.515625 \n",
       "Q 46.921875 27.09375 42.890625 30.859375 \n",
       "Q 38.875 34.625 31.78125 34.625 \n",
       "z\n",
       "M 21.921875 38.8125 \n",
       "Q 15.578125 40.375 12.03125 44.71875 \n",
       "Q 8.5 49.078125 8.5 55.328125 \n",
       "Q 8.5 64.0625 14.71875 69.140625 \n",
       "Q 20.953125 74.21875 31.78125 74.21875 \n",
       "Q 42.671875 74.21875 48.875 69.140625 \n",
       "Q 55.078125 64.0625 55.078125 55.328125 \n",
       "Q 55.078125 49.078125 51.53125 44.71875 \n",
       "Q 48 40.375 41.703125 38.8125 \n",
       "Q 48.828125 37.15625 52.796875 32.3125 \n",
       "Q 56.78125 27.484375 56.78125 20.515625 \n",
       "Q 56.78125 9.90625 50.3125 4.234375 \n",
       "Q 43.84375 -1.421875 31.78125 -1.421875 \n",
       "Q 19.734375 -1.421875 13.25 4.234375 \n",
       "Q 6.78125 9.90625 6.78125 20.515625 \n",
       "Q 6.78125 27.484375 10.78125 32.3125 \n",
       "Q 14.796875 37.15625 21.921875 38.8125 \n",
       "z\n",
       "M 18.3125 54.390625 \n",
       "Q 18.3125 48.734375 21.84375 45.5625 \n",
       "Q 25.390625 42.390625 31.78125 42.390625 \n",
       "Q 38.140625 42.390625 41.71875 45.5625 \n",
       "Q 45.3125 48.734375 45.3125 54.390625 \n",
       "Q 45.3125 60.0625 41.71875 63.234375 \n",
       "Q 38.140625 66.40625 31.78125 66.40625 \n",
       "Q 25.390625 66.40625 21.84375 63.234375 \n",
       "Q 18.3125 60.0625 18.3125 54.390625 \n",
       "z\n",
       "\" id=\"DejaVuSans-56\"/>\n",
       "       </defs>\n",
       "       <use xlink:href=\"#DejaVuSans-48\"/>\n",
       "       <use x=\"63.623047\" xlink:href=\"#DejaVuSans-46\"/>\n",
       "       <use x=\"95.410156\" xlink:href=\"#DejaVuSans-56\"/>\n",
       "      </g>\n",
       "     </g>\n",
       "    </g>\n",
       "    <g id=\"xtick_6\">\n",
       "     <g id=\"line2d_6\">\n",
       "      <g>\n",
       "       <use style=\"fill:#ffffff;stroke:#ffffff;stroke-width:0.8;\" x=\"349.684943\" xlink:href=\"#m698eed6d4a\" y=\"224.64\"/>\n",
       "      </g>\n",
       "     </g>\n",
       "     <g id=\"text_6\">\n",
       "      <!-- 1.0 -->\n",
       "      <g style=\"fill:#ffffff;\" transform=\"translate(341.733381 239.238437)scale(0.1 -0.1)\">\n",
       "       <defs>\n",
       "        <path d=\"M 12.40625 8.296875 \n",
       "L 28.515625 8.296875 \n",
       "L 28.515625 63.921875 \n",
       "L 10.984375 60.40625 \n",
       "L 10.984375 69.390625 \n",
       "L 28.421875 72.90625 \n",
       "L 38.28125 72.90625 \n",
       "L 38.28125 8.296875 \n",
       "L 54.390625 8.296875 \n",
       "L 54.390625 0 \n",
       "L 12.40625 0 \n",
       "z\n",
       "\" id=\"DejaVuSans-49\"/>\n",
       "       </defs>\n",
       "       <use xlink:href=\"#DejaVuSans-49\"/>\n",
       "       <use x=\"63.623047\" xlink:href=\"#DejaVuSans-46\"/>\n",
       "       <use x=\"95.410156\" xlink:href=\"#DejaVuSans-48\"/>\n",
       "      </g>\n",
       "     </g>\n",
       "    </g>\n",
       "   </g>\n",
       "   <g id=\"matplotlib.axis_2\">\n",
       "    <g id=\"ytick_1\">\n",
       "     <g id=\"line2d_7\">\n",
       "      <defs>\n",
       "       <path d=\"M 0 0 \n",
       "L -3.5 0 \n",
       "\" id=\"m49409edca7\" style=\"stroke:#ffffff;stroke-width:0.8;\"/>\n",
       "      </defs>\n",
       "      <g>\n",
       "       <use style=\"fill:#ffffff;stroke:#ffffff;stroke-width:0.8;\" x=\"30.103125\" xlink:href=\"#m49409edca7\" y=\"214.756364\"/>\n",
       "      </g>\n",
       "     </g>\n",
       "     <g id=\"text_7\">\n",
       "      <!-- 0.0 -->\n",
       "      <g style=\"fill:#ffffff;\" transform=\"translate(7.2 218.555582)scale(0.1 -0.1)\">\n",
       "       <use xlink:href=\"#DejaVuSans-48\"/>\n",
       "       <use x=\"63.623047\" xlink:href=\"#DejaVuSans-46\"/>\n",
       "       <use x=\"95.410156\" xlink:href=\"#DejaVuSans-48\"/>\n",
       "      </g>\n",
       "     </g>\n",
       "    </g>\n",
       "    <g id=\"ytick_2\">\n",
       "     <g id=\"line2d_8\">\n",
       "      <g>\n",
       "       <use style=\"fill:#ffffff;stroke:#ffffff;stroke-width:0.8;\" x=\"30.103125\" xlink:href=\"#m49409edca7\" y=\"175.221818\"/>\n",
       "      </g>\n",
       "     </g>\n",
       "     <g id=\"text_8\">\n",
       "      <!-- 0.2 -->\n",
       "      <g style=\"fill:#ffffff;\" transform=\"translate(7.2 179.021037)scale(0.1 -0.1)\">\n",
       "       <use xlink:href=\"#DejaVuSans-48\"/>\n",
       "       <use x=\"63.623047\" xlink:href=\"#DejaVuSans-46\"/>\n",
       "       <use x=\"95.410156\" xlink:href=\"#DejaVuSans-50\"/>\n",
       "      </g>\n",
       "     </g>\n",
       "    </g>\n",
       "    <g id=\"ytick_3\">\n",
       "     <g id=\"line2d_9\">\n",
       "      <g>\n",
       "       <use style=\"fill:#ffffff;stroke:#ffffff;stroke-width:0.8;\" x=\"30.103125\" xlink:href=\"#m49409edca7\" y=\"135.687273\"/>\n",
       "      </g>\n",
       "     </g>\n",
       "     <g id=\"text_9\">\n",
       "      <!-- 0.4 -->\n",
       "      <g style=\"fill:#ffffff;\" transform=\"translate(7.2 139.486491)scale(0.1 -0.1)\">\n",
       "       <use xlink:href=\"#DejaVuSans-48\"/>\n",
       "       <use x=\"63.623047\" xlink:href=\"#DejaVuSans-46\"/>\n",
       "       <use x=\"95.410156\" xlink:href=\"#DejaVuSans-52\"/>\n",
       "      </g>\n",
       "     </g>\n",
       "    </g>\n",
       "    <g id=\"ytick_4\">\n",
       "     <g id=\"line2d_10\">\n",
       "      <g>\n",
       "       <use style=\"fill:#ffffff;stroke:#ffffff;stroke-width:0.8;\" x=\"30.103125\" xlink:href=\"#m49409edca7\" y=\"96.152727\"/>\n",
       "      </g>\n",
       "     </g>\n",
       "     <g id=\"text_10\">\n",
       "      <!-- 0.6 -->\n",
       "      <g style=\"fill:#ffffff;\" transform=\"translate(7.2 99.951946)scale(0.1 -0.1)\">\n",
       "       <use xlink:href=\"#DejaVuSans-48\"/>\n",
       "       <use x=\"63.623047\" xlink:href=\"#DejaVuSans-46\"/>\n",
       "       <use x=\"95.410156\" xlink:href=\"#DejaVuSans-54\"/>\n",
       "      </g>\n",
       "     </g>\n",
       "    </g>\n",
       "    <g id=\"ytick_5\">\n",
       "     <g id=\"line2d_11\">\n",
       "      <g>\n",
       "       <use style=\"fill:#ffffff;stroke:#ffffff;stroke-width:0.8;\" x=\"30.103125\" xlink:href=\"#m49409edca7\" y=\"56.618182\"/>\n",
       "      </g>\n",
       "     </g>\n",
       "     <g id=\"text_11\">\n",
       "      <!-- 0.8 -->\n",
       "      <g style=\"fill:#ffffff;\" transform=\"translate(7.2 60.417401)scale(0.1 -0.1)\">\n",
       "       <use xlink:href=\"#DejaVuSans-48\"/>\n",
       "       <use x=\"63.623047\" xlink:href=\"#DejaVuSans-46\"/>\n",
       "       <use x=\"95.410156\" xlink:href=\"#DejaVuSans-56\"/>\n",
       "      </g>\n",
       "     </g>\n",
       "    </g>\n",
       "    <g id=\"ytick_6\">\n",
       "     <g id=\"line2d_12\">\n",
       "      <g>\n",
       "       <use style=\"fill:#ffffff;stroke:#ffffff;stroke-width:0.8;\" x=\"30.103125\" xlink:href=\"#m49409edca7\" y=\"17.083636\"/>\n",
       "      </g>\n",
       "     </g>\n",
       "     <g id=\"text_12\">\n",
       "      <!-- 1.0 -->\n",
       "      <g style=\"fill:#ffffff;\" transform=\"translate(7.2 20.882855)scale(0.1 -0.1)\">\n",
       "       <use xlink:href=\"#DejaVuSans-49\"/>\n",
       "       <use x=\"63.623047\" xlink:href=\"#DejaVuSans-46\"/>\n",
       "       <use x=\"95.410156\" xlink:href=\"#DejaVuSans-48\"/>\n",
       "      </g>\n",
       "     </g>\n",
       "    </g>\n",
       "   </g>\n",
       "   <g id=\"line2d_13\">\n",
       "    <path clip-path=\"url(#p931807de3d)\" d=\"M 45.321307 17.083636 \n",
       "L 48.364943 21.037091 \n",
       "L 51.40858 24.990545 \n",
       "L 54.452216 28.944 \n",
       "L 57.495852 32.897455 \n",
       "L 60.539489 36.850909 \n",
       "L 63.583125 40.804364 \n",
       "L 66.626761 44.757818 \n",
       "L 69.670398 48.711273 \n",
       "L 72.714034 52.664727 \n",
       "L 75.75767 56.618182 \n",
       "L 78.801307 60.571636 \n",
       "L 81.844943 64.525091 \n",
       "L 84.88858 68.478545 \n",
       "L 87.932216 72.432 \n",
       "L 90.975852 76.385455 \n",
       "L 94.019489 80.338909 \n",
       "L 97.063125 84.292364 \n",
       "L 100.106761 88.245818 \n",
       "L 103.150398 92.199273 \n",
       "L 106.194034 96.152727 \n",
       "L 109.23767 100.106182 \n",
       "L 112.281307 104.059636 \n",
       "L 115.324943 108.013091 \n",
       "L 118.36858 111.966545 \n",
       "L 121.412216 115.92 \n",
       "L 124.455852 119.873455 \n",
       "L 127.499489 123.826909 \n",
       "L 130.543125 127.780364 \n",
       "L 133.586761 131.733818 \n",
       "L 136.630398 135.687273 \n",
       "L 139.674034 139.640727 \n",
       "L 142.71767 143.594182 \n",
       "L 145.761307 147.547636 \n",
       "L 148.804943 151.501091 \n",
       "L 151.84858 155.454545 \n",
       "L 154.892216 159.408 \n",
       "L 157.935852 163.361455 \n",
       "L 160.979489 167.314909 \n",
       "L 164.023125 171.268364 \n",
       "L 167.066761 175.221818 \n",
       "L 170.110398 179.175273 \n",
       "L 173.154034 183.128727 \n",
       "L 176.19767 187.082182 \n",
       "L 179.241307 191.035636 \n",
       "L 182.284943 194.989091 \n",
       "L 185.32858 198.942545 \n",
       "L 188.372216 202.896 \n",
       "L 191.415852 206.849455 \n",
       "L 194.459489 210.802909 \n",
       "L 197.503125 214.756364 \n",
       "L 200.546761 214.756364 \n",
       "L 203.590398 214.756364 \n",
       "L 206.634034 214.756364 \n",
       "L 209.67767 214.756364 \n",
       "L 212.721307 214.756364 \n",
       "L 215.764943 214.756364 \n",
       "L 218.80858 214.756364 \n",
       "L 221.852216 214.756364 \n",
       "L 224.895852 214.756364 \n",
       "L 227.939489 214.756364 \n",
       "L 230.983125 214.756364 \n",
       "L 234.026761 214.756364 \n",
       "L 237.070398 214.756364 \n",
       "L 240.114034 214.756364 \n",
       "L 243.15767 214.756364 \n",
       "L 246.201307 214.756364 \n",
       "L 249.244943 214.756364 \n",
       "L 252.28858 214.756364 \n",
       "L 255.332216 214.756364 \n",
       "L 258.375852 214.756364 \n",
       "L 261.419489 214.756364 \n",
       "L 264.463125 214.756364 \n",
       "L 267.506761 214.756364 \n",
       "L 270.550398 214.756364 \n",
       "L 273.594034 214.756364 \n",
       "L 276.63767 214.756364 \n",
       "L 279.681307 214.756364 \n",
       "L 282.724943 214.756364 \n",
       "L 285.76858 214.756364 \n",
       "L 288.812216 214.756364 \n",
       "L 291.855852 214.756364 \n",
       "L 294.899489 214.756364 \n",
       "L 297.943125 214.756364 \n",
       "L 300.986761 214.756364 \n",
       "L 304.030398 214.756364 \n",
       "L 307.074034 214.756364 \n",
       "L 310.11767 214.756364 \n",
       "L 313.161307 214.756364 \n",
       "L 316.204943 214.756364 \n",
       "L 319.24858 214.756364 \n",
       "L 322.292216 214.756364 \n",
       "L 325.335852 214.756364 \n",
       "L 328.379489 214.756364 \n",
       "L 331.423125 214.756364 \n",
       "L 334.466761 214.756364 \n",
       "L 337.510398 214.756364 \n",
       "L 340.554034 214.756364 \n",
       "L 343.59767 214.756364 \n",
       "L 346.641307 214.756364 \n",
       "L 349.684943 214.756364 \n",
       "\" style=\"fill:none;stroke:#8dd3c7;stroke-linecap:square;stroke-width:1.5;\"/>\n",
       "   </g>\n",
       "   <g id=\"patch_3\">\n",
       "    <path d=\"M 30.103125 224.64 \n",
       "L 30.103125 7.2 \n",
       "\" style=\"fill:none;stroke:#ffffff;stroke-linecap:square;stroke-linejoin:miter;stroke-width:0.8;\"/>\n",
       "   </g>\n",
       "   <g id=\"patch_4\">\n",
       "    <path d=\"M 364.903125 224.64 \n",
       "L 364.903125 7.2 \n",
       "\" style=\"fill:none;stroke:#ffffff;stroke-linecap:square;stroke-linejoin:miter;stroke-width:0.8;\"/>\n",
       "   </g>\n",
       "   <g id=\"patch_5\">\n",
       "    <path d=\"M 30.103125 224.64 \n",
       "L 364.903125 224.64 \n",
       "\" style=\"fill:none;stroke:#ffffff;stroke-linecap:square;stroke-linejoin:miter;stroke-width:0.8;\"/>\n",
       "   </g>\n",
       "   <g id=\"patch_6\">\n",
       "    <path d=\"M 30.103125 7.2 \n",
       "L 364.903125 7.2 \n",
       "\" style=\"fill:none;stroke:#ffffff;stroke-linecap:square;stroke-linejoin:miter;stroke-width:0.8;\"/>\n",
       "   </g>\n",
       "   <g id=\"legend_1\">\n",
       "    <g id=\"patch_7\">\n",
       "     <path d=\"M 293.882813 30.15625 \n",
       "L 357.903125 30.15625 \n",
       "Q 359.903125 30.15625 359.903125 28.15625 \n",
       "L 359.903125 14.2 \n",
       "Q 359.903125 12.2 357.903125 12.2 \n",
       "L 293.882813 12.2 \n",
       "Q 291.882813 12.2 291.882813 14.2 \n",
       "L 291.882813 28.15625 \n",
       "Q 291.882813 30.15625 293.882813 30.15625 \n",
       "z\n",
       "\" style=\"opacity:0.8;stroke:#cccccc;stroke-linejoin:miter;\"/>\n",
       "    </g>\n",
       "    <g id=\"line2d_14\">\n",
       "     <path d=\"M 295.882813 20.298437 \n",
       "L 315.882813 20.298437 \n",
       "\" style=\"fill:none;stroke:#8dd3c7;stroke-linecap:square;stroke-width:1.5;\"/>\n",
       "    </g>\n",
       "    <g id=\"line2d_15\"/>\n",
       "    <g id=\"text_13\">\n",
       "     <!-- N_first -->\n",
       "     <g style=\"fill:#ffffff;\" transform=\"translate(323.882813 23.798437)scale(0.1 -0.1)\">\n",
       "      <defs>\n",
       "       <path d=\"M 9.8125 72.90625 \n",
       "L 23.09375 72.90625 \n",
       "L 55.421875 11.921875 \n",
       "L 55.421875 72.90625 \n",
       "L 64.984375 72.90625 \n",
       "L 64.984375 0 \n",
       "L 51.703125 0 \n",
       "L 19.390625 60.984375 \n",
       "L 19.390625 0 \n",
       "L 9.8125 0 \n",
       "z\n",
       "\" id=\"DejaVuSans-78\"/>\n",
       "       <path d=\"M 50.984375 -16.609375 \n",
       "L 50.984375 -23.578125 \n",
       "L -0.984375 -23.578125 \n",
       "L -0.984375 -16.609375 \n",
       "z\n",
       "\" id=\"DejaVuSans-95\"/>\n",
       "       <path d=\"M 37.109375 75.984375 \n",
       "L 37.109375 68.5 \n",
       "L 28.515625 68.5 \n",
       "Q 23.6875 68.5 21.796875 66.546875 \n",
       "Q 19.921875 64.59375 19.921875 59.515625 \n",
       "L 19.921875 54.6875 \n",
       "L 34.71875 54.6875 \n",
       "L 34.71875 47.703125 \n",
       "L 19.921875 47.703125 \n",
       "L 19.921875 0 \n",
       "L 10.890625 0 \n",
       "L 10.890625 47.703125 \n",
       "L 2.296875 47.703125 \n",
       "L 2.296875 54.6875 \n",
       "L 10.890625 54.6875 \n",
       "L 10.890625 58.5 \n",
       "Q 10.890625 67.625 15.140625 71.796875 \n",
       "Q 19.390625 75.984375 28.609375 75.984375 \n",
       "z\n",
       "\" id=\"DejaVuSans-102\"/>\n",
       "       <path d=\"M 9.421875 54.6875 \n",
       "L 18.40625 54.6875 \n",
       "L 18.40625 0 \n",
       "L 9.421875 0 \n",
       "z\n",
       "M 9.421875 75.984375 \n",
       "L 18.40625 75.984375 \n",
       "L 18.40625 64.59375 \n",
       "L 9.421875 64.59375 \n",
       "z\n",
       "\" id=\"DejaVuSans-105\"/>\n",
       "       <path d=\"M 41.109375 46.296875 \n",
       "Q 39.59375 47.171875 37.8125 47.578125 \n",
       "Q 36.03125 48 33.890625 48 \n",
       "Q 26.265625 48 22.1875 43.046875 \n",
       "Q 18.109375 38.09375 18.109375 28.8125 \n",
       "L 18.109375 0 \n",
       "L 9.078125 0 \n",
       "L 9.078125 54.6875 \n",
       "L 18.109375 54.6875 \n",
       "L 18.109375 46.1875 \n",
       "Q 20.953125 51.171875 25.484375 53.578125 \n",
       "Q 30.03125 56 36.53125 56 \n",
       "Q 37.453125 56 38.578125 55.875 \n",
       "Q 39.703125 55.765625 41.0625 55.515625 \n",
       "z\n",
       "\" id=\"DejaVuSans-114\"/>\n",
       "       <path d=\"M 44.28125 53.078125 \n",
       "L 44.28125 44.578125 \n",
       "Q 40.484375 46.53125 36.375 47.5 \n",
       "Q 32.28125 48.484375 27.875 48.484375 \n",
       "Q 21.1875 48.484375 17.84375 46.4375 \n",
       "Q 14.5 44.390625 14.5 40.28125 \n",
       "Q 14.5 37.15625 16.890625 35.375 \n",
       "Q 19.28125 33.59375 26.515625 31.984375 \n",
       "L 29.59375 31.296875 \n",
       "Q 39.15625 29.25 43.1875 25.515625 \n",
       "Q 47.21875 21.78125 47.21875 15.09375 \n",
       "Q 47.21875 7.46875 41.1875 3.015625 \n",
       "Q 35.15625 -1.421875 24.609375 -1.421875 \n",
       "Q 20.21875 -1.421875 15.453125 -0.5625 \n",
       "Q 10.6875 0.296875 5.421875 2 \n",
       "L 5.421875 11.28125 \n",
       "Q 10.40625 8.6875 15.234375 7.390625 \n",
       "Q 20.0625 6.109375 24.8125 6.109375 \n",
       "Q 31.15625 6.109375 34.5625 8.28125 \n",
       "Q 37.984375 10.453125 37.984375 14.40625 \n",
       "Q 37.984375 18.0625 35.515625 20.015625 \n",
       "Q 33.0625 21.96875 24.703125 23.78125 \n",
       "L 21.578125 24.515625 \n",
       "Q 13.234375 26.265625 9.515625 29.90625 \n",
       "Q 5.8125 33.546875 5.8125 39.890625 \n",
       "Q 5.8125 47.609375 11.28125 51.796875 \n",
       "Q 16.75 56 26.8125 56 \n",
       "Q 31.78125 56 36.171875 55.265625 \n",
       "Q 40.578125 54.546875 44.28125 53.078125 \n",
       "z\n",
       "\" id=\"DejaVuSans-115\"/>\n",
       "       <path d=\"M 18.3125 70.21875 \n",
       "L 18.3125 54.6875 \n",
       "L 36.8125 54.6875 \n",
       "L 36.8125 47.703125 \n",
       "L 18.3125 47.703125 \n",
       "L 18.3125 18.015625 \n",
       "Q 18.3125 11.328125 20.140625 9.421875 \n",
       "Q 21.96875 7.515625 27.59375 7.515625 \n",
       "L 36.8125 7.515625 \n",
       "L 36.8125 0 \n",
       "L 27.59375 0 \n",
       "Q 17.1875 0 13.234375 3.875 \n",
       "Q 9.28125 7.765625 9.28125 18.015625 \n",
       "L 9.28125 47.703125 \n",
       "L 2.6875 47.703125 \n",
       "L 2.6875 54.6875 \n",
       "L 9.28125 54.6875 \n",
       "L 9.28125 70.21875 \n",
       "z\n",
       "\" id=\"DejaVuSans-116\"/>\n",
       "      </defs>\n",
       "      <use xlink:href=\"#DejaVuSans-78\"/>\n",
       "      <use x=\"74.804688\" xlink:href=\"#DejaVuSans-95\"/>\n",
       "      <use x=\"124.804688\" xlink:href=\"#DejaVuSans-102\"/>\n",
       "      <use x=\"160.009766\" xlink:href=\"#DejaVuSans-105\"/>\n",
       "      <use x=\"187.792969\" xlink:href=\"#DejaVuSans-114\"/>\n",
       "      <use x=\"228.90625\" xlink:href=\"#DejaVuSans-115\"/>\n",
       "      <use x=\"281.005859\" xlink:href=\"#DejaVuSans-116\"/>\n",
       "     </g>\n",
       "    </g>\n",
       "   </g>\n",
       "  </g>\n",
       " </g>\n",
       " <defs>\n",
       "  <clipPath id=\"p931807de3d\">\n",
       "   <rect height=\"217.44\" width=\"334.8\" x=\"30.103125\" y=\"7.2\"/>\n",
       "  </clipPath>\n",
       " </defs>\n",
       "</svg>\n"
      ],
      "text/plain": [
       "<Figure size 432x288 with 1 Axes>"
      ]
     },
     "metadata": {},
     "output_type": "display_data"
    }
   ],
   "source": [
    "Lnum = 1.0\n",
    "NptsPlot = 101\n",
    "xplt = np.linspace(0.0, Lnum, NptsPlot)\n",
    "yplt = np.zeros(NptsPlot)\n",
    "plt.clf()\n",
    "for ip in range(NptsPlot):\n",
    "    yplt[ip] = N_first.subs( {x: xplt[ip], L: Lnum } )\n",
    "plt.plot(xplt, yplt, label=\"N_first\")\n",
    "plt.legend();"
   ]
  },
  {
   "cell_type": "code",
   "execution_count": 29,
   "metadata": {},
   "outputs": [
    {
     "data": {
      "image/svg+xml": [
       "<?xml version=\"1.0\" encoding=\"utf-8\" standalone=\"no\"?>\n",
       "<!DOCTYPE svg PUBLIC \"-//W3C//DTD SVG 1.1//EN\"\n",
       "  \"http://www.w3.org/Graphics/SVG/1.1/DTD/svg11.dtd\">\n",
       "<!-- Created with matplotlib (https://matplotlib.org/) -->\n",
       "<svg height=\"248.518125pt\" version=\"1.1\" viewBox=\"0 0 372.103125 248.518125\" width=\"372.103125pt\" xmlns=\"http://www.w3.org/2000/svg\" xmlns:xlink=\"http://www.w3.org/1999/xlink\">\n",
       " <metadata>\n",
       "  <rdf:RDF xmlns:cc=\"http://creativecommons.org/ns#\" xmlns:dc=\"http://purl.org/dc/elements/1.1/\" xmlns:rdf=\"http://www.w3.org/1999/02/22-rdf-syntax-ns#\">\n",
       "   <cc:Work>\n",
       "    <dc:type rdf:resource=\"http://purl.org/dc/dcmitype/StillImage\"/>\n",
       "    <dc:date>2021-04-05T16:34:27.276128</dc:date>\n",
       "    <dc:format>image/svg+xml</dc:format>\n",
       "    <dc:creator>\n",
       "     <cc:Agent>\n",
       "      <dc:title>Matplotlib v3.3.2, https://matplotlib.org/</dc:title>\n",
       "     </cc:Agent>\n",
       "    </dc:creator>\n",
       "   </cc:Work>\n",
       "  </rdf:RDF>\n",
       " </metadata>\n",
       " <defs>\n",
       "  <style type=\"text/css\">*{stroke-linecap:butt;stroke-linejoin:round;}</style>\n",
       " </defs>\n",
       " <g id=\"figure_1\">\n",
       "  <g id=\"patch_1\">\n",
       "   <path d=\"M 0 248.518125 \n",
       "L 372.103125 248.518125 \n",
       "L 372.103125 0 \n",
       "L 0 0 \n",
       "z\n",
       "\"/>\n",
       "  </g>\n",
       "  <g id=\"axes_1\">\n",
       "   <g id=\"patch_2\">\n",
       "    <path d=\"M 30.103125 224.64 \n",
       "L 364.903125 224.64 \n",
       "L 364.903125 7.2 \n",
       "L 30.103125 7.2 \n",
       "z\n",
       "\"/>\n",
       "   </g>\n",
       "   <g id=\"matplotlib.axis_1\">\n",
       "    <g id=\"xtick_1\">\n",
       "     <g id=\"line2d_1\">\n",
       "      <defs>\n",
       "       <path d=\"M 0 0 \n",
       "L 0 3.5 \n",
       "\" id=\"m467e52059b\" style=\"stroke:#ffffff;stroke-width:0.8;\"/>\n",
       "      </defs>\n",
       "      <g>\n",
       "       <use style=\"fill:#ffffff;stroke:#ffffff;stroke-width:0.8;\" x=\"45.321307\" xlink:href=\"#m467e52059b\" y=\"224.64\"/>\n",
       "      </g>\n",
       "     </g>\n",
       "     <g id=\"text_1\">\n",
       "      <!-- 0.0 -->\n",
       "      <g style=\"fill:#ffffff;\" transform=\"translate(37.369744 239.238437)scale(0.1 -0.1)\">\n",
       "       <defs>\n",
       "        <path d=\"M 31.78125 66.40625 \n",
       "Q 24.171875 66.40625 20.328125 58.90625 \n",
       "Q 16.5 51.421875 16.5 36.375 \n",
       "Q 16.5 21.390625 20.328125 13.890625 \n",
       "Q 24.171875 6.390625 31.78125 6.390625 \n",
       "Q 39.453125 6.390625 43.28125 13.890625 \n",
       "Q 47.125 21.390625 47.125 36.375 \n",
       "Q 47.125 51.421875 43.28125 58.90625 \n",
       "Q 39.453125 66.40625 31.78125 66.40625 \n",
       "z\n",
       "M 31.78125 74.21875 \n",
       "Q 44.046875 74.21875 50.515625 64.515625 \n",
       "Q 56.984375 54.828125 56.984375 36.375 \n",
       "Q 56.984375 17.96875 50.515625 8.265625 \n",
       "Q 44.046875 -1.421875 31.78125 -1.421875 \n",
       "Q 19.53125 -1.421875 13.0625 8.265625 \n",
       "Q 6.59375 17.96875 6.59375 36.375 \n",
       "Q 6.59375 54.828125 13.0625 64.515625 \n",
       "Q 19.53125 74.21875 31.78125 74.21875 \n",
       "z\n",
       "\" id=\"DejaVuSans-48\"/>\n",
       "        <path d=\"M 10.6875 12.40625 \n",
       "L 21 12.40625 \n",
       "L 21 0 \n",
       "L 10.6875 0 \n",
       "z\n",
       "\" id=\"DejaVuSans-46\"/>\n",
       "       </defs>\n",
       "       <use xlink:href=\"#DejaVuSans-48\"/>\n",
       "       <use x=\"63.623047\" xlink:href=\"#DejaVuSans-46\"/>\n",
       "       <use x=\"95.410156\" xlink:href=\"#DejaVuSans-48\"/>\n",
       "      </g>\n",
       "     </g>\n",
       "    </g>\n",
       "    <g id=\"xtick_2\">\n",
       "     <g id=\"line2d_2\">\n",
       "      <g>\n",
       "       <use style=\"fill:#ffffff;stroke:#ffffff;stroke-width:0.8;\" x=\"106.194034\" xlink:href=\"#m467e52059b\" y=\"224.64\"/>\n",
       "      </g>\n",
       "     </g>\n",
       "     <g id=\"text_2\">\n",
       "      <!-- 0.2 -->\n",
       "      <g style=\"fill:#ffffff;\" transform=\"translate(98.242472 239.238437)scale(0.1 -0.1)\">\n",
       "       <defs>\n",
       "        <path d=\"M 19.1875 8.296875 \n",
       "L 53.609375 8.296875 \n",
       "L 53.609375 0 \n",
       "L 7.328125 0 \n",
       "L 7.328125 8.296875 \n",
       "Q 12.9375 14.109375 22.625 23.890625 \n",
       "Q 32.328125 33.6875 34.8125 36.53125 \n",
       "Q 39.546875 41.84375 41.421875 45.53125 \n",
       "Q 43.3125 49.21875 43.3125 52.78125 \n",
       "Q 43.3125 58.59375 39.234375 62.25 \n",
       "Q 35.15625 65.921875 28.609375 65.921875 \n",
       "Q 23.96875 65.921875 18.8125 64.3125 \n",
       "Q 13.671875 62.703125 7.8125 59.421875 \n",
       "L 7.8125 69.390625 \n",
       "Q 13.765625 71.78125 18.9375 73 \n",
       "Q 24.125 74.21875 28.421875 74.21875 \n",
       "Q 39.75 74.21875 46.484375 68.546875 \n",
       "Q 53.21875 62.890625 53.21875 53.421875 \n",
       "Q 53.21875 48.921875 51.53125 44.890625 \n",
       "Q 49.859375 40.875 45.40625 35.40625 \n",
       "Q 44.1875 33.984375 37.640625 27.21875 \n",
       "Q 31.109375 20.453125 19.1875 8.296875 \n",
       "z\n",
       "\" id=\"DejaVuSans-50\"/>\n",
       "       </defs>\n",
       "       <use xlink:href=\"#DejaVuSans-48\"/>\n",
       "       <use x=\"63.623047\" xlink:href=\"#DejaVuSans-46\"/>\n",
       "       <use x=\"95.410156\" xlink:href=\"#DejaVuSans-50\"/>\n",
       "      </g>\n",
       "     </g>\n",
       "    </g>\n",
       "    <g id=\"xtick_3\">\n",
       "     <g id=\"line2d_3\">\n",
       "      <g>\n",
       "       <use style=\"fill:#ffffff;stroke:#ffffff;stroke-width:0.8;\" x=\"167.066761\" xlink:href=\"#m467e52059b\" y=\"224.64\"/>\n",
       "      </g>\n",
       "     </g>\n",
       "     <g id=\"text_3\">\n",
       "      <!-- 0.4 -->\n",
       "      <g style=\"fill:#ffffff;\" transform=\"translate(159.115199 239.238437)scale(0.1 -0.1)\">\n",
       "       <defs>\n",
       "        <path d=\"M 37.796875 64.3125 \n",
       "L 12.890625 25.390625 \n",
       "L 37.796875 25.390625 \n",
       "z\n",
       "M 35.203125 72.90625 \n",
       "L 47.609375 72.90625 \n",
       "L 47.609375 25.390625 \n",
       "L 58.015625 25.390625 \n",
       "L 58.015625 17.1875 \n",
       "L 47.609375 17.1875 \n",
       "L 47.609375 0 \n",
       "L 37.796875 0 \n",
       "L 37.796875 17.1875 \n",
       "L 4.890625 17.1875 \n",
       "L 4.890625 26.703125 \n",
       "z\n",
       "\" id=\"DejaVuSans-52\"/>\n",
       "       </defs>\n",
       "       <use xlink:href=\"#DejaVuSans-48\"/>\n",
       "       <use x=\"63.623047\" xlink:href=\"#DejaVuSans-46\"/>\n",
       "       <use x=\"95.410156\" xlink:href=\"#DejaVuSans-52\"/>\n",
       "      </g>\n",
       "     </g>\n",
       "    </g>\n",
       "    <g id=\"xtick_4\">\n",
       "     <g id=\"line2d_4\">\n",
       "      <g>\n",
       "       <use style=\"fill:#ffffff;stroke:#ffffff;stroke-width:0.8;\" x=\"227.939489\" xlink:href=\"#m467e52059b\" y=\"224.64\"/>\n",
       "      </g>\n",
       "     </g>\n",
       "     <g id=\"text_4\">\n",
       "      <!-- 0.6 -->\n",
       "      <g style=\"fill:#ffffff;\" transform=\"translate(219.987926 239.238437)scale(0.1 -0.1)\">\n",
       "       <defs>\n",
       "        <path d=\"M 33.015625 40.375 \n",
       "Q 26.375 40.375 22.484375 35.828125 \n",
       "Q 18.609375 31.296875 18.609375 23.390625 \n",
       "Q 18.609375 15.53125 22.484375 10.953125 \n",
       "Q 26.375 6.390625 33.015625 6.390625 \n",
       "Q 39.65625 6.390625 43.53125 10.953125 \n",
       "Q 47.40625 15.53125 47.40625 23.390625 \n",
       "Q 47.40625 31.296875 43.53125 35.828125 \n",
       "Q 39.65625 40.375 33.015625 40.375 \n",
       "z\n",
       "M 52.59375 71.296875 \n",
       "L 52.59375 62.3125 \n",
       "Q 48.875 64.0625 45.09375 64.984375 \n",
       "Q 41.3125 65.921875 37.59375 65.921875 \n",
       "Q 27.828125 65.921875 22.671875 59.328125 \n",
       "Q 17.53125 52.734375 16.796875 39.40625 \n",
       "Q 19.671875 43.65625 24.015625 45.921875 \n",
       "Q 28.375 48.1875 33.59375 48.1875 \n",
       "Q 44.578125 48.1875 50.953125 41.515625 \n",
       "Q 57.328125 34.859375 57.328125 23.390625 \n",
       "Q 57.328125 12.15625 50.6875 5.359375 \n",
       "Q 44.046875 -1.421875 33.015625 -1.421875 \n",
       "Q 20.359375 -1.421875 13.671875 8.265625 \n",
       "Q 6.984375 17.96875 6.984375 36.375 \n",
       "Q 6.984375 53.65625 15.1875 63.9375 \n",
       "Q 23.390625 74.21875 37.203125 74.21875 \n",
       "Q 40.921875 74.21875 44.703125 73.484375 \n",
       "Q 48.484375 72.75 52.59375 71.296875 \n",
       "z\n",
       "\" id=\"DejaVuSans-54\"/>\n",
       "       </defs>\n",
       "       <use xlink:href=\"#DejaVuSans-48\"/>\n",
       "       <use x=\"63.623047\" xlink:href=\"#DejaVuSans-46\"/>\n",
       "       <use x=\"95.410156\" xlink:href=\"#DejaVuSans-54\"/>\n",
       "      </g>\n",
       "     </g>\n",
       "    </g>\n",
       "    <g id=\"xtick_5\">\n",
       "     <g id=\"line2d_5\">\n",
       "      <g>\n",
       "       <use style=\"fill:#ffffff;stroke:#ffffff;stroke-width:0.8;\" x=\"288.812216\" xlink:href=\"#m467e52059b\" y=\"224.64\"/>\n",
       "      </g>\n",
       "     </g>\n",
       "     <g id=\"text_5\">\n",
       "      <!-- 0.8 -->\n",
       "      <g style=\"fill:#ffffff;\" transform=\"translate(280.860653 239.238437)scale(0.1 -0.1)\">\n",
       "       <defs>\n",
       "        <path d=\"M 31.78125 34.625 \n",
       "Q 24.75 34.625 20.71875 30.859375 \n",
       "Q 16.703125 27.09375 16.703125 20.515625 \n",
       "Q 16.703125 13.921875 20.71875 10.15625 \n",
       "Q 24.75 6.390625 31.78125 6.390625 \n",
       "Q 38.8125 6.390625 42.859375 10.171875 \n",
       "Q 46.921875 13.96875 46.921875 20.515625 \n",
       "Q 46.921875 27.09375 42.890625 30.859375 \n",
       "Q 38.875 34.625 31.78125 34.625 \n",
       "z\n",
       "M 21.921875 38.8125 \n",
       "Q 15.578125 40.375 12.03125 44.71875 \n",
       "Q 8.5 49.078125 8.5 55.328125 \n",
       "Q 8.5 64.0625 14.71875 69.140625 \n",
       "Q 20.953125 74.21875 31.78125 74.21875 \n",
       "Q 42.671875 74.21875 48.875 69.140625 \n",
       "Q 55.078125 64.0625 55.078125 55.328125 \n",
       "Q 55.078125 49.078125 51.53125 44.71875 \n",
       "Q 48 40.375 41.703125 38.8125 \n",
       "Q 48.828125 37.15625 52.796875 32.3125 \n",
       "Q 56.78125 27.484375 56.78125 20.515625 \n",
       "Q 56.78125 9.90625 50.3125 4.234375 \n",
       "Q 43.84375 -1.421875 31.78125 -1.421875 \n",
       "Q 19.734375 -1.421875 13.25 4.234375 \n",
       "Q 6.78125 9.90625 6.78125 20.515625 \n",
       "Q 6.78125 27.484375 10.78125 32.3125 \n",
       "Q 14.796875 37.15625 21.921875 38.8125 \n",
       "z\n",
       "M 18.3125 54.390625 \n",
       "Q 18.3125 48.734375 21.84375 45.5625 \n",
       "Q 25.390625 42.390625 31.78125 42.390625 \n",
       "Q 38.140625 42.390625 41.71875 45.5625 \n",
       "Q 45.3125 48.734375 45.3125 54.390625 \n",
       "Q 45.3125 60.0625 41.71875 63.234375 \n",
       "Q 38.140625 66.40625 31.78125 66.40625 \n",
       "Q 25.390625 66.40625 21.84375 63.234375 \n",
       "Q 18.3125 60.0625 18.3125 54.390625 \n",
       "z\n",
       "\" id=\"DejaVuSans-56\"/>\n",
       "       </defs>\n",
       "       <use xlink:href=\"#DejaVuSans-48\"/>\n",
       "       <use x=\"63.623047\" xlink:href=\"#DejaVuSans-46\"/>\n",
       "       <use x=\"95.410156\" xlink:href=\"#DejaVuSans-56\"/>\n",
       "      </g>\n",
       "     </g>\n",
       "    </g>\n",
       "    <g id=\"xtick_6\">\n",
       "     <g id=\"line2d_6\">\n",
       "      <g>\n",
       "       <use style=\"fill:#ffffff;stroke:#ffffff;stroke-width:0.8;\" x=\"349.684943\" xlink:href=\"#m467e52059b\" y=\"224.64\"/>\n",
       "      </g>\n",
       "     </g>\n",
       "     <g id=\"text_6\">\n",
       "      <!-- 1.0 -->\n",
       "      <g style=\"fill:#ffffff;\" transform=\"translate(341.733381 239.238437)scale(0.1 -0.1)\">\n",
       "       <defs>\n",
       "        <path d=\"M 12.40625 8.296875 \n",
       "L 28.515625 8.296875 \n",
       "L 28.515625 63.921875 \n",
       "L 10.984375 60.40625 \n",
       "L 10.984375 69.390625 \n",
       "L 28.421875 72.90625 \n",
       "L 38.28125 72.90625 \n",
       "L 38.28125 8.296875 \n",
       "L 54.390625 8.296875 \n",
       "L 54.390625 0 \n",
       "L 12.40625 0 \n",
       "z\n",
       "\" id=\"DejaVuSans-49\"/>\n",
       "       </defs>\n",
       "       <use xlink:href=\"#DejaVuSans-49\"/>\n",
       "       <use x=\"63.623047\" xlink:href=\"#DejaVuSans-46\"/>\n",
       "       <use x=\"95.410156\" xlink:href=\"#DejaVuSans-48\"/>\n",
       "      </g>\n",
       "     </g>\n",
       "    </g>\n",
       "   </g>\n",
       "   <g id=\"matplotlib.axis_2\">\n",
       "    <g id=\"ytick_1\">\n",
       "     <g id=\"line2d_7\">\n",
       "      <defs>\n",
       "       <path d=\"M 0 0 \n",
       "L -3.5 0 \n",
       "\" id=\"m5a90e0d60f\" style=\"stroke:#ffffff;stroke-width:0.8;\"/>\n",
       "      </defs>\n",
       "      <g>\n",
       "       <use style=\"fill:#ffffff;stroke:#ffffff;stroke-width:0.8;\" x=\"30.103125\" xlink:href=\"#m5a90e0d60f\" y=\"214.756364\"/>\n",
       "      </g>\n",
       "     </g>\n",
       "     <g id=\"text_7\">\n",
       "      <!-- 0.0 -->\n",
       "      <g style=\"fill:#ffffff;\" transform=\"translate(7.2 218.555582)scale(0.1 -0.1)\">\n",
       "       <use xlink:href=\"#DejaVuSans-48\"/>\n",
       "       <use x=\"63.623047\" xlink:href=\"#DejaVuSans-46\"/>\n",
       "       <use x=\"95.410156\" xlink:href=\"#DejaVuSans-48\"/>\n",
       "      </g>\n",
       "     </g>\n",
       "    </g>\n",
       "    <g id=\"ytick_2\">\n",
       "     <g id=\"line2d_8\">\n",
       "      <g>\n",
       "       <use style=\"fill:#ffffff;stroke:#ffffff;stroke-width:0.8;\" x=\"30.103125\" xlink:href=\"#m5a90e0d60f\" y=\"175.221818\"/>\n",
       "      </g>\n",
       "     </g>\n",
       "     <g id=\"text_8\">\n",
       "      <!-- 0.2 -->\n",
       "      <g style=\"fill:#ffffff;\" transform=\"translate(7.2 179.021037)scale(0.1 -0.1)\">\n",
       "       <use xlink:href=\"#DejaVuSans-48\"/>\n",
       "       <use x=\"63.623047\" xlink:href=\"#DejaVuSans-46\"/>\n",
       "       <use x=\"95.410156\" xlink:href=\"#DejaVuSans-50\"/>\n",
       "      </g>\n",
       "     </g>\n",
       "    </g>\n",
       "    <g id=\"ytick_3\">\n",
       "     <g id=\"line2d_9\">\n",
       "      <g>\n",
       "       <use style=\"fill:#ffffff;stroke:#ffffff;stroke-width:0.8;\" x=\"30.103125\" xlink:href=\"#m5a90e0d60f\" y=\"135.687273\"/>\n",
       "      </g>\n",
       "     </g>\n",
       "     <g id=\"text_9\">\n",
       "      <!-- 0.4 -->\n",
       "      <g style=\"fill:#ffffff;\" transform=\"translate(7.2 139.486491)scale(0.1 -0.1)\">\n",
       "       <use xlink:href=\"#DejaVuSans-48\"/>\n",
       "       <use x=\"63.623047\" xlink:href=\"#DejaVuSans-46\"/>\n",
       "       <use x=\"95.410156\" xlink:href=\"#DejaVuSans-52\"/>\n",
       "      </g>\n",
       "     </g>\n",
       "    </g>\n",
       "    <g id=\"ytick_4\">\n",
       "     <g id=\"line2d_10\">\n",
       "      <g>\n",
       "       <use style=\"fill:#ffffff;stroke:#ffffff;stroke-width:0.8;\" x=\"30.103125\" xlink:href=\"#m5a90e0d60f\" y=\"96.152727\"/>\n",
       "      </g>\n",
       "     </g>\n",
       "     <g id=\"text_10\">\n",
       "      <!-- 0.6 -->\n",
       "      <g style=\"fill:#ffffff;\" transform=\"translate(7.2 99.951946)scale(0.1 -0.1)\">\n",
       "       <use xlink:href=\"#DejaVuSans-48\"/>\n",
       "       <use x=\"63.623047\" xlink:href=\"#DejaVuSans-46\"/>\n",
       "       <use x=\"95.410156\" xlink:href=\"#DejaVuSans-54\"/>\n",
       "      </g>\n",
       "     </g>\n",
       "    </g>\n",
       "    <g id=\"ytick_5\">\n",
       "     <g id=\"line2d_11\">\n",
       "      <g>\n",
       "       <use style=\"fill:#ffffff;stroke:#ffffff;stroke-width:0.8;\" x=\"30.103125\" xlink:href=\"#m5a90e0d60f\" y=\"56.618182\"/>\n",
       "      </g>\n",
       "     </g>\n",
       "     <g id=\"text_11\">\n",
       "      <!-- 0.8 -->\n",
       "      <g style=\"fill:#ffffff;\" transform=\"translate(7.2 60.417401)scale(0.1 -0.1)\">\n",
       "       <use xlink:href=\"#DejaVuSans-48\"/>\n",
       "       <use x=\"63.623047\" xlink:href=\"#DejaVuSans-46\"/>\n",
       "       <use x=\"95.410156\" xlink:href=\"#DejaVuSans-56\"/>\n",
       "      </g>\n",
       "     </g>\n",
       "    </g>\n",
       "    <g id=\"ytick_6\">\n",
       "     <g id=\"line2d_12\">\n",
       "      <g>\n",
       "       <use style=\"fill:#ffffff;stroke:#ffffff;stroke-width:0.8;\" x=\"30.103125\" xlink:href=\"#m5a90e0d60f\" y=\"17.083636\"/>\n",
       "      </g>\n",
       "     </g>\n",
       "     <g id=\"text_12\">\n",
       "      <!-- 1.0 -->\n",
       "      <g style=\"fill:#ffffff;\" transform=\"translate(7.2 20.882855)scale(0.1 -0.1)\">\n",
       "       <use xlink:href=\"#DejaVuSans-49\"/>\n",
       "       <use x=\"63.623047\" xlink:href=\"#DejaVuSans-46\"/>\n",
       "       <use x=\"95.410156\" xlink:href=\"#DejaVuSans-48\"/>\n",
       "      </g>\n",
       "     </g>\n",
       "    </g>\n",
       "   </g>\n",
       "   <g id=\"line2d_13\">\n",
       "    <path clip-path=\"url(#pc08c5513bf)\" d=\"M 45.321307 214.756364 \n",
       "L 48.364943 210.802909 \n",
       "L 51.40858 206.849455 \n",
       "L 54.452216 202.896 \n",
       "L 57.495852 198.942545 \n",
       "L 60.539489 194.989091 \n",
       "L 63.583125 191.035636 \n",
       "L 66.626761 187.082182 \n",
       "L 69.670398 183.128727 \n",
       "L 72.714034 179.175273 \n",
       "L 75.75767 175.221818 \n",
       "L 78.801307 171.268364 \n",
       "L 81.844943 167.314909 \n",
       "L 84.88858 163.361455 \n",
       "L 87.932216 159.408 \n",
       "L 90.975852 155.454545 \n",
       "L 94.019489 151.501091 \n",
       "L 97.063125 147.547636 \n",
       "L 100.106761 143.594182 \n",
       "L 103.150398 139.640727 \n",
       "L 106.194034 135.687273 \n",
       "L 109.23767 131.733818 \n",
       "L 112.281307 127.780364 \n",
       "L 115.324943 123.826909 \n",
       "L 118.36858 119.873455 \n",
       "L 121.412216 115.92 \n",
       "L 124.455852 111.966545 \n",
       "L 127.499489 108.013091 \n",
       "L 130.543125 104.059636 \n",
       "L 133.586761 100.106182 \n",
       "L 136.630398 96.152727 \n",
       "L 139.674034 92.199273 \n",
       "L 142.71767 88.245818 \n",
       "L 145.761307 84.292364 \n",
       "L 148.804943 80.338909 \n",
       "L 151.84858 76.385455 \n",
       "L 154.892216 72.432 \n",
       "L 157.935852 68.478545 \n",
       "L 160.979489 64.525091 \n",
       "L 164.023125 60.571636 \n",
       "L 167.066761 56.618182 \n",
       "L 170.110398 52.664727 \n",
       "L 173.154034 48.711273 \n",
       "L 176.19767 44.757818 \n",
       "L 179.241307 40.804364 \n",
       "L 182.284943 36.850909 \n",
       "L 185.32858 32.897455 \n",
       "L 188.372216 28.944 \n",
       "L 191.415852 24.990545 \n",
       "L 194.459489 21.037091 \n",
       "L 197.503125 17.083636 \n",
       "L 200.546761 21.037091 \n",
       "L 203.590398 24.990545 \n",
       "L 206.634034 28.944 \n",
       "L 209.67767 32.897455 \n",
       "L 212.721307 36.850909 \n",
       "L 215.764943 40.804364 \n",
       "L 218.80858 44.757818 \n",
       "L 221.852216 48.711273 \n",
       "L 224.895852 52.664727 \n",
       "L 227.939489 56.618182 \n",
       "L 230.983125 60.571636 \n",
       "L 234.026761 64.525091 \n",
       "L 237.070398 68.478545 \n",
       "L 240.114034 72.432 \n",
       "L 243.15767 76.385455 \n",
       "L 246.201307 80.338909 \n",
       "L 249.244943 84.292364 \n",
       "L 252.28858 88.245818 \n",
       "L 255.332216 92.199273 \n",
       "L 258.375852 96.152727 \n",
       "L 261.419489 100.106182 \n",
       "L 264.463125 104.059636 \n",
       "L 267.506761 108.013091 \n",
       "L 270.550398 111.966545 \n",
       "L 273.594034 115.92 \n",
       "L 276.63767 119.873455 \n",
       "L 279.681307 123.826909 \n",
       "L 282.724943 127.780364 \n",
       "L 285.76858 131.733818 \n",
       "L 288.812216 135.687273 \n",
       "L 291.855852 139.640727 \n",
       "L 294.899489 143.594182 \n",
       "L 297.943125 147.547636 \n",
       "L 300.986761 151.501091 \n",
       "L 304.030398 155.454545 \n",
       "L 307.074034 159.408 \n",
       "L 310.11767 163.361455 \n",
       "L 313.161307 167.314909 \n",
       "L 316.204943 171.268364 \n",
       "L 319.24858 175.221818 \n",
       "L 322.292216 179.175273 \n",
       "L 325.335852 183.128727 \n",
       "L 328.379489 187.082182 \n",
       "L 331.423125 191.035636 \n",
       "L 334.466761 194.989091 \n",
       "L 337.510398 198.942545 \n",
       "L 340.554034 202.896 \n",
       "L 343.59767 206.849455 \n",
       "L 346.641307 210.802909 \n",
       "L 349.684943 214.756364 \n",
       "\" style=\"fill:none;stroke:#8dd3c7;stroke-linecap:square;stroke-width:1.5;\"/>\n",
       "   </g>\n",
       "   <g id=\"patch_3\">\n",
       "    <path d=\"M 30.103125 224.64 \n",
       "L 30.103125 7.2 \n",
       "\" style=\"fill:none;stroke:#ffffff;stroke-linecap:square;stroke-linejoin:miter;stroke-width:0.8;\"/>\n",
       "   </g>\n",
       "   <g id=\"patch_4\">\n",
       "    <path d=\"M 364.903125 224.64 \n",
       "L 364.903125 7.2 \n",
       "\" style=\"fill:none;stroke:#ffffff;stroke-linecap:square;stroke-linejoin:miter;stroke-width:0.8;\"/>\n",
       "   </g>\n",
       "   <g id=\"patch_5\">\n",
       "    <path d=\"M 30.103125 224.64 \n",
       "L 364.903125 224.64 \n",
       "\" style=\"fill:none;stroke:#ffffff;stroke-linecap:square;stroke-linejoin:miter;stroke-width:0.8;\"/>\n",
       "   </g>\n",
       "   <g id=\"patch_6\">\n",
       "    <path d=\"M 30.103125 7.2 \n",
       "L 364.903125 7.2 \n",
       "\" style=\"fill:none;stroke:#ffffff;stroke-linecap:square;stroke-linejoin:miter;stroke-width:0.8;\"/>\n",
       "   </g>\n",
       "   <g id=\"legend_1\">\n",
       "    <g id=\"patch_7\">\n",
       "     <path d=\"M 277.75625 30.15625 \n",
       "L 357.903125 30.15625 \n",
       "Q 359.903125 30.15625 359.903125 28.15625 \n",
       "L 359.903125 14.2 \n",
       "Q 359.903125 12.2 357.903125 12.2 \n",
       "L 277.75625 12.2 \n",
       "Q 275.75625 12.2 275.75625 14.2 \n",
       "L 275.75625 28.15625 \n",
       "Q 275.75625 30.15625 277.75625 30.15625 \n",
       "z\n",
       "\" style=\"opacity:0.8;stroke:#cccccc;stroke-linejoin:miter;\"/>\n",
       "    </g>\n",
       "    <g id=\"line2d_14\">\n",
       "     <path d=\"M 279.75625 20.298437 \n",
       "L 299.75625 20.298437 \n",
       "\" style=\"fill:none;stroke:#8dd3c7;stroke-linecap:square;stroke-width:1.5;\"/>\n",
       "    </g>\n",
       "    <g id=\"line2d_15\"/>\n",
       "    <g id=\"text_13\">\n",
       "     <!-- N_second -->\n",
       "     <g style=\"fill:#ffffff;\" transform=\"translate(307.75625 23.798437)scale(0.1 -0.1)\">\n",
       "      <defs>\n",
       "       <path d=\"M 9.8125 72.90625 \n",
       "L 23.09375 72.90625 \n",
       "L 55.421875 11.921875 \n",
       "L 55.421875 72.90625 \n",
       "L 64.984375 72.90625 \n",
       "L 64.984375 0 \n",
       "L 51.703125 0 \n",
       "L 19.390625 60.984375 \n",
       "L 19.390625 0 \n",
       "L 9.8125 0 \n",
       "z\n",
       "\" id=\"DejaVuSans-78\"/>\n",
       "       <path d=\"M 50.984375 -16.609375 \n",
       "L 50.984375 -23.578125 \n",
       "L -0.984375 -23.578125 \n",
       "L -0.984375 -16.609375 \n",
       "z\n",
       "\" id=\"DejaVuSans-95\"/>\n",
       "       <path d=\"M 44.28125 53.078125 \n",
       "L 44.28125 44.578125 \n",
       "Q 40.484375 46.53125 36.375 47.5 \n",
       "Q 32.28125 48.484375 27.875 48.484375 \n",
       "Q 21.1875 48.484375 17.84375 46.4375 \n",
       "Q 14.5 44.390625 14.5 40.28125 \n",
       "Q 14.5 37.15625 16.890625 35.375 \n",
       "Q 19.28125 33.59375 26.515625 31.984375 \n",
       "L 29.59375 31.296875 \n",
       "Q 39.15625 29.25 43.1875 25.515625 \n",
       "Q 47.21875 21.78125 47.21875 15.09375 \n",
       "Q 47.21875 7.46875 41.1875 3.015625 \n",
       "Q 35.15625 -1.421875 24.609375 -1.421875 \n",
       "Q 20.21875 -1.421875 15.453125 -0.5625 \n",
       "Q 10.6875 0.296875 5.421875 2 \n",
       "L 5.421875 11.28125 \n",
       "Q 10.40625 8.6875 15.234375 7.390625 \n",
       "Q 20.0625 6.109375 24.8125 6.109375 \n",
       "Q 31.15625 6.109375 34.5625 8.28125 \n",
       "Q 37.984375 10.453125 37.984375 14.40625 \n",
       "Q 37.984375 18.0625 35.515625 20.015625 \n",
       "Q 33.0625 21.96875 24.703125 23.78125 \n",
       "L 21.578125 24.515625 \n",
       "Q 13.234375 26.265625 9.515625 29.90625 \n",
       "Q 5.8125 33.546875 5.8125 39.890625 \n",
       "Q 5.8125 47.609375 11.28125 51.796875 \n",
       "Q 16.75 56 26.8125 56 \n",
       "Q 31.78125 56 36.171875 55.265625 \n",
       "Q 40.578125 54.546875 44.28125 53.078125 \n",
       "z\n",
       "\" id=\"DejaVuSans-115\"/>\n",
       "       <path d=\"M 56.203125 29.59375 \n",
       "L 56.203125 25.203125 \n",
       "L 14.890625 25.203125 \n",
       "Q 15.484375 15.921875 20.484375 11.0625 \n",
       "Q 25.484375 6.203125 34.421875 6.203125 \n",
       "Q 39.59375 6.203125 44.453125 7.46875 \n",
       "Q 49.3125 8.734375 54.109375 11.28125 \n",
       "L 54.109375 2.78125 \n",
       "Q 49.265625 0.734375 44.1875 -0.34375 \n",
       "Q 39.109375 -1.421875 33.890625 -1.421875 \n",
       "Q 20.796875 -1.421875 13.15625 6.1875 \n",
       "Q 5.515625 13.8125 5.515625 26.8125 \n",
       "Q 5.515625 40.234375 12.765625 48.109375 \n",
       "Q 20.015625 56 32.328125 56 \n",
       "Q 43.359375 56 49.78125 48.890625 \n",
       "Q 56.203125 41.796875 56.203125 29.59375 \n",
       "z\n",
       "M 47.21875 32.234375 \n",
       "Q 47.125 39.59375 43.09375 43.984375 \n",
       "Q 39.0625 48.390625 32.421875 48.390625 \n",
       "Q 24.90625 48.390625 20.390625 44.140625 \n",
       "Q 15.875 39.890625 15.1875 32.171875 \n",
       "z\n",
       "\" id=\"DejaVuSans-101\"/>\n",
       "       <path d=\"M 48.78125 52.59375 \n",
       "L 48.78125 44.1875 \n",
       "Q 44.96875 46.296875 41.140625 47.34375 \n",
       "Q 37.3125 48.390625 33.40625 48.390625 \n",
       "Q 24.65625 48.390625 19.8125 42.84375 \n",
       "Q 14.984375 37.3125 14.984375 27.296875 \n",
       "Q 14.984375 17.28125 19.8125 11.734375 \n",
       "Q 24.65625 6.203125 33.40625 6.203125 \n",
       "Q 37.3125 6.203125 41.140625 7.25 \n",
       "Q 44.96875 8.296875 48.78125 10.40625 \n",
       "L 48.78125 2.09375 \n",
       "Q 45.015625 0.34375 40.984375 -0.53125 \n",
       "Q 36.96875 -1.421875 32.421875 -1.421875 \n",
       "Q 20.0625 -1.421875 12.78125 6.34375 \n",
       "Q 5.515625 14.109375 5.515625 27.296875 \n",
       "Q 5.515625 40.671875 12.859375 48.328125 \n",
       "Q 20.21875 56 33.015625 56 \n",
       "Q 37.15625 56 41.109375 55.140625 \n",
       "Q 45.0625 54.296875 48.78125 52.59375 \n",
       "z\n",
       "\" id=\"DejaVuSans-99\"/>\n",
       "       <path d=\"M 30.609375 48.390625 \n",
       "Q 23.390625 48.390625 19.1875 42.75 \n",
       "Q 14.984375 37.109375 14.984375 27.296875 \n",
       "Q 14.984375 17.484375 19.15625 11.84375 \n",
       "Q 23.34375 6.203125 30.609375 6.203125 \n",
       "Q 37.796875 6.203125 41.984375 11.859375 \n",
       "Q 46.1875 17.53125 46.1875 27.296875 \n",
       "Q 46.1875 37.015625 41.984375 42.703125 \n",
       "Q 37.796875 48.390625 30.609375 48.390625 \n",
       "z\n",
       "M 30.609375 56 \n",
       "Q 42.328125 56 49.015625 48.375 \n",
       "Q 55.71875 40.765625 55.71875 27.296875 \n",
       "Q 55.71875 13.875 49.015625 6.21875 \n",
       "Q 42.328125 -1.421875 30.609375 -1.421875 \n",
       "Q 18.84375 -1.421875 12.171875 6.21875 \n",
       "Q 5.515625 13.875 5.515625 27.296875 \n",
       "Q 5.515625 40.765625 12.171875 48.375 \n",
       "Q 18.84375 56 30.609375 56 \n",
       "z\n",
       "\" id=\"DejaVuSans-111\"/>\n",
       "       <path d=\"M 54.890625 33.015625 \n",
       "L 54.890625 0 \n",
       "L 45.90625 0 \n",
       "L 45.90625 32.71875 \n",
       "Q 45.90625 40.484375 42.875 44.328125 \n",
       "Q 39.84375 48.1875 33.796875 48.1875 \n",
       "Q 26.515625 48.1875 22.3125 43.546875 \n",
       "Q 18.109375 38.921875 18.109375 30.90625 \n",
       "L 18.109375 0 \n",
       "L 9.078125 0 \n",
       "L 9.078125 54.6875 \n",
       "L 18.109375 54.6875 \n",
       "L 18.109375 46.1875 \n",
       "Q 21.34375 51.125 25.703125 53.5625 \n",
       "Q 30.078125 56 35.796875 56 \n",
       "Q 45.21875 56 50.046875 50.171875 \n",
       "Q 54.890625 44.34375 54.890625 33.015625 \n",
       "z\n",
       "\" id=\"DejaVuSans-110\"/>\n",
       "       <path d=\"M 45.40625 46.390625 \n",
       "L 45.40625 75.984375 \n",
       "L 54.390625 75.984375 \n",
       "L 54.390625 0 \n",
       "L 45.40625 0 \n",
       "L 45.40625 8.203125 \n",
       "Q 42.578125 3.328125 38.25 0.953125 \n",
       "Q 33.9375 -1.421875 27.875 -1.421875 \n",
       "Q 17.96875 -1.421875 11.734375 6.484375 \n",
       "Q 5.515625 14.40625 5.515625 27.296875 \n",
       "Q 5.515625 40.1875 11.734375 48.09375 \n",
       "Q 17.96875 56 27.875 56 \n",
       "Q 33.9375 56 38.25 53.625 \n",
       "Q 42.578125 51.265625 45.40625 46.390625 \n",
       "z\n",
       "M 14.796875 27.296875 \n",
       "Q 14.796875 17.390625 18.875 11.75 \n",
       "Q 22.953125 6.109375 30.078125 6.109375 \n",
       "Q 37.203125 6.109375 41.296875 11.75 \n",
       "Q 45.40625 17.390625 45.40625 27.296875 \n",
       "Q 45.40625 37.203125 41.296875 42.84375 \n",
       "Q 37.203125 48.484375 30.078125 48.484375 \n",
       "Q 22.953125 48.484375 18.875 42.84375 \n",
       "Q 14.796875 37.203125 14.796875 27.296875 \n",
       "z\n",
       "\" id=\"DejaVuSans-100\"/>\n",
       "      </defs>\n",
       "      <use xlink:href=\"#DejaVuSans-78\"/>\n",
       "      <use x=\"74.804688\" xlink:href=\"#DejaVuSans-95\"/>\n",
       "      <use x=\"124.804688\" xlink:href=\"#DejaVuSans-115\"/>\n",
       "      <use x=\"176.904297\" xlink:href=\"#DejaVuSans-101\"/>\n",
       "      <use x=\"238.427734\" xlink:href=\"#DejaVuSans-99\"/>\n",
       "      <use x=\"293.408203\" xlink:href=\"#DejaVuSans-111\"/>\n",
       "      <use x=\"354.589844\" xlink:href=\"#DejaVuSans-110\"/>\n",
       "      <use x=\"417.96875\" xlink:href=\"#DejaVuSans-100\"/>\n",
       "     </g>\n",
       "    </g>\n",
       "   </g>\n",
       "  </g>\n",
       " </g>\n",
       " <defs>\n",
       "  <clipPath id=\"pc08c5513bf\">\n",
       "   <rect height=\"217.44\" width=\"334.8\" x=\"30.103125\" y=\"7.2\"/>\n",
       "  </clipPath>\n",
       " </defs>\n",
       "</svg>\n"
      ],
      "text/plain": [
       "<Figure size 432x288 with 1 Axes>"
      ]
     },
     "metadata": {},
     "output_type": "display_data"
    }
   ],
   "source": [
    "Lnum = 1.0\n",
    "NptsPlot = 101\n",
    "xplt = np.linspace(0.0, Lnum, NptsPlot)\n",
    "yplt = np.zeros(NptsPlot)\n",
    "plt.clf()\n",
    "for ip in range(NptsPlot):\n",
    "    yplt[ip] = N_second.subs( {x: xplt[ip], L: Lnum } )\n",
    "plt.plot(xplt, yplt, label=\"N_second\")\n",
    "plt.legend();"
   ]
  },
  {
   "cell_type": "code",
   "execution_count": 30,
   "metadata": {},
   "outputs": [
    {
     "data": {
      "image/svg+xml": [
       "<?xml version=\"1.0\" encoding=\"utf-8\" standalone=\"no\"?>\n",
       "<!DOCTYPE svg PUBLIC \"-//W3C//DTD SVG 1.1//EN\"\n",
       "  \"http://www.w3.org/Graphics/SVG/1.1/DTD/svg11.dtd\">\n",
       "<!-- Created with matplotlib (https://matplotlib.org/) -->\n",
       "<svg height=\"248.518125pt\" version=\"1.1\" viewBox=\"0 0 372.103125 248.518125\" width=\"372.103125pt\" xmlns=\"http://www.w3.org/2000/svg\" xmlns:xlink=\"http://www.w3.org/1999/xlink\">\n",
       " <metadata>\n",
       "  <rdf:RDF xmlns:cc=\"http://creativecommons.org/ns#\" xmlns:dc=\"http://purl.org/dc/elements/1.1/\" xmlns:rdf=\"http://www.w3.org/1999/02/22-rdf-syntax-ns#\">\n",
       "   <cc:Work>\n",
       "    <dc:type rdf:resource=\"http://purl.org/dc/dcmitype/StillImage\"/>\n",
       "    <dc:date>2021-04-05T16:34:55.391881</dc:date>\n",
       "    <dc:format>image/svg+xml</dc:format>\n",
       "    <dc:creator>\n",
       "     <cc:Agent>\n",
       "      <dc:title>Matplotlib v3.3.2, https://matplotlib.org/</dc:title>\n",
       "     </cc:Agent>\n",
       "    </dc:creator>\n",
       "   </cc:Work>\n",
       "  </rdf:RDF>\n",
       " </metadata>\n",
       " <defs>\n",
       "  <style type=\"text/css\">*{stroke-linecap:butt;stroke-linejoin:round;}</style>\n",
       " </defs>\n",
       " <g id=\"figure_1\">\n",
       "  <g id=\"patch_1\">\n",
       "   <path d=\"M 0 248.518125 \n",
       "L 372.103125 248.518125 \n",
       "L 372.103125 0 \n",
       "L 0 0 \n",
       "z\n",
       "\"/>\n",
       "  </g>\n",
       "  <g id=\"axes_1\">\n",
       "   <g id=\"patch_2\">\n",
       "    <path d=\"M 30.103125 224.64 \n",
       "L 364.903125 224.64 \n",
       "L 364.903125 7.2 \n",
       "L 30.103125 7.2 \n",
       "z\n",
       "\"/>\n",
       "   </g>\n",
       "   <g id=\"matplotlib.axis_1\">\n",
       "    <g id=\"xtick_1\">\n",
       "     <g id=\"line2d_1\">\n",
       "      <defs>\n",
       "       <path d=\"M 0 0 \n",
       "L 0 3.5 \n",
       "\" id=\"m4d0585197c\" style=\"stroke:#ffffff;stroke-width:0.8;\"/>\n",
       "      </defs>\n",
       "      <g>\n",
       "       <use style=\"fill:#ffffff;stroke:#ffffff;stroke-width:0.8;\" x=\"45.321307\" xlink:href=\"#m4d0585197c\" y=\"224.64\"/>\n",
       "      </g>\n",
       "     </g>\n",
       "     <g id=\"text_1\">\n",
       "      <!-- 0.0 -->\n",
       "      <g style=\"fill:#ffffff;\" transform=\"translate(37.369744 239.238437)scale(0.1 -0.1)\">\n",
       "       <defs>\n",
       "        <path d=\"M 31.78125 66.40625 \n",
       "Q 24.171875 66.40625 20.328125 58.90625 \n",
       "Q 16.5 51.421875 16.5 36.375 \n",
       "Q 16.5 21.390625 20.328125 13.890625 \n",
       "Q 24.171875 6.390625 31.78125 6.390625 \n",
       "Q 39.453125 6.390625 43.28125 13.890625 \n",
       "Q 47.125 21.390625 47.125 36.375 \n",
       "Q 47.125 51.421875 43.28125 58.90625 \n",
       "Q 39.453125 66.40625 31.78125 66.40625 \n",
       "z\n",
       "M 31.78125 74.21875 \n",
       "Q 44.046875 74.21875 50.515625 64.515625 \n",
       "Q 56.984375 54.828125 56.984375 36.375 \n",
       "Q 56.984375 17.96875 50.515625 8.265625 \n",
       "Q 44.046875 -1.421875 31.78125 -1.421875 \n",
       "Q 19.53125 -1.421875 13.0625 8.265625 \n",
       "Q 6.59375 17.96875 6.59375 36.375 \n",
       "Q 6.59375 54.828125 13.0625 64.515625 \n",
       "Q 19.53125 74.21875 31.78125 74.21875 \n",
       "z\n",
       "\" id=\"DejaVuSans-48\"/>\n",
       "        <path d=\"M 10.6875 12.40625 \n",
       "L 21 12.40625 \n",
       "L 21 0 \n",
       "L 10.6875 0 \n",
       "z\n",
       "\" id=\"DejaVuSans-46\"/>\n",
       "       </defs>\n",
       "       <use xlink:href=\"#DejaVuSans-48\"/>\n",
       "       <use x=\"63.623047\" xlink:href=\"#DejaVuSans-46\"/>\n",
       "       <use x=\"95.410156\" xlink:href=\"#DejaVuSans-48\"/>\n",
       "      </g>\n",
       "     </g>\n",
       "    </g>\n",
       "    <g id=\"xtick_2\">\n",
       "     <g id=\"line2d_2\">\n",
       "      <g>\n",
       "       <use style=\"fill:#ffffff;stroke:#ffffff;stroke-width:0.8;\" x=\"106.194034\" xlink:href=\"#m4d0585197c\" y=\"224.64\"/>\n",
       "      </g>\n",
       "     </g>\n",
       "     <g id=\"text_2\">\n",
       "      <!-- 0.2 -->\n",
       "      <g style=\"fill:#ffffff;\" transform=\"translate(98.242472 239.238437)scale(0.1 -0.1)\">\n",
       "       <defs>\n",
       "        <path d=\"M 19.1875 8.296875 \n",
       "L 53.609375 8.296875 \n",
       "L 53.609375 0 \n",
       "L 7.328125 0 \n",
       "L 7.328125 8.296875 \n",
       "Q 12.9375 14.109375 22.625 23.890625 \n",
       "Q 32.328125 33.6875 34.8125 36.53125 \n",
       "Q 39.546875 41.84375 41.421875 45.53125 \n",
       "Q 43.3125 49.21875 43.3125 52.78125 \n",
       "Q 43.3125 58.59375 39.234375 62.25 \n",
       "Q 35.15625 65.921875 28.609375 65.921875 \n",
       "Q 23.96875 65.921875 18.8125 64.3125 \n",
       "Q 13.671875 62.703125 7.8125 59.421875 \n",
       "L 7.8125 69.390625 \n",
       "Q 13.765625 71.78125 18.9375 73 \n",
       "Q 24.125 74.21875 28.421875 74.21875 \n",
       "Q 39.75 74.21875 46.484375 68.546875 \n",
       "Q 53.21875 62.890625 53.21875 53.421875 \n",
       "Q 53.21875 48.921875 51.53125 44.890625 \n",
       "Q 49.859375 40.875 45.40625 35.40625 \n",
       "Q 44.1875 33.984375 37.640625 27.21875 \n",
       "Q 31.109375 20.453125 19.1875 8.296875 \n",
       "z\n",
       "\" id=\"DejaVuSans-50\"/>\n",
       "       </defs>\n",
       "       <use xlink:href=\"#DejaVuSans-48\"/>\n",
       "       <use x=\"63.623047\" xlink:href=\"#DejaVuSans-46\"/>\n",
       "       <use x=\"95.410156\" xlink:href=\"#DejaVuSans-50\"/>\n",
       "      </g>\n",
       "     </g>\n",
       "    </g>\n",
       "    <g id=\"xtick_3\">\n",
       "     <g id=\"line2d_3\">\n",
       "      <g>\n",
       "       <use style=\"fill:#ffffff;stroke:#ffffff;stroke-width:0.8;\" x=\"167.066761\" xlink:href=\"#m4d0585197c\" y=\"224.64\"/>\n",
       "      </g>\n",
       "     </g>\n",
       "     <g id=\"text_3\">\n",
       "      <!-- 0.4 -->\n",
       "      <g style=\"fill:#ffffff;\" transform=\"translate(159.115199 239.238437)scale(0.1 -0.1)\">\n",
       "       <defs>\n",
       "        <path d=\"M 37.796875 64.3125 \n",
       "L 12.890625 25.390625 \n",
       "L 37.796875 25.390625 \n",
       "z\n",
       "M 35.203125 72.90625 \n",
       "L 47.609375 72.90625 \n",
       "L 47.609375 25.390625 \n",
       "L 58.015625 25.390625 \n",
       "L 58.015625 17.1875 \n",
       "L 47.609375 17.1875 \n",
       "L 47.609375 0 \n",
       "L 37.796875 0 \n",
       "L 37.796875 17.1875 \n",
       "L 4.890625 17.1875 \n",
       "L 4.890625 26.703125 \n",
       "z\n",
       "\" id=\"DejaVuSans-52\"/>\n",
       "       </defs>\n",
       "       <use xlink:href=\"#DejaVuSans-48\"/>\n",
       "       <use x=\"63.623047\" xlink:href=\"#DejaVuSans-46\"/>\n",
       "       <use x=\"95.410156\" xlink:href=\"#DejaVuSans-52\"/>\n",
       "      </g>\n",
       "     </g>\n",
       "    </g>\n",
       "    <g id=\"xtick_4\">\n",
       "     <g id=\"line2d_4\">\n",
       "      <g>\n",
       "       <use style=\"fill:#ffffff;stroke:#ffffff;stroke-width:0.8;\" x=\"227.939489\" xlink:href=\"#m4d0585197c\" y=\"224.64\"/>\n",
       "      </g>\n",
       "     </g>\n",
       "     <g id=\"text_4\">\n",
       "      <!-- 0.6 -->\n",
       "      <g style=\"fill:#ffffff;\" transform=\"translate(219.987926 239.238437)scale(0.1 -0.1)\">\n",
       "       <defs>\n",
       "        <path d=\"M 33.015625 40.375 \n",
       "Q 26.375 40.375 22.484375 35.828125 \n",
       "Q 18.609375 31.296875 18.609375 23.390625 \n",
       "Q 18.609375 15.53125 22.484375 10.953125 \n",
       "Q 26.375 6.390625 33.015625 6.390625 \n",
       "Q 39.65625 6.390625 43.53125 10.953125 \n",
       "Q 47.40625 15.53125 47.40625 23.390625 \n",
       "Q 47.40625 31.296875 43.53125 35.828125 \n",
       "Q 39.65625 40.375 33.015625 40.375 \n",
       "z\n",
       "M 52.59375 71.296875 \n",
       "L 52.59375 62.3125 \n",
       "Q 48.875 64.0625 45.09375 64.984375 \n",
       "Q 41.3125 65.921875 37.59375 65.921875 \n",
       "Q 27.828125 65.921875 22.671875 59.328125 \n",
       "Q 17.53125 52.734375 16.796875 39.40625 \n",
       "Q 19.671875 43.65625 24.015625 45.921875 \n",
       "Q 28.375 48.1875 33.59375 48.1875 \n",
       "Q 44.578125 48.1875 50.953125 41.515625 \n",
       "Q 57.328125 34.859375 57.328125 23.390625 \n",
       "Q 57.328125 12.15625 50.6875 5.359375 \n",
       "Q 44.046875 -1.421875 33.015625 -1.421875 \n",
       "Q 20.359375 -1.421875 13.671875 8.265625 \n",
       "Q 6.984375 17.96875 6.984375 36.375 \n",
       "Q 6.984375 53.65625 15.1875 63.9375 \n",
       "Q 23.390625 74.21875 37.203125 74.21875 \n",
       "Q 40.921875 74.21875 44.703125 73.484375 \n",
       "Q 48.484375 72.75 52.59375 71.296875 \n",
       "z\n",
       "\" id=\"DejaVuSans-54\"/>\n",
       "       </defs>\n",
       "       <use xlink:href=\"#DejaVuSans-48\"/>\n",
       "       <use x=\"63.623047\" xlink:href=\"#DejaVuSans-46\"/>\n",
       "       <use x=\"95.410156\" xlink:href=\"#DejaVuSans-54\"/>\n",
       "      </g>\n",
       "     </g>\n",
       "    </g>\n",
       "    <g id=\"xtick_5\">\n",
       "     <g id=\"line2d_5\">\n",
       "      <g>\n",
       "       <use style=\"fill:#ffffff;stroke:#ffffff;stroke-width:0.8;\" x=\"288.812216\" xlink:href=\"#m4d0585197c\" y=\"224.64\"/>\n",
       "      </g>\n",
       "     </g>\n",
       "     <g id=\"text_5\">\n",
       "      <!-- 0.8 -->\n",
       "      <g style=\"fill:#ffffff;\" transform=\"translate(280.860653 239.238437)scale(0.1 -0.1)\">\n",
       "       <defs>\n",
       "        <path d=\"M 31.78125 34.625 \n",
       "Q 24.75 34.625 20.71875 30.859375 \n",
       "Q 16.703125 27.09375 16.703125 20.515625 \n",
       "Q 16.703125 13.921875 20.71875 10.15625 \n",
       "Q 24.75 6.390625 31.78125 6.390625 \n",
       "Q 38.8125 6.390625 42.859375 10.171875 \n",
       "Q 46.921875 13.96875 46.921875 20.515625 \n",
       "Q 46.921875 27.09375 42.890625 30.859375 \n",
       "Q 38.875 34.625 31.78125 34.625 \n",
       "z\n",
       "M 21.921875 38.8125 \n",
       "Q 15.578125 40.375 12.03125 44.71875 \n",
       "Q 8.5 49.078125 8.5 55.328125 \n",
       "Q 8.5 64.0625 14.71875 69.140625 \n",
       "Q 20.953125 74.21875 31.78125 74.21875 \n",
       "Q 42.671875 74.21875 48.875 69.140625 \n",
       "Q 55.078125 64.0625 55.078125 55.328125 \n",
       "Q 55.078125 49.078125 51.53125 44.71875 \n",
       "Q 48 40.375 41.703125 38.8125 \n",
       "Q 48.828125 37.15625 52.796875 32.3125 \n",
       "Q 56.78125 27.484375 56.78125 20.515625 \n",
       "Q 56.78125 9.90625 50.3125 4.234375 \n",
       "Q 43.84375 -1.421875 31.78125 -1.421875 \n",
       "Q 19.734375 -1.421875 13.25 4.234375 \n",
       "Q 6.78125 9.90625 6.78125 20.515625 \n",
       "Q 6.78125 27.484375 10.78125 32.3125 \n",
       "Q 14.796875 37.15625 21.921875 38.8125 \n",
       "z\n",
       "M 18.3125 54.390625 \n",
       "Q 18.3125 48.734375 21.84375 45.5625 \n",
       "Q 25.390625 42.390625 31.78125 42.390625 \n",
       "Q 38.140625 42.390625 41.71875 45.5625 \n",
       "Q 45.3125 48.734375 45.3125 54.390625 \n",
       "Q 45.3125 60.0625 41.71875 63.234375 \n",
       "Q 38.140625 66.40625 31.78125 66.40625 \n",
       "Q 25.390625 66.40625 21.84375 63.234375 \n",
       "Q 18.3125 60.0625 18.3125 54.390625 \n",
       "z\n",
       "\" id=\"DejaVuSans-56\"/>\n",
       "       </defs>\n",
       "       <use xlink:href=\"#DejaVuSans-48\"/>\n",
       "       <use x=\"63.623047\" xlink:href=\"#DejaVuSans-46\"/>\n",
       "       <use x=\"95.410156\" xlink:href=\"#DejaVuSans-56\"/>\n",
       "      </g>\n",
       "     </g>\n",
       "    </g>\n",
       "    <g id=\"xtick_6\">\n",
       "     <g id=\"line2d_6\">\n",
       "      <g>\n",
       "       <use style=\"fill:#ffffff;stroke:#ffffff;stroke-width:0.8;\" x=\"349.684943\" xlink:href=\"#m4d0585197c\" y=\"224.64\"/>\n",
       "      </g>\n",
       "     </g>\n",
       "     <g id=\"text_6\">\n",
       "      <!-- 1.0 -->\n",
       "      <g style=\"fill:#ffffff;\" transform=\"translate(341.733381 239.238437)scale(0.1 -0.1)\">\n",
       "       <defs>\n",
       "        <path d=\"M 12.40625 8.296875 \n",
       "L 28.515625 8.296875 \n",
       "L 28.515625 63.921875 \n",
       "L 10.984375 60.40625 \n",
       "L 10.984375 69.390625 \n",
       "L 28.421875 72.90625 \n",
       "L 38.28125 72.90625 \n",
       "L 38.28125 8.296875 \n",
       "L 54.390625 8.296875 \n",
       "L 54.390625 0 \n",
       "L 12.40625 0 \n",
       "z\n",
       "\" id=\"DejaVuSans-49\"/>\n",
       "       </defs>\n",
       "       <use xlink:href=\"#DejaVuSans-49\"/>\n",
       "       <use x=\"63.623047\" xlink:href=\"#DejaVuSans-46\"/>\n",
       "       <use x=\"95.410156\" xlink:href=\"#DejaVuSans-48\"/>\n",
       "      </g>\n",
       "     </g>\n",
       "    </g>\n",
       "   </g>\n",
       "   <g id=\"matplotlib.axis_2\">\n",
       "    <g id=\"ytick_1\">\n",
       "     <g id=\"line2d_7\">\n",
       "      <defs>\n",
       "       <path d=\"M 0 0 \n",
       "L -3.5 0 \n",
       "\" id=\"m984c2815cd\" style=\"stroke:#ffffff;stroke-width:0.8;\"/>\n",
       "      </defs>\n",
       "      <g>\n",
       "       <use style=\"fill:#ffffff;stroke:#ffffff;stroke-width:0.8;\" x=\"30.103125\" xlink:href=\"#m984c2815cd\" y=\"214.756364\"/>\n",
       "      </g>\n",
       "     </g>\n",
       "     <g id=\"text_7\">\n",
       "      <!-- 0.0 -->\n",
       "      <g style=\"fill:#ffffff;\" transform=\"translate(7.2 218.555582)scale(0.1 -0.1)\">\n",
       "       <use xlink:href=\"#DejaVuSans-48\"/>\n",
       "       <use x=\"63.623047\" xlink:href=\"#DejaVuSans-46\"/>\n",
       "       <use x=\"95.410156\" xlink:href=\"#DejaVuSans-48\"/>\n",
       "      </g>\n",
       "     </g>\n",
       "    </g>\n",
       "    <g id=\"ytick_2\">\n",
       "     <g id=\"line2d_8\">\n",
       "      <g>\n",
       "       <use style=\"fill:#ffffff;stroke:#ffffff;stroke-width:0.8;\" x=\"30.103125\" xlink:href=\"#m984c2815cd\" y=\"175.221818\"/>\n",
       "      </g>\n",
       "     </g>\n",
       "     <g id=\"text_8\">\n",
       "      <!-- 0.2 -->\n",
       "      <g style=\"fill:#ffffff;\" transform=\"translate(7.2 179.021037)scale(0.1 -0.1)\">\n",
       "       <use xlink:href=\"#DejaVuSans-48\"/>\n",
       "       <use x=\"63.623047\" xlink:href=\"#DejaVuSans-46\"/>\n",
       "       <use x=\"95.410156\" xlink:href=\"#DejaVuSans-50\"/>\n",
       "      </g>\n",
       "     </g>\n",
       "    </g>\n",
       "    <g id=\"ytick_3\">\n",
       "     <g id=\"line2d_9\">\n",
       "      <g>\n",
       "       <use style=\"fill:#ffffff;stroke:#ffffff;stroke-width:0.8;\" x=\"30.103125\" xlink:href=\"#m984c2815cd\" y=\"135.687273\"/>\n",
       "      </g>\n",
       "     </g>\n",
       "     <g id=\"text_9\">\n",
       "      <!-- 0.4 -->\n",
       "      <g style=\"fill:#ffffff;\" transform=\"translate(7.2 139.486491)scale(0.1 -0.1)\">\n",
       "       <use xlink:href=\"#DejaVuSans-48\"/>\n",
       "       <use x=\"63.623047\" xlink:href=\"#DejaVuSans-46\"/>\n",
       "       <use x=\"95.410156\" xlink:href=\"#DejaVuSans-52\"/>\n",
       "      </g>\n",
       "     </g>\n",
       "    </g>\n",
       "    <g id=\"ytick_4\">\n",
       "     <g id=\"line2d_10\">\n",
       "      <g>\n",
       "       <use style=\"fill:#ffffff;stroke:#ffffff;stroke-width:0.8;\" x=\"30.103125\" xlink:href=\"#m984c2815cd\" y=\"96.152727\"/>\n",
       "      </g>\n",
       "     </g>\n",
       "     <g id=\"text_10\">\n",
       "      <!-- 0.6 -->\n",
       "      <g style=\"fill:#ffffff;\" transform=\"translate(7.2 99.951946)scale(0.1 -0.1)\">\n",
       "       <use xlink:href=\"#DejaVuSans-48\"/>\n",
       "       <use x=\"63.623047\" xlink:href=\"#DejaVuSans-46\"/>\n",
       "       <use x=\"95.410156\" xlink:href=\"#DejaVuSans-54\"/>\n",
       "      </g>\n",
       "     </g>\n",
       "    </g>\n",
       "    <g id=\"ytick_5\">\n",
       "     <g id=\"line2d_11\">\n",
       "      <g>\n",
       "       <use style=\"fill:#ffffff;stroke:#ffffff;stroke-width:0.8;\" x=\"30.103125\" xlink:href=\"#m984c2815cd\" y=\"56.618182\"/>\n",
       "      </g>\n",
       "     </g>\n",
       "     <g id=\"text_11\">\n",
       "      <!-- 0.8 -->\n",
       "      <g style=\"fill:#ffffff;\" transform=\"translate(7.2 60.417401)scale(0.1 -0.1)\">\n",
       "       <use xlink:href=\"#DejaVuSans-48\"/>\n",
       "       <use x=\"63.623047\" xlink:href=\"#DejaVuSans-46\"/>\n",
       "       <use x=\"95.410156\" xlink:href=\"#DejaVuSans-56\"/>\n",
       "      </g>\n",
       "     </g>\n",
       "    </g>\n",
       "    <g id=\"ytick_6\">\n",
       "     <g id=\"line2d_12\">\n",
       "      <g>\n",
       "       <use style=\"fill:#ffffff;stroke:#ffffff;stroke-width:0.8;\" x=\"30.103125\" xlink:href=\"#m984c2815cd\" y=\"17.083636\"/>\n",
       "      </g>\n",
       "     </g>\n",
       "     <g id=\"text_12\">\n",
       "      <!-- 1.0 -->\n",
       "      <g style=\"fill:#ffffff;\" transform=\"translate(7.2 20.882855)scale(0.1 -0.1)\">\n",
       "       <use xlink:href=\"#DejaVuSans-49\"/>\n",
       "       <use x=\"63.623047\" xlink:href=\"#DejaVuSans-46\"/>\n",
       "       <use x=\"95.410156\" xlink:href=\"#DejaVuSans-48\"/>\n",
       "      </g>\n",
       "     </g>\n",
       "    </g>\n",
       "   </g>\n",
       "   <g id=\"line2d_13\">\n",
       "    <path clip-path=\"url(#pb7fd79842b)\" d=\"M 45.321307 214.756364 \n",
       "L 48.364943 214.756364 \n",
       "L 51.40858 214.756364 \n",
       "L 54.452216 214.756364 \n",
       "L 57.495852 214.756364 \n",
       "L 60.539489 214.756364 \n",
       "L 63.583125 214.756364 \n",
       "L 66.626761 214.756364 \n",
       "L 69.670398 214.756364 \n",
       "L 72.714034 214.756364 \n",
       "L 75.75767 214.756364 \n",
       "L 78.801307 214.756364 \n",
       "L 81.844943 214.756364 \n",
       "L 84.88858 214.756364 \n",
       "L 87.932216 214.756364 \n",
       "L 90.975852 214.756364 \n",
       "L 94.019489 214.756364 \n",
       "L 97.063125 214.756364 \n",
       "L 100.106761 214.756364 \n",
       "L 103.150398 214.756364 \n",
       "L 106.194034 214.756364 \n",
       "L 109.23767 214.756364 \n",
       "L 112.281307 214.756364 \n",
       "L 115.324943 214.756364 \n",
       "L 118.36858 214.756364 \n",
       "L 121.412216 214.756364 \n",
       "L 124.455852 214.756364 \n",
       "L 127.499489 214.756364 \n",
       "L 130.543125 214.756364 \n",
       "L 133.586761 214.756364 \n",
       "L 136.630398 214.756364 \n",
       "L 139.674034 214.756364 \n",
       "L 142.71767 214.756364 \n",
       "L 145.761307 214.756364 \n",
       "L 148.804943 214.756364 \n",
       "L 151.84858 214.756364 \n",
       "L 154.892216 214.756364 \n",
       "L 157.935852 214.756364 \n",
       "L 160.979489 214.756364 \n",
       "L 164.023125 214.756364 \n",
       "L 167.066761 214.756364 \n",
       "L 170.110398 214.756364 \n",
       "L 173.154034 214.756364 \n",
       "L 176.19767 214.756364 \n",
       "L 179.241307 214.756364 \n",
       "L 182.284943 214.756364 \n",
       "L 185.32858 214.756364 \n",
       "L 188.372216 214.756364 \n",
       "L 191.415852 214.756364 \n",
       "L 194.459489 214.756364 \n",
       "L 197.503125 214.756364 \n",
       "L 200.546761 210.802909 \n",
       "L 203.590398 206.849455 \n",
       "L 206.634034 202.896 \n",
       "L 209.67767 198.942545 \n",
       "L 212.721307 194.989091 \n",
       "L 215.764943 191.035636 \n",
       "L 218.80858 187.082182 \n",
       "L 221.852216 183.128727 \n",
       "L 224.895852 179.175273 \n",
       "L 227.939489 175.221818 \n",
       "L 230.983125 171.268364 \n",
       "L 234.026761 167.314909 \n",
       "L 237.070398 163.361455 \n",
       "L 240.114034 159.408 \n",
       "L 243.15767 155.454545 \n",
       "L 246.201307 151.501091 \n",
       "L 249.244943 147.547636 \n",
       "L 252.28858 143.594182 \n",
       "L 255.332216 139.640727 \n",
       "L 258.375852 135.687273 \n",
       "L 261.419489 131.733818 \n",
       "L 264.463125 127.780364 \n",
       "L 267.506761 123.826909 \n",
       "L 270.550398 119.873455 \n",
       "L 273.594034 115.92 \n",
       "L 276.63767 111.966545 \n",
       "L 279.681307 108.013091 \n",
       "L 282.724943 104.059636 \n",
       "L 285.76858 100.106182 \n",
       "L 288.812216 96.152727 \n",
       "L 291.855852 92.199273 \n",
       "L 294.899489 88.245818 \n",
       "L 297.943125 84.292364 \n",
       "L 300.986761 80.338909 \n",
       "L 304.030398 76.385455 \n",
       "L 307.074034 72.432 \n",
       "L 310.11767 68.478545 \n",
       "L 313.161307 64.525091 \n",
       "L 316.204943 60.571636 \n",
       "L 319.24858 56.618182 \n",
       "L 322.292216 52.664727 \n",
       "L 325.335852 48.711273 \n",
       "L 328.379489 44.757818 \n",
       "L 331.423125 40.804364 \n",
       "L 334.466761 36.850909 \n",
       "L 337.510398 32.897455 \n",
       "L 340.554034 28.944 \n",
       "L 343.59767 24.990545 \n",
       "L 346.641307 21.037091 \n",
       "L 349.684943 17.083636 \n",
       "\" style=\"fill:none;stroke:#8dd3c7;stroke-linecap:square;stroke-width:1.5;\"/>\n",
       "   </g>\n",
       "   <g id=\"patch_3\">\n",
       "    <path d=\"M 30.103125 224.64 \n",
       "L 30.103125 7.2 \n",
       "\" style=\"fill:none;stroke:#ffffff;stroke-linecap:square;stroke-linejoin:miter;stroke-width:0.8;\"/>\n",
       "   </g>\n",
       "   <g id=\"patch_4\">\n",
       "    <path d=\"M 364.903125 224.64 \n",
       "L 364.903125 7.2 \n",
       "\" style=\"fill:none;stroke:#ffffff;stroke-linecap:square;stroke-linejoin:miter;stroke-width:0.8;\"/>\n",
       "   </g>\n",
       "   <g id=\"patch_5\">\n",
       "    <path d=\"M 30.103125 224.64 \n",
       "L 364.903125 224.64 \n",
       "\" style=\"fill:none;stroke:#ffffff;stroke-linecap:square;stroke-linejoin:miter;stroke-width:0.8;\"/>\n",
       "   </g>\n",
       "   <g id=\"patch_6\">\n",
       "    <path d=\"M 30.103125 7.2 \n",
       "L 364.903125 7.2 \n",
       "\" style=\"fill:none;stroke:#ffffff;stroke-linecap:square;stroke-linejoin:miter;stroke-width:0.8;\"/>\n",
       "   </g>\n",
       "   <g id=\"legend_1\">\n",
       "    <g id=\"patch_7\">\n",
       "     <path d=\"M 37.103125 30.15625 \n",
       "L 104.904688 30.15625 \n",
       "Q 106.904688 30.15625 106.904688 28.15625 \n",
       "L 106.904688 14.2 \n",
       "Q 106.904688 12.2 104.904688 12.2 \n",
       "L 37.103125 12.2 \n",
       "Q 35.103125 12.2 35.103125 14.2 \n",
       "L 35.103125 28.15625 \n",
       "Q 35.103125 30.15625 37.103125 30.15625 \n",
       "z\n",
       "\" style=\"opacity:0.8;stroke:#cccccc;stroke-linejoin:miter;\"/>\n",
       "    </g>\n",
       "    <g id=\"line2d_14\">\n",
       "     <path d=\"M 39.103125 20.298437 \n",
       "L 59.103125 20.298437 \n",
       "\" style=\"fill:none;stroke:#8dd3c7;stroke-linecap:square;stroke-width:1.5;\"/>\n",
       "    </g>\n",
       "    <g id=\"line2d_15\"/>\n",
       "    <g id=\"text_13\">\n",
       "     <!-- N_third -->\n",
       "     <g style=\"fill:#ffffff;\" transform=\"translate(67.103125 23.798437)scale(0.1 -0.1)\">\n",
       "      <defs>\n",
       "       <path d=\"M 9.8125 72.90625 \n",
       "L 23.09375 72.90625 \n",
       "L 55.421875 11.921875 \n",
       "L 55.421875 72.90625 \n",
       "L 64.984375 72.90625 \n",
       "L 64.984375 0 \n",
       "L 51.703125 0 \n",
       "L 19.390625 60.984375 \n",
       "L 19.390625 0 \n",
       "L 9.8125 0 \n",
       "z\n",
       "\" id=\"DejaVuSans-78\"/>\n",
       "       <path d=\"M 50.984375 -16.609375 \n",
       "L 50.984375 -23.578125 \n",
       "L -0.984375 -23.578125 \n",
       "L -0.984375 -16.609375 \n",
       "z\n",
       "\" id=\"DejaVuSans-95\"/>\n",
       "       <path d=\"M 18.3125 70.21875 \n",
       "L 18.3125 54.6875 \n",
       "L 36.8125 54.6875 \n",
       "L 36.8125 47.703125 \n",
       "L 18.3125 47.703125 \n",
       "L 18.3125 18.015625 \n",
       "Q 18.3125 11.328125 20.140625 9.421875 \n",
       "Q 21.96875 7.515625 27.59375 7.515625 \n",
       "L 36.8125 7.515625 \n",
       "L 36.8125 0 \n",
       "L 27.59375 0 \n",
       "Q 17.1875 0 13.234375 3.875 \n",
       "Q 9.28125 7.765625 9.28125 18.015625 \n",
       "L 9.28125 47.703125 \n",
       "L 2.6875 47.703125 \n",
       "L 2.6875 54.6875 \n",
       "L 9.28125 54.6875 \n",
       "L 9.28125 70.21875 \n",
       "z\n",
       "\" id=\"DejaVuSans-116\"/>\n",
       "       <path d=\"M 54.890625 33.015625 \n",
       "L 54.890625 0 \n",
       "L 45.90625 0 \n",
       "L 45.90625 32.71875 \n",
       "Q 45.90625 40.484375 42.875 44.328125 \n",
       "Q 39.84375 48.1875 33.796875 48.1875 \n",
       "Q 26.515625 48.1875 22.3125 43.546875 \n",
       "Q 18.109375 38.921875 18.109375 30.90625 \n",
       "L 18.109375 0 \n",
       "L 9.078125 0 \n",
       "L 9.078125 75.984375 \n",
       "L 18.109375 75.984375 \n",
       "L 18.109375 46.1875 \n",
       "Q 21.34375 51.125 25.703125 53.5625 \n",
       "Q 30.078125 56 35.796875 56 \n",
       "Q 45.21875 56 50.046875 50.171875 \n",
       "Q 54.890625 44.34375 54.890625 33.015625 \n",
       "z\n",
       "\" id=\"DejaVuSans-104\"/>\n",
       "       <path d=\"M 9.421875 54.6875 \n",
       "L 18.40625 54.6875 \n",
       "L 18.40625 0 \n",
       "L 9.421875 0 \n",
       "z\n",
       "M 9.421875 75.984375 \n",
       "L 18.40625 75.984375 \n",
       "L 18.40625 64.59375 \n",
       "L 9.421875 64.59375 \n",
       "z\n",
       "\" id=\"DejaVuSans-105\"/>\n",
       "       <path d=\"M 41.109375 46.296875 \n",
       "Q 39.59375 47.171875 37.8125 47.578125 \n",
       "Q 36.03125 48 33.890625 48 \n",
       "Q 26.265625 48 22.1875 43.046875 \n",
       "Q 18.109375 38.09375 18.109375 28.8125 \n",
       "L 18.109375 0 \n",
       "L 9.078125 0 \n",
       "L 9.078125 54.6875 \n",
       "L 18.109375 54.6875 \n",
       "L 18.109375 46.1875 \n",
       "Q 20.953125 51.171875 25.484375 53.578125 \n",
       "Q 30.03125 56 36.53125 56 \n",
       "Q 37.453125 56 38.578125 55.875 \n",
       "Q 39.703125 55.765625 41.0625 55.515625 \n",
       "z\n",
       "\" id=\"DejaVuSans-114\"/>\n",
       "       <path d=\"M 45.40625 46.390625 \n",
       "L 45.40625 75.984375 \n",
       "L 54.390625 75.984375 \n",
       "L 54.390625 0 \n",
       "L 45.40625 0 \n",
       "L 45.40625 8.203125 \n",
       "Q 42.578125 3.328125 38.25 0.953125 \n",
       "Q 33.9375 -1.421875 27.875 -1.421875 \n",
       "Q 17.96875 -1.421875 11.734375 6.484375 \n",
       "Q 5.515625 14.40625 5.515625 27.296875 \n",
       "Q 5.515625 40.1875 11.734375 48.09375 \n",
       "Q 17.96875 56 27.875 56 \n",
       "Q 33.9375 56 38.25 53.625 \n",
       "Q 42.578125 51.265625 45.40625 46.390625 \n",
       "z\n",
       "M 14.796875 27.296875 \n",
       "Q 14.796875 17.390625 18.875 11.75 \n",
       "Q 22.953125 6.109375 30.078125 6.109375 \n",
       "Q 37.203125 6.109375 41.296875 11.75 \n",
       "Q 45.40625 17.390625 45.40625 27.296875 \n",
       "Q 45.40625 37.203125 41.296875 42.84375 \n",
       "Q 37.203125 48.484375 30.078125 48.484375 \n",
       "Q 22.953125 48.484375 18.875 42.84375 \n",
       "Q 14.796875 37.203125 14.796875 27.296875 \n",
       "z\n",
       "\" id=\"DejaVuSans-100\"/>\n",
       "      </defs>\n",
       "      <use xlink:href=\"#DejaVuSans-78\"/>\n",
       "      <use x=\"74.804688\" xlink:href=\"#DejaVuSans-95\"/>\n",
       "      <use x=\"124.804688\" xlink:href=\"#DejaVuSans-116\"/>\n",
       "      <use x=\"164.013672\" xlink:href=\"#DejaVuSans-104\"/>\n",
       "      <use x=\"227.392578\" xlink:href=\"#DejaVuSans-105\"/>\n",
       "      <use x=\"255.175781\" xlink:href=\"#DejaVuSans-114\"/>\n",
       "      <use x=\"294.539062\" xlink:href=\"#DejaVuSans-100\"/>\n",
       "     </g>\n",
       "    </g>\n",
       "   </g>\n",
       "  </g>\n",
       " </g>\n",
       " <defs>\n",
       "  <clipPath id=\"pb7fd79842b\">\n",
       "   <rect height=\"217.44\" width=\"334.8\" x=\"30.103125\" y=\"7.2\"/>\n",
       "  </clipPath>\n",
       " </defs>\n",
       "</svg>\n"
      ],
      "text/plain": [
       "<Figure size 432x288 with 1 Axes>"
      ]
     },
     "metadata": {},
     "output_type": "display_data"
    }
   ],
   "source": [
    "Lnum = 1.0\n",
    "NptsPlot = 101\n",
    "xplt = np.linspace(0.0, Lnum, NptsPlot)\n",
    "yplt = np.zeros(NptsPlot)\n",
    "plt.clf()\n",
    "for ip in range(NptsPlot):\n",
    "    yplt[ip] = N_third.subs( {x: xplt[ip], L: Lnum } )\n",
    "plt.plot(xplt, yplt, label=\"N_third\")\n",
    "plt.legend();"
   ]
  },
  {
   "cell_type": "code",
   "execution_count": 31,
   "metadata": {},
   "outputs": [
    {
     "data": {
      "image/svg+xml": [
       "<?xml version=\"1.0\" encoding=\"utf-8\" standalone=\"no\"?>\n",
       "<!DOCTYPE svg PUBLIC \"-//W3C//DTD SVG 1.1//EN\"\n",
       "  \"http://www.w3.org/Graphics/SVG/1.1/DTD/svg11.dtd\">\n",
       "<!-- Created with matplotlib (https://matplotlib.org/) -->\n",
       "<svg height=\"248.518125pt\" version=\"1.1\" viewBox=\"0 0 372.103125 248.518125\" width=\"372.103125pt\" xmlns=\"http://www.w3.org/2000/svg\" xmlns:xlink=\"http://www.w3.org/1999/xlink\">\n",
       " <metadata>\n",
       "  <rdf:RDF xmlns:cc=\"http://creativecommons.org/ns#\" xmlns:dc=\"http://purl.org/dc/elements/1.1/\" xmlns:rdf=\"http://www.w3.org/1999/02/22-rdf-syntax-ns#\">\n",
       "   <cc:Work>\n",
       "    <dc:type rdf:resource=\"http://purl.org/dc/dcmitype/StillImage\"/>\n",
       "    <dc:date>2021-04-05T16:35:28.824410</dc:date>\n",
       "    <dc:format>image/svg+xml</dc:format>\n",
       "    <dc:creator>\n",
       "     <cc:Agent>\n",
       "      <dc:title>Matplotlib v3.3.2, https://matplotlib.org/</dc:title>\n",
       "     </cc:Agent>\n",
       "    </dc:creator>\n",
       "   </cc:Work>\n",
       "  </rdf:RDF>\n",
       " </metadata>\n",
       " <defs>\n",
       "  <style type=\"text/css\">*{stroke-linecap:butt;stroke-linejoin:round;}</style>\n",
       " </defs>\n",
       " <g id=\"figure_1\">\n",
       "  <g id=\"patch_1\">\n",
       "   <path d=\"M 0 248.518125 \n",
       "L 372.103125 248.518125 \n",
       "L 372.103125 0 \n",
       "L 0 0 \n",
       "z\n",
       "\"/>\n",
       "  </g>\n",
       "  <g id=\"axes_1\">\n",
       "   <g id=\"patch_2\">\n",
       "    <path d=\"M 30.103125 224.64 \n",
       "L 364.903125 224.64 \n",
       "L 364.903125 7.2 \n",
       "L 30.103125 7.2 \n",
       "z\n",
       "\"/>\n",
       "   </g>\n",
       "   <g id=\"matplotlib.axis_1\">\n",
       "    <g id=\"xtick_1\">\n",
       "     <g id=\"line2d_1\">\n",
       "      <defs>\n",
       "       <path d=\"M 0 0 \n",
       "L 0 3.5 \n",
       "\" id=\"me930b07340\" style=\"stroke:#ffffff;stroke-width:0.8;\"/>\n",
       "      </defs>\n",
       "      <g>\n",
       "       <use style=\"fill:#ffffff;stroke:#ffffff;stroke-width:0.8;\" x=\"45.321307\" xlink:href=\"#me930b07340\" y=\"224.64\"/>\n",
       "      </g>\n",
       "     </g>\n",
       "     <g id=\"text_1\">\n",
       "      <!-- 0.0 -->\n",
       "      <g style=\"fill:#ffffff;\" transform=\"translate(37.369744 239.238437)scale(0.1 -0.1)\">\n",
       "       <defs>\n",
       "        <path d=\"M 31.78125 66.40625 \n",
       "Q 24.171875 66.40625 20.328125 58.90625 \n",
       "Q 16.5 51.421875 16.5 36.375 \n",
       "Q 16.5 21.390625 20.328125 13.890625 \n",
       "Q 24.171875 6.390625 31.78125 6.390625 \n",
       "Q 39.453125 6.390625 43.28125 13.890625 \n",
       "Q 47.125 21.390625 47.125 36.375 \n",
       "Q 47.125 51.421875 43.28125 58.90625 \n",
       "Q 39.453125 66.40625 31.78125 66.40625 \n",
       "z\n",
       "M 31.78125 74.21875 \n",
       "Q 44.046875 74.21875 50.515625 64.515625 \n",
       "Q 56.984375 54.828125 56.984375 36.375 \n",
       "Q 56.984375 17.96875 50.515625 8.265625 \n",
       "Q 44.046875 -1.421875 31.78125 -1.421875 \n",
       "Q 19.53125 -1.421875 13.0625 8.265625 \n",
       "Q 6.59375 17.96875 6.59375 36.375 \n",
       "Q 6.59375 54.828125 13.0625 64.515625 \n",
       "Q 19.53125 74.21875 31.78125 74.21875 \n",
       "z\n",
       "\" id=\"DejaVuSans-48\"/>\n",
       "        <path d=\"M 10.6875 12.40625 \n",
       "L 21 12.40625 \n",
       "L 21 0 \n",
       "L 10.6875 0 \n",
       "z\n",
       "\" id=\"DejaVuSans-46\"/>\n",
       "       </defs>\n",
       "       <use xlink:href=\"#DejaVuSans-48\"/>\n",
       "       <use x=\"63.623047\" xlink:href=\"#DejaVuSans-46\"/>\n",
       "       <use x=\"95.410156\" xlink:href=\"#DejaVuSans-48\"/>\n",
       "      </g>\n",
       "     </g>\n",
       "    </g>\n",
       "    <g id=\"xtick_2\">\n",
       "     <g id=\"line2d_2\">\n",
       "      <g>\n",
       "       <use style=\"fill:#ffffff;stroke:#ffffff;stroke-width:0.8;\" x=\"106.194034\" xlink:href=\"#me930b07340\" y=\"224.64\"/>\n",
       "      </g>\n",
       "     </g>\n",
       "     <g id=\"text_2\">\n",
       "      <!-- 0.2 -->\n",
       "      <g style=\"fill:#ffffff;\" transform=\"translate(98.242472 239.238437)scale(0.1 -0.1)\">\n",
       "       <defs>\n",
       "        <path d=\"M 19.1875 8.296875 \n",
       "L 53.609375 8.296875 \n",
       "L 53.609375 0 \n",
       "L 7.328125 0 \n",
       "L 7.328125 8.296875 \n",
       "Q 12.9375 14.109375 22.625 23.890625 \n",
       "Q 32.328125 33.6875 34.8125 36.53125 \n",
       "Q 39.546875 41.84375 41.421875 45.53125 \n",
       "Q 43.3125 49.21875 43.3125 52.78125 \n",
       "Q 43.3125 58.59375 39.234375 62.25 \n",
       "Q 35.15625 65.921875 28.609375 65.921875 \n",
       "Q 23.96875 65.921875 18.8125 64.3125 \n",
       "Q 13.671875 62.703125 7.8125 59.421875 \n",
       "L 7.8125 69.390625 \n",
       "Q 13.765625 71.78125 18.9375 73 \n",
       "Q 24.125 74.21875 28.421875 74.21875 \n",
       "Q 39.75 74.21875 46.484375 68.546875 \n",
       "Q 53.21875 62.890625 53.21875 53.421875 \n",
       "Q 53.21875 48.921875 51.53125 44.890625 \n",
       "Q 49.859375 40.875 45.40625 35.40625 \n",
       "Q 44.1875 33.984375 37.640625 27.21875 \n",
       "Q 31.109375 20.453125 19.1875 8.296875 \n",
       "z\n",
       "\" id=\"DejaVuSans-50\"/>\n",
       "       </defs>\n",
       "       <use xlink:href=\"#DejaVuSans-48\"/>\n",
       "       <use x=\"63.623047\" xlink:href=\"#DejaVuSans-46\"/>\n",
       "       <use x=\"95.410156\" xlink:href=\"#DejaVuSans-50\"/>\n",
       "      </g>\n",
       "     </g>\n",
       "    </g>\n",
       "    <g id=\"xtick_3\">\n",
       "     <g id=\"line2d_3\">\n",
       "      <g>\n",
       "       <use style=\"fill:#ffffff;stroke:#ffffff;stroke-width:0.8;\" x=\"167.066761\" xlink:href=\"#me930b07340\" y=\"224.64\"/>\n",
       "      </g>\n",
       "     </g>\n",
       "     <g id=\"text_3\">\n",
       "      <!-- 0.4 -->\n",
       "      <g style=\"fill:#ffffff;\" transform=\"translate(159.115199 239.238437)scale(0.1 -0.1)\">\n",
       "       <defs>\n",
       "        <path d=\"M 37.796875 64.3125 \n",
       "L 12.890625 25.390625 \n",
       "L 37.796875 25.390625 \n",
       "z\n",
       "M 35.203125 72.90625 \n",
       "L 47.609375 72.90625 \n",
       "L 47.609375 25.390625 \n",
       "L 58.015625 25.390625 \n",
       "L 58.015625 17.1875 \n",
       "L 47.609375 17.1875 \n",
       "L 47.609375 0 \n",
       "L 37.796875 0 \n",
       "L 37.796875 17.1875 \n",
       "L 4.890625 17.1875 \n",
       "L 4.890625 26.703125 \n",
       "z\n",
       "\" id=\"DejaVuSans-52\"/>\n",
       "       </defs>\n",
       "       <use xlink:href=\"#DejaVuSans-48\"/>\n",
       "       <use x=\"63.623047\" xlink:href=\"#DejaVuSans-46\"/>\n",
       "       <use x=\"95.410156\" xlink:href=\"#DejaVuSans-52\"/>\n",
       "      </g>\n",
       "     </g>\n",
       "    </g>\n",
       "    <g id=\"xtick_4\">\n",
       "     <g id=\"line2d_4\">\n",
       "      <g>\n",
       "       <use style=\"fill:#ffffff;stroke:#ffffff;stroke-width:0.8;\" x=\"227.939489\" xlink:href=\"#me930b07340\" y=\"224.64\"/>\n",
       "      </g>\n",
       "     </g>\n",
       "     <g id=\"text_4\">\n",
       "      <!-- 0.6 -->\n",
       "      <g style=\"fill:#ffffff;\" transform=\"translate(219.987926 239.238437)scale(0.1 -0.1)\">\n",
       "       <defs>\n",
       "        <path d=\"M 33.015625 40.375 \n",
       "Q 26.375 40.375 22.484375 35.828125 \n",
       "Q 18.609375 31.296875 18.609375 23.390625 \n",
       "Q 18.609375 15.53125 22.484375 10.953125 \n",
       "Q 26.375 6.390625 33.015625 6.390625 \n",
       "Q 39.65625 6.390625 43.53125 10.953125 \n",
       "Q 47.40625 15.53125 47.40625 23.390625 \n",
       "Q 47.40625 31.296875 43.53125 35.828125 \n",
       "Q 39.65625 40.375 33.015625 40.375 \n",
       "z\n",
       "M 52.59375 71.296875 \n",
       "L 52.59375 62.3125 \n",
       "Q 48.875 64.0625 45.09375 64.984375 \n",
       "Q 41.3125 65.921875 37.59375 65.921875 \n",
       "Q 27.828125 65.921875 22.671875 59.328125 \n",
       "Q 17.53125 52.734375 16.796875 39.40625 \n",
       "Q 19.671875 43.65625 24.015625 45.921875 \n",
       "Q 28.375 48.1875 33.59375 48.1875 \n",
       "Q 44.578125 48.1875 50.953125 41.515625 \n",
       "Q 57.328125 34.859375 57.328125 23.390625 \n",
       "Q 57.328125 12.15625 50.6875 5.359375 \n",
       "Q 44.046875 -1.421875 33.015625 -1.421875 \n",
       "Q 20.359375 -1.421875 13.671875 8.265625 \n",
       "Q 6.984375 17.96875 6.984375 36.375 \n",
       "Q 6.984375 53.65625 15.1875 63.9375 \n",
       "Q 23.390625 74.21875 37.203125 74.21875 \n",
       "Q 40.921875 74.21875 44.703125 73.484375 \n",
       "Q 48.484375 72.75 52.59375 71.296875 \n",
       "z\n",
       "\" id=\"DejaVuSans-54\"/>\n",
       "       </defs>\n",
       "       <use xlink:href=\"#DejaVuSans-48\"/>\n",
       "       <use x=\"63.623047\" xlink:href=\"#DejaVuSans-46\"/>\n",
       "       <use x=\"95.410156\" xlink:href=\"#DejaVuSans-54\"/>\n",
       "      </g>\n",
       "     </g>\n",
       "    </g>\n",
       "    <g id=\"xtick_5\">\n",
       "     <g id=\"line2d_5\">\n",
       "      <g>\n",
       "       <use style=\"fill:#ffffff;stroke:#ffffff;stroke-width:0.8;\" x=\"288.812216\" xlink:href=\"#me930b07340\" y=\"224.64\"/>\n",
       "      </g>\n",
       "     </g>\n",
       "     <g id=\"text_5\">\n",
       "      <!-- 0.8 -->\n",
       "      <g style=\"fill:#ffffff;\" transform=\"translate(280.860653 239.238437)scale(0.1 -0.1)\">\n",
       "       <defs>\n",
       "        <path d=\"M 31.78125 34.625 \n",
       "Q 24.75 34.625 20.71875 30.859375 \n",
       "Q 16.703125 27.09375 16.703125 20.515625 \n",
       "Q 16.703125 13.921875 20.71875 10.15625 \n",
       "Q 24.75 6.390625 31.78125 6.390625 \n",
       "Q 38.8125 6.390625 42.859375 10.171875 \n",
       "Q 46.921875 13.96875 46.921875 20.515625 \n",
       "Q 46.921875 27.09375 42.890625 30.859375 \n",
       "Q 38.875 34.625 31.78125 34.625 \n",
       "z\n",
       "M 21.921875 38.8125 \n",
       "Q 15.578125 40.375 12.03125 44.71875 \n",
       "Q 8.5 49.078125 8.5 55.328125 \n",
       "Q 8.5 64.0625 14.71875 69.140625 \n",
       "Q 20.953125 74.21875 31.78125 74.21875 \n",
       "Q 42.671875 74.21875 48.875 69.140625 \n",
       "Q 55.078125 64.0625 55.078125 55.328125 \n",
       "Q 55.078125 49.078125 51.53125 44.71875 \n",
       "Q 48 40.375 41.703125 38.8125 \n",
       "Q 48.828125 37.15625 52.796875 32.3125 \n",
       "Q 56.78125 27.484375 56.78125 20.515625 \n",
       "Q 56.78125 9.90625 50.3125 4.234375 \n",
       "Q 43.84375 -1.421875 31.78125 -1.421875 \n",
       "Q 19.734375 -1.421875 13.25 4.234375 \n",
       "Q 6.78125 9.90625 6.78125 20.515625 \n",
       "Q 6.78125 27.484375 10.78125 32.3125 \n",
       "Q 14.796875 37.15625 21.921875 38.8125 \n",
       "z\n",
       "M 18.3125 54.390625 \n",
       "Q 18.3125 48.734375 21.84375 45.5625 \n",
       "Q 25.390625 42.390625 31.78125 42.390625 \n",
       "Q 38.140625 42.390625 41.71875 45.5625 \n",
       "Q 45.3125 48.734375 45.3125 54.390625 \n",
       "Q 45.3125 60.0625 41.71875 63.234375 \n",
       "Q 38.140625 66.40625 31.78125 66.40625 \n",
       "Q 25.390625 66.40625 21.84375 63.234375 \n",
       "Q 18.3125 60.0625 18.3125 54.390625 \n",
       "z\n",
       "\" id=\"DejaVuSans-56\"/>\n",
       "       </defs>\n",
       "       <use xlink:href=\"#DejaVuSans-48\"/>\n",
       "       <use x=\"63.623047\" xlink:href=\"#DejaVuSans-46\"/>\n",
       "       <use x=\"95.410156\" xlink:href=\"#DejaVuSans-56\"/>\n",
       "      </g>\n",
       "     </g>\n",
       "    </g>\n",
       "    <g id=\"xtick_6\">\n",
       "     <g id=\"line2d_6\">\n",
       "      <g>\n",
       "       <use style=\"fill:#ffffff;stroke:#ffffff;stroke-width:0.8;\" x=\"349.684943\" xlink:href=\"#me930b07340\" y=\"224.64\"/>\n",
       "      </g>\n",
       "     </g>\n",
       "     <g id=\"text_6\">\n",
       "      <!-- 1.0 -->\n",
       "      <g style=\"fill:#ffffff;\" transform=\"translate(341.733381 239.238437)scale(0.1 -0.1)\">\n",
       "       <defs>\n",
       "        <path d=\"M 12.40625 8.296875 \n",
       "L 28.515625 8.296875 \n",
       "L 28.515625 63.921875 \n",
       "L 10.984375 60.40625 \n",
       "L 10.984375 69.390625 \n",
       "L 28.421875 72.90625 \n",
       "L 38.28125 72.90625 \n",
       "L 38.28125 8.296875 \n",
       "L 54.390625 8.296875 \n",
       "L 54.390625 0 \n",
       "L 12.40625 0 \n",
       "z\n",
       "\" id=\"DejaVuSans-49\"/>\n",
       "       </defs>\n",
       "       <use xlink:href=\"#DejaVuSans-49\"/>\n",
       "       <use x=\"63.623047\" xlink:href=\"#DejaVuSans-46\"/>\n",
       "       <use x=\"95.410156\" xlink:href=\"#DejaVuSans-48\"/>\n",
       "      </g>\n",
       "     </g>\n",
       "    </g>\n",
       "   </g>\n",
       "   <g id=\"matplotlib.axis_2\">\n",
       "    <g id=\"ytick_1\">\n",
       "     <g id=\"line2d_7\">\n",
       "      <defs>\n",
       "       <path d=\"M 0 0 \n",
       "L -3.5 0 \n",
       "\" id=\"m2e149e2a7d\" style=\"stroke:#ffffff;stroke-width:0.8;\"/>\n",
       "      </defs>\n",
       "      <g>\n",
       "       <use style=\"fill:#ffffff;stroke:#ffffff;stroke-width:0.8;\" x=\"30.103125\" xlink:href=\"#m2e149e2a7d\" y=\"214.756364\"/>\n",
       "      </g>\n",
       "     </g>\n",
       "     <g id=\"text_7\">\n",
       "      <!-- 0.0 -->\n",
       "      <g style=\"fill:#ffffff;\" transform=\"translate(7.2 218.555582)scale(0.1 -0.1)\">\n",
       "       <use xlink:href=\"#DejaVuSans-48\"/>\n",
       "       <use x=\"63.623047\" xlink:href=\"#DejaVuSans-46\"/>\n",
       "       <use x=\"95.410156\" xlink:href=\"#DejaVuSans-48\"/>\n",
       "      </g>\n",
       "     </g>\n",
       "    </g>\n",
       "    <g id=\"ytick_2\">\n",
       "     <g id=\"line2d_8\">\n",
       "      <g>\n",
       "       <use style=\"fill:#ffffff;stroke:#ffffff;stroke-width:0.8;\" x=\"30.103125\" xlink:href=\"#m2e149e2a7d\" y=\"175.221818\"/>\n",
       "      </g>\n",
       "     </g>\n",
       "     <g id=\"text_8\">\n",
       "      <!-- 0.2 -->\n",
       "      <g style=\"fill:#ffffff;\" transform=\"translate(7.2 179.021037)scale(0.1 -0.1)\">\n",
       "       <use xlink:href=\"#DejaVuSans-48\"/>\n",
       "       <use x=\"63.623047\" xlink:href=\"#DejaVuSans-46\"/>\n",
       "       <use x=\"95.410156\" xlink:href=\"#DejaVuSans-50\"/>\n",
       "      </g>\n",
       "     </g>\n",
       "    </g>\n",
       "    <g id=\"ytick_3\">\n",
       "     <g id=\"line2d_9\">\n",
       "      <g>\n",
       "       <use style=\"fill:#ffffff;stroke:#ffffff;stroke-width:0.8;\" x=\"30.103125\" xlink:href=\"#m2e149e2a7d\" y=\"135.687273\"/>\n",
       "      </g>\n",
       "     </g>\n",
       "     <g id=\"text_9\">\n",
       "      <!-- 0.4 -->\n",
       "      <g style=\"fill:#ffffff;\" transform=\"translate(7.2 139.486491)scale(0.1 -0.1)\">\n",
       "       <use xlink:href=\"#DejaVuSans-48\"/>\n",
       "       <use x=\"63.623047\" xlink:href=\"#DejaVuSans-46\"/>\n",
       "       <use x=\"95.410156\" xlink:href=\"#DejaVuSans-52\"/>\n",
       "      </g>\n",
       "     </g>\n",
       "    </g>\n",
       "    <g id=\"ytick_4\">\n",
       "     <g id=\"line2d_10\">\n",
       "      <g>\n",
       "       <use style=\"fill:#ffffff;stroke:#ffffff;stroke-width:0.8;\" x=\"30.103125\" xlink:href=\"#m2e149e2a7d\" y=\"96.152727\"/>\n",
       "      </g>\n",
       "     </g>\n",
       "     <g id=\"text_10\">\n",
       "      <!-- 0.6 -->\n",
       "      <g style=\"fill:#ffffff;\" transform=\"translate(7.2 99.951946)scale(0.1 -0.1)\">\n",
       "       <use xlink:href=\"#DejaVuSans-48\"/>\n",
       "       <use x=\"63.623047\" xlink:href=\"#DejaVuSans-46\"/>\n",
       "       <use x=\"95.410156\" xlink:href=\"#DejaVuSans-54\"/>\n",
       "      </g>\n",
       "     </g>\n",
       "    </g>\n",
       "    <g id=\"ytick_5\">\n",
       "     <g id=\"line2d_11\">\n",
       "      <g>\n",
       "       <use style=\"fill:#ffffff;stroke:#ffffff;stroke-width:0.8;\" x=\"30.103125\" xlink:href=\"#m2e149e2a7d\" y=\"56.618182\"/>\n",
       "      </g>\n",
       "     </g>\n",
       "     <g id=\"text_11\">\n",
       "      <!-- 0.8 -->\n",
       "      <g style=\"fill:#ffffff;\" transform=\"translate(7.2 60.417401)scale(0.1 -0.1)\">\n",
       "       <use xlink:href=\"#DejaVuSans-48\"/>\n",
       "       <use x=\"63.623047\" xlink:href=\"#DejaVuSans-46\"/>\n",
       "       <use x=\"95.410156\" xlink:href=\"#DejaVuSans-56\"/>\n",
       "      </g>\n",
       "     </g>\n",
       "    </g>\n",
       "    <g id=\"ytick_6\">\n",
       "     <g id=\"line2d_12\">\n",
       "      <g>\n",
       "       <use style=\"fill:#ffffff;stroke:#ffffff;stroke-width:0.8;\" x=\"30.103125\" xlink:href=\"#m2e149e2a7d\" y=\"17.083636\"/>\n",
       "      </g>\n",
       "     </g>\n",
       "     <g id=\"text_12\">\n",
       "      <!-- 1.0 -->\n",
       "      <g style=\"fill:#ffffff;\" transform=\"translate(7.2 20.882855)scale(0.1 -0.1)\">\n",
       "       <use xlink:href=\"#DejaVuSans-49\"/>\n",
       "       <use x=\"63.623047\" xlink:href=\"#DejaVuSans-46\"/>\n",
       "       <use x=\"95.410156\" xlink:href=\"#DejaVuSans-48\"/>\n",
       "      </g>\n",
       "     </g>\n",
       "    </g>\n",
       "   </g>\n",
       "   <g id=\"line2d_13\">\n",
       "    <path clip-path=\"url(#p08285c5c81)\" d=\"M 45.321307 17.083636 \n",
       "L 48.364943 21.037091 \n",
       "L 51.40858 24.990545 \n",
       "L 54.452216 28.944 \n",
       "L 57.495852 32.897455 \n",
       "L 60.539489 36.850909 \n",
       "L 63.583125 40.804364 \n",
       "L 66.626761 44.757818 \n",
       "L 69.670398 48.711273 \n",
       "L 72.714034 52.664727 \n",
       "L 75.75767 56.618182 \n",
       "L 78.801307 60.571636 \n",
       "L 81.844943 64.525091 \n",
       "L 84.88858 68.478545 \n",
       "L 87.932216 72.432 \n",
       "L 90.975852 76.385455 \n",
       "L 94.019489 80.338909 \n",
       "L 97.063125 84.292364 \n",
       "L 100.106761 88.245818 \n",
       "L 103.150398 92.199273 \n",
       "L 106.194034 96.152727 \n",
       "L 109.23767 100.106182 \n",
       "L 112.281307 104.059636 \n",
       "L 115.324943 108.013091 \n",
       "L 118.36858 111.966545 \n",
       "L 121.412216 115.92 \n",
       "L 124.455852 119.873455 \n",
       "L 127.499489 123.826909 \n",
       "L 130.543125 127.780364 \n",
       "L 133.586761 131.733818 \n",
       "L 136.630398 135.687273 \n",
       "L 139.674034 139.640727 \n",
       "L 142.71767 143.594182 \n",
       "L 145.761307 147.547636 \n",
       "L 148.804943 151.501091 \n",
       "L 151.84858 155.454545 \n",
       "L 154.892216 159.408 \n",
       "L 157.935852 163.361455 \n",
       "L 160.979489 167.314909 \n",
       "L 164.023125 171.268364 \n",
       "L 167.066761 175.221818 \n",
       "L 170.110398 179.175273 \n",
       "L 173.154034 183.128727 \n",
       "L 176.19767 187.082182 \n",
       "L 179.241307 191.035636 \n",
       "L 182.284943 194.989091 \n",
       "L 185.32858 198.942545 \n",
       "L 188.372216 202.896 \n",
       "L 191.415852 206.849455 \n",
       "L 194.459489 210.802909 \n",
       "L 197.503125 214.756364 \n",
       "L 200.546761 214.756364 \n",
       "L 203.590398 214.756364 \n",
       "L 206.634034 214.756364 \n",
       "L 209.67767 214.756364 \n",
       "L 212.721307 214.756364 \n",
       "L 215.764943 214.756364 \n",
       "L 218.80858 214.756364 \n",
       "L 221.852216 214.756364 \n",
       "L 224.895852 214.756364 \n",
       "L 227.939489 214.756364 \n",
       "L 230.983125 214.756364 \n",
       "L 234.026761 214.756364 \n",
       "L 237.070398 214.756364 \n",
       "L 240.114034 214.756364 \n",
       "L 243.15767 214.756364 \n",
       "L 246.201307 214.756364 \n",
       "L 249.244943 214.756364 \n",
       "L 252.28858 214.756364 \n",
       "L 255.332216 214.756364 \n",
       "L 258.375852 214.756364 \n",
       "L 261.419489 214.756364 \n",
       "L 264.463125 214.756364 \n",
       "L 267.506761 214.756364 \n",
       "L 270.550398 214.756364 \n",
       "L 273.594034 214.756364 \n",
       "L 276.63767 214.756364 \n",
       "L 279.681307 214.756364 \n",
       "L 282.724943 214.756364 \n",
       "L 285.76858 214.756364 \n",
       "L 288.812216 214.756364 \n",
       "L 291.855852 214.756364 \n",
       "L 294.899489 214.756364 \n",
       "L 297.943125 214.756364 \n",
       "L 300.986761 214.756364 \n",
       "L 304.030398 214.756364 \n",
       "L 307.074034 214.756364 \n",
       "L 310.11767 214.756364 \n",
       "L 313.161307 214.756364 \n",
       "L 316.204943 214.756364 \n",
       "L 319.24858 214.756364 \n",
       "L 322.292216 214.756364 \n",
       "L 325.335852 214.756364 \n",
       "L 328.379489 214.756364 \n",
       "L 331.423125 214.756364 \n",
       "L 334.466761 214.756364 \n",
       "L 337.510398 214.756364 \n",
       "L 340.554034 214.756364 \n",
       "L 343.59767 214.756364 \n",
       "L 346.641307 214.756364 \n",
       "L 349.684943 214.756364 \n",
       "\" style=\"fill:none;stroke:#8dd3c7;stroke-linecap:square;stroke-width:1.5;\"/>\n",
       "   </g>\n",
       "   <g id=\"line2d_14\">\n",
       "    <path clip-path=\"url(#p08285c5c81)\" d=\"M 45.321307 214.756364 \n",
       "L 48.364943 210.802909 \n",
       "L 51.40858 206.849455 \n",
       "L 54.452216 202.896 \n",
       "L 57.495852 198.942545 \n",
       "L 60.539489 194.989091 \n",
       "L 63.583125 191.035636 \n",
       "L 66.626761 187.082182 \n",
       "L 69.670398 183.128727 \n",
       "L 72.714034 179.175273 \n",
       "L 75.75767 175.221818 \n",
       "L 78.801307 171.268364 \n",
       "L 81.844943 167.314909 \n",
       "L 84.88858 163.361455 \n",
       "L 87.932216 159.408 \n",
       "L 90.975852 155.454545 \n",
       "L 94.019489 151.501091 \n",
       "L 97.063125 147.547636 \n",
       "L 100.106761 143.594182 \n",
       "L 103.150398 139.640727 \n",
       "L 106.194034 135.687273 \n",
       "L 109.23767 131.733818 \n",
       "L 112.281307 127.780364 \n",
       "L 115.324943 123.826909 \n",
       "L 118.36858 119.873455 \n",
       "L 121.412216 115.92 \n",
       "L 124.455852 111.966545 \n",
       "L 127.499489 108.013091 \n",
       "L 130.543125 104.059636 \n",
       "L 133.586761 100.106182 \n",
       "L 136.630398 96.152727 \n",
       "L 139.674034 92.199273 \n",
       "L 142.71767 88.245818 \n",
       "L 145.761307 84.292364 \n",
       "L 148.804943 80.338909 \n",
       "L 151.84858 76.385455 \n",
       "L 154.892216 72.432 \n",
       "L 157.935852 68.478545 \n",
       "L 160.979489 64.525091 \n",
       "L 164.023125 60.571636 \n",
       "L 167.066761 56.618182 \n",
       "L 170.110398 52.664727 \n",
       "L 173.154034 48.711273 \n",
       "L 176.19767 44.757818 \n",
       "L 179.241307 40.804364 \n",
       "L 182.284943 36.850909 \n",
       "L 185.32858 32.897455 \n",
       "L 188.372216 28.944 \n",
       "L 191.415852 24.990545 \n",
       "L 194.459489 21.037091 \n",
       "L 197.503125 17.083636 \n",
       "L 200.546761 21.037091 \n",
       "L 203.590398 24.990545 \n",
       "L 206.634034 28.944 \n",
       "L 209.67767 32.897455 \n",
       "L 212.721307 36.850909 \n",
       "L 215.764943 40.804364 \n",
       "L 218.80858 44.757818 \n",
       "L 221.852216 48.711273 \n",
       "L 224.895852 52.664727 \n",
       "L 227.939489 56.618182 \n",
       "L 230.983125 60.571636 \n",
       "L 234.026761 64.525091 \n",
       "L 237.070398 68.478545 \n",
       "L 240.114034 72.432 \n",
       "L 243.15767 76.385455 \n",
       "L 246.201307 80.338909 \n",
       "L 249.244943 84.292364 \n",
       "L 252.28858 88.245818 \n",
       "L 255.332216 92.199273 \n",
       "L 258.375852 96.152727 \n",
       "L 261.419489 100.106182 \n",
       "L 264.463125 104.059636 \n",
       "L 267.506761 108.013091 \n",
       "L 270.550398 111.966545 \n",
       "L 273.594034 115.92 \n",
       "L 276.63767 119.873455 \n",
       "L 279.681307 123.826909 \n",
       "L 282.724943 127.780364 \n",
       "L 285.76858 131.733818 \n",
       "L 288.812216 135.687273 \n",
       "L 291.855852 139.640727 \n",
       "L 294.899489 143.594182 \n",
       "L 297.943125 147.547636 \n",
       "L 300.986761 151.501091 \n",
       "L 304.030398 155.454545 \n",
       "L 307.074034 159.408 \n",
       "L 310.11767 163.361455 \n",
       "L 313.161307 167.314909 \n",
       "L 316.204943 171.268364 \n",
       "L 319.24858 175.221818 \n",
       "L 322.292216 179.175273 \n",
       "L 325.335852 183.128727 \n",
       "L 328.379489 187.082182 \n",
       "L 331.423125 191.035636 \n",
       "L 334.466761 194.989091 \n",
       "L 337.510398 198.942545 \n",
       "L 340.554034 202.896 \n",
       "L 343.59767 206.849455 \n",
       "L 346.641307 210.802909 \n",
       "L 349.684943 214.756364 \n",
       "\" style=\"fill:none;stroke:#feffb3;stroke-linecap:square;stroke-width:1.5;\"/>\n",
       "   </g>\n",
       "   <g id=\"line2d_15\">\n",
       "    <path clip-path=\"url(#p08285c5c81)\" d=\"M 45.321307 214.756364 \n",
       "L 48.364943 214.756364 \n",
       "L 51.40858 214.756364 \n",
       "L 54.452216 214.756364 \n",
       "L 57.495852 214.756364 \n",
       "L 60.539489 214.756364 \n",
       "L 63.583125 214.756364 \n",
       "L 66.626761 214.756364 \n",
       "L 69.670398 214.756364 \n",
       "L 72.714034 214.756364 \n",
       "L 75.75767 214.756364 \n",
       "L 78.801307 214.756364 \n",
       "L 81.844943 214.756364 \n",
       "L 84.88858 214.756364 \n",
       "L 87.932216 214.756364 \n",
       "L 90.975852 214.756364 \n",
       "L 94.019489 214.756364 \n",
       "L 97.063125 214.756364 \n",
       "L 100.106761 214.756364 \n",
       "L 103.150398 214.756364 \n",
       "L 106.194034 214.756364 \n",
       "L 109.23767 214.756364 \n",
       "L 112.281307 214.756364 \n",
       "L 115.324943 214.756364 \n",
       "L 118.36858 214.756364 \n",
       "L 121.412216 214.756364 \n",
       "L 124.455852 214.756364 \n",
       "L 127.499489 214.756364 \n",
       "L 130.543125 214.756364 \n",
       "L 133.586761 214.756364 \n",
       "L 136.630398 214.756364 \n",
       "L 139.674034 214.756364 \n",
       "L 142.71767 214.756364 \n",
       "L 145.761307 214.756364 \n",
       "L 148.804943 214.756364 \n",
       "L 151.84858 214.756364 \n",
       "L 154.892216 214.756364 \n",
       "L 157.935852 214.756364 \n",
       "L 160.979489 214.756364 \n",
       "L 164.023125 214.756364 \n",
       "L 167.066761 214.756364 \n",
       "L 170.110398 214.756364 \n",
       "L 173.154034 214.756364 \n",
       "L 176.19767 214.756364 \n",
       "L 179.241307 214.756364 \n",
       "L 182.284943 214.756364 \n",
       "L 185.32858 214.756364 \n",
       "L 188.372216 214.756364 \n",
       "L 191.415852 214.756364 \n",
       "L 194.459489 214.756364 \n",
       "L 197.503125 214.756364 \n",
       "L 200.546761 210.802909 \n",
       "L 203.590398 206.849455 \n",
       "L 206.634034 202.896 \n",
       "L 209.67767 198.942545 \n",
       "L 212.721307 194.989091 \n",
       "L 215.764943 191.035636 \n",
       "L 218.80858 187.082182 \n",
       "L 221.852216 183.128727 \n",
       "L 224.895852 179.175273 \n",
       "L 227.939489 175.221818 \n",
       "L 230.983125 171.268364 \n",
       "L 234.026761 167.314909 \n",
       "L 237.070398 163.361455 \n",
       "L 240.114034 159.408 \n",
       "L 243.15767 155.454545 \n",
       "L 246.201307 151.501091 \n",
       "L 249.244943 147.547636 \n",
       "L 252.28858 143.594182 \n",
       "L 255.332216 139.640727 \n",
       "L 258.375852 135.687273 \n",
       "L 261.419489 131.733818 \n",
       "L 264.463125 127.780364 \n",
       "L 267.506761 123.826909 \n",
       "L 270.550398 119.873455 \n",
       "L 273.594034 115.92 \n",
       "L 276.63767 111.966545 \n",
       "L 279.681307 108.013091 \n",
       "L 282.724943 104.059636 \n",
       "L 285.76858 100.106182 \n",
       "L 288.812216 96.152727 \n",
       "L 291.855852 92.199273 \n",
       "L 294.899489 88.245818 \n",
       "L 297.943125 84.292364 \n",
       "L 300.986761 80.338909 \n",
       "L 304.030398 76.385455 \n",
       "L 307.074034 72.432 \n",
       "L 310.11767 68.478545 \n",
       "L 313.161307 64.525091 \n",
       "L 316.204943 60.571636 \n",
       "L 319.24858 56.618182 \n",
       "L 322.292216 52.664727 \n",
       "L 325.335852 48.711273 \n",
       "L 328.379489 44.757818 \n",
       "L 331.423125 40.804364 \n",
       "L 334.466761 36.850909 \n",
       "L 337.510398 32.897455 \n",
       "L 340.554034 28.944 \n",
       "L 343.59767 24.990545 \n",
       "L 346.641307 21.037091 \n",
       "L 349.684943 17.083636 \n",
       "\" style=\"fill:none;stroke:#bfbbd9;stroke-linecap:square;stroke-width:1.5;\"/>\n",
       "   </g>\n",
       "   <g id=\"patch_3\">\n",
       "    <path d=\"M 30.103125 224.64 \n",
       "L 30.103125 7.2 \n",
       "\" style=\"fill:none;stroke:#ffffff;stroke-linecap:square;stroke-linejoin:miter;stroke-width:0.8;\"/>\n",
       "   </g>\n",
       "   <g id=\"patch_4\">\n",
       "    <path d=\"M 364.903125 224.64 \n",
       "L 364.903125 7.2 \n",
       "\" style=\"fill:none;stroke:#ffffff;stroke-linecap:square;stroke-linejoin:miter;stroke-width:0.8;\"/>\n",
       "   </g>\n",
       "   <g id=\"patch_5\">\n",
       "    <path d=\"M 30.103125 224.64 \n",
       "L 364.903125 224.64 \n",
       "\" style=\"fill:none;stroke:#ffffff;stroke-linecap:square;stroke-linejoin:miter;stroke-width:0.8;\"/>\n",
       "   </g>\n",
       "   <g id=\"patch_6\">\n",
       "    <path d=\"M 30.103125 7.2 \n",
       "L 364.903125 7.2 \n",
       "\" style=\"fill:none;stroke:#ffffff;stroke-linecap:square;stroke-linejoin:miter;stroke-width:0.8;\"/>\n",
       "   </g>\n",
       "   <g id=\"legend_1\">\n",
       "    <g id=\"patch_7\">\n",
       "     <path d=\"M 307.059375 139.854375 \n",
       "L 357.903125 139.854375 \n",
       "Q 359.903125 139.854375 359.903125 137.854375 \n",
       "L 359.903125 93.985625 \n",
       "Q 359.903125 91.985625 357.903125 91.985625 \n",
       "L 307.059375 91.985625 \n",
       "Q 305.059375 91.985625 305.059375 93.985625 \n",
       "L 305.059375 137.854375 \n",
       "Q 305.059375 139.854375 307.059375 139.854375 \n",
       "z\n",
       "\" style=\"opacity:0.8;stroke:#cccccc;stroke-linejoin:miter;\"/>\n",
       "    </g>\n",
       "    <g id=\"line2d_16\">\n",
       "     <path d=\"M 309.059375 100.084062 \n",
       "L 329.059375 100.084062 \n",
       "\" style=\"fill:none;stroke:#8dd3c7;stroke-linecap:square;stroke-width:1.5;\"/>\n",
       "    </g>\n",
       "    <g id=\"line2d_17\"/>\n",
       "    <g id=\"text_13\">\n",
       "     <!-- N_1 -->\n",
       "     <g style=\"fill:#ffffff;\" transform=\"translate(337.059375 103.584062)scale(0.1 -0.1)\">\n",
       "      <defs>\n",
       "       <path d=\"M 9.8125 72.90625 \n",
       "L 23.09375 72.90625 \n",
       "L 55.421875 11.921875 \n",
       "L 55.421875 72.90625 \n",
       "L 64.984375 72.90625 \n",
       "L 64.984375 0 \n",
       "L 51.703125 0 \n",
       "L 19.390625 60.984375 \n",
       "L 19.390625 0 \n",
       "L 9.8125 0 \n",
       "z\n",
       "\" id=\"DejaVuSans-78\"/>\n",
       "       <path d=\"M 50.984375 -16.609375 \n",
       "L 50.984375 -23.578125 \n",
       "L -0.984375 -23.578125 \n",
       "L -0.984375 -16.609375 \n",
       "z\n",
       "\" id=\"DejaVuSans-95\"/>\n",
       "      </defs>\n",
       "      <use xlink:href=\"#DejaVuSans-78\"/>\n",
       "      <use x=\"74.804688\" xlink:href=\"#DejaVuSans-95\"/>\n",
       "      <use x=\"124.804688\" xlink:href=\"#DejaVuSans-49\"/>\n",
       "     </g>\n",
       "    </g>\n",
       "    <g id=\"line2d_18\">\n",
       "     <path d=\"M 309.059375 115.040312 \n",
       "L 329.059375 115.040312 \n",
       "\" style=\"fill:none;stroke:#feffb3;stroke-linecap:square;stroke-width:1.5;\"/>\n",
       "    </g>\n",
       "    <g id=\"line2d_19\"/>\n",
       "    <g id=\"text_14\">\n",
       "     <!-- N_2 -->\n",
       "     <g style=\"fill:#ffffff;\" transform=\"translate(337.059375 118.540312)scale(0.1 -0.1)\">\n",
       "      <use xlink:href=\"#DejaVuSans-78\"/>\n",
       "      <use x=\"74.804688\" xlink:href=\"#DejaVuSans-95\"/>\n",
       "      <use x=\"124.804688\" xlink:href=\"#DejaVuSans-50\"/>\n",
       "     </g>\n",
       "    </g>\n",
       "    <g id=\"line2d_20\">\n",
       "     <path d=\"M 309.059375 129.996562 \n",
       "L 329.059375 129.996562 \n",
       "\" style=\"fill:none;stroke:#bfbbd9;stroke-linecap:square;stroke-width:1.5;\"/>\n",
       "    </g>\n",
       "    <g id=\"line2d_21\"/>\n",
       "    <g id=\"text_15\">\n",
       "     <!-- N_3 -->\n",
       "     <g style=\"fill:#ffffff;\" transform=\"translate(337.059375 133.496562)scale(0.1 -0.1)\">\n",
       "      <defs>\n",
       "       <path d=\"M 40.578125 39.3125 \n",
       "Q 47.65625 37.796875 51.625 33 \n",
       "Q 55.609375 28.21875 55.609375 21.1875 \n",
       "Q 55.609375 10.40625 48.1875 4.484375 \n",
       "Q 40.765625 -1.421875 27.09375 -1.421875 \n",
       "Q 22.515625 -1.421875 17.65625 -0.515625 \n",
       "Q 12.796875 0.390625 7.625 2.203125 \n",
       "L 7.625 11.71875 \n",
       "Q 11.71875 9.328125 16.59375 8.109375 \n",
       "Q 21.484375 6.890625 26.8125 6.890625 \n",
       "Q 36.078125 6.890625 40.9375 10.546875 \n",
       "Q 45.796875 14.203125 45.796875 21.1875 \n",
       "Q 45.796875 27.640625 41.28125 31.265625 \n",
       "Q 36.765625 34.90625 28.71875 34.90625 \n",
       "L 20.21875 34.90625 \n",
       "L 20.21875 43.015625 \n",
       "L 29.109375 43.015625 \n",
       "Q 36.375 43.015625 40.234375 45.921875 \n",
       "Q 44.09375 48.828125 44.09375 54.296875 \n",
       "Q 44.09375 59.90625 40.109375 62.90625 \n",
       "Q 36.140625 65.921875 28.71875 65.921875 \n",
       "Q 24.65625 65.921875 20.015625 65.03125 \n",
       "Q 15.375 64.15625 9.8125 62.3125 \n",
       "L 9.8125 71.09375 \n",
       "Q 15.4375 72.65625 20.34375 73.4375 \n",
       "Q 25.25 74.21875 29.59375 74.21875 \n",
       "Q 40.828125 74.21875 47.359375 69.109375 \n",
       "Q 53.90625 64.015625 53.90625 55.328125 \n",
       "Q 53.90625 49.265625 50.4375 45.09375 \n",
       "Q 46.96875 40.921875 40.578125 39.3125 \n",
       "z\n",
       "\" id=\"DejaVuSans-51\"/>\n",
       "      </defs>\n",
       "      <use xlink:href=\"#DejaVuSans-78\"/>\n",
       "      <use x=\"74.804688\" xlink:href=\"#DejaVuSans-95\"/>\n",
       "      <use x=\"124.804688\" xlink:href=\"#DejaVuSans-51\"/>\n",
       "     </g>\n",
       "    </g>\n",
       "   </g>\n",
       "  </g>\n",
       " </g>\n",
       " <defs>\n",
       "  <clipPath id=\"p08285c5c81\">\n",
       "   <rect height=\"217.44\" width=\"334.8\" x=\"30.103125\" y=\"7.2\"/>\n",
       "  </clipPath>\n",
       " </defs>\n",
       "</svg>\n"
      ],
      "text/plain": [
       "<Figure size 432x288 with 1 Axes>"
      ]
     },
     "metadata": {},
     "output_type": "display_data"
    }
   ],
   "source": [
    "Lnum = 1.0\n",
    "NptsPlot = 101\n",
    "xplt = np.linspace(0.0, Lnum, NptsPlot)\n",
    "yplt_1 = np.zeros(NptsPlot)\n",
    "yplt_2 = np.zeros(NptsPlot)\n",
    "yplt_3 = np.zeros(NptsPlot)\n",
    "plt.clf()\n",
    "for ip in range(NptsPlot):\n",
    "    yplt_1[ip] = N_first.subs( {x: xplt[ip], L: Lnum } )\n",
    "    yplt_2[ip] = N_second.subs( {x: xplt[ip], L: Lnum } )\n",
    "    yplt_3[ip] = N_third.subs( {x: xplt[ip], L: Lnum } )\n",
    "plt.plot(xplt, yplt_1, label=\"N_1\")\n",
    "plt.plot(xplt, yplt_2, label=\"N_2\")\n",
    "plt.plot(xplt, yplt_3, label=\"N_3\")\n",
    "plt.legend();"
   ]
  },
  {
   "cell_type": "markdown",
   "metadata": {},
   "source": [
    "## Integrals and derivatives"
   ]
  },
  {
   "cell_type": "markdown",
   "metadata": {},
   "source": [
    "In the finite element methods, we need to be able to do calculate derivatives and integrals of our basis functions such as:\n",
    "\n",
    "$$\n",
    "\\int_{0}^{L} N_{1}(x) N_{2}(x)\\,\\mathrm{d}x\n",
    "$$\n",
    "\n",
    "and \n",
    "\n",
    "$$\n",
    "\\int_{0}^{L} \\frac{\\mathrm{d} N_{1}(x)}{\\mathrm{d}x} \\frac{\\mathrm{d} N_{2}(x)}{\\mathrm{d}x} \\,\\mathrm{d}x\n",
    "$$"
   ]
  },
  {
   "cell_type": "markdown",
   "metadata": {},
   "source": [
    "The class `Integral` can be used to construct an evaluated integral (it is useful to displaying purpose). For example:"
   ]
  },
  {
   "cell_type": "code",
   "execution_count": 32,
   "metadata": {},
   "outputs": [
    {
     "data": {
      "image/png": "[encoded data removed]",
      "text/latex": [
       "$\\displaystyle \\int\\limits_{0}^{L} \\begin{cases} \\frac{4 \\left(\\frac{L}{2} - x\\right)^{2}}{L^{2}} & \\text{for}\\: x \\geq 0 \\wedge x \\leq \\frac{L}{2} \\\\0 & \\text{otherwise} \\end{cases}\\, dx$"
      ],
      "text/plain": [
       "L                                  \n",
       "⌠                                  \n",
       "⎮ ⎧         2                      \n",
       "⎮ ⎪  ⎛L    ⎞                       \n",
       "⎮ ⎪4⋅⎜─ - x⎟                       \n",
       "⎮ ⎪  ⎝2    ⎠                   L   \n",
       "⎮ ⎨──────────  for x ≥ 0 ∧ x ≤ ─ dx\n",
       "⎮ ⎪     2                      2   \n",
       "⎮ ⎪    L                           \n",
       "⎮ ⎪                                \n",
       "⎮ ⎩    0           otherwise       \n",
       "⌡                                  \n",
       "0                                  "
      ]
     },
     "execution_count": 32,
     "metadata": {},
     "output_type": "execute_result"
    }
   ],
   "source": [
    "I1 = Integral(N_first*N_first, (x,0,L))\n",
    "I1"
   ]
  },
  {
   "cell_type": "markdown",
   "metadata": {},
   "source": [
    "To actually carry out the calculation we can call the method `doit()`."
   ]
  },
  {
   "cell_type": "code",
   "execution_count": 33,
   "metadata": {},
   "outputs": [
    {
     "data": {
      "image/png": "[encoded data removed]",
      "text/latex": [
       "$\\displaystyle \\frac{L}{6}$"
      ],
      "text/plain": [
       "L\n",
       "─\n",
       "6"
      ]
     },
     "execution_count": 33,
     "metadata": {},
     "output_type": "execute_result"
    }
   ],
   "source": [
    "I1.doit()"
   ]
  },
  {
   "cell_type": "markdown",
   "metadata": {},
   "source": [
    "Alternatively, the function `integrate` can be used to calculate the integrals directly."
   ]
  },
  {
   "cell_type": "code",
   "execution_count": 40,
   "metadata": {},
   "outputs": [
    {
     "data": {
      "image/png": "[encoded data removed]",
      "text/latex": [
       "$\\displaystyle \\frac{L}{12}$"
      ],
      "text/plain": [
       "L \n",
       "──\n",
       "12"
      ]
     },
     "execution_count": 40,
     "metadata": {},
     "output_type": "execute_result"
    }
   ],
   "source": [
    "integrate(N_first*N_second, (x,0,L))"
   ]
  },
  {
   "cell_type": "code",
   "execution_count": 41,
   "metadata": {},
   "outputs": [
    {
     "data": {
      "image/png": "[encoded data removed]",
      "text/latex": [
       "$\\displaystyle \\frac{L}{6}$"
      ],
      "text/plain": [
       "L\n",
       "─\n",
       "6"
      ]
     },
     "execution_count": 41,
     "metadata": {},
     "output_type": "execute_result"
    }
   ],
   "source": [
    "integrate(N_first*N_first, (x,0,L))"
   ]
  },
  {
   "cell_type": "code",
   "execution_count": 42,
   "metadata": {},
   "outputs": [
    {
     "data": {
      "image/png": "[encoded data removed]",
      "text/latex": [
       "$\\displaystyle \\frac{L}{6}$"
      ],
      "text/plain": [
       "L\n",
       "─\n",
       "6"
      ]
     },
     "execution_count": 42,
     "metadata": {},
     "output_type": "execute_result"
    }
   ],
   "source": [
    "integrate(N_first*N_first, (x,0,L/2))"
   ]
  },
  {
   "cell_type": "code",
   "execution_count": 43,
   "metadata": {},
   "outputs": [
    {
     "data": {
      "image/png": "[encoded data removed]",
      "text/latex": [
       "$\\displaystyle 0$"
      ],
      "text/plain": [
       "0"
      ]
     },
     "execution_count": 43,
     "metadata": {},
     "output_type": "execute_result"
    }
   ],
   "source": [
    "integrate(N_first*N_third, (x,0,L))"
   ]
  },
  {
   "cell_type": "markdown",
   "metadata": {},
   "source": [
    "To calculate a derivative, we can use `Derivative` (for unevaluated derivative) or `diff` (directly evaluate the derivative):"
   ]
  },
  {
   "cell_type": "code",
   "execution_count": 44,
   "metadata": {},
   "outputs": [
    {
     "data": {
      "image/png": "[encoded data removed]",
      "text/latex": [
       "$\\displaystyle \\frac{\\partial}{\\partial x} \\begin{cases} \\frac{2 \\left(\\frac{L}{2} - x\\right)}{L} & \\text{for}\\: x \\geq 0 \\wedge x \\leq \\frac{L}{2} \\\\0 & \\text{otherwise} \\end{cases}$"
      ],
      "text/plain": [
       "  ⎛⎧  ⎛L    ⎞                   ⎞\n",
       "  ⎜⎪2⋅⎜─ - x⎟                   ⎟\n",
       "∂ ⎜⎪  ⎝2    ⎠                  L⎟\n",
       "──⎜⎨─────────  for x ≥ 0 ∧ x ≤ ─⎟\n",
       "∂x⎜⎪    L                      2⎟\n",
       "  ⎜⎪                            ⎟\n",
       "  ⎝⎩    0          otherwise    ⎠"
      ]
     },
     "execution_count": 44,
     "metadata": {},
     "output_type": "execute_result"
    }
   ],
   "source": [
    "Derivative(N_first, x)"
   ]
  },
  {
   "cell_type": "code",
   "execution_count": 45,
   "metadata": {},
   "outputs": [
    {
     "data": {
      "image/png": "[encoded data removed]",
      "text/latex": [
       "$\\displaystyle \\begin{cases} - \\frac{2}{L} & \\text{for}\\: x \\geq 0 \\wedge x \\leq \\frac{L}{2} \\\\0 & \\text{otherwise} \\end{cases}$"
      ],
      "text/plain": [
       "⎧-2                   L\n",
       "⎪───  for x ≥ 0 ∧ x ≤ ─\n",
       "⎨ L                   2\n",
       "⎪                      \n",
       "⎩ 0       otherwise    "
      ]
     },
     "execution_count": 45,
     "metadata": {},
     "output_type": "execute_result"
    }
   ],
   "source": [
    "Derivative(N_first, x).doit()"
   ]
  },
  {
   "cell_type": "code",
   "execution_count": 46,
   "metadata": {},
   "outputs": [],
   "source": [
    "expr1 = Derivative(N_first, x, 2).doit()"
   ]
  },
  {
   "cell_type": "code",
   "execution_count": 47,
   "metadata": {},
   "outputs": [
    {
     "data": {
      "image/png": "[encoded data removed]",
      "text/latex": [
       "$\\displaystyle 0$"
      ],
      "text/plain": [
       "0"
      ]
     },
     "execution_count": 47,
     "metadata": {},
     "output_type": "execute_result"
    }
   ],
   "source": [
    "expr1"
   ]
  },
  {
   "cell_type": "code",
   "execution_count": null,
   "metadata": {},
   "outputs": [],
   "source": [
    "diff(N_first, x)"
   ]
  },
  {
   "cell_type": "markdown",
   "metadata": {},
   "source": [
    "$C^{0}$ functions.\n",
    "\n",
    "$C^{1}$ functions.\n",
    "\n",
    "$C^{\\infty}$ functions."
   ]
  },
  {
   "cell_type": "markdown",
   "metadata": {},
   "source": [
    "Now let's try the following integral:\n",
    "$$\n",
    "\\int_{0}^{L} N_{1}(x)\\,\\frac{\\mathrm{d}N_{1}(x)}{\\mathrm{d}x}\\,\\mathrm{d}x\n",
    "$$"
   ]
  },
  {
   "cell_type": "code",
   "execution_count": 49,
   "metadata": {},
   "outputs": [
    {
     "data": {
      "image/png": "[encoded data removed]",
      "text/latex": [
       "$\\displaystyle - \\frac{1}{2}$"
      ],
      "text/plain": [
       "-1/2"
      ]
     },
     "execution_count": 49,
     "metadata": {},
     "output_type": "execute_result"
    }
   ],
   "source": [
    "integrate(N_first * diff(N_first,x), (x,0,L))"
   ]
  },
  {
   "cell_type": "markdown",
   "metadata": {},
   "source": [
    "## Weak form"
   ]
  },
  {
   "cell_type": "markdown",
   "metadata": {},
   "source": [
    "We assume that we have derived the weak form for our differential equation. For example:"
   ]
  },
  {
   "cell_type": "markdown",
   "metadata": {},
   "source": [
    "$$\n",
    "\\int_{0}^{L} k\n",
    "\\left(\n",
    "\\frac{\\mathrm{d} w(x)}{\\mathrm{d}x}\n",
    "\\frac{\\mathrm{d}T(x)}{\\mathrm{d}x} \\right)\\, \\mathrm{d}x -\n",
    "\\int_{0}^{L} w(x)\\,Q\\, \\mathrm{d}x -\n",
    "\\left[ k\\, w(x) \\frac{\\mathrm{d}T(x)}{\\mathrm{d}x} \\right]_{0}^{L} = 0\n",
    "$$"
   ]
  },
  {
   "cell_type": "markdown",
   "metadata": {},
   "source": [
    "We now wish to derive system of linear equations in terms of unknown nodal values of $T(x)$."
   ]
  },
  {
   "cell_type": "markdown",
   "metadata": {},
   "source": [
    "Now we will introduce some several symbolic objects:"
   ]
  },
  {
   "cell_type": "code",
   "execution_count": 50,
   "metadata": {},
   "outputs": [],
   "source": [
    "T = Function(\"T\")(x)\n",
    "w = Function(\"w\")(x)\n",
    "k = Symbol(\"k\", real=True, positive=True)\n",
    "Q = Symbol(\"Q\", real=True)"
   ]
  },
  {
   "cell_type": "markdown",
   "metadata": {},
   "source": [
    "We also introduce the expansion that we will use to approximate $T(x)$:\n",
    "$$\n",
    "T(x) = \\sum_{j=1}^{n+1} T_{j} N_{j}(x) \n",
    "$$\n",
    "or for our particular case, i.e. $n=2$:\n",
    "$$\n",
    "T(x) = T_{1} N_{1}(x) + T_{2} N_{2}(x) + T_{3} N_{3}(x)\n",
    "$$"
   ]
  },
  {
   "cell_type": "code",
   "execution_count": 51,
   "metadata": {},
   "outputs": [
    {
     "data": {
      "image/png": "[encoded data removed]",
      "text/latex": [
       "$\\displaystyle T_{1} \\left(\\begin{cases} \\frac{2 \\left(\\frac{L}{2} - x\\right)}{L} & \\text{for}\\: x \\geq 0 \\wedge x \\leq \\frac{L}{2} \\\\0 & \\text{otherwise} \\end{cases}\\right) + T_{2} \\left(\\begin{cases} \\frac{2 x}{L} & \\text{for}\\: x \\geq 0 \\wedge x \\leq \\frac{L}{2} \\\\\\frac{2 \\left(L - x\\right)}{L} & \\text{for}\\: L \\geq x \\wedge x \\geq \\frac{L}{2} \\\\0 & \\text{otherwise} \\end{cases}\\right) + T_{3} \\left(\\begin{cases} \\frac{2 \\left(- \\frac{L}{2} + x\\right)}{L} & \\text{for}\\: L \\geq x \\wedge x \\geq \\frac{L}{2} \\\\0 & \\text{otherwise} \\end{cases}\\right)$"
      ],
      "text/plain": [
       "                                        ⎛⎧   2⋅x                     L⎞       \n",
       "   ⎛⎧  ⎛L    ⎞                   ⎞      ⎜⎪   ───     for x ≥ 0 ∧ x ≤ ─⎟      ⎛\n",
       "   ⎜⎪2⋅⎜─ - x⎟                   ⎟      ⎜⎪    L                      2⎟      ⎜\n",
       "   ⎜⎪  ⎝2    ⎠                  L⎟      ⎜⎪                            ⎟      ⎜\n",
       "T₁⋅⎜⎨─────────  for x ≥ 0 ∧ x ≤ ─⎟ + T₂⋅⎜⎨2⋅(L - x)                  L⎟ + T₃⋅⎜\n",
       "   ⎜⎪    L                      2⎟      ⎜⎪─────────  for L ≥ x ∧ x ≥ ─⎟      ⎜\n",
       "   ⎜⎪                            ⎟      ⎜⎪    L                      2⎟      ⎜\n",
       "   ⎝⎩    0          otherwise    ⎠      ⎜⎪                            ⎟      ⎝\n",
       "                                        ⎝⎩    0          otherwise    ⎠       \n",
       "\n",
       "                                \n",
       "⎧  ⎛  L    ⎞                   ⎞\n",
       "⎪2⋅⎜- ─ + x⎟                   ⎟\n",
       "⎪  ⎝  2    ⎠                  L⎟\n",
       "⎨───────────  for L ≥ x ∧ x ≥ ─⎟\n",
       "⎪     L                       2⎟\n",
       "⎪                              ⎟\n",
       "⎩     0           otherwise    ⎠\n",
       "                                "
      ]
     },
     "execution_count": 51,
     "metadata": {},
     "output_type": "execute_result"
    }
   ],
   "source": [
    "T_1 = Symbol(\"T_1\", real=True)\n",
    "T_2 = Symbol(\"T_2\", real=True)\n",
    "T_3 = Symbol(\"T_3\", real=True)\n",
    "T_expansion = T_1*N_first + T_2*N_second + T_3*N_third\n",
    "T_expansion"
   ]
  },
  {
   "cell_type": "code",
   "execution_count": 52,
   "metadata": {},
   "outputs": [
    {
     "data": {
      "image/png": "[encoded data removed]",
      "text/latex": [
       "$\\displaystyle 0.8 T_{1} + 0.2 T_{2}$"
      ],
      "text/plain": [
       "0.8⋅T₁ + 0.2⋅T₂"
      ]
     },
     "execution_count": 52,
     "metadata": {},
     "output_type": "execute_result"
    }
   ],
   "source": [
    "T_expansion.subs({x: 0.1, L: Lnum})"
   ]
  },
  {
   "cell_type": "code",
   "execution_count": 53,
   "metadata": {},
   "outputs": [
    {
     "data": {
      "image/png": "[encoded data removed]",
      "text/latex": [
       "$\\displaystyle 0.8 T_{2} + 0.2 T_{3}$"
      ],
      "text/plain": [
       "0.8⋅T₂ + 0.2⋅T₃"
      ]
     },
     "execution_count": 53,
     "metadata": {},
     "output_type": "execute_result"
    }
   ],
   "source": [
    "T_expansion.subs({x: 0.6, L: Lnum})"
   ]
  },
  {
   "cell_type": "code",
   "execution_count": 54,
   "metadata": {},
   "outputs": [
    {
     "data": {
      "image/png": "[encoded data removed]",
      "text/latex": [
       "$\\displaystyle 1.0 T_{3}$"
      ],
      "text/plain": [
       "1.0⋅T₃"
      ]
     },
     "execution_count": 54,
     "metadata": {},
     "output_type": "execute_result"
    }
   ],
   "source": [
    "T_expansion.subs({x: 1.0, L: Lnum})"
   ]
  },
  {
   "cell_type": "markdown",
   "metadata": {},
   "source": [
    "# Derivation of linear systems"
   ]
  },
  {
   "cell_type": "markdown",
   "metadata": {},
   "source": [
    "Now, we are ready to derive the equation for $w(x) = N_{1}(x)$, etc. To make things a bit easier, we will divide the terms arising from the weak form into three types:\n",
    "\n",
    "- the stiffness term (will be referred by variable `term1`),\n",
    "- source term (will be referred by variable `term2`), and\n",
    "- boundary term (will be referred by variable `term3`)."
   ]
  },
  {
   "cell_type": "markdown",
   "metadata": {},
   "source": [
    "## Stiffness term or diffusion term"
   ]
  },
  {
   "cell_type": "markdown",
   "metadata": {},
   "source": [
    "The first term is:\n",
    "$$\n",
    "\\int_{0}^{L} k\n",
    "\\left(\n",
    "\\frac{\\mathrm{d} w(x)}{\\mathrm{d}x}\n",
    "\\frac{\\mathrm{d}T(x)}{\\mathrm{d}x} \\right)\\, \\mathrm{d}x\n",
    "$$"
   ]
  },
  {
   "cell_type": "markdown",
   "metadata": {},
   "source": [
    "Let's start with the integrand:"
   ]
  },
  {
   "cell_type": "code",
   "execution_count": 55,
   "metadata": {},
   "outputs": [
    {
     "data": {
      "image/png": "[encoded data removed]",
      "text/latex": [
       "$\\displaystyle k \\frac{d}{d x} T{\\left(x \\right)} \\frac{d}{d x} w{\\left(x \\right)}$"
      ],
      "text/plain": [
       "  d        d       \n",
       "k⋅──(T(x))⋅──(w(x))\n",
       "  dx       dx      "
      ]
     },
     "execution_count": 55,
     "metadata": {},
     "output_type": "execute_result"
    }
   ],
   "source": [
    "expr1 = k * Derivative(w,x) * Derivative(T, x)\n",
    "expr1"
   ]
  },
  {
   "cell_type": "markdown",
   "metadata": {},
   "source": [
    "We do the following substitution:\n",
    "- $T(x) \\leftarrow \\sum_{j=1}^{3} T_{j} N_{j}(x)$, and\n",
    "- $w(x) \\leftarrow N_{1}(x)$:"
   ]
  },
  {
   "cell_type": "code",
   "execution_count": 56,
   "metadata": {},
   "outputs": [
    {
     "data": {
      "image/png": "[encoded data removed]",
      "text/latex": [
       "$\\displaystyle k \\frac{\\partial}{\\partial x} \\left(T_{1} \\left(\\begin{cases} \\frac{2 \\left(\\frac{L}{2} - x\\right)}{L} & \\text{for}\\: x \\geq 0 \\wedge x \\leq \\frac{L}{2} \\\\0 & \\text{otherwise} \\end{cases}\\right) + T_{2} \\left(\\begin{cases} \\frac{2 x}{L} & \\text{for}\\: x \\geq 0 \\wedge x \\leq \\frac{L}{2} \\\\\\frac{2 \\left(L - x\\right)}{L} & \\text{for}\\: L \\geq x \\wedge x \\geq \\frac{L}{2} \\\\0 & \\text{otherwise} \\end{cases}\\right) + T_{3} \\left(\\begin{cases} \\frac{2 \\left(- \\frac{L}{2} + x\\right)}{L} & \\text{for}\\: L \\geq x \\wedge x \\geq \\frac{L}{2} \\\\0 & \\text{otherwise} \\end{cases}\\right)\\right) \\frac{\\partial}{\\partial x} \\begin{cases} \\frac{2 \\left(\\frac{L}{2} - x\\right)}{L} & \\text{for}\\: x \\geq 0 \\wedge x \\leq \\frac{L}{2} \\\\0 & \\text{otherwise} \\end{cases}$"
      ],
      "text/plain": [
       "    ⎛                                        ⎛⎧   2⋅x                     L⎞  \n",
       "    ⎜   ⎛⎧  ⎛L    ⎞                   ⎞      ⎜⎪   ───     for x ≥ 0 ∧ x ≤ ─⎟  \n",
       "    ⎜   ⎜⎪2⋅⎜─ - x⎟                   ⎟      ⎜⎪    L                      2⎟  \n",
       "  ∂ ⎜   ⎜⎪  ⎝2    ⎠                  L⎟      ⎜⎪                            ⎟  \n",
       "k⋅──⎜T₁⋅⎜⎨─────────  for x ≥ 0 ∧ x ≤ ─⎟ + T₂⋅⎜⎨2⋅(L - x)                  L⎟ +\n",
       "  ∂x⎜   ⎜⎪    L                      2⎟      ⎜⎪─────────  for L ≥ x ∧ x ≥ ─⎟  \n",
       "    ⎜   ⎜⎪                            ⎟      ⎜⎪    L                      2⎟  \n",
       "    ⎜   ⎝⎩    0          otherwise    ⎠      ⎜⎪                            ⎟  \n",
       "    ⎝                                        ⎝⎩    0          otherwise    ⎠  \n",
       "\n",
       "                                     ⎞                                  \n",
       "    ⎛⎧  ⎛  L    ⎞                   ⎞⎟   ⎛⎧  ⎛L    ⎞                   ⎞\n",
       "    ⎜⎪2⋅⎜- ─ + x⎟                   ⎟⎟   ⎜⎪2⋅⎜─ - x⎟                   ⎟\n",
       "    ⎜⎪  ⎝  2    ⎠                  L⎟⎟ ∂ ⎜⎪  ⎝2    ⎠                  L⎟\n",
       " T₃⋅⎜⎨───────────  for L ≥ x ∧ x ≥ ─⎟⎟⋅──⎜⎨─────────  for x ≥ 0 ∧ x ≤ ─⎟\n",
       "    ⎜⎪     L                       2⎟⎟ ∂x⎜⎪    L                      2⎟\n",
       "    ⎜⎪                              ⎟⎟   ⎜⎪                            ⎟\n",
       "    ⎝⎩     0           otherwise    ⎠⎟   ⎝⎩    0          otherwise    ⎠\n",
       "                                     ⎠                                  "
      ]
     },
     "execution_count": 56,
     "metadata": {},
     "output_type": "execute_result"
    }
   ],
   "source": [
    "expr1s = expr1.subs({T: T_expansion, w: N_first})\n",
    "expr1s"
   ]
  },
  {
   "cell_type": "code",
   "execution_count": 57,
   "metadata": {},
   "outputs": [
    {
     "data": {
      "image/png": "[encoded data removed]",
      "text/latex": [
       "$\\displaystyle k \\left(T_{1} \\left(\\begin{cases} - \\frac{2}{L} & \\text{for}\\: x \\geq 0 \\wedge x \\leq \\frac{L}{2} \\\\0 & \\text{otherwise} \\end{cases}\\right) + T_{2} \\left(\\begin{cases} \\frac{2}{L} & \\text{for}\\: x \\geq 0 \\wedge x \\leq \\frac{L}{2} \\\\- \\frac{2}{L} & \\text{for}\\: L \\geq x \\wedge x \\geq \\frac{L}{2} \\\\0 & \\text{otherwise} \\end{cases}\\right) + T_{3} \\left(\\begin{cases} \\frac{2}{L} & \\text{for}\\: L \\geq x \\wedge x \\geq \\frac{L}{2} \\\\0 & \\text{otherwise} \\end{cases}\\right)\\right) \\left(\\begin{cases} - \\frac{2}{L} & \\text{for}\\: x \\geq 0 \\wedge x \\leq \\frac{L}{2} \\\\0 & \\text{otherwise} \\end{cases}\\right)$"
      ],
      "text/plain": [
       "  ⎛                                  ⎛⎧ 2                   L⎞                \n",
       "  ⎜                                  ⎜⎪ ─   for x ≥ 0 ∧ x ≤ ─⎟                \n",
       "  ⎜   ⎛⎧-2                   L⎞      ⎜⎪ L                   2⎟      ⎛⎧2       \n",
       "  ⎜   ⎜⎪───  for x ≥ 0 ∧ x ≤ ─⎟      ⎜⎪                      ⎟      ⎜⎪─  for L\n",
       "k⋅⎜T₁⋅⎜⎨ L                   2⎟ + T₂⋅⎜⎨-2                   L⎟ + T₃⋅⎜⎨L       \n",
       "  ⎜   ⎜⎪                      ⎟      ⎜⎪───  for L ≥ x ∧ x ≥ ─⎟      ⎜⎪        \n",
       "  ⎜   ⎝⎩ 0       otherwise    ⎠      ⎜⎪ L                   2⎟      ⎝⎩0      o\n",
       "  ⎜                                  ⎜⎪                      ⎟                \n",
       "  ⎝                                  ⎝⎩ 0       otherwise    ⎠                \n",
       "\n",
       "             ⎞                          \n",
       "             ⎟                          \n",
       "           L⎞⎟ ⎛⎧-2                   L⎞\n",
       " ≥ x ∧ x ≥ ─⎟⎟ ⎜⎪───  for x ≥ 0 ∧ x ≤ ─⎟\n",
       "           2⎟⎟⋅⎜⎨ L                   2⎟\n",
       "            ⎟⎟ ⎜⎪                      ⎟\n",
       "therwise    ⎠⎟ ⎝⎩ 0       otherwise    ⎠\n",
       "             ⎟                          \n",
       "             ⎠                          "
      ]
     },
     "execution_count": 57,
     "metadata": {},
     "output_type": "execute_result"
    }
   ],
   "source": [
    "expr1ss = expr1s.doit()\n",
    "expr1ss"
   ]
  },
  {
   "cell_type": "code",
   "execution_count": 58,
   "metadata": {},
   "outputs": [
    {
     "data": {
      "image/png": "[encoded data removed]",
      "text/latex": [
       "$\\displaystyle \\int\\limits_{0}^{L} \\begin{cases} - \\frac{2 k \\left(- \\frac{2 T_{1}}{L} + \\frac{2 T_{2}}{L} + \\frac{2 T_{3}}{L}\\right)}{L} & \\text{for}\\: L \\geq x \\wedge x \\geq 0 \\wedge x \\geq \\frac{L}{2} \\wedge x \\leq \\frac{L}{2} \\\\- \\frac{2 k \\left(- \\frac{2 T_{1}}{L} + \\frac{2 T_{2}}{L}\\right)}{L} & \\text{for}\\: x \\geq 0 \\wedge x \\leq \\frac{L}{2} \\\\0 & \\text{otherwise} \\end{cases}\\, dx$"
      ],
      "text/plain": [
       "L                                                                    \n",
       "⌠                                                                    \n",
       "⎮ ⎧     ⎛  2⋅T₁   2⋅T₂   2⋅T₃⎞                                       \n",
       "⎮ ⎪-2⋅k⋅⎜- ──── + ──── + ────⎟                                       \n",
       "⎮ ⎪     ⎝   L      L      L  ⎠                           L       L   \n",
       "⎮ ⎪────────────────────────────  for L ≥ x ∧ x ≥ 0 ∧ x ≥ ─ ∧ x ≤ ─   \n",
       "⎮ ⎪             L                                        2       2   \n",
       "⎮ ⎪                                                                  \n",
       "⎮ ⎨        ⎛  2⋅T₁   2⋅T₂⎞                                         dx\n",
       "⎮ ⎪   -2⋅k⋅⎜- ──── + ────⎟                                           \n",
       "⎮ ⎪        ⎝   L      L  ⎠                               L           \n",
       "⎮ ⎪   ─────────────────────              for x ≥ 0 ∧ x ≤ ─           \n",
       "⎮ ⎪             L                                        2           \n",
       "⎮ ⎪                                                                  \n",
       "⎮ ⎩             0                            otherwise               \n",
       "⌡                                                                    \n",
       "0                                                                    "
      ]
     },
     "execution_count": 58,
     "metadata": {},
     "output_type": "execute_result"
    }
   ],
   "source": [
    "I1 = Integral(expr1ss, (x,0,L))\n",
    "I1"
   ]
  },
  {
   "cell_type": "markdown",
   "metadata": {},
   "source": [
    "Finally, do the integration:"
   ]
  },
  {
   "cell_type": "code",
   "execution_count": 59,
   "metadata": {},
   "outputs": [
    {
     "data": {
      "image/png": "[encoded data removed]",
      "text/latex": [
       "$\\displaystyle - k \\left(- \\frac{2 T_{1}}{L} + \\frac{2 T_{2}}{L}\\right)$"
      ],
      "text/plain": [
       "   ⎛  2⋅T₁   2⋅T₂⎞\n",
       "-k⋅⎜- ──── + ────⎟\n",
       "   ⎝   L      L  ⎠"
      ]
     },
     "execution_count": 59,
     "metadata": {},
     "output_type": "execute_result"
    }
   ],
   "source": [
    "term1_first = I1.doit()\n",
    "term1_first"
   ]
  },
  {
   "cell_type": "markdown",
   "metadata": {},
   "source": [
    "## Source term"
   ]
  },
  {
   "cell_type": "markdown",
   "metadata": {},
   "source": [
    "The source term is:\n",
    "$$\n",
    "\\int_{0}^{L} w(x)\\,Q\\, \\mathrm{d}x\n",
    "$$"
   ]
  },
  {
   "cell_type": "code",
   "execution_count": 60,
   "metadata": {},
   "outputs": [
    {
     "data": {
      "image/png": "[encoded data removed]",
      "text/latex": [
       "$\\displaystyle \\frac{L Q}{4}$"
      ],
      "text/plain": [
       "L⋅Q\n",
       "───\n",
       " 4 "
      ]
     },
     "execution_count": 60,
     "metadata": {},
     "output_type": "execute_result"
    }
   ],
   "source": [
    "expr2 = Integral( Q*w, (x,0,L) )\n",
    "term2_first = expr2.subs({w: N_first}).doit()\n",
    "term2_first"
   ]
  },
  {
   "cell_type": "markdown",
   "metadata": {},
   "source": [
    "## Boundary terms"
   ]
  },
  {
   "cell_type": "markdown",
   "metadata": {},
   "source": [
    "$$\n",
    "\\left[ k\\, w(x) \\frac{\\mathrm{d}T(x)}{\\mathrm{d}x} \\right]_{0}^{L}\n",
    "$$"
   ]
  },
  {
   "cell_type": "code",
   "execution_count": 61,
   "metadata": {},
   "outputs": [
    {
     "data": {
      "image/png": "[encoded data removed]",
      "text/latex": [
       "$\\displaystyle k w{\\left(x \\right)} \\frac{d}{d x} T{\\left(x \\right)}$"
      ],
      "text/plain": [
       "       d       \n",
       "k⋅w(x)⋅──(T(x))\n",
       "       dx      "
      ]
     },
     "execution_count": 61,
     "metadata": {},
     "output_type": "execute_result"
    }
   ],
   "source": [
    "expr3 = k*w*Derivative(T,x)\n",
    "expr3"
   ]
  },
  {
   "cell_type": "code",
   "execution_count": 62,
   "metadata": {},
   "outputs": [
    {
     "data": {
      "image/png": "[encoded data removed]",
      "text/latex": [
       "$\\displaystyle 1.0 k \\left. \\frac{d}{d x} T{\\left(x \\right)} \\right|_{\\substack{ x=0 }}$"
      ],
      "text/plain": [
       "      ⎛d       ⎞│   \n",
       "1.0⋅k⋅⎜──(T(x))⎟│   \n",
       "      ⎝dx      ⎠│x=0"
      ]
     },
     "execution_count": 62,
     "metadata": {},
     "output_type": "execute_result"
    }
   ],
   "source": [
    "term3_x0 = expr3.subs({ w: N_first, x: 0, L: Lnum})\n",
    "term3_x0"
   ]
  },
  {
   "cell_type": "code",
   "execution_count": 63,
   "metadata": {},
   "outputs": [
    {
     "data": {
      "image/png": "[encoded data removed]",
      "text/latex": [
       "$\\displaystyle 0$"
      ],
      "text/plain": [
       "0"
      ]
     },
     "execution_count": 63,
     "metadata": {},
     "output_type": "execute_result"
    }
   ],
   "source": [
    "term3_xL = expr3.subs({ w: N_first, x: Lnum, L: Lnum})\n",
    "term3_xL"
   ]
  },
  {
   "cell_type": "code",
   "execution_count": 64,
   "metadata": {},
   "outputs": [
    {
     "data": {
      "image/png": "[encoded data removed]",
      "text/latex": [
       "$\\displaystyle - 1.0 k \\left. \\frac{d}{d x} T{\\left(x \\right)} \\right|_{\\substack{ x=0 }}$"
      ],
      "text/plain": [
       "       ⎛d       ⎞│   \n",
       "-1.0⋅k⋅⎜──(T(x))⎟│   \n",
       "       ⎝dx      ⎠│x=0"
      ]
     },
     "execution_count": 64,
     "metadata": {},
     "output_type": "execute_result"
    }
   ],
   "source": [
    "term3_first = term3_xL - term3_x0\n",
    "term3_first"
   ]
  },
  {
   "cell_type": "markdown",
   "metadata": {},
   "source": [
    "## Overall contributions for the first weight function"
   ]
  },
  {
   "cell_type": "code",
   "execution_count": 71,
   "metadata": {},
   "outputs": [
    {
     "data": {
      "image/png": "[encoded data removed]",
      "text/latex": [
       "$\\displaystyle - \\frac{L Q}{4} - k \\left(- \\frac{2 T_{1}}{L} + \\frac{2 T_{2}}{L}\\right) + 1.0 k \\left. \\frac{d}{d x} T{\\left(x \\right)} \\right|_{\\substack{ x=0 }}$"
      ],
      "text/plain": [
       "  L⋅Q     ⎛  2⋅T₁   2⋅T₂⎞         ⎛d       ⎞│   \n",
       "- ─── - k⋅⎜- ──── + ────⎟ + 1.0⋅k⋅⎜──(T(x))⎟│   \n",
       "   4      ⎝   L      L  ⎠         ⎝dx      ⎠│x=0"
      ]
     },
     "execution_count": 71,
     "metadata": {},
     "output_type": "execute_result"
    }
   ],
   "source": [
    "eq_first = term1_first - term2_first - term3_first\n",
    "eq_first"
   ]
  },
  {
   "cell_type": "code",
   "execution_count": 66,
   "metadata": {},
   "outputs": [],
   "source": [
    "q0 = Symbol(\"q_0\", real=True)"
   ]
  },
  {
   "cell_type": "markdown",
   "metadata": {},
   "source": [
    "Let's do the substitution (from the boundary condition):\n",
    "$$\n",
    "-k \\frac{\\mathrm{d}T(x)}{\\mathrm{d}x} \\leftarrow q_{0}\n",
    "$$\n",
    "or\n",
    "$$\n",
    "k \\frac{\\mathrm{d}T(x)}{\\mathrm{d}x} \\leftarrow -q_{0}\n",
    "$$"
   ]
  },
  {
   "cell_type": "markdown",
   "metadata": {},
   "source": [
    "The term we want to substitute is"
   ]
  },
  {
   "cell_type": "code",
   "execution_count": 67,
   "metadata": {},
   "outputs": [
    {
     "data": {
      "image/png": "[encoded data removed]",
      "text/latex": [
       "$\\displaystyle \\left( -1.0, \\  k, \\  \\left. \\frac{d}{d x} T{\\left(x \\right)} \\right|_{\\substack{ x=0 }}\\right)$"
      ],
      "text/plain": [
       "⎛         ⎛d       ⎞│   ⎞\n",
       "⎜-1.0, k, ⎜──(T(x))⎟│   ⎟\n",
       "⎝         ⎝dx      ⎠│x=0⎠"
      ]
     },
     "execution_count": 67,
     "metadata": {},
     "output_type": "execute_result"
    }
   ],
   "source": [
    "term3_first.args"
   ]
  },
  {
   "cell_type": "code",
   "execution_count": 68,
   "metadata": {},
   "outputs": [
    {
     "data": {
      "image/png": "[encoded data removed]",
      "text/latex": [
       "$\\displaystyle \\left. \\frac{d}{d x} T{\\left(x \\right)} \\right|_{\\substack{ x=0 }}$"
      ],
      "text/plain": [
       "⎛d       ⎞│   \n",
       "⎜──(T(x))⎟│   \n",
       "⎝dx      ⎠│x=0"
      ]
     },
     "execution_count": 68,
     "metadata": {},
     "output_type": "execute_result"
    }
   ],
   "source": [
    "term3_first.args[2]"
   ]
  },
  {
   "cell_type": "markdown",
   "metadata": {},
   "source": [
    "Here, we do the substitution:"
   ]
  },
  {
   "cell_type": "code",
   "execution_count": 72,
   "metadata": {},
   "outputs": [
    {
     "data": {
      "image/png": "[encoded data removed]",
      "text/latex": [
       "$\\displaystyle - \\frac{L Q}{4} - k \\left(- \\frac{2 T_{1}}{L} + \\frac{2 T_{2}}{L}\\right) - 1.0 q_{0}$"
      ],
      "text/plain": [
       "  L⋅Q     ⎛  2⋅T₁   2⋅T₂⎞     \n",
       "- ─── - k⋅⎜- ──── + ────⎟ - q₀\n",
       "   4      ⎝   L      L  ⎠     "
      ]
     },
     "execution_count": 72,
     "metadata": {},
     "output_type": "execute_result"
    }
   ],
   "source": [
    "eq_first = eq_first.subs( {k*term3_first.args[2]: -q0} )\n",
    "eq_first"
   ]
  },
  {
   "cell_type": "markdown",
   "metadata": {},
   "source": [
    "## From the second weight function"
   ]
  },
  {
   "cell_type": "markdown",
   "metadata": {},
   "source": [
    "Now, we repeat the above procedure for the second weight function (or the second shape function, for Galerkin FEM)"
   ]
  },
  {
   "cell_type": "code",
   "execution_count": 73,
   "metadata": {},
   "outputs": [
    {
     "data": {
      "image/png": "[encoded data removed]",
      "text/latex": [
       "$\\displaystyle k \\left(- \\frac{2 T_{1}}{L} + \\frac{2 T_{2}}{L}\\right) - k \\left(- \\frac{2 T_{2}}{L} + \\frac{2 T_{3}}{L}\\right)$"
      ],
      "text/plain": [
       "  ⎛  2⋅T₁   2⋅T₂⎞     ⎛  2⋅T₂   2⋅T₃⎞\n",
       "k⋅⎜- ──── + ────⎟ - k⋅⎜- ──── + ────⎟\n",
       "  ⎝   L      L  ⎠     ⎝   L      L  ⎠"
      ]
     },
     "execution_count": 73,
     "metadata": {},
     "output_type": "execute_result"
    }
   ],
   "source": [
    "expr1s = expr1.subs({T: T_expansion, w: N_second})\n",
    "expr1ss = expr1s.doit()\n",
    "term1_second = Integral(expr1ss, (x,0,L)).doit()\n",
    "term1_second"
   ]
  },
  {
   "cell_type": "code",
   "execution_count": 74,
   "metadata": {},
   "outputs": [
    {
     "data": {
      "image/png": "[encoded data removed]",
      "text/latex": [
       "$\\displaystyle \\frac{L Q}{2}$"
      ],
      "text/plain": [
       "L⋅Q\n",
       "───\n",
       " 2 "
      ]
     },
     "execution_count": 74,
     "metadata": {},
     "output_type": "execute_result"
    }
   ],
   "source": [
    "term2_second = expr2.subs({w: N_second}).doit()\n",
    "term2_second"
   ]
  },
  {
   "cell_type": "code",
   "execution_count": 75,
   "metadata": {},
   "outputs": [
    {
     "data": {
      "image/png": "[encoded data removed]",
      "text/latex": [
       "$\\displaystyle 0$"
      ],
      "text/plain": [
       "0"
      ]
     },
     "execution_count": 75,
     "metadata": {},
     "output_type": "execute_result"
    }
   ],
   "source": [
    "term3_x0 = expr3.subs({ w: N_second, x: 0, L: Lnum})\n",
    "term3_xL = expr3.subs({ w: N_second, x: Lnum, L: Lnum})\n",
    "term3_second = term3_xL - term3_x0\n",
    "term3_second"
   ]
  },
  {
   "cell_type": "code",
   "execution_count": 76,
   "metadata": {},
   "outputs": [
    {
     "data": {
      "image/png": "[encoded data removed]",
      "text/latex": [
       "$\\displaystyle - \\frac{L Q}{2} + k \\left(- \\frac{2 T_{1}}{L} + \\frac{2 T_{2}}{L}\\right) - k \\left(- \\frac{2 T_{2}}{L} + \\frac{2 T_{3}}{L}\\right)$"
      ],
      "text/plain": [
       "  L⋅Q     ⎛  2⋅T₁   2⋅T₂⎞     ⎛  2⋅T₂   2⋅T₃⎞\n",
       "- ─── + k⋅⎜- ──── + ────⎟ - k⋅⎜- ──── + ────⎟\n",
       "   2      ⎝   L      L  ⎠     ⎝   L      L  ⎠"
      ]
     },
     "execution_count": 76,
     "metadata": {},
     "output_type": "execute_result"
    }
   ],
   "source": [
    "eq_second = term1_second - term2_second - term3_second\n",
    "eq_second"
   ]
  },
  {
   "cell_type": "markdown",
   "metadata": {},
   "source": [
    "## Equation for third weight function"
   ]
  },
  {
   "cell_type": "code",
   "execution_count": 77,
   "metadata": {},
   "outputs": [
    {
     "data": {
      "image/png": "[encoded data removed]",
      "text/latex": [
       "$\\displaystyle k \\left(- \\frac{2 T_{2}}{L} + \\frac{2 T_{3}}{L}\\right)$"
      ],
      "text/plain": [
       "  ⎛  2⋅T₂   2⋅T₃⎞\n",
       "k⋅⎜- ──── + ────⎟\n",
       "  ⎝   L      L  ⎠"
      ]
     },
     "execution_count": 77,
     "metadata": {},
     "output_type": "execute_result"
    }
   ],
   "source": [
    "expr1s = expr1.subs({T: T_expansion, w: N_third})\n",
    "expr1ss = expr1s.doit()\n",
    "term1_third = Integral(expr1ss, (x,0,L)).doit()\n",
    "term1_third"
   ]
  },
  {
   "cell_type": "code",
   "execution_count": 79,
   "metadata": {},
   "outputs": [
    {
     "data": {
      "image/png": "[encoded data removed]",
      "text/latex": [
       "$\\displaystyle \\frac{L Q}{4}$"
      ],
      "text/plain": [
       "L⋅Q\n",
       "───\n",
       " 4 "
      ]
     },
     "execution_count": 79,
     "metadata": {},
     "output_type": "execute_result"
    }
   ],
   "source": [
    "term2_third = expr2.subs({w: N_third}).doit()\n",
    "term2_third"
   ]
  },
  {
   "cell_type": "code",
   "execution_count": 80,
   "metadata": {},
   "outputs": [
    {
     "data": {
      "image/png": "[encoded data removed]",
      "text/latex": [
       "$\\displaystyle 1.0 k \\left. \\frac{d}{d x} T{\\left(x \\right)} \\right|_{\\substack{ x=1.0 }}$"
      ],
      "text/plain": [
       "      ⎛d       ⎞│     \n",
       "1.0⋅k⋅⎜──(T(x))⎟│     \n",
       "      ⎝dx      ⎠│x=1.0"
      ]
     },
     "execution_count": 80,
     "metadata": {},
     "output_type": "execute_result"
    }
   ],
   "source": [
    "term3_x0 = expr3.subs({ w: N_third, x: 0, L: Lnum})\n",
    "term3_xL = expr3.subs({ w: N_third, x: Lnum, L: Lnum})\n",
    "term3_third = term3_xL - term3_x0\n",
    "term3_third"
   ]
  },
  {
   "cell_type": "code",
   "execution_count": 81,
   "metadata": {},
   "outputs": [
    {
     "data": {
      "image/png": "[encoded data removed]",
      "text/latex": [
       "$\\displaystyle - \\frac{L Q}{4} + k \\left(- \\frac{2 T_{2}}{L} + \\frac{2 T_{3}}{L}\\right) - 1.0 k \\left. \\frac{d}{d x} T{\\left(x \\right)} \\right|_{\\substack{ x=1.0 }}$"
      ],
      "text/plain": [
       "  L⋅Q     ⎛  2⋅T₂   2⋅T₃⎞     ⎛d       ⎞│     \n",
       "- ─── + k⋅⎜- ──── + ────⎟ - k⋅⎜──(T(x))⎟│     \n",
       "   4      ⎝   L      L  ⎠     ⎝dx      ⎠│x=1.0"
      ]
     },
     "execution_count": 81,
     "metadata": {},
     "output_type": "execute_result"
    }
   ],
   "source": [
    "eq_third = term1_third - term2_third - term3_third\n",
    "eq_third"
   ]
  },
  {
   "cell_type": "code",
   "execution_count": 82,
   "metadata": {},
   "outputs": [],
   "source": [
    "qL = Symbol(\"q_L\", real=True)"
   ]
  },
  {
   "cell_type": "code",
   "execution_count": 83,
   "metadata": {},
   "outputs": [
    {
     "data": {
      "image/png": "[encoded data removed]",
      "text/latex": [
       "$\\displaystyle \\left. \\frac{d}{d x} T{\\left(x \\right)} \\right|_{\\substack{ x=1.0 }}$"
      ],
      "text/plain": [
       "⎛d       ⎞│     \n",
       "⎜──(T(x))⎟│     \n",
       "⎝dx      ⎠│x=1.0"
      ]
     },
     "execution_count": 83,
     "metadata": {},
     "output_type": "execute_result"
    }
   ],
   "source": [
    "term3_xL.args[2]"
   ]
  },
  {
   "cell_type": "code",
   "execution_count": 84,
   "metadata": {},
   "outputs": [
    {
     "data": {
      "image/png": "[encoded data removed]",
      "text/latex": [
       "$\\displaystyle - \\frac{L Q}{4} + k \\left(- \\frac{2 T_{2}}{L} + \\frac{2 T_{3}}{L}\\right) + 1.0 q_{L}$"
      ],
      "text/plain": [
       "  L⋅Q     ⎛  2⋅T₂   2⋅T₃⎞          \n",
       "- ─── + k⋅⎜- ──── + ────⎟ + 1.0⋅q_L\n",
       "   4      ⎝   L      L  ⎠          "
      ]
     },
     "execution_count": 84,
     "metadata": {},
     "output_type": "execute_result"
    }
   ],
   "source": [
    "eq_third = eq_third.subs( {k*term3_xL.args[2]: -qL} )\n",
    "eq_third"
   ]
  },
  {
   "cell_type": "markdown",
   "metadata": {},
   "source": [
    "# System of linear equations"
   ]
  },
  {
   "cell_type": "markdown",
   "metadata": {},
   "source": [
    "Prepare for the numerical values:"
   ]
  },
  {
   "cell_type": "code",
   "execution_count": 85,
   "metadata": {},
   "outputs": [],
   "source": [
    "T_L = 10.0\n",
    "Lnum = 1.0\n",
    "knum = 4.0\n",
    "Qnum = 1.0\n",
    "q0num = 10.0\n",
    "num_dict = { L: Lnum, k: knum, Q: Qnum, q0: q0num, T_3: T_L}"
   ]
  },
  {
   "cell_type": "markdown",
   "metadata": {},
   "source": [
    "Here, we only solve for $T_1$ and $T_2$ (as we already know the value of $T_3$ from the boundary condition):"
   ]
  },
  {
   "cell_type": "code",
   "execution_count": 86,
   "metadata": {},
   "outputs": [
    {
     "data": {
      "image/png": "[encoded data removed]",
      "text/latex": [
       "$\\displaystyle \\left[ 8.0 T_{1} - 8.0 T_{2} - 10.25, \\  - 8.0 T_{1} + 16.0 T_{2} - 80.5\\right]$"
      ],
      "text/plain": [
       "[8.0⋅T₁ - 8.0⋅T₂ - 10.25, -8.0⋅T₁ + 16.0⋅T₂ - 80.5]"
      ]
     },
     "execution_count": 86,
     "metadata": {},
     "output_type": "execute_result"
    }
   ],
   "source": [
    "linear_system = [eq_first.subs(num_dict), eq_second.subs(num_dict)]\n",
    "linear_system"
   ]
  },
  {
   "cell_type": "code",
   "execution_count": 87,
   "metadata": {},
   "outputs": [
    {
     "data": {
      "image/png": "[encoded data removed]",
      "text/latex": [
       "$\\displaystyle \\left\\{\\left( 12.625, \\  11.34375\\right)\\right\\}$"
      ],
      "text/plain": [
       "{(12.625, 11.34375)}"
      ]
     },
     "execution_count": 87,
     "metadata": {},
     "output_type": "execute_result"
    }
   ],
   "source": [
    "sols_T = linsolve(linear_system, T_1, T_2)\n",
    "sols_T"
   ]
  },
  {
   "cell_type": "markdown",
   "metadata": {},
   "source": [
    "The function `linsolve` returns a set of values."
   ]
  },
  {
   "cell_type": "code",
   "execution_count": 88,
   "metadata": {},
   "outputs": [
    {
     "data": {
      "text/plain": [
       "(2, sympy.core.containers.Tuple)"
      ]
     },
     "execution_count": 88,
     "metadata": {},
     "output_type": "execute_result"
    }
   ],
   "source": [
    "len(sols_T.args[0]), type(sols_T.args[0])"
   ]
  },
  {
   "cell_type": "code",
   "execution_count": 89,
   "metadata": {},
   "outputs": [
    {
     "data": {
      "image/png": "[encoded data removed]",
      "text/latex": [
       "$\\displaystyle \\left( 12.625, \\  11.34375\\right)$"
      ],
      "text/plain": [
       "(12.625, 11.34375)"
      ]
     },
     "execution_count": 89,
     "metadata": {},
     "output_type": "execute_result"
    }
   ],
   "source": [
    "sols_T.args[0][0], sols_T.args[0][1]"
   ]
  },
  {
   "cell_type": "markdown",
   "metadata": {},
   "source": [
    "The first value is for $T_1$ and the second one is for $T_2$. Please compare this numerical values with the analytical solution."
   ]
  },
  {
   "cell_type": "markdown",
   "metadata": {},
   "source": [
    "The third equation can used to calculate the flux at the $x=L$ boundary."
   ]
  },
  {
   "cell_type": "code",
   "execution_count": 90,
   "metadata": {},
   "outputs": [
    {
     "data": {
      "image/png": "[encoded data removed]",
      "text/latex": [
       "$\\displaystyle \\left[ \\frac{0.25 \\left(L^{2} Q + 8.0 T_{2} k - 8.0 T_{3} k\\right)}{L}\\right]$"
      ],
      "text/plain": [
       "⎡     ⎛ 2                        ⎞⎤\n",
       "⎢0.25⋅⎝L ⋅Q + 8.0⋅T₂⋅k - 8.0⋅T₃⋅k⎠⎥\n",
       "⎢─────────────────────────────────⎥\n",
       "⎣                L                ⎦"
      ]
     },
     "execution_count": 90,
     "metadata": {},
     "output_type": "execute_result"
    }
   ],
   "source": [
    "sols_qL = solve(eq_third, qL)\n",
    "sols_qL"
   ]
  },
  {
   "cell_type": "code",
   "execution_count": 91,
   "metadata": {},
   "outputs": [
    {
     "data": {
      "text/plain": [
       "list"
      ]
     },
     "execution_count": 91,
     "metadata": {},
     "output_type": "execute_result"
    }
   ],
   "source": [
    "type(sols_qL)"
   ]
  },
  {
   "cell_type": "code",
   "execution_count": 93,
   "metadata": {},
   "outputs": [
    {
     "data": {
      "image/png": "[encoded data removed]",
      "text/latex": [
       "$\\displaystyle \\frac{0.25 \\left(L^{2} Q + 8.0 T_{2} k - 8.0 T_{3} k\\right)}{L}$"
      ],
      "text/plain": [
       "     ⎛ 2                        ⎞\n",
       "0.25⋅⎝L ⋅Q + 8.0⋅T₂⋅k - 8.0⋅T₃⋅k⎠\n",
       "─────────────────────────────────\n",
       "                L                "
      ]
     },
     "execution_count": 93,
     "metadata": {},
     "output_type": "execute_result"
    }
   ],
   "source": [
    "sols_qL[0]"
   ]
  },
  {
   "cell_type": "markdown",
   "metadata": {},
   "source": [
    "The function `solve` returns a list of SymPy expression. We only have one possible expression for $q_L$."
   ]
  },
  {
   "cell_type": "code",
   "execution_count": 94,
   "metadata": {},
   "outputs": [
    {
     "data": {
      "image/png": "[encoded data removed]",
      "text/latex": [
       "$\\displaystyle \\frac{0.25 \\left(L^{2} Q + 8.0 T_{2} k - 8.0 T_{3} k\\right)}{L}$"
      ],
      "text/plain": [
       "     ⎛ 2                        ⎞\n",
       "0.25⋅⎝L ⋅Q + 8.0⋅T₂⋅k - 8.0⋅T₃⋅k⎠\n",
       "─────────────────────────────────\n",
       "                L                "
      ]
     },
     "execution_count": 94,
     "metadata": {},
     "output_type": "execute_result"
    }
   ],
   "source": [
    "sols_qL[0]"
   ]
  },
  {
   "cell_type": "markdown",
   "metadata": {},
   "source": [
    "Now, we substitute the into `sols_qL` the numerical values defined in `num_dict` and also the solution for $T_2$ that we have obtained before."
   ]
  },
  {
   "cell_type": "code",
   "execution_count": 95,
   "metadata": {},
   "outputs": [
    {
     "data": {
      "image/png": "[encoded data removed]",
      "text/latex": [
       "$\\displaystyle 11.0$"
      ],
      "text/plain": [
       "11.0000000000000"
      ]
     },
     "execution_count": 95,
     "metadata": {},
     "output_type": "execute_result"
    }
   ],
   "source": [
    "sols_qL[0].subs(num_dict).subs({T_2: sols_T.args[0][1]})"
   ]
  },
  {
   "cell_type": "markdown",
   "metadata": {},
   "source": [
    "You may also verify this from the analytic solution."
   ]
  },
  {
   "cell_type": "markdown",
   "metadata": {},
   "source": [
    "# Assignments"
   ]
  },
  {
   "cell_type": "markdown",
   "metadata": {},
   "source": [
    "- Wrap these procedures into (several functions) such that we can work with arbitrary number of elements. We will not try it to a large number of elements (> 100, for example), because symbolic computations are not suitable for that. For large number of elements, we should use fully numerical approach. You resulting functions should be able to accomodate grid points with nonuniform spacing. It also should have a separate function to do plotting stuffs.\n",
    "\n",
    "- Modify your program such that it can accomodate spatially-varying (non-constant) source term and conduction coefficient, i.e. $Q(x)$ instead of $Q$ and $k(x)$ instead of $k$. \n",
    "\n",
    "- Repeat the procedure with quadratic and cubic shape functions."
   ]
  }
 ],
 "metadata": {
  "kernelspec": {
   "display_name": "Python 3",
   "language": "python",
   "name": "python3"
  },
  "language_info": {
   "codemirror_mode": {
    "name": "ipython",
    "version": 3
   },
   "file_extension": ".py",
   "mimetype": "text/x-python",
   "name": "python",
   "nbconvert_exporter": "python",
   "pygments_lexer": "ipython3",
   "version": "3.8.5"
  }
 },
 "nbformat": 4,
 "nbformat_minor": 4
}
